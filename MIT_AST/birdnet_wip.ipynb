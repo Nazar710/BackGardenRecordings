{
 "cells": [
  {
   "cell_type": "code",
   "execution_count": 43,
   "metadata": {},
   "outputs": [],
   "source": [
    "import os\n",
    "import shutil\n",
    "\n",
    "def move_xls_files(big_folder, metadata_folder):\n",
    "    \"\"\"\n",
    "    Moves .xls files from a specified 'big_folder' to a 'metadata_folder'.\n",
    "    Both folders are assumed to be relative to the current working directory.\n",
    "\n",
    "    Parameters:\n",
    "    - big_folder: The relative path to the folder containing .xlsx files.\n",
    "    - metadata_folder: The relative path to the folder where .xlsx files should be moved.\n",
    "    \"\"\"\n",
    "\n",
    "    # Ensure the metadata folder exists, if not, create it\n",
    "    if not os.path.exists(metadata_folder):\n",
    "        os.makedirs(metadata_folder)\n",
    "\n",
    "    # List all files in the big folder\n",
    "    for file in os.listdir(big_folder):\n",
    "        # Check if the file ends with .xls\n",
    "        if file.endswith('.xlsx'):\n",
    "            # Construct the full path to the file using the relative path\n",
    "            file_path = os.path.join(big_folder, file)\n",
    "            \n",
    "            # Construct the destination path in the metadata folder using the relative path\n",
    "            dest_path = os.path.join(metadata_folder, file)\n",
    "            \n",
    "            # Move the .xls file to the metadata folder\n",
    "            shutil.move(file_path, dest_path)\n",
    "            print(f\"Moved: {file_path} to {dest_path}\")\n",
    "\n",
    "# Example usage\n",
    "\n",
    "big_folder_path = 'garden_01012024/'  # Adjust if your folder has a different name\n",
    "metadata_folder_path = 'metadata'\n",
    "move_xls_files(big_folder_path, metadata_folder_path)\n"
   ]
  },
  {
   "cell_type": "code",
   "execution_count": null,
   "metadata": {},
   "outputs": [],
   "source": [
    "from birdnetlib import Recording\n",
    "from birdnetlib.analyzer import Analyzer\n",
    "from datetime import datetime\n",
    "\n",
    "# Load and initialize the BirdNET-Analyzer models.\n",
    "analyzer = Analyzer()\n",
    "afile = \"cardinal.mp3\"\n",
    "bfile = \"er_file_2023_09_04_7_13_11.wav\"\n",
    "cfile = \"er_file_2023_09_04_7_13_08.wav\"\n",
    "dfile = \"er_file_2023_09_04_7_39_44.wav\"\n",
    "efile = \"er_file_2023_09_04_7_49_38.wav\"\n",
    "ffile = \"er_file_2023_09_04_8_24_14.wav\"\n",
    "recording = Recording(\n",
    "    analyzer,\n",
    "    bfile,\n",
    "    lat=51.41778,\n",
    "    lon=5.462251,\n",
    "    date=datetime(year=2022, month=5, day=10), # use date or week_48\n",
    "    min_conf=0.25,\n",
    ")\n",
    "recording.analyze()\n",
    "print(recording.detections)"
   ]
  },
  {
   "cell_type": "code",
   "execution_count": 8,
   "metadata": {},
   "outputs": [
    {
     "data": {
      "text/plain": [
       "'Streptopelia decaocto_Eurasian Collared-Dove'"
      ]
     },
     "execution_count": 8,
     "metadata": {},
     "output_type": "execute_result"
    }
   ],
   "source": [
    "recording.detections[0]['label']"
   ]
  },
  {
   "cell_type": "code",
   "execution_count": 77,
   "metadata": {},
   "outputs": [],
   "source": [
    "#analyze files form folder and save results in a tuple: file name, label\n",
    "import os\n",
    "def analyze_files_birdnet(folder):\n",
    "    \"\"\"\n",
    "    Analyzes all files in a specified folder using the BirdNET-Analyzer and returns the results.\n",
    "    The results are a list of tuples, where each tuple contains the file name and the detected label.\n",
    "    \"\"\"    \n",
    "    files = os.listdir(folder)\n",
    "    results = []\n",
    "    for file in files:\n",
    "        try:\n",
    "            recording = Recording(\n",
    "                analyzer,\n",
    "                folder + file,\n",
    "                lat=51.41778,\n",
    "                lon=5.462251,\n",
    "                date=datetime(year=2022, month=5, day=10), # use date or week_48\n",
    "                min_conf=0.25,\n",
    "            )\n",
    "            recording.analyze()\n",
    "            if len(recording.detections) > 0:\n",
    "                results.append((folder + file, recording.detections[0]['label']))\n",
    "        except Exception as e:\n",
    "            print(f\"Error processing file {file}: {e}\")\n",
    "    return results"
   ]
  },
  {
   "cell_type": "code",
   "execution_count": 44,
   "metadata": {},
   "outputs": [],
   "source": [
    "from tqdm import tqdm\n",
    "# analyze files in the folder of folders, wrap in tqdm to show progress bar\n",
    "\n",
    "def analyze_folders(folder):\n",
    "    \"\"\" \n",
    "    Analyzes all folders in a specified folder using the BirdNET-Analyzer and returns the results.\n",
    "    The results are a list of tuples, where each tuple contains the file name and the detected label.\n",
    "    \"\"\"\n",
    "    folders = [f for f in os.listdir(folder) if not f.startswith('.') and not f.endswith('.json')]\n",
    "    results = []\n",
    "    for f in tqdm(folders):\n",
    "        results += analyze_files_birdnet(folder + f + \"/\")\n",
    "       \n",
    "    return results"
   ]
  },
  {
   "cell_type": "code",
   "execution_count": 30,
   "metadata": {},
   "outputs": [],
   "source": [
    "import pandas as pd\n",
    "\n",
    "# method to add a column with 'label' to the dataframe, allign by file name\n",
    "def add_label_column(df, results):\n",
    "    \"\"\"\n",
    "    Adds a 'label' column to a DataFrame based on the results of the BirdNET-Analyzer.\n",
    "    The results are a list of tuples, where each tuple contains the file name and the detected label.\n",
    "    \"\"\"\n",
    "    df['label'] = None\n",
    "    for file, label in results:\n",
    "        df.loc[df['filename'] == file, 'label'] = label\n",
    "    return df\n"
   ]
  },
  {
   "cell_type": "code",
   "execution_count": 24,
   "metadata": {},
   "outputs": [
    {
     "data": {
      "text/plain": [
       "('metadata/garden_02092023_metadata.xlsx',\n",
       " 'metadata/garden_02092023_metadata_birdnet_labeled.xlsx')"
      ]
     },
     "execution_count": 24,
     "metadata": {},
     "output_type": "execute_result"
    }
   ],
   "source": [
    "# get metadata_file and output_file from folder name\n",
    "def get_metadata_output_files(folder):\n",
    "    \"\"\"\n",
    "    Returns the metadata file and output file based on the folder name.\n",
    "    The metadata file is assumed to be in the 'metadata' folder with the same name as the folder.\n",
    "    The output file is assumed to be in the 'metadata' folder with the same name as the folder,\n",
    "    but with '_birdnet_labeled' appended before the file extension.\n",
    "    \"\"\"\n",
    "    metadata_file = \"metadata/\" +folder[:-1] + \"_metadata.xlsx\"\n",
    "    output_file = metadata_file.split(\".\")[0] + \"_birdnet_labeled.xlsx\"\n",
    "    return metadata_file, output_file\n",
    "\n",
    "folder = \"garden_02092023/\"\n",
    "metadata_file, output_file = get_metadata_output_files(folder)\n",
    "metadata_file, output_file"
   ]
  },
  {
   "cell_type": "code",
   "execution_count": 31,
   "metadata": {},
   "outputs": [],
   "source": [
    "# save the dataframe to a new xlsx file\n",
    "df.to_excel(\"garden_02092023_metadata_with_labels.xlsx\")\n"
   ]
  },
  {
   "cell_type": "code",
   "execution_count": 26,
   "metadata": {},
   "outputs": [],
   "source": [
    "def pipeline_birdnet(folder):\n",
    "    \"\"\"\n",
    "    Runs the full pipeline for analyzing a folder of audio files using the BirdNET-Analyzer.\n",
    "    The pipeline consists of the following steps:\n",
    "    1. Move .xls files to a metadata folder.\n",
    "    2. Analyze the folders using the BirdNET-Analyzer.\n",
    "    3. Add the detected labels to the metadata file.\n",
    "    4. Save the updated metadata file with the labels.\n",
    "    \"\"\"\n",
    "    move_xls_files(folder, metadata_folder_path)\n",
    "    metadata_file, output_file = get_metadata_output_files(folder)\n",
    "    results = analyze_folders(folder)\n",
    "    df = pd.read_excel(metadata_file)\n",
    "    df = add_label_column(df, results)\n",
    "    df.to_excel(output_file)"
   ]
  },
  {
   "cell_type": "code",
   "execution_count": null,
   "metadata": {},
   "outputs": [],
   "source": [
    "# test the pipeline\n",
    "folder = \"garden_11082023/\"\n",
    "metadata_folder_path = 'metadata'\n",
    "\n",
    "pipeline_birdnet(folder)\n"
   ]
  },
  {
   "cell_type": "code",
   "execution_count": 83,
   "metadata": {},
   "outputs": [
    {
     "data": {
      "text/plain": [
       "(1950, 26)"
      ]
     },
     "execution_count": 83,
     "metadata": {},
     "output_type": "execute_result"
    }
   ],
   "source": [
    "mf = pd.read_excel(\"metadata/garden_21102023_metadata_birdnet_labeled.xlsx\")\n",
    "mf[mf['label'].notnull()].shape"
   ]
  },
  {
   "cell_type": "code",
   "execution_count": null,
   "metadata": {},
   "outputs": [],
   "source": []
  }
 ],
 "metadata": {
  "kernelspec": {
   "display_name": "birdnet-analyzer",
   "language": "python",
   "name": "python3"
  },
  "language_info": {
   "codemirror_mode": {
    "name": "ipython",
    "version": 3
   },
   "file_extension": ".py",
   "mimetype": "text/x-python",
   "name": "python",
   "nbconvert_exporter": "python",
   "pygments_lexer": "ipython3",
   "version": "3.10.13"
  }
 },
 "nbformat": 4,
 "nbformat_minor": 2
}
