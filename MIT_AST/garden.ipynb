{
 "cells": [
  {
   "cell_type": "code",
   "execution_count": 2,
   "metadata": {},
   "outputs": [],
   "source": [
    "import pandas as pd\n",
    "labels_df = pd.read_excel('MIT_AST_label_map.xlsx')"
   ]
  },
  {
   "cell_type": "code",
   "execution_count": 21,
   "metadata": {},
   "outputs": [
    {
     "data": {
      "text/html": [
       "<div>\n",
       "<style scoped>\n",
       "    .dataframe tbody tr th:only-of-type {\n",
       "        vertical-align: middle;\n",
       "    }\n",
       "\n",
       "    .dataframe tbody tr th {\n",
       "        vertical-align: top;\n",
       "    }\n",
       "\n",
       "    .dataframe thead th {\n",
       "        text-align: right;\n",
       "    }\n",
       "</style>\n",
       "<table border=\"1\" class=\"dataframe\">\n",
       "  <thead>\n",
       "    <tr style=\"text-align: right;\">\n",
       "      <th></th>\n",
       "      <th>Unnamed: 0</th>\n",
       "      <th>label</th>\n",
       "      <th>source</th>\n",
       "    </tr>\n",
       "  </thead>\n",
       "  <tbody>\n",
       "    <tr>\n",
       "      <th>0</th>\n",
       "      <td>0</td>\n",
       "      <td>Speech</td>\n",
       "      <td>human</td>\n",
       "    </tr>\n",
       "    <tr>\n",
       "      <th>1</th>\n",
       "      <td>1</td>\n",
       "      <td>Male speech, man speaking</td>\n",
       "      <td>human</td>\n",
       "    </tr>\n",
       "    <tr>\n",
       "      <th>2</th>\n",
       "      <td>2</td>\n",
       "      <td>Female speech, woman speaking</td>\n",
       "      <td>human</td>\n",
       "    </tr>\n",
       "    <tr>\n",
       "      <th>3</th>\n",
       "      <td>3</td>\n",
       "      <td>Child speech, kid speaking</td>\n",
       "      <td>human</td>\n",
       "    </tr>\n",
       "    <tr>\n",
       "      <th>4</th>\n",
       "      <td>4</td>\n",
       "      <td>Conversation</td>\n",
       "      <td>human</td>\n",
       "    </tr>\n",
       "  </tbody>\n",
       "</table>\n",
       "</div>"
      ],
      "text/plain": [
       "   Unnamed: 0                          label source\n",
       "0           0                         Speech  human\n",
       "1           1      Male speech, man speaking  human\n",
       "2           2  Female speech, woman speaking  human\n",
       "3           3     Child speech, kid speaking  human\n",
       "4           4                   Conversation  human"
      ]
     },
     "execution_count": 21,
     "metadata": {},
     "output_type": "execute_result"
    }
   ],
   "source": [
    "labels_df.head()"
   ]
  },
  {
   "cell_type": "code",
   "execution_count": 28,
   "metadata": {},
   "outputs": [
    {
     "data": {
      "text/plain": [
       "str"
      ]
     },
     "execution_count": 28,
     "metadata": {},
     "output_type": "execute_result"
    }
   ],
   "source": [
    "dd = labels_df['label'].iloc[1]\n",
    "type(dd)"
   ]
  },
  {
   "cell_type": "code",
   "execution_count": null,
   "metadata": {},
   "outputs": [],
   "source": [
    "# extract row with label 'Whistling'\n",
    "\n",
    "ss = labels_df['label']\n",
    "print(ss)"
   ]
  },
  {
   "cell_type": "code",
   "execution_count": 50,
   "metadata": {},
   "outputs": [
    {
     "name": "stdout",
     "output_type": "stream",
     "text": [
      "Caw\n"
     ]
    }
   ],
   "source": [
    "from test_mit_ast import MIT_AST_model\n",
    "cfile = 'er_file_2023_09_04_7_13_08.wav'\n",
    "bfile = \"few_garden_files/er_file_2023_09_02_16_45_18.wav\"\n",
    "afile =\"speech_whistling2.wav\"\n",
    "model = MIT_AST_model()\n",
    "res = model.classify(bfile)\n",
    "print(res)"
   ]
  },
  {
   "cell_type": "code",
   "execution_count": 113,
   "metadata": {},
   "outputs": [],
   "source": [
    "#analyze files form folder and save results in a tuple: file name, string with labels\n",
    "import os\n",
    "def analyze_files_ast(folder):    \n",
    "    files = os.listdir(folder)\n",
    "    results = []\n",
    "    for file in files:\n",
    "        # Construct the full path to the file\n",
    "        file_path = os.path.join(folder, file)\n",
    "        try:\n",
    "            result = model.classify(file_path)\n",
    "            if len(result) > 0:\n",
    "                results.append((file_path, result))\n",
    "        except Exception as e:\n",
    "            print(f\"Error processing file {file}: {e}\")\n",
    "    return results"
   ]
  },
  {
   "cell_type": "code",
   "execution_count": 115,
   "metadata": {},
   "outputs": [
    {
     "name": "stdout",
     "output_type": "stream",
     "text": [
      "[('big_test_folder/few_garden_files/er_file_2023_09_04_7_49_38.wav', 'Chirp, tweet'), ('big_test_folder/few_garden_files/er_file_2023_09_02_10_00_17.wav', 'Door'), ('big_test_folder/few_garden_files/er_file_2023_09_04_7_13_08.wav', 'Owl'), ('big_test_folder/few_garden_files/er_file_2023_09_02_16_45_18.wav', 'Caw')]\n"
     ]
    }
   ],
   "source": [
    "file_path = './gardenBigFolder/garden_01012024/0'\n",
    "test_file_path = 'big_test_folder/few_garden_files/'\n",
    "res = analyze_files_ast(test_file_path)\n",
    "print(res)"
   ]
  },
  {
   "cell_type": "code",
   "execution_count": 61,
   "metadata": {},
   "outputs": [
    {
     "data": {
      "text/plain": [
       "('metadata/garden_161220023_metadata_birdnet_labeled.xlsx',\n",
       " 'metadata/garden_161220023_metadata_birdnet_labeled_mit_ast.xlsx')"
      ]
     },
     "execution_count": 61,
     "metadata": {},
     "output_type": "execute_result"
    }
   ],
   "source": [
    "from tqdm import tqdm\n",
    "# analyze files in the folder of folders, wrap in tqdm to show progress bar\n",
    "\n",
    "def analyze_folders(folder):\n",
    "    folders = [f for f in os.listdir(folder) if not f.startswith('.') and not f.endswith('.json')]\n",
    "    results = []\n",
    "    for f in tqdm(folders):\n",
    "        results += analyze_files_ast(folder + f + \"/\")\n",
    "       \n",
    "    return results\n",
    "\n",
    "\n",
    "\n",
    "# method to add a column with 'MIT_AST_label' to the dataframe, allign by file name\n",
    "def add_label_column(df, results):\n",
    "    df['MIT_AST_label'] = None\n",
    "    for file, label in results:\n",
    "        df.loc[df['filename'] == file, 'MIT_AST_label'] = label\n",
    "    return df\n",
    "\n",
    "# get metadata_file and output_file from folder name\n",
    "def get_metadata_output_files(folder):\n",
    "    metadata_file = \"metadata/\" +folder[:-1] + \"_metadata_birdnet_labeled.xlsx\"\n",
    "    output_file = metadata_file.split(\".\")[0] + \"_mit_ast.xlsx\"\n",
    "    return metadata_file, output_file\n",
    "\n",
    "\n",
    "\n",
    "folder = \"garden_161220023/\"\n",
    "metadata_file, output_file = get_metadata_output_files(folder)\n",
    "metadata_file, output_file"
   ]
  },
  {
   "cell_type": "code",
   "execution_count": 67,
   "metadata": {},
   "outputs": [],
   "source": [
    "test_folder = 'big_test_folder/'"
   ]
  },
  {
   "cell_type": "code",
   "execution_count": 68,
   "metadata": {},
   "outputs": [
    {
     "data": {
      "text/plain": [
       "('metadata/big_test_folder_metadata_birdnet_labeled.xlsx',\n",
       " 'metadata/big_test_folder_metadata_birdnet_labeled_mit_ast.xlsx')"
      ]
     },
     "execution_count": 68,
     "metadata": {},
     "output_type": "execute_result"
    }
   ],
   "source": [
    "m, o = get_metadata_output_files(test_folder)\n",
    "m, o"
   ]
  },
  {
   "cell_type": "code",
   "execution_count": 94,
   "metadata": {},
   "outputs": [
    {
     "name": "stderr",
     "output_type": "stream",
     "text": [
      "100%|██████████| 17/17 [14:35<00:00, 51.51s/it]"
     ]
    },
    {
     "name": "stdout",
     "output_type": "stream",
     "text": [
      "[('er_file_2023_10_19_16_55_54.wav', 'Caw'), ('er_file_2023_10_19_17_18_42.wav', 'Vehicle'), ('er_file_2023_10_19_16_41_08.wav', 'Squeak'), ('er_file_2023_10_19_16_39_04.wav', 'Vehicle'), ('er_file_2023_10_19_16_59_41.wav', 'Bird'), ('er_file_2023_10_19_16_57_50.wav', 'Bird'), ('er_file_2023_10_19_16_54_03.wav', 'Caw'), ('er_file_2023_10_19_16_57_52.wav', 'Fowl'), ('er_file_2023_10_19_17_31_29.wav', 'Vehicle'), ('er_file_2023_10_19_17_40_15.wav', 'Animal'), ('er_file_2023_10_19_17_12_35.wav', 'Bird'), ('er_file_2023_10_19_16_45_52.wav', 'Fowl'), ('er_file_2023_10_19_16_56_12.wav', 'Fowl'), ('er_file_2023_10_19_17_08_50.wav', 'Bird'), ('er_file_2023_10_19_17_15_29.wav', 'Chirp, tweet'), ('er_file_2023_10_19_17_42_05.wav', 'Speech'), ('er_file_2023_10_19_16_57_47.wav', 'Animal'), ('er_file_2023_10_19_17_26_24.wav', 'Speech'), ('er_file_2023_10_19_17_00_08.wav', 'Rustling leaves'), ('er_file_2023_10_19_16_54_12.wav', 'Caw'), ('er_file_2023_10_19_17_07_11.wav', 'Heart sounds, heartbeat'), ('er_file_2023_10_19_16_54_06.wav', 'Caw'), ('er_file_2023_10_19_17_08_54.wav', 'Fowl'), ('er_file_2023_10_19_17_20_55.wav', 'Crow'), ('er_file_2023_10_19_17_12_19.wav', 'Crow'), ('er_file_2023_10_19_17_32_42.wav', 'Vehicle'), ('er_file_2023_10_19_17_15_48.wav', 'Fowl'), ('er_file_2023_10_19_17_44_05.wav', 'Door'), ('er_file_2023_10_19_17_44_10.wav', 'Sliding door'), ('er_file_2023_10_19_17_27_10.wav', 'Eruption'), ('er_file_2023_10_19_17_12_40.wav', 'Bird'), ('er_file_2023_10_19_17_25_15.wav', 'Fowl'), ('er_file_2023_10_19_16_51_44.wav', 'Animal'), ('er_file_2023_10_19_16_45_18.wav', 'Scissors'), ('er_file_2023_10_19_17_27_13.wav', 'Bird'), ('er_file_2023_10_19_17_20_26.wav', 'Sliding door'), ('er_file_2023_10_19_16_53_54.wav', 'Caw'), ('er_file_2023_10_19_17_04_23.wav', 'Door'), ('er_file_2023_10_19_17_27_17.wav', 'Rumble'), ('er_file_2023_10_19_17_34_42.wav', 'Vehicle'), ('er_file_2023_10_19_17_22_26.wav', 'Thunder'), ('er_file_2023_10_19_17_22_32.wav', 'Vehicle'), ('er_file_2023_10_19_16_43_40.wav', 'Animal'), ('er_file_2023_10_19_17_32_23.wav', 'Owl'), ('er_file_2023_10_19_16_40_11.wav', 'Vehicle'), ('er_file_2023_10_19_16_40_05.wav', 'Vehicle'), ('er_file_2023_10_19_16_40_07.wav', 'Raindrop'), ('er_file_2023_10_19_17_21_49.wav', 'Speech'), ('er_file_2023_10_19_17_04_34.wav', 'Vehicle'), ('er_file_2023_10_19_17_11_00.wav', 'Rain'), ('er_file_2023_10_19_17_27_29.wav', 'Eruption'), ('er_file_2023_10_19_17_19_58.wav', 'Car'), ('er_file_2023_10_19_17_14_24.wav', 'Crow'), ('er_file_2023_10_19_17_09_49.wav', 'Vehicle'), ('er_file_2023_10_19_17_21_51.wav', 'Bird'), ('er_file_2023_10_19_17_22_14.wav', 'Speech'), ('er_file_2023_10_19_17_35_33.wav', 'Tick'), ('er_file_2023_10_19_17_04_13.wav', 'Bird'), ('er_file_2023_10_19_17_30_02.wav', 'Fowl'), ('er_file_2023_10_19_17_27_32.wav', 'Explosion'), ('er_file_2023_10_19_17_27_26.wav', 'Thunder'), ('er_file_2023_10_19_17_32_13.wav', 'Vehicle'), ('er_file_2023_10_19_17_09_46.wav', 'Speech'), ('er_file_2023_10_19_16_59_38.wav', 'Vehicle'), ('er_file_2023_10_19_17_27_22.wav', 'Thunder'), ('er_file_2023_10_19_17_29_33.wav', 'Speech'), ('er_file_2023_10_19_17_30_07.wav', 'Bird'), ('er_file_2023_10_19_16_46_51.wav', 'Vehicle'), ('er_file_2023_10_19_16_57_00.wav', 'Fowl'), ('er_file_2023_10_19_17_32_02.wav', 'Vehicle'), ('er_file_2023_10_19_17_21_56.wav', 'Vehicle'), ('er_file_2023_10_19_17_41_11.wav', 'Door'), ('er_file_2023_10_19_17_10_48.wav', 'Bird'), ('er_file_2023_10_19_17_01_19.wav', 'Vehicle'), ('er_file_2023_10_19_16_58_46.wav', 'Bird'), ('er_file_2023_10_19_17_27_08.wav', 'Eruption'), ('er_file_2023_10_19_17_40_50.wav', 'Vehicle'), ('er_file_2023_10_19_17_04_28.wav', 'Sliding door'), ('er_file_2023_10_19_17_35_20.wav', 'Vehicle'), ('er_file_2023_10_19_17_29_56.wav', 'Thunder'), ('er_file_2023_10_19_17_11_46.wav', 'Crow'), ('er_file_2023_10_19_17_24_02.wav', 'Vehicle'), ('er_file_2023_10_19_16_56_25.wav', 'Speech'), ('er_file_2023_10_19_17_40_34.wav', 'Stomach rumble'), ('er_file_2023_10_19_17_34_10.wav', 'Speech'), ('er_file_2023_10_19_16_58_22.wav', 'Crow'), ('er_file_2023_10_19_17_20_58.wav', 'Caw'), ('er_file_2023_10_19_17_15_08.wav', 'Animal'), ('er_file_2023_10_19_17_07_20.wav', 'Speech'), ('er_file_2023_10_19_16_54_33.wav', 'Fowl'), ('er_file_2023_10_19_17_00_05.wav', 'Heart sounds, heartbeat'), ('er_file_2023_10_19_17_25_50.wav', 'Vehicle'), ('er_file_2023_10_19_17_38_29.wav', 'Chirp, tweet'), ('er_file_2023_10_19_17_36_10.wav', 'Vehicle'), ('er_file_2023_10_19_17_05_35.wav', 'Vehicle'), ('er_file_2023_10_19_17_26_00.wav', 'Speech'), ('er_file_2023_10_19_17_25_53.wav', 'Vehicle'), ('er_file_2023_10_19_17_29_52.wav', 'Snort'), ('er_file_2023_10_19_17_29_46.wav', 'Speech'), ('er_file_2023_10_19_17_26_03.wav', 'Vehicle'), ('er_file_2023_10_19_14_58_57.wav', 'Music'), ('er_file_2023_10_19_14_55_03.wav', 'Speech'), ('er_file_2023_10_19_14_49_13.wav', 'Speech'), ('er_file_2023_10_19_14_40_37.wav', 'Squeak'), ('er_file_2023_10_19_14_37_42.wav', 'Thunder'), ('er_file_2023_10_19_14_31_37.wav', 'Rain on surface'), ('er_file_2023_10_19_14_55_00.wav', 'Bird'), ('er_file_2023_10_19_14_57_39.wav', 'Rain'), ('er_file_2023_10_19_14_29_54.wav', 'Raindrop'), ('er_file_2023_10_19_14_33_30.wav', 'Raindrop'), ('er_file_2023_10_19_14_40_34.wav', 'Owl'), ('er_file_2023_10_19_15_04_13.wav', 'Rain'), ('er_file_2023_10_19_14_44_44.wav', 'Eruption'), ('er_file_2023_10_19_14_50_25.wav', 'Bird'), ('er_file_2023_10_19_14_31_34.wav', 'Raindrop'), ('er_file_2023_10_19_14_59_05.wav', 'Siren'), ('er_file_2023_10_19_14_33_34.wav', 'Rain on surface'), ('er_file_2023_10_19_14_33_20.wav', 'Vehicle'), ('er_file_2023_10_19_14_50_08.wav', 'Raindrop'), ('er_file_2023_10_19_14_58_44.wav', 'Speech'), ('er_file_2023_10_19_14_58_52.wav', 'Rain'), ('er_file_2023_10_19_14_29_46.wav', 'Rain'), ('er_file_2023_10_19_14_33_23.wav', 'Vehicle'), ('er_file_2023_10_19_14_40_32.wav', 'Crow'), ('er_file_2023_10_19_14_49_16.wav', 'Vehicle'), ('er_file_2023_10_19_15_01_31.wav', 'Raindrop'), ('er_file_2023_10_19_14_46_47.wav', 'Speech'), ('er_file_2023_10_19_15_01_25.wav', 'Raindrop'), ('er_file_2023_10_19_14_56_56.wav', 'Raindrop'), ('er_file_2023_10_19_14_58_08.wav', 'Raindrop'), ('er_file_2023_10_19_14_31_55.wav', 'Raindrop'), ('er_file_2023_10_19_14_32_04.wav', 'Raindrop'), ('er_file_2023_10_19_14_32_10.wav', 'Raindrop'), ('er_file_2023_10_19_14_50_50.wav', 'Speech'), ('er_file_2023_10_19_14_50_44.wav', 'Eruption'), ('er_file_2023_10_19_14_30_01.wav', 'Rain'), ('er_file_2023_10_19_14_37_34.wav', 'Thunder'), ('er_file_2023_10_19_14_40_40.wav', 'Caw'), ('er_file_2023_10_19_14_44_18.wav', 'Vehicle'), ('er_file_2023_10_19_14_51_11.wav', 'Thunder'), ('er_file_2023_10_19_14_58_21.wav', 'Music'), ('er_file_2023_10_19_15_05_33.wav', 'Raindrop'), ('er_file_2023_10_19_14_31_42.wav', 'Rain'), ('er_file_2023_10_19_14_32_13.wav', 'Rain'), ('er_file_2023_10_19_14_32_07.wav', 'Raindrop'), ('er_file_2023_10_19_14_44_32.wav', 'Bird'), ('er_file_2023_10_19_14_44_26.wav', 'Bird'), ('er_file_2023_10_19_14_30_16.wav', 'Rain'), ('er_file_2023_10_19_14_37_22.wav', 'Stomach rumble'), ('er_file_2023_10_19_15_01_44.wav', 'Boiling'), ('er_file_2023_10_19_14_32_16.wav', 'Rain'), ('er_file_2023_10_19_14_50_56.wav', 'Speech'), ('er_file_2023_10_19_14_40_46.wav', 'Bird'), ('er_file_2023_10_19_14_40_52.wav', 'Vehicle'), ('er_file_2023_10_19_14_41_06.wav', 'Thunder'), ('er_file_2023_10_19_14_51_03.wav', 'Field recording'), ('er_file_2023_10_19_14_51_29.wav', 'Thunder'), ('er_file_2023_10_19_14_32_01.wav', 'Raindrop'), ('er_file_2023_10_19_14_37_25.wav', 'Stomach rumble'), ('er_file_2023_10_19_14_37_19.wav', 'Stomach rumble'), ('er_file_2023_10_19_14_30_05.wav', 'Rain'), ('er_file_2023_10_19_14_37_30.wav', 'Thunder'), ('er_file_2023_10_19_14_44_35.wav', 'Bird'), ('er_file_2023_10_19_14_57_49.wav', 'Bird'), ('er_file_2023_10_19_14_44_09.wav', 'Vehicle'), ('er_file_2023_10_19_14_31_51.wav', 'Rain'), ('er_file_2023_10_19_15_02_26.wav', 'Boiling'), ('er_file_2023_10_19_14_31_48.wav', 'Rain'), ('er_file_2023_10_19_14_32_19.wav', 'Raindrop'), ('er_file_2023_10_19_14_44_38.wav', 'Vehicle'), ('er_file_2023_10_19_14_50_59.wav', 'Field recording'), ('er_file_2023_10_19_14_30_08.wav', 'Rain'), ('er_file_2023_10_19_15_00_23.wav', 'Siren'), ('er_file_2023_10_19_14_40_49.wav', 'Speech'), ('er_file_2023_10_19_14_49_45.wav', 'Vehicle'), ('er_file_2023_10_19_14_37_28.wav', 'Rumble'), ('er_file_2023_10_19_14_32_26.wav', 'Raindrop'), ('er_file_2023_10_19_14_37_17.wav', 'Vehicle'), ('er_file_2023_10_19_14_58_03.wav', 'Speech'), ('er_file_2023_10_19_15_02_24.wav', 'Boiling'), ('er_file_2023_10_19_14_30_27.wav', 'Rain'), ('er_file_2023_10_19_15_01_58.wav', 'Rain on surface'), ('er_file_2023_10_19_14_58_06.wav', 'Rumble'), ('er_file_2023_10_19_15_02_21.wav', 'Boiling'), ('er_file_2023_10_19_14_49_40.wav', 'Animal'), ('er_file_2023_10_19_14_44_14.wav', 'Speech'), ('er_file_2023_10_19_14_31_58.wav', 'Raindrop'), ('er_file_2023_10_19_14_31_17.wav', 'Rain on surface'), ('er_file_2023_10_19_15_01_28.wav', 'Raindrop'), ('er_file_2023_10_19_14_59_22.wav', 'Sliding door'), ('er_file_2023_10_19_15_01_01.wav', 'Raindrop'), ('er_file_2023_10_19_14_32_51.wav', 'Animal'), ('er_file_2023_10_19_14_58_48.wav', 'Rain'), ('er_file_2023_10_19_14_31_39.wav', 'Raindrop'), ('er_file_2023_10_19_14_32_54.wav', 'Crow'), ('er_file_2023_10_19_14_29_59.wav', 'Rain'), ('er_file_2023_10_19_14_36_25.wav', 'Vehicle'), ('er_file_2023_10_19_14_49_22.wav', 'Speech'), ('er_file_2023_10_19_14_40_07.wav', 'Tick'), ('er_file_2023_10_19_15_01_10.wav', 'Caw'), ('er_file_2023_10_19_10_45_42.wav', 'Vehicle'), ('er_file_2023_10_19_10_20_37.wav', 'Squeak'), ('er_file_2023_10_19_11_09_15.wav', 'Bird'), ('er_file_2023_10_19_11_03_49.wav', 'Speech'), ('er_file_2023_10_19_10_54_06.wav', 'Tick'), ('er_file_2023_10_19_11_16_40.wav', 'Fowl'), ('er_file_2023_10_19_10_22_33.wav', 'Vehicle'), ('er_file_2023_10_19_10_58_04.wav', 'Bird'), ('er_file_2023_10_19_10_42_48.wav', 'Squeak'), ('er_file_2023_10_19_11_10_37.wav', 'Caw'), ('er_file_2023_10_19_11_09_03.wav', 'Bird'), ('er_file_2023_10_19_10_22_30.wav', 'Bird'), ('er_file_2023_10_19_10_49_44.wav', 'Speech'), ('er_file_2023_10_19_11_09_12.wav', 'Bird'), ('er_file_2023_10_19_11_18_43.wav', 'Tick'), ('er_file_2023_10_19_11_02_27.wav', 'Sliding door'), ('er_file_2023_10_19_10_28_40.wav', 'Caw'), ('er_file_2023_10_19_10_28_56.wav', 'Caw'), ('er_file_2023_10_19_10_49_47.wav', 'Vehicle'), ('er_file_2023_10_19_10_54_03.wav', 'Bird'), ('er_file_2023_10_19_11_14_54.wav', 'Slam'), ('er_file_2023_10_19_11_02_24.wav', 'Speech'), ('er_file_2023_10_19_11_23_01.wav', 'Bird'), ('er_file_2023_10_19_10_28_24.wav', 'Caw'), ('er_file_2023_10_19_11_12_52.wav', 'Vehicle'), ('er_file_2023_10_19_11_12_46.wav', 'Vehicle'), ('er_file_2023_10_19_10_34_34.wav', 'Vehicle'), ('er_file_2023_10_19_10_51_55.wav', 'Insect'), ('er_file_2023_10_19_11_23_59.wav', 'Speech'), ('er_file_2023_10_19_10_47_27.wav', 'Fowl'), ('er_file_2023_10_19_10_53_53.wav', 'Bird'), ('er_file_2023_10_19_10_38_33.wav', 'Vehicle'), ('er_file_2023_10_19_10_38_27.wav', 'Crow'), ('er_file_2023_10_19_11_13_28.wav', 'Vehicle'), ('er_file_2023_10_19_11_19_49.wav', 'Heart sounds, heartbeat'), ('er_file_2023_10_19_11_17_59.wav', 'Crow'), ('er_file_2023_10_19_10_53_42.wav', 'Rain'), ('er_file_2023_10_19_11_12_55.wav', 'Vehicle'), ('er_file_2023_10_19_10_28_37.wav', 'Crow'), ('er_file_2023_10_19_10_38_30.wav', 'Crow'), ('er_file_2023_10_19_11_23_53.wav', 'Vehicle'), ('er_file_2023_10_19_11_18_06.wav', 'Animal'), ('er_file_2023_10_19_10_53_58.wav', 'Speech'), ('er_file_2023_10_19_11_04_02.wav', 'Wind'), ('er_file_2023_10_19_10_44_55.wav', 'Gasp'), ('er_file_2023_10_19_11_14_13.wav', 'Vehicle'), ('er_file_2023_10_19_11_21_43.wav', 'Bird'), ('er_file_2023_10_19_10_56_55.wav', 'Speech'), ('er_file_2023_10_19_11_12_58.wav', 'Vehicle'), ('er_file_2023_10_19_11_01_24.wav', 'Bird vocalization, bird call, bird song'), ('er_file_2023_10_19_11_06_05.wav', 'Vehicle'), ('er_file_2023_10_19_10_25_52.wav', 'Speech'), ('er_file_2023_10_19_10_23_33.wav', 'Bird'), ('er_file_2023_10_19_10_44_42.wav', 'Animal'), ('er_file_2023_10_19_10_15_33.wav', 'Honk'), ('er_file_2023_10_19_10_58_47.wav', 'Speech'), ('er_file_2023_10_19_11_18_10.wav', 'Animal'), ('er_file_2023_10_19_10_26_02.wav', 'Vehicle'), ('er_file_2023_10_19_11_12_49.wav', 'Vehicle'), ('er_file_2023_10_19_11_18_14.wav', 'Speech'), ('er_file_2023_10_19_10_15_37.wav', 'Fowl'), ('er_file_2023_10_19_11_04_05.wav', 'Animal'), ('er_file_2023_10_19_10_25_56.wav', 'Animal'), ('er_file_2023_10_19_10_28_28.wav', 'Caw'), ('er_file_2023_10_19_10_52_21.wav', 'Clip-clop'), ('er_file_2023_10_19_10_17_19.wav', 'Vehicle'), ('er_file_2023_10_19_10_49_39.wav', 'Tick'), ('er_file_2023_10_19_10_59_00.wav', 'Vehicle'), ('er_file_2023_10_19_11_23_43.wav', 'Vehicle'), ('er_file_2023_10_19_10_14_49.wav', 'Bird'), ('er_file_2023_10_19_11_23_30.wav', 'Bird'), ('er_file_2023_10_19_11_09_08.wav', 'Bird'), ('er_file_2023_10_19_10_44_36.wav', 'Animal'), ('er_file_2023_10_19_11_09_21.wav', 'Bird'), ('er_file_2023_10_19_11_13_51.wav', 'Vehicle'), ('er_file_2023_10_19_10_58_27.wav', 'Thunder'), ('er_file_2023_10_19_11_18_58.wav', 'Bleat'), ('er_file_2023_10_19_11_12_39.wav', 'Speech'), ('er_file_2023_10_19_11_03_57.wav', 'Animal'), ('er_file_2023_10_19_10_40_51.wav', 'Vehicle'), ('er_file_2023_10_19_10_53_39.wav', 'Heart sounds, heartbeat'), ('er_file_2023_10_19_10_41_39.wav', 'Vehicle'), ('er_file_2023_10_19_11_23_22.wav', 'Bird'), ('er_file_2023_10_19_10_15_40.wav', 'Honk'), ('er_file_2023_10_19_10_44_19.wav', 'Animal'), ('er_file_2023_10_19_10_44_30.wav', 'Animal'), ('er_file_2023_10_19_11_03_46.wav', 'Bird'), ('er_file_2023_10_19_10_24_49.wav', 'Animal'), ('er_file_2023_10_19_10_54_09.wav', 'Sound effect'), ('er_file_2023_10_19_10_58_35.wav', 'Bird'), ('er_file_2023_10_19_11_23_37.wav', 'Bird'), ('er_file_2023_10_19_10_48_18.wav', 'Animal'), ('er_file_2023_10_19_11_23_09.wav', 'Bird'), ('er_file_2023_10_19_10_15_43.wav', 'Fowl'), ('er_file_2023_10_19_11_09_25.wav', 'Bird'), ('er_file_2023_10_19_10_40_56.wav', 'Speech'), ('er_file_2023_10_19_11_00_28.wav', 'Chirp, tweet'), ('er_file_2023_10_19_11_09_30.wav', 'Bird'), ('er_file_2023_10_19_11_02_11.wav', 'Door'), ('er_file_2023_10_19_11_15_35.wav', 'Liquid'), ('er_file_2023_10_19_9_40_26.wav', 'Door'), ('er_file_2023_10_19_9_54_46.wav', 'Door'), ('er_file_2023_10_19_9_38_29.wav', 'Speech'), ('er_file_2023_10_19_9_53_49.wav', 'Squawk'), ('er_file_2023_10_19_9_40_36.wav', 'Door'), ('er_file_2023_10_19_10_10_47.wav', 'Bird'), ('er_file_2023_10_19_10_10_53.wav', 'Bird'), ('er_file_2023_10_19_9_57_49.wav', 'Bird'), ('er_file_2023_10_19_9_40_53.wav', 'Animal'), ('er_file_2023_10_19_10_10_36.wav', 'Chirp, tweet'), ('er_file_2023_10_19_9_41_17.wav', 'Vehicle'), ('er_file_2023_10_19_10_09_07.wav', 'Chirp, tweet'), ('er_file_2023_10_19_9_41_02.wav', 'Speech'), ('er_file_2023_10_19_10_10_31.wav', 'Bird'), ('er_file_2023_10_19_9_58_08.wav', 'Thunder'), ('er_file_2023_10_19_10_10_18.wav', 'Bird'), ('er_file_2023_10_19_10_09_11.wav', 'Chirp, tweet'), ('er_file_2023_10_19_10_10_15.wav', 'Chirp, tweet'), ('er_file_2023_10_19_10_09_37.wav', 'Vehicle'), ('er_file_2023_10_19_9_58_12.wav', 'Bird'), ('er_file_2023_10_19_9_57_56.wav', 'Field recording'), ('er_file_2023_10_19_9_57_42.wav', 'Animal'), ('er_file_2023_10_19_9_38_52.wav', 'Sliding door'), ('er_file_2023_10_19_9_57_52.wav', 'Animal'), ('er_file_2023_10_19_9_58_02.wav', 'Eruption'), ('er_file_2023_10_19_10_10_10.wav', 'Bird'), ('er_file_2023_10_19_9_59_26.wav', 'Vehicle'), ('er_file_2023_10_19_10_11_09.wav', 'Chirp, tweet'), ('er_file_2023_10_19_10_09_51.wav', 'Sneeze'), ('er_file_2023_10_19_10_09_45.wav', 'Bird flight, flapping wings'), ('er_file_2023_10_19_10_11_18.wav', 'Bird'), ('er_file_2023_10_19_9_53_54.wav', 'Caw'), ('er_file_2023_10_19_9_38_24.wav', 'Rattle'), ('er_file_2023_10_19_9_38_33.wav', 'Door'), ('er_file_2023_10_19_10_09_53.wav', 'Crow'), ('er_file_2023_10_19_9_41_43.wav', 'Animal'), ('er_file_2023_10_19_16_24_40.wav', 'Clip-clop'), ('er_file_2023_10_19_16_13_15.wav', 'Raindrop'), ('er_file_2023_10_19_15_41_29.wav', 'Rain'), ('er_file_2023_10_19_15_38_58.wav', 'Rain'), ('er_file_2023_10_19_15_15_41.wav', 'Bird'), ('er_file_2023_10_19_16_18_21.wav', 'Animal'), ('er_file_2023_10_19_16_08_24.wav', 'Clip-clop'), ('er_file_2023_10_19_16_08_32.wav', 'Rain on surface'), ('er_file_2023_10_19_16_12_56.wav', 'Raindrop'), ('er_file_2023_10_19_15_41_02.wav', 'Rain'), ('er_file_2023_10_19_15_48_32.wav', 'Raindrop'), ('er_file_2023_10_19_15_41_16.wav', 'Rain'), ('er_file_2023_10_19_15_48_27.wav', 'Rain on surface'), ('er_file_2023_10_19_15_20_12.wav', 'Raindrop'), ('er_file_2023_10_19_15_16_07.wav', 'Bird'), ('er_file_2023_10_19_16_30_33.wav', 'Wind'), ('er_file_2023_10_19_16_28_46.wav', 'Bird'), ('er_file_2023_10_19_15_46_27.wav', 'Raindrop'), ('er_file_2023_10_19_16_13_06.wav', 'Vehicle'), ('er_file_2023_10_19_15_40_46.wav', 'Rain'), ('er_file_2023_10_19_15_16_02.wav', 'Raindrop'), ('er_file_2023_10_19_16_12_52.wav', 'Raindrop'), ('er_file_2023_10_19_16_11_29.wav', 'Raindrop'), ('er_file_2023_10_19_16_13_10.wav', 'Raindrop'), ('er_file_2023_10_19_15_41_38.wav', 'Rain'), ('er_file_2023_10_19_15_26_49.wav', 'Speech'), ('er_file_2023_10_19_16_22_31.wav', 'Raindrop'), ('er_file_2023_10_19_15_41_05.wav', 'Raindrop'), ('er_file_2023_10_19_15_48_21.wav', 'Raindrop'), ('er_file_2023_10_19_16_10_54.wav', 'Bird'), ('er_file_2023_10_19_15_42_40.wav', 'Raindrop'), ('er_file_2023_10_19_15_15_44.wav', 'Thunder'), ('er_file_2023_10_19_15_37_24.wav', 'Raindrop'), ('er_file_2023_10_19_16_12_36.wav', 'Bird'), ('er_file_2023_10_19_16_12_22.wav', 'Bird'), ('er_file_2023_10_19_16_28_23.wav', 'Vehicle'), ('er_file_2023_10_19_15_31_23.wav', 'Raindrop'), ('er_file_2023_10_19_15_20_58.wav', 'Rain'), ('er_file_2023_10_19_15_46_54.wav', 'Raindrop'), ('er_file_2023_10_19_15_35_51.wav', 'Vehicle'), ('er_file_2023_10_19_15_35_54.wav', 'Rain on surface'), ('er_file_2023_10_19_15_07_30.wav', 'Vehicle'), ('er_file_2023_10_19_16_09_29.wav', 'Raindrop'), ('er_file_2023_10_19_16_30_45.wav', 'Caw'), ('er_file_2023_10_19_16_12_31.wav', 'Speech'), ('er_file_2023_10_19_16_08_43.wav', 'Rain on surface'), ('er_file_2023_10_19_15_46_52.wav', 'Rain on surface'), ('er_file_2023_10_19_15_35_57.wav', 'Vehicle'), ('er_file_2023_10_19_15_21_37.wav', 'Bird'), ('er_file_2023_10_19_15_07_33.wav', 'Raindrop'), ('er_file_2023_10_19_16_28_33.wav', 'Speech'), ('er_file_2023_10_19_15_40_32.wav', 'Raindrop'), ('er_file_2023_10_19_16_16_42.wav', 'Vehicle'), ('er_file_2023_10_19_15_05_36.wav', 'Boiling'), ('er_file_2023_10_19_16_06_47.wav', 'Animal'), ('er_file_2023_10_19_16_26_07.wav', 'Bird'), ('er_file_2023_10_19_16_10_13.wav', 'Clip-clop'), ('er_file_2023_10_19_15_20_47.wav', 'Raindrop'), ('er_file_2023_10_19_15_57_18.wav', 'Raindrop'), ('er_file_2023_10_19_15_21_10.wav', 'Rain'), ('er_file_2023_10_19_16_28_28.wav', 'Bird'), ('er_file_2023_10_19_16_21_30.wav', 'Clip-clop'), ('er_file_2023_10_19_15_20_50.wav', 'Rain'), ('er_file_2023_10_19_15_44_59.wav', 'Rain on surface'), ('er_file_2023_10_19_16_33_08.wav', 'Animal'), ('er_file_2023_10_19_15_20_40.wav', 'Rain'), ('er_file_2023_10_19_16_28_38.wav', 'Raindrop'), ('er_file_2023_10_19_15_21_01.wav', 'Rain'), ('er_file_2023_10_19_15_25_59.wav', 'Fowl'), ('er_file_2023_10_19_15_19_39.wav', 'Animal'), ('er_file_2023_10_19_15_20_55.wav', 'Rain'), ('er_file_2023_10_19_15_40_38.wav', 'Rain'), ('er_file_2023_10_19_15_50_01.wav', 'Raindrop'), ('er_file_2023_10_19_15_49_22.wav', 'Raindrop'), ('er_file_2023_10_19_15_20_43.wav', 'Rain'), ('er_file_2023_10_19_16_13_46.wav', 'Bird'), ('er_file_2023_10_19_16_31_32.wav', 'Speech'), ('er_file_2023_10_19_15_09_17.wav', 'Bird'), ('er_file_2023_10_19_16_06_29.wav', 'Bird'), ('er_file_2023_10_19_15_57_50.wav', 'Raindrop'), ('er_file_2023_10_19_15_41_34.wav', 'Rain'), ('er_file_2023_10_19_15_41_20.wav', 'Rain'), ('er_file_2023_10_19_16_25_34.wav', 'Animal'), ('er_file_2023_10_19_15_20_18.wav', 'Rain'), ('er_file_2023_10_19_16_30_29.wav', 'Bird'), ('er_file_2023_10_19_15_40_49.wav', 'Rain'), ('er_file_2023_10_19_15_37_00.wav', 'Animal'), ('er_file_2023_10_19_15_16_31.wav', 'Rain'), ('er_file_2023_10_19_15_26_53.wav', 'Raindrop'), ('er_file_2023_10_19_15_26_46.wav', 'Raindrop'), ('er_file_2023_10_19_16_25_37.wav', 'Animal'), ('er_file_2023_10_19_15_28_57.wav', 'Clip-clop'), ('er_file_2023_10_19_16_16_12.wav', 'Raindrop'), ('er_file_2023_10_19_16_11_37.wav', 'Animal'), ('er_file_2023_10_19_16_31_46.wav', 'Animal'), ('er_file_2023_10_19_15_50_48.wav', 'Raindrop'), ('er_file_2023_10_19_15_40_59.wav', 'Raindrop'), ('er_file_2023_10_19_16_16_29.wav', 'Bird'), ('er_file_2023_10_19_15_35_28.wav', 'Rain'), ('er_file_2023_10_19_15_52_58.wav', 'Raindrop'), ('er_file_2023_10_19_18_27_33.wav', 'Bird'), ('er_file_2023_10_19_18_23_41.wav', 'Vehicle'), ('er_file_2023_10_19_17_45_19.wav', 'Speech'), ('er_file_2023_10_19_18_22_29.wav', 'Ping'), ('er_file_2023_10_19_18_22_00.wav', 'Door'), ('er_file_2023_10_19_18_27_24.wav', 'Door'), ('er_file_2023_10_19_17_45_24.wav', 'Animal'), ('er_file_2023_10_19_18_23_44.wav', 'Vehicle'), ('er_file_2023_10_19_18_18_39.wav', 'Speech'), ('er_file_2023_10_19_18_01_25.wav', 'Vehicle'), ('er_file_2023_10_19_18_19_20.wav', 'Vehicle'), ('er_file_2023_10_19_18_17_31.wav', 'Speech'), ('er_file_2023_10_19_18_21_24.wav', 'Liquid'), ('er_file_2023_10_19_18_14_49.wav', 'Sliding door'), ('er_file_2023_10_19_18_35_44.wav', 'Vehicle'), ('er_file_2023_10_19_18_28_01.wav', 'Finger snapping'), ('er_file_2023_10_19_18_21_19.wav', 'Sliding door'), ('er_file_2023_10_19_18_19_35.wav', 'Speech'), ('er_file_2023_10_19_18_15_21.wav', 'Vehicle'), ('er_file_2023_10_19_18_06_49.wav', 'Vehicle'), ('er_file_2023_10_19_18_34_10.wav', 'Vehicle'), ('er_file_2023_10_19_17_51_19.wav', 'Speech'), ('er_file_2023_10_19_18_33_19.wav', 'Crow'), ('er_file_2023_10_19_18_18_49.wav', 'Speech'), ('er_file_2023_10_19_17_46_15.wav', 'Door'), ('er_file_2023_10_19_17_46_03.wav', 'Door'), ('er_file_2023_10_19_18_36_17.wav', 'Vehicle'), ('er_file_2023_10_19_18_35_52.wav', 'Crow'), ('er_file_2023_10_19_17_57_53.wav', 'Heart sounds, heartbeat'), ('er_file_2023_10_19_18_35_47.wav', 'Vehicle'), ('er_file_2023_10_19_18_36_02.wav', 'Vehicle'), ('er_file_2023_10_19_18_15_36.wav', 'Vehicle'), ('er_file_2023_10_19_18_27_47.wav', 'Crow'), ('er_file_2023_10_19_18_05_27.wav', 'Caw'), ('er_file_2023_10_19_18_23_37.wav', 'Vehicle'), ('er_file_2023_10_19_18_33_22.wav', 'Caw'), ('er_file_2023_10_19_18_29_52.wav', 'Tick'), ('er_file_2023_10_19_17_44_17.wav', 'Clip-clop'), ('er_file_2023_10_19_18_28_07.wav', 'Throat clearing'), ('er_file_2023_10_19_17_57_56.wav', 'Bird'), ('er_file_2023_10_19_18_37_53.wav', 'Rain'), ('er_file_2023_10_19_18_30_58.wav', 'Vehicle'), ('er_file_2023_10_19_18_36_05.wav', 'Vehicle'), ('er_file_2023_10_19_18_36_11.wav', 'Vehicle'), ('er_file_2023_10_19_18_35_54.wav', 'Vehicle'), ('er_file_2023_10_19_18_35_41.wav', 'Vehicle'), ('er_file_2023_10_19_18_04_49.wav', 'Animal'), ('er_file_2023_10_19_18_15_18.wav', 'Vehicle'), ('er_file_2023_10_19_18_18_58.wav', 'White noise'), ('er_file_2023_10_19_18_20_45.wav', 'Tick'), ('er_file_2023_10_19_18_06_41.wav', 'Crow'), ('er_file_2023_10_19_18_15_01.wav', 'Vehicle'), ('er_file_2023_10_19_18_36_09.wav', 'Vehicle'), ('er_file_2023_10_19_18_19_15.wav', 'Vehicle'), ('er_file_2023_10_19_18_14_55.wav', 'Vehicle'), ('er_file_2023_10_19_18_35_59.wav', 'Vehicle'), ('er_file_2023_10_19_18_04_45.wav', 'Caw'), ('er_file_2023_10_19_18_36_20.wav', 'Vehicle'), ('er_file_2023_10_19_18_06_54.wav', 'Vehicle'), ('er_file_2023_10_19_18_33_04.wav', 'Vehicle'), ('er_file_2023_10_19_18_33_10.wav', 'Vehicle'), ('er_file_2023_10_19_17_45_59.wav', 'Door'), ('er_file_2023_10_19_18_16_47.wav', 'Door'), ('er_file_2023_10_19_18_14_43.wav', 'Vehicle'), ('er_file_2023_10_19_18_36_23.wav', 'Vehicle'), ('er_file_2023_10_19_18_33_13.wav', 'Crow'), ('er_file_2023_10_19_18_33_07.wav', 'Vehicle'), ('er_file_2023_10_19_18_20_53.wav', 'Chink, clink'), ('er_file_2023_10_19_18_18_47.wav', 'Bird'), ('er_file_2023_10_19_18_18_53.wav', 'Vehicle'), ('er_file_2023_10_19_18_15_07.wav', 'Vehicle'), ('er_file_2023_10_19_18_36_33.wav', 'Bird'), ('er_file_2023_10_19_18_22_52.wav', 'Speech'), ('er_file_2023_10_19_18_04_42.wav', 'Heart murmur'), ('er_file_2023_10_19_18_14_52.wav', 'Snort'), ('er_file_2023_10_19_18_06_52.wav', 'Vehicle'), ('er_file_2023_10_19_18_06_46.wav', 'Vehicle'), ('er_file_2023_10_19_18_33_16.wav', 'Vehicle'), ('er_file_2023_10_19_17_56_21.wav', 'Caw'), ('er_file_2023_10_19_18_15_04.wav', 'Vehicle'), ('er_file_2023_10_19_18_06_44.wav', 'Vehicle'), ('er_file_2023_10_19_18_19_10.wav', 'Thunder'), ('er_file_2023_10_19_17_44_20.wav', 'Animal'), ('er_file_2023_10_19_18_26_08.wav', 'Vehicle'), ('er_file_2023_10_19_18_19_05.wav', 'Thunder'), ('er_file_2023_10_19_18_15_39.wav', 'Car'), ('er_file_2023_10_19_18_15_11.wav', 'Vehicle'), ('er_file_2023_10_19_18_30_37.wav', 'Tick'), ('er_file_2023_10_19_18_16_27.wav', 'Crow'), ('er_file_2023_10_19_18_14_37.wav', 'Sound effect'), ('er_file_2023_10_19_17_58_43.wav', 'Squeak'), ('er_file_2023_10_19_18_03_38.wav', 'Squeak'), ('er_file_2023_10_19_18_17_59.wav', 'Speech'), ('er_file_2023_10_19_17_54_54.wav', 'Caw'), ('er_file_2023_10_19_17_48_41.wav', 'Chink, clink'), ('er_file_2023_10_19_18_36_44.wav', 'Crow'), ('er_file_2023_10_19_18_10_54.wav', 'Vehicle'), ('er_file_2023_10_19_18_14_30.wav', 'Speech'), ('er_file_2023_10_19_17_54_52.wav', 'Caw'), ('er_file_2023_10_19_18_34_43.wav', 'Vehicle'), ('er_file_2023_10_20_0_30_16.wav', 'Tick'), ('er_file_2023_10_20_0_50_47.wav', 'Thunder'), ('er_file_2023_10_20_0_15_43.wav', 'Tick'), ('er_file_2023_10_20_0_50_52.wav', 'Thunder'), ('er_file_2023_10_20_0_36_48.wav', 'Raindrop'), ('er_file_2023_10_20_0_24_48.wav', 'Slam'), ('er_file_2023_10_20_0_50_44.wav', 'Raindrop'), ('er_file_2023_10_20_0_15_41.wav', 'Drip'), ('er_file_2023_10_20_0_37_35.wav', 'Fowl'), ('er_file_2023_10_20_1_02_06.wav', 'Raindrop'), ('er_file_2023_10_20_0_14_39.wav', 'Tick'), ('er_file_2023_10_20_0_30_11.wav', 'Tick-tock'), ('er_file_2023_10_20_0_52_51.wav', 'Drip'), ('er_file_2023_10_20_0_56_09.wav', 'Drip'), ('er_file_2023_10_20_1_05_34.wav', 'Raindrop'), ('er_file_2023_10_20_0_09_57.wav', 'Mouse'), ('er_file_2023_10_20_0_27_23.wav', 'Drip'), ('er_file_2023_10_20_0_50_57.wav', 'Raindrop'), ('er_file_2023_10_20_0_25_40.wav', 'Drip'), ('er_file_2023_10_20_0_36_28.wav', 'Rumble'), ('er_file_2023_10_20_0_35_51.wav', 'Eruption'), ('er_file_2023_10_20_0_41_49.wav', 'Drip'), ('er_file_2023_10_20_0_09_25.wav', 'Speech'), ('er_file_2023_10_20_0_34_39.wav', 'Drip'), ('er_file_2023_10_20_0_50_25.wav', 'Raindrop'), ('er_file_2023_10_20_0_46_41.wav', 'Silence'), ('er_file_2023_10_20_0_36_15.wav', 'Thunder'), ('er_file_2023_10_20_0_36_03.wav', 'Rain'), ('er_file_2023_10_20_0_29_43.wav', 'Drip'), ('er_file_2023_10_20_1_05_50.wav', 'Raindrop'), ('er_file_2023_10_20_0_36_12.wav', 'Thunder'), ('er_file_2023_10_20_0_36_06.wav', 'Thunder'), ('er_file_2023_10_20_0_10_02.wav', 'Drip'), ('er_file_2023_10_20_0_35_43.wav', 'Tick'), ('er_file_2023_10_20_0_50_36.wav', 'Raindrop'), ('er_file_2023_10_20_0_29_47.wav', 'Tick'), ('er_file_2023_10_20_0_50_23.wav', 'Rain'), ('er_file_2023_10_20_1_06_10.wav', 'Raindrop'), ('er_file_2023_10_20_1_06_04.wav', 'Raindrop'), ('er_file_2023_10_20_0_46_47.wav', 'Tick'), ('er_file_2023_10_20_0_09_22.wav', 'Drip'), ('er_file_2023_10_20_0_21_23.wav', 'Drip'), ('er_file_2023_10_20_0_56_56.wav', 'Drip'), ('er_file_2023_10_20_1_05_43.wav', 'Raindrop'), ('er_file_2023_10_20_0_49_00.wav', 'Drip'), ('er_file_2023_10_20_0_47_04.wav', 'Drip'), ('er_file_2023_10_20_0_29_50.wav', 'Tick'), ('er_file_2023_10_20_1_06_07.wav', 'Raindrop'), ('er_file_2023_10_20_0_35_55.wav', 'Chime'), ('er_file_2023_10_20_0_28_38.wav', 'Drip'), ('er_file_2023_10_20_0_36_09.wav', 'Thunder'), ('er_file_2023_10_20_0_36_21.wav', 'Drip'), ('er_file_2023_10_20_0_35_58.wav', 'White noise'), ('er_file_2023_10_20_1_06_36.wav', 'Drip'), ('er_file_2023_10_20_1_00_42.wav', 'Rain on surface'), ('er_file_2023_10_20_0_24_34.wav', 'Drip'), ('er_file_2023_10_20_0_19_14.wav', 'Tick'), ('er_file_2023_10_20_0_36_34.wav', 'Rumble'), ('er_file_2023_10_20_0_24_37.wav', 'Tick'), ('er_file_2023_10_20_0_17_06.wav', 'Tick'), ('er_file_2023_10_20_0_38_22.wav', 'Tick'), ('er_file_2023_10_20_1_06_24.wav', 'Raindrop'), ('er_file_2023_10_20_0_59_27.wav', 'Raindrop'), ('er_file_2023_10_20_0_59_33.wav', 'Raindrop'), ('er_file_2023_10_20_1_00_45.wav', 'Raindrop'), ('er_file_2023_10_20_0_36_18.wav', 'Thunder'), ('er_file_2023_10_20_1_06_33.wav', 'Raindrop'), ('er_file_2023_10_20_0_50_28.wav', 'Tick'), ('er_file_2023_10_20_0_57_35.wav', 'Raindrop'), ('er_file_2023_10_20_0_15_10.wav', 'Drip'), ('er_file_2023_10_20_0_27_48.wav', 'Tick'), ('er_file_2023_10_20_0_09_28.wav', 'Tick'), ('er_file_2023_10_20_0_14_45.wav', 'Tick'), ('er_file_2023_10_20_0_35_48.wav', 'Hiccup'), ('er_file_2023_10_20_0_36_25.wav', 'Thunder'), ('er_file_2023_10_20_0_25_16.wav', 'Drip'), ('er_file_2023_10_20_0_41_37.wav', 'Drip'), ('er_file_2023_10_20_0_16_32.wav', 'Music'), ('er_file_2023_10_20_0_18_37.wav', 'Drip'), ('er_file_2023_10_20_0_56_12.wav', 'Tick'), ('er_file_2023_10_20_1_05_39.wav', 'Raindrop'), ('er_file_2023_10_20_0_36_41.wav', 'Thunder'), ('er_file_2023_10_20_0_24_55.wav', 'Burst, pop'), ('er_file_2023_10_20_0_57_44.wav', 'Raindrop'), ('er_file_2023_10_20_1_07_03.wav', 'Raindrop'), ('er_file_2023_10_20_0_32_30.wav', 'Drip'), ('er_file_2023_10_20_0_56_01.wav', 'Rodents, rats, mice'), ('er_file_2023_10_20_0_51_08.wav', 'Raindrop'), ('er_file_2023_10_20_0_54_04.wav', 'Drip'), ('er_file_2023_10_20_0_54_38.wav', 'Drip'), ('er_file_2023_10_20_1_07_06.wav', 'Drip'), ('er_file_2023_10_20_0_50_49.wav', 'Raindrop'), ('er_file_2023_10_20_1_05_03.wav', 'Raindrop'), ('er_file_2023_10_20_1_05_01.wav', 'Drip'), ('er_file_2023_10_20_1_05_29.wav', 'Raindrop'), ('er_file_2023_10_20_0_13_06.wav', 'Rodents, rats, mice'), ('er_file_2023_10_20_1_07_10.wav', 'Drip'), ('er_file_2023_10_20_0_29_06.wav', 'Drip'), ('er_file_2023_10_20_0_24_52.wav', 'Speech'), ('er_file_2023_10_20_1_01_58.wav', 'Raindrop'), ('er_file_2023_10_19_23_33_59.wav', 'Tick-tock'), ('er_file_2023_10_19_23_08_19.wav', 'Tick'), ('er_file_2023_10_19_23_38_45.wav', 'Drip'), ('er_file_2023_10_19_23_03_10.wav', 'Raindrop'), ('er_file_2023_10_19_22_55_21.wav', 'Raindrop'), ('er_file_2023_10_19_23_03_13.wav', 'Drip'), ('er_file_2023_10_19_23_28_57.wav', 'Speech'), ('er_file_2023_10_19_23_14_37.wav', 'Drip'), ('er_file_2023_10_19_23_03_17.wav', 'Thunder'), ('er_file_2023_10_19_23_03_03.wav', 'Rain'), ('er_file_2023_10_19_23_25_07.wav', 'Mouse'), ('er_file_2023_10_20_0_08_28.wav', 'Drip'), ('er_file_2023_10_19_23_37_06.wav', 'Drip'), ('er_file_2023_10_19_23_41_33.wav', 'Drip'), ('er_file_2023_10_19_23_03_28.wav', 'Raindrop'), ('er_file_2023_10_19_22_57_36.wav', 'Tick'), ('er_file_2023_10_19_22_59_33.wav', 'Tick'), ('er_file_2023_10_19_23_20_34.wav', 'Fowl'), ('er_file_2023_10_19_23_27_00.wav', 'Tick'), ('er_file_2023_10_19_23_41_30.wav', 'Drip'), ('er_file_2023_10_19_23_09_07.wav', 'Tick'), ('er_file_2023_10_19_23_45_33.wav', 'Rodents, rats, mice'), ('er_file_2023_10_19_23_43_52.wav', 'Animal'), ('er_file_2023_10_19_23_05_13.wav', 'Gasp'), ('er_file_2023_10_19_23_50_13.wav', 'Tick'), ('er_file_2023_10_19_23_43_47.wav', 'Drip'), ('er_file_2023_10_19_23_05_06.wav', 'Speech'), ('er_file_2023_10_19_23_47_37.wav', 'Tick'), ('er_file_2023_10_20_0_09_18.wav', 'Drip'), ('er_file_2023_10_19_23_51_53.wav', 'Speech'), ('er_file_2023_10_19_23_09_10.wav', 'Tick'), ('er_file_2023_10_19_23_49_30.wav', 'Tick'), ('er_file_2023_10_19_23_44_58.wav', 'Animal'), ('er_file_2023_10_19_23_24_21.wav', 'Heart sounds, heartbeat'), ('er_file_2023_10_19_23_50_10.wav', 'Tick'), ('er_file_2023_10_19_23_47_08.wav', 'Drip'), ('er_file_2023_10_19_23_52_11.wav', 'Drip'), ('er_file_2023_10_19_23_47_18.wav', 'Raindrop'), ('er_file_2023_10_20_0_05_23.wav', 'Drip'), ('er_file_2023_10_19_22_58_13.wav', 'Raindrop'), ('er_file_2023_10_19_23_39_48.wav', 'Drip'), ('er_file_2023_10_19_23_24_25.wav', 'Bird'), ('er_file_2023_10_19_23_49_08.wav', 'Tick'), ('er_file_2023_10_19_23_49_34.wav', 'Drip'), ('er_file_2023_10_19_23_52_04.wav', 'Fowl'), ('er_file_2023_10_19_23_45_36.wav', 'Animal'), ('er_file_2023_10_19_23_40_06.wav', 'Drip'), ('er_file_2023_10_19_22_58_38.wav', 'Tick'), ('er_file_2023_10_19_23_50_16.wav', 'Drip'), ('er_file_2023_10_20_0_07_30.wav', 'Drip'), ('er_file_2023_10_19_23_51_56.wav', 'Tick'), ('er_file_2023_10_20_0_04_44.wav', 'Speech'), ('er_file_2023_10_19_23_10_13.wav', 'Tick'), ('er_file_2023_10_19_23_57_06.wav', 'Door'), ('er_file_2023_10_19_23_05_32.wav', 'Wind chime'), ('er_file_2023_10_19_23_44_46.wav', 'Animal'), ('er_file_2023_10_19_23_59_17.wav', 'Fowl'), ('er_file_2023_10_20_0_06_41.wav', 'Animal'), ('er_file_2023_10_19_23_17_27.wav', 'Music'), ('er_file_2023_10_19_23_17_33.wav', 'Tick'), ('er_file_2023_10_19_23_52_23.wav', 'Thunder'), ('er_file_2023_10_19_23_52_35.wav', 'Rain'), ('er_file_2023_10_19_23_20_58.wav', 'Drip'), ('er_file_2023_10_19_23_24_28.wav', 'Rustling leaves'), ('er_file_2023_10_19_23_03_45.wav', 'Raindrop'), ('er_file_2023_10_19_23_17_30.wav', 'Vehicle'), ('er_file_2023_10_19_23_00_10.wav', 'Drip'), ('er_file_2023_10_19_23_52_18.wav', 'Rain'), ('er_file_2023_10_19_23_01_44.wav', 'Speech'), ('er_file_2023_10_19_23_31_25.wav', 'Raindrop'), ('er_file_2023_10_19_23_10_00.wav', 'Drip'), ('er_file_2023_10_19_23_45_29.wav', 'Plop'), ('er_file_2023_10_19_23_09_21.wav', 'Tick'), ('er_file_2023_10_19_23_48_57.wav', 'Tick'), ('er_file_2023_10_19_23_17_37.wav', 'Tick'), ('er_file_2023_10_19_23_47_13.wav', 'Hiccup'), ('er_file_2023_10_19_23_17_22.wav', 'Drip'), ('er_file_2023_10_19_23_03_43.wav', 'Thunder'), ('er_file_2023_10_19_23_13_52.wav', 'Tick'), ('er_file_2023_10_19_23_51_38.wav', 'Tick'), ('er_file_2023_10_19_23_42_44.wav', 'Drip'), ('er_file_2023_10_19_22_58_57.wav', 'Raindrop'), ('er_file_2023_10_19_23_31_40.wav', 'Raindrop'), ('er_file_2023_10_19_22_55_15.wav', 'Rain'), ('er_file_2023_10_19_23_41_13.wav', 'Drip'), ('er_file_2023_10_19_23_31_47.wav', 'Drip'), ('er_file_2023_10_19_23_31_53.wav', 'Tick'), ('er_file_2023_10_19_23_53_07.wav', 'Tick'), ('er_file_2023_10_19_22_59_10.wav', 'Tick'), ('er_file_2023_10_19_23_04_16.wav', 'Speech'), ('er_file_2023_10_19_23_46_33.wav', 'Raindrop'), ('er_file_2023_10_19_23_41_10.wav', 'Tick'), ('er_file_2023_10_19_22_55_06.wav', 'Tick'), ('er_file_2023_10_19_23_40_50.wav', 'Tick'), ('er_file_2023_10_19_23_20_15.wav', 'Door'), ('er_file_2023_10_19_23_27_21.wav', 'Drip'), ('er_file_2023_10_19_23_03_34.wav', 'Thunder'), ('er_file_2023_10_19_23_03_20.wav', 'Raindrop'), ('er_file_2023_10_19_23_32_14.wav', 'Raindrop'), ('er_file_2023_10_19_23_32_00.wav', 'Thunder'), ('er_file_2023_10_19_22_21_12.wav', 'Drip'), ('er_file_2023_10_19_22_36_37.wav', 'Clip-clop'), ('er_file_2023_10_19_21_48_52.wav', 'Drip'), ('er_file_2023_10_19_21_48_46.wav', 'Tick-tock'), ('er_file_2023_10_19_21_57_12.wav', 'Tick'), ('er_file_2023_10_19_22_15_29.wav', 'Rodents, rats, mice'), ('er_file_2023_10_19_22_53_54.wav', 'Tick'), ('er_file_2023_10_19_22_43_51.wav', 'Drip'), ('er_file_2023_10_19_22_09_10.wav', 'Raindrop'), ('er_file_2023_10_19_21_45_10.wav', 'Animal'), ('er_file_2023_10_19_22_36_21.wav', 'Door'), ('er_file_2023_10_19_22_36_34.wav', 'Animal'), ('er_file_2023_10_19_21_50_20.wav', 'Vehicle'), ('er_file_2023_10_19_22_34_35.wav', 'Tuning fork'), ('er_file_2023_10_19_22_45_21.wav', 'Sliding door'), ('er_file_2023_10_19_21_48_55.wav', 'Tick'), ('er_file_2023_10_19_22_31_11.wav', 'Drip'), ('er_file_2023_10_19_22_38_09.wav', 'Owl'), ('er_file_2023_10_19_22_36_31.wav', 'Door'), ('er_file_2023_10_19_22_21_15.wav', 'Tick'), ('er_file_2023_10_19_22_12_30.wav', 'Tick'), ('er_file_2023_10_19_21_50_09.wav', 'Tick'), ('er_file_2023_10_19_22_41_52.wav', 'Chime'), ('er_file_2023_10_19_22_31_13.wav', 'Drip'), ('er_file_2023_10_19_22_20_42.wav', 'Gasp'), ('er_file_2023_10_19_22_12_33.wav', 'Tick'), ('er_file_2023_10_19_22_40_07.wav', 'Tick-tock'), ('er_file_2023_10_19_21_50_45.wav', 'Vehicle'), ('er_file_2023_10_19_22_11_05.wav', 'Tick'), ('er_file_2023_10_19_21_51_05.wav', 'Thunder'), ('er_file_2023_10_19_22_36_40.wav', 'Rain'), ('er_file_2023_10_19_22_29_28.wav', 'Raindrop'), ('er_file_2023_10_19_21_44_33.wav', 'Fowl'), ('er_file_2023_10_19_22_11_12.wav', 'Raindrop'), ('er_file_2023_10_19_22_24_42.wav', 'Tick'), ('er_file_2023_10_19_21_46_36.wav', 'Silence'), ('er_file_2023_10_19_22_36_43.wav', 'Knock'), ('er_file_2023_10_19_22_36_57.wav', 'Tick-tock'), ('er_file_2023_10_19_22_03_07.wav', 'Animal'), ('er_file_2023_10_19_22_41_22.wav', 'Raindrop'), ('er_file_2023_10_19_22_41_32.wav', 'Tick'), ('er_file_2023_10_19_22_36_46.wav', 'Clip-clop'), ('er_file_2023_10_19_21_56_37.wav', 'Drip'), ('er_file_2023_10_19_21_54_26.wav', 'Drip'), ('er_file_2023_10_19_21_53_13.wav', 'Rain'), ('er_file_2023_10_19_21_50_56.wav', 'Gurgling'), ('er_file_2023_10_19_22_11_00.wav', 'Drip'), ('er_file_2023_10_19_22_41_19.wav', 'Raindrop'), ('er_file_2023_10_19_21_42_40.wav', 'Caw'), ('er_file_2023_10_19_22_03_01.wav', 'Speech'), ('er_file_2023_10_19_22_21_49.wav', 'Drip'), ('er_file_2023_10_19_22_02_55.wav', 'Burst, pop'), ('er_file_2023_10_19_21_44_39.wav', 'Drip'), ('er_file_2023_10_19_22_02_58.wav', 'Speech'), ('er_file_2023_10_19_22_03_18.wav', 'Gasp'), ('er_file_2023_10_19_22_36_49.wav', 'Clip-clop'), ('er_file_2023_10_19_22_41_14.wav', 'Drip'), ('er_file_2023_10_19_22_37_21.wav', 'Door'), ('er_file_2023_10_19_22_05_50.wav', 'Tick'), ('er_file_2023_10_19_21_50_59.wav', 'Tick'), ('er_file_2023_10_19_21_54_17.wav', 'Fowl'), ('er_file_2023_10_19_22_11_33.wav', 'Tick'), ('er_file_2023_10_19_22_05_46.wav', 'Drip'), ('er_file_2023_10_19_22_48_32.wav', 'Drip'), ('er_file_2023_10_19_22_03_26.wav', 'Animal'), ('er_file_2023_10_19_22_43_06.wav', 'Raindrop'), ('er_file_2023_10_19_22_29_22.wav', 'Raindrop'), ('er_file_2023_10_19_22_03_37.wav', 'Animal'), ('er_file_2023_10_19_21_58_07.wav', 'Vehicle'), ('er_file_2023_10_19_21_53_32.wav', 'Rain'), ('er_file_2023_10_19_21_50_49.wav', 'Tick'), ('er_file_2023_10_19_22_20_29.wav', 'Animal'), ('er_file_2023_10_19_21_42_49.wav', 'Gasp'), ('er_file_2023_10_19_21_58_05.wav', 'Vehicle'), ('er_file_2023_10_19_21_55_51.wav', 'Drip'), ('er_file_2023_10_19_22_45_48.wav', 'Drip'), ('er_file_2023_10_19_21_51_08.wav', 'Thunder'), ('er_file_2023_10_19_22_11_08.wav', 'Drip'), ('er_file_2023_10_19_22_11_20.wav', 'Raindrop'), ('er_file_2023_10_19_21_53_25.wav', 'Raindrop'), ('er_file_2023_10_19_22_27_21.wav', 'Drip'), ('er_file_2023_10_19_22_15_37.wav', 'Drip'), ('er_file_2023_10_19_22_55_03.wav', 'White noise'), ('er_file_2023_10_19_21_53_57.wav', 'Rain'), ('er_file_2023_10_19_22_01_43.wav', 'Animal'), ('er_file_2023_10_19_22_09_31.wav', 'Tick'), ('er_file_2023_10_19_22_48_51.wav', 'Tick'), ('er_file_2023_10_19_22_36_28.wav', 'Speech'), ('er_file_2023_10_19_21_47_21.wav', 'Tick'), ('er_file_2023_10_19_21_50_15.wav', 'Tick'), ('er_file_2023_10_19_21_53_44.wav', 'Raindrop'), ('er_file_2023_10_19_22_48_54.wav', 'Tick'), ('er_file_2023_10_19_22_21_09.wav', 'Tick'), ('er_file_2023_10_19_22_36_10.wav', 'Drip'), ('er_file_2023_10_19_22_10_14.wav', 'Animal'), ('er_file_2023_10_19_22_45_01.wav', 'Tick'), ('er_file_2023_10_19_21_47_18.wav', 'Drip'), ('er_file_2023_10_19_22_37_46.wav', 'Snort'), ('er_file_2023_10_19_21_53_52.wav', 'Thunder'), ('er_file_2023_10_19_22_15_33.wav', 'Speech'), ('er_file_2023_10_20_1_54_41.wav', 'Raindrop'), ('er_file_2023_10_20_1_57_06.wav', 'Raindrop'), ('er_file_2023_10_20_1_47_16.wav', 'Raindrop'), ('er_file_2023_10_20_1_57_03.wav', 'Raindrop'), ('er_file_2023_10_20_1_25_46.wav', 'Fowl'), ('er_file_2023_10_20_2_00_33.wav', 'Liquid'), ('er_file_2023_10_20_2_00_27.wav', 'Raindrop'), ('er_file_2023_10_20_1_46_53.wav', 'Raindrop'), ('er_file_2023_10_20_1_54_53.wav', 'Raindrop'), ('er_file_2023_10_20_1_47_13.wav', 'Raindrop'), ('er_file_2023_10_20_1_29_53.wav', 'Raindrop'), ('er_file_2023_10_20_1_37_45.wav', 'Raindrop'), ('er_file_2023_10_20_1_57_00.wav', 'Raindrop'), ('er_file_2023_10_20_1_34_28.wav', 'Raindrop'), ('er_file_2023_10_20_1_40_18.wav', 'Raindrop'), ('er_file_2023_10_20_1_49_00.wav', 'Raindrop'), ('er_file_2023_10_20_1_19_19.wav', 'Raindrop'), ('er_file_2023_10_20_1_45_28.wav', 'Raindrop'), ('er_file_2023_10_20_1_42_34.wav', 'Drip'), ('er_file_2023_10_20_1_56_41.wav', 'Rain on surface'), ('er_file_2023_10_20_1_10_28.wav', 'Raindrop'), ('er_file_2023_10_20_1_22_59.wav', 'Raindrop'), ('er_file_2023_10_20_1_29_44.wav', 'Rain on surface'), ('er_file_2023_10_20_1_37_37.wav', 'Raindrop'), ('er_file_2023_10_20_1_54_37.wav', 'Raindrop'), ('er_file_2023_10_20_2_03_06.wav', 'Raindrop'), ('er_file_2023_10_20_1_43_06.wav', 'Raindrop'), ('er_file_2023_10_20_1_16_07.wav', 'Raindrop'), ('er_file_2023_10_20_1_14_00.wav', 'Raindrop'), ('er_file_2023_10_20_1_07_40.wav', 'Drip'), ('er_file_2023_10_20_1_46_35.wav', 'Raindrop'), ('er_file_2023_10_20_1_32_39.wav', 'Raindrop'), ('er_file_2023_10_20_1_35_30.wav', 'Liquid'), ('er_file_2023_10_20_1_33_41.wav', 'Raindrop'), ('er_file_2023_10_20_1_21_54.wav', 'Drip'), ('er_file_2023_10_20_1_17_55.wav', 'Raindrop'), ('er_file_2023_10_20_1_25_18.wav', 'Raindrop'), ('er_file_2023_10_20_1_18_10.wav', 'Raindrop'), ('er_file_2023_10_20_1_39_35.wav', 'Raindrop'), ('er_file_2023_10_20_1_33_56.wav', 'Raindrop'), ('er_file_2023_10_20_1_15_46.wav', 'Rain on surface'), ('er_file_2023_10_20_1_46_32.wav', 'Raindrop'), ('er_file_2023_10_20_1_58_16.wav', 'Raindrop'), ('er_file_2023_10_20_1_32_27.wav', 'Raindrop'), ('er_file_2023_10_20_1_30_34.wav', 'Raindrop'), ('er_file_2023_10_20_1_43_31.wav', 'Raindrop'), ('er_file_2023_10_20_1_10_51.wav', 'Raindrop'), ('er_file_2023_10_20_1_10_45.wav', 'Raindrop'), ('er_file_2023_10_20_1_58_01.wav', 'Raindrop'), ('er_file_2023_10_20_1_46_29.wav', 'Raindrop'), ('er_file_2023_10_20_1_48_39.wav', 'Raindrop'), ('er_file_2023_10_20_1_56_05.wav', 'Raindrop'), ('er_file_2023_10_20_1_25_14.wav', 'Drip'), ('er_file_2023_10_20_2_05_45.wav', 'Rain'), ('er_file_2023_10_20_1_59_54.wav', 'Raindrop'), ('er_file_2023_10_20_1_30_21.wav', 'Raindrop'), ('er_file_2023_10_20_1_37_04.wav', 'Raindrop'), ('er_file_2023_10_20_2_06_10.wav', 'Raindrop'), ('er_file_2023_10_20_1_32_20.wav', 'Raindrop'), ('er_file_2023_10_20_1_46_38.wav', 'Raindrop'), ('er_file_2023_10_20_1_35_00.wav', 'Raindrop'), ('er_file_2023_10_20_1_58_05.wav', 'Raindrop'), ('er_file_2023_10_20_1_22_18.wav', 'Raindrop'), ('er_file_2023_10_20_1_43_21.wav', 'Raindrop'), ('er_file_2023_10_20_1_11_03.wav', 'Raindrop'), ('er_file_2023_10_20_2_06_07.wav', 'Clip-clop'), ('er_file_2023_10_20_2_06_13.wav', 'Tick'), ('er_file_2023_10_20_1_10_56.wav', 'Raindrop'), ('er_file_2023_10_20_1_27_17.wav', 'Raindrop'), ('er_file_2023_10_20_1_43_36.wav', 'Raindrop'), ('er_file_2023_10_20_1_24_09.wav', 'Drip'), ('er_file_2023_10_20_1_08_50.wav', 'Raindrop'), ('er_file_2023_10_20_1_47_34.wav', 'Raindrop'), ('er_file_2023_10_20_1_50_10.wav', 'Raindrop'), ('er_file_2023_10_20_1_59_22.wav', 'Raindrop'), ('er_file_2023_10_20_1_15_02.wav', 'Rain on surface'), ('er_file_2023_10_20_2_05_27.wav', 'Raindrop'), ('er_file_2023_10_20_1_26_33.wav', 'Tick'), ('er_file_2023_10_20_2_03_47.wav', 'Water'), ('er_file_2023_10_20_1_32_53.wav', 'Raindrop'), ('er_file_2023_10_20_1_47_37.wav', 'Raindrop'), ('er_file_2023_10_20_1_57_32.wav', 'Rain on surface'), ('er_file_2023_10_20_1_57_36.wav', 'Raindrop'), ('er_file_2023_10_20_1_50_17.wav', 'Raindrop'), ('er_file_2023_10_20_1_49_22.wav', 'Raindrop'), ('er_file_2023_10_20_1_32_43.wav', 'Raindrop'), ('er_file_2023_10_20_1_52_13.wav', 'Raindrop'), ('er_file_2023_10_20_1_55_32.wav', 'Raindrop'), ('er_file_2023_10_20_2_05_37.wav', 'Raindrop'), ('er_file_2023_10_20_1_34_37.wav', 'Raindrop'), ('er_file_2023_10_20_1_18_44.wav', 'Raindrop'), ('er_file_2023_10_20_1_38_21.wav', 'Raindrop'), ('er_file_2023_10_20_2_07_24.wav', 'Raindrop'), ('er_file_2023_10_20_1_19_04.wav', 'Raindrop'), ('er_file_2023_10_20_1_35_49.wav', 'Raindrop'), ('er_file_2023_10_20_1_09_14.wav', 'Raindrop'), ('er_file_2023_10_20_1_40_10.wav', 'Raindrop'), ('er_file_2023_10_20_2_05_08.wav', 'Raindrop'), ('er_file_2023_10_20_1_34_20.wav', 'Raindrop'), ('er_file_2023_10_20_1_57_20.wav', 'Raindrop'), ('er_file_2023_10_19_12_24_10.wav', 'Rumble'), ('er_file_2023_10_19_11_59_24.wav', 'Speech'), ('er_file_2023_10_19_11_28_18.wav', 'Chirp, tweet'), ('er_file_2023_10_19_12_09_34.wav', 'Rumble'), ('er_file_2023_10_19_12_09_08.wav', 'Bird'), ('er_file_2023_10_19_12_19_25.wav', 'Bird'), ('er_file_2023_10_19_11_59_31.wav', 'Sound effect'), ('er_file_2023_10_19_12_23_18.wav', 'Bird'), ('er_file_2023_10_19_12_09_37.wav', 'Rumble'), ('er_file_2023_10_19_12_09_23.wav', 'Vehicle'), ('er_file_2023_10_19_12_00_07.wav', 'Thunder'), ('er_file_2023_10_19_12_23_27.wav', 'Owl'), ('er_file_2023_10_19_12_29_42.wav', 'Eruption'), ('er_file_2023_10_19_12_07_37.wav', 'Tick'), ('er_file_2023_10_19_12_09_26.wav', 'Rumble'), ('er_file_2023_10_19_11_28_37.wav', 'Mouse'), ('er_file_2023_10_19_12_23_22.wav', 'Vehicle'), ('er_file_2023_10_19_12_24_17.wav', 'Speech'), ('er_file_2023_10_19_12_24_03.wav', 'Vehicle'), ('er_file_2023_10_19_12_05_30.wav', 'Door'), ('er_file_2023_10_19_11_59_21.wav', 'Bird'), ('er_file_2023_10_19_12_10_11.wav', 'Rumble'), ('er_file_2023_10_19_12_09_19.wav', 'Speech'), ('er_file_2023_10_19_12_07_20.wav', 'Sliding door'), ('er_file_2023_10_19_12_19_34.wav', 'Speech'), ('er_file_2023_10_19_12_15_20.wav', 'Animal'), ('er_file_2023_10_19_11_59_08.wav', 'Thunder'), ('er_file_2023_10_19_11_29_48.wav', 'Bird'), ('er_file_2023_10_19_12_24_14.wav', 'Speech'), ('er_file_2023_10_19_11_28_53.wav', 'Bird'), ('er_file_2023_10_19_12_09_57.wav', 'Thunder'), ('er_file_2023_10_19_12_19_46.wav', 'Field recording'), ('er_file_2023_10_19_12_29_18.wav', 'Bird'), ('er_file_2023_10_19_12_20_28.wav', 'Speech'), ('er_file_2023_10_19_12_20_14.wav', 'Speech'), ('er_file_2023_10_19_12_29_30.wav', 'Eruption'), ('er_file_2023_10_19_11_41_31.wav', 'Mouse'), ('er_file_2023_10_19_12_09_40.wav', 'Thunder'), ('er_file_2023_10_19_11_24_55.wav', 'Animal'), ('er_file_2023_10_19_11_30_08.wav', 'Thunder'), ('er_file_2023_10_19_11_59_41.wav', 'Rumble'), ('er_file_2023_10_19_11_41_34.wav', 'Bird'), ('er_file_2023_10_19_11_56_05.wav', 'Sliding door'), ('er_file_2023_10_19_12_03_30.wav', 'Bird'), ('er_file_2023_10_19_12_29_34.wav', 'Speech'), ('er_file_2023_10_19_11_29_02.wav', 'Bird'), ('er_file_2023_10_19_11_29_16.wav', 'Bird'), ('er_file_2023_10_19_12_29_36.wav', 'Thunder'), ('er_file_2023_10_19_12_17_46.wav', 'Fowl'), ('er_file_2023_10_19_12_03_33.wav', 'Vehicle'), ('er_file_2023_10_19_11_28_43.wav', 'Bird vocalization, bird call, bird song'), ('er_file_2023_10_19_11_58_27.wav', 'Vehicle'), ('er_file_2023_10_19_12_22_32.wav', 'Cat'), ('er_file_2023_10_19_12_29_13.wav', 'Bird'), ('er_file_2023_10_19_12_23_58.wav', 'Speech'), ('er_file_2023_10_19_11_29_25.wav', 'Bird'), ('er_file_2023_10_19_11_41_38.wav', 'Mouse'), ('er_file_2023_10_19_11_36_59.wav', 'Bird'), ('er_file_2023_10_19_11_25_31.wav', 'Caw'), ('er_file_2023_10_19_12_13_10.wav', 'Tick'), ('er_file_2023_10_19_12_27_29.wav', 'Music'), ('er_file_2023_10_19_12_20_20.wav', 'Bird'), ('er_file_2023_10_19_12_24_44.wav', 'Bird'), ('er_file_2023_10_19_11_53_15.wav', 'Tick'), ('er_file_2023_10_19_11_24_48.wav', 'Speech'), ('er_file_2023_10_19_12_19_48.wav', 'Speech'), ('er_file_2023_10_19_11_39_30.wav', 'Mouse'), ('er_file_2023_10_19_12_20_25.wav', 'Rumble'), ('er_file_2023_10_19_11_33_45.wav', 'Bird'), ('er_file_2023_10_19_12_23_48.wav', 'Speech'), ('er_file_2023_10_19_11_52_43.wav', 'Animal'), ('er_file_2023_10_19_11_30_03.wav', 'Rumble'), ('er_file_2023_10_19_11_29_36.wav', 'Bird'), ('er_file_2023_10_19_11_29_22.wav', 'Bird'), ('er_file_2023_10_19_11_34_14.wav', 'Bird'), ('er_file_2023_10_19_11_24_11.wav', 'Bird'), ('er_file_2023_10_19_11_59_11.wav', 'Rain'), ('er_file_2023_10_19_12_19_39.wav', 'Rumble'), ('er_file_2023_10_19_12_21_01.wav', 'Door'), ('er_file_2023_10_19_11_58_51.wav', 'Vehicle'), ('er_file_2023_10_19_12_09_29.wav', 'Rumble'), ('er_file_2023_10_19_11_42_08.wav', 'Vehicle'), ('er_file_2023_10_19_11_38_01.wav', 'Rustling leaves'), ('er_file_2023_10_19_11_35_41.wav', 'Bird'), ('er_file_2023_10_19_12_10_22.wav', 'Thunder'), ('er_file_2023_10_19_12_04_57.wav', 'Tick'), ('er_file_2023_10_19_12_09_16.wav', 'Bird'), ('er_file_2023_10_19_12_28_33.wav', 'Mouse'), ('er_file_2023_10_19_12_20_53.wav', 'Slam'), ('er_file_2023_10_19_12_09_12.wav', 'Vehicle'), ('er_file_2023_10_19_11_59_02.wav', 'Thunder'), ('er_file_2023_10_19_11_24_02.wav', 'Bird'), ('er_file_2023_10_19_12_05_13.wav', 'Sliding door'), ('er_file_2023_10_19_11_34_07.wav', 'Speech'), ('er_file_2023_10_19_11_29_40.wav', 'Speech'), ('er_file_2023_10_19_11_34_05.wav', 'Bird'), ('er_file_2023_10_19_12_23_29.wav', 'Speech'), ('er_file_2023_10_19_12_24_08.wav', 'Vehicle'), ('er_file_2023_10_19_12_05_05.wav', 'Clip-clop'), ('er_file_2023_10_19_12_19_28.wav', 'Speech'), ('er_file_2023_10_19_14_17_26.wav', 'Heart sounds, heartbeat'), ('er_file_2023_10_19_14_26_12.wav', 'Animal'), ('er_file_2023_10_19_14_24_17.wav', 'Rain'), ('er_file_2023_10_19_14_25_56.wav', 'Animal'), ('er_file_2023_10_19_14_17_33.wav', 'Heart sounds, heartbeat'), ('er_file_2023_10_19_14_17_19.wav', 'Heart sounds, heartbeat'), ('er_file_2023_10_19_14_24_00.wav', 'Crow'), ('er_file_2023_10_19_14_29_41.wav', 'Rain'), ('er_file_2023_10_19_14_18_49.wav', 'Vehicle'), ('er_file_2023_10_19_14_26_04.wav', 'Speech'), ('er_file_2023_10_19_14_26_28.wav', 'Raindrop'), ('er_file_2023_10_19_14_28_05.wav', 'Animal'), ('er_file_2023_10_19_14_20_48.wav', 'Speech'), ('er_file_2023_10_19_14_28_38.wav', 'Vehicle'), ('er_file_2023_10_19_14_26_15.wav', 'Animal'), ('er_file_2023_10_19_14_22_59.wav', 'Crow'), ('er_file_2023_10_19_14_17_37.wav', 'Caw'), ('er_file_2023_10_19_14_25_53.wav', 'Rain on surface'), ('er_file_2023_10_19_14_17_22.wav', 'Music'), ('er_file_2023_10_19_14_19_54.wav', 'Vehicle'), ('er_file_2023_10_19_14_22_15.wav', 'Speech'), ('er_file_2023_10_19_14_25_20.wav', 'Speech'), ('er_file_2023_10_19_14_23_41.wav', 'Speech'), ('er_file_2023_10_19_14_20_39.wav', 'Vehicle'), ('er_file_2023_10_19_14_29_09.wav', 'Rain'), ('er_file_2023_10_19_14_20_05.wav', 'Caw'), ('er_file_2023_10_19_14_27_18.wav', 'Rain on surface'), ('er_file_2023_10_19_14_24_49.wav', 'Speech'), ('er_file_2023_10_19_14_25_09.wav', 'Animal'), ('er_file_2023_10_19_14_17_46.wav', 'Caw'), ('er_file_2023_10_19_14_16_12.wav', 'Tick'), ('er_file_2023_10_19_14_16_06.wav', 'Heart sounds, heartbeat'), ('er_file_2023_10_19_14_20_07.wav', 'Caw'), ('er_file_2023_10_19_14_29_23.wav', 'Rain'), ('er_file_2023_10_19_14_29_37.wav', 'Rain'), ('er_file_2023_10_19_14_27_26.wav', 'Vehicle'), ('er_file_2023_10_19_14_15_56.wav', 'Vehicle'), ('er_file_2023_10_19_14_16_03.wav', 'Heart sounds, heartbeat'), ('er_file_2023_10_19_14_20_02.wav', 'Vehicle'), ('er_file_2023_10_19_14_29_32.wav', 'Raindrop'), ('er_file_2023_10_19_14_27_22.wav', 'Speech'), ('er_file_2023_10_19_14_27_36.wav', 'Crow'), ('er_file_2023_10_19_14_17_40.wav', 'Heart sounds, heartbeat'), ('er_file_2023_10_19_14_19_51.wav', 'Bird'), ('er_file_2023_10_19_14_15_51.wav', 'Speech'), ('er_file_2023_10_19_14_20_28.wav', 'Caw'), ('er_file_2023_10_19_14_16_15.wav', 'Heart sounds, heartbeat'), ('er_file_2023_10_19_14_16_29.wav', 'Tick'), ('er_file_2023_10_19_14_28_58.wav', 'Rain'), ('er_file_2023_10_19_14_21_54.wav', 'Vehicle'), ('er_file_2023_10_19_14_22_39.wav', 'Crow'), ('er_file_2023_10_19_14_25_15.wav', 'Rain'), ('er_file_2023_10_19_14_16_18.wav', 'Heart sounds, heartbeat'), ('er_file_2023_10_19_14_24_41.wav', 'Rain'), ('er_file_2023_10_19_14_29_01.wav', 'Animal'), ('er_file_2023_10_19_14_20_25.wav', 'Speech'), ('er_file_2023_10_19_14_20_19.wav', 'Heart sounds, heartbeat'), ('er_file_2023_10_19_14_29_28.wav', 'Rain'), ('er_file_2023_10_19_14_15_48.wav', 'Speech'), ('er_file_2023_10_19_14_19_48.wav', 'Fowl'), ('er_file_2023_10_19_14_28_42.wav', 'Raindrop'), ('er_file_2023_10_19_14_18_22.wav', 'Caw'), ('er_file_2023_10_19_14_20_32.wav', 'Speech'), ('er_file_2023_10_19_14_29_17.wav', 'Rain'), ('er_file_2023_10_19_14_24_43.wav', 'Rain'), ('er_file_2023_10_19_14_18_37.wav', 'Rumble'), ('er_file_2023_10_19_14_22_26.wav', 'Caw'), ('er_file_2023_10_19_14_25_06.wav', 'Rain'), ('er_file_2023_10_19_14_25_12.wav', 'Animal'), ('er_file_2023_10_19_14_17_49.wav', 'Caw'), ('er_file_2023_10_19_14_22_19.wav', 'Crow'), ('er_file_2023_10_19_14_16_21.wav', 'Heart sounds, heartbeat'), ('er_file_2023_10_19_14_20_35.wav', 'Speech'), ('er_file_2023_10_19_14_15_59.wav', 'Heart sounds, heartbeat'), ('er_file_2023_10_19_14_18_19.wav', 'Music'), ('er_file_2023_10_19_14_18_25.wav', 'Caw'), ('er_file_2023_10_19_14_16_08.wav', 'Heart sounds, heartbeat'), ('er_file_2023_10_19_14_19_59.wav', 'Tick'), ('er_file_2023_10_19_14_18_42.wav', 'Music'), ('er_file_2023_10_19_14_24_37.wav', 'Speech'), ('er_file_2023_10_19_14_17_12.wav', 'Tick'), ('er_file_2023_10_19_14_19_15.wav', 'Vehicle'), ('er_file_2023_10_19_14_26_18.wav', 'Raindrop'), ('er_file_2023_10_19_14_18_55.wav', 'Rumble'), ('er_file_2023_10_19_14_20_45.wav', 'Music'), ('er_file_2023_10_19_14_18_40.wav', 'Music'), ('er_file_2023_10_19_14_19_10.wav', 'Speech'), ('er_file_2023_10_19_14_17_29.wav', 'Caw'), ('er_file_2023_10_19_14_25_58.wav', 'Rain on surface'), ('er_file_2023_10_19_14_28_30.wav', 'Rain'), ('er_file_2023_10_19_14_23_04.wav', 'Animal'), ('er_file_2023_10_19_14_28_25.wav', 'Raindrop'), ('er_file_2023_10_19_14_17_00.wav', 'Heart sounds, heartbeat'), ('er_file_2023_10_19_14_17_16.wav', 'Bird'), ('er_file_2023_10_19_14_23_12.wav', 'Raindrop'), ('er_file_2023_10_19_14_20_42.wav', 'Vehicle'), ('er_file_2023_10_19_14_16_57.wav', 'Heart sounds, heartbeat'), ('er_file_2023_10_19_14_18_46.wav', 'Vehicle'), ('er_file_2023_10_19_14_18_52.wav', 'Rumble'), ('er_file_2023_10_19_14_17_03.wav', 'Speech'), ('er_file_2023_10_19_13_35_22.wav', 'Speech'), ('er_file_2023_10_19_13_23_46.wav', 'Speech'), ('er_file_2023_10_19_13_50_56.wav', 'Vehicle'), ('er_file_2023_10_19_13_22_39.wav', 'Bird'), ('er_file_2023_10_19_13_37_24.wav', 'Thunder'), ('er_file_2023_10_19_13_59_58.wav', 'Bird'), ('er_file_2023_10_19_14_15_34.wav', 'Tick'), ('er_file_2023_10_19_14_15_21.wav', 'Speech'), ('er_file_2023_10_19_13_32_05.wav', 'Vehicle'), ('er_file_2023_10_19_13_39_30.wav', 'Speech'), ('er_file_2023_10_19_14_15_19.wav', 'Vehicle'), ('er_file_2023_10_19_13_53_00.wav', 'Speech'), ('er_file_2023_10_19_13_40_55.wav', 'Animal'), ('er_file_2023_10_19_14_15_30.wav', 'Music'), ('er_file_2023_10_19_13_37_08.wav', 'Bird'), ('er_file_2023_10_19_13_37_20.wav', 'Vehicle'), ('er_file_2023_10_19_13_55_48.wav', 'Vehicle'), ('er_file_2023_10_19_13_35_19.wav', 'Speech'), ('er_file_2023_10_19_13_42_46.wav', 'Bird'), ('er_file_2023_10_19_13_54_22.wav', 'Vehicle'), ('er_file_2023_10_19_14_15_27.wav', 'Tick'), ('er_file_2023_10_19_13_50_47.wav', 'Caw'), ('er_file_2023_10_19_13_50_53.wav', 'Vehicle'), ('er_file_2023_10_19_14_03_57.wav', 'Speech'), ('er_file_2023_10_19_13_36_38.wav', 'Speech'), ('er_file_2023_10_19_13_50_20.wav', 'Vehicle'), ('er_file_2023_10_19_14_15_40.wav', 'Tick'), ('er_file_2023_10_19_13_54_44.wav', 'Vehicle'), ('er_file_2023_10_19_13_44_54.wav', 'Crow'), ('er_file_2023_10_19_13_23_18.wav', 'Eruption'), ('er_file_2023_10_19_14_14_15.wav', 'Animal'), ('er_file_2023_10_19_13_26_14.wav', 'Vehicle'), ('er_file_2023_10_19_13_42_35.wav', 'Caw'), ('er_file_2023_10_19_13_22_58.wav', 'Rumble'), ('er_file_2023_10_19_14_03_19.wav', 'Vehicle'), ('er_file_2023_10_19_13_31_26.wav', 'Vehicle'), ('er_file_2023_10_19_14_03_33.wav', 'Crow'), ('er_file_2023_10_19_13_50_23.wav', 'Vehicle'), ('er_file_2023_10_19_14_03_26.wav', 'Speech'), ('er_file_2023_10_19_13_31_23.wav', 'Vehicle'), ('er_file_2023_10_19_13_44_52.wav', 'Squeak'), ('er_file_2023_10_19_14_14_13.wav', 'Vehicle'), ('er_file_2023_10_19_13_31_20.wav', 'Vehicle'), ('er_file_2023_10_19_14_03_09.wav', 'Tick'), ('er_file_2023_10_19_13_26_04.wav', 'Fowl'), ('er_file_2023_10_19_13_52_08.wav', 'Vehicle'), ('er_file_2023_10_19_13_23_08.wav', 'Rumble'), ('er_file_2023_10_19_13_34_39.wav', 'Speech'), ('er_file_2023_10_19_13_23_21.wav', 'Rumble'), ('er_file_2023_10_19_13_55_00.wav', 'Squeak'), ('er_file_2023_10_19_14_14_10.wav', 'Vehicle'), ('er_file_2023_10_19_13_26_11.wav', 'Animal'), ('er_file_2023_10_19_13_35_45.wav', 'Speech'), ('er_file_2023_10_19_13_35_51.wav', 'Mouse'), ('er_file_2023_10_19_14_03_39.wav', 'Gobble'), ('er_file_2023_10_19_13_35_48.wav', 'Rustling leaves'), ('er_file_2023_10_19_13_50_15.wav', 'Vehicle'), ('er_file_2023_10_19_13_23_05.wav', 'Rumble'), ('er_file_2023_10_19_14_02_44.wav', 'Owl'), ('er_file_2023_10_19_13_52_11.wav', 'Caw'), ('er_file_2023_10_19_14_00_41.wav', 'Speech'), ('er_file_2023_10_19_14_02_47.wav', 'Bird'), ('er_file_2023_10_19_13_22_52.wav', 'Vehicle'), ('er_file_2023_10_19_14_03_03.wav', 'Bird'), ('er_file_2023_10_19_13_22_42.wav', 'Eruption'), ('er_file_2023_10_19_13_52_16.wav', 'Vehicle'), ('er_file_2023_10_19_14_00_47.wav', 'Crow'), ('er_file_2023_10_19_13_28_36.wav', 'Squawk'), ('er_file_2023_10_19_14_10_42.wav', 'Vehicle'), ('er_file_2023_10_19_13_31_15.wav', 'Vehicle'), ('er_file_2023_10_19_13_52_14.wav', 'Vehicle'), ('er_file_2023_10_19_13_36_35.wav', 'Speech'), ('er_file_2023_10_19_14_04_08.wav', 'Vehicle'), ('er_file_2023_10_19_13_22_33.wav', 'Bird'), ('er_file_2023_10_19_14_15_16.wav', 'Speech'), ('er_file_2023_10_19_13_35_16.wav', 'Speech'), ('er_file_2023_10_19_13_36_53.wav', 'Vehicle'), ('er_file_2023_10_19_13_36_47.wav', 'Bird'), ('er_file_2023_10_19_13_22_30.wav', 'Bird'), ('er_file_2023_10_19_13_42_49.wav', 'Mouse'), ('er_file_2023_10_19_14_00_34.wav', 'Animal'), ('er_file_2023_10_19_13_55_51.wav', 'Vehicle'), ('er_file_2023_10_19_13_55_45.wav', 'Vehicle'), ('er_file_2023_10_19_13_37_11.wav', 'Thunder'), ('er_file_2023_10_19_13_27_14.wav', 'Sliding door'), ('er_file_2023_10_19_13_37_04.wav', 'Vehicle'), ('er_file_2023_10_19_14_00_31.wav', 'Heart sounds, heartbeat'), ('er_file_2023_10_19_13_55_54.wav', 'Vehicle'), ('er_file_2023_10_19_13_52_49.wav', 'Bird'), ('er_file_2023_10_19_13_37_00.wav', 'Vehicle'), ('er_file_2023_10_19_14_11_48.wav', 'Owl'), ('er_file_2023_10_19_14_06_51.wav', 'Caw'), ('er_file_2023_10_19_13_57_50.wav', 'Squeak'), ('er_file_2023_10_19_14_02_21.wav', 'Speech'), ('er_file_2023_10_19_13_36_57.wav', 'Vehicle'), ('er_file_2023_10_19_13_55_43.wav', 'Vehicle'), ('er_file_2023_10_19_14_15_13.wav', 'Fowl'), ('er_file_2023_10_19_13_47_56.wav', 'Speech'), ('er_file_2023_10_19_13_53_23.wav', 'Bird'), ('er_file_2023_10_19_13_37_16.wav', 'Thunder'), ('er_file_2023_10_19_12_33_08.wav', 'Bird'), ('er_file_2023_10_19_12_29_50.wav', 'Rumble'), ('er_file_2023_10_19_12_31_31.wav', 'Squeak'), ('er_file_2023_10_19_12_58_50.wav', 'Vehicle'), ('er_file_2023_10_19_12_31_18.wav', 'Rustling leaves'), ('er_file_2023_10_19_12_47_05.wav', 'Speech'), ('er_file_2023_10_19_12_47_11.wav', 'Speech'), ('er_file_2023_10_19_13_16_15.wav', 'Speech'), ('er_file_2023_10_19_13_16_01.wav', 'Rain'), ('er_file_2023_10_19_13_08_29.wav', 'Bird'), ('er_file_2023_10_19_13_15_45.wav', 'Bird'), ('er_file_2023_10_19_12_39_53.wav', 'Bird'), ('er_file_2023_10_19_12_44_53.wav', 'Heart sounds, heartbeat'), ('er_file_2023_10_19_13_15_41.wav', 'Bird'), ('er_file_2023_10_19_13_16_05.wav', 'Rain'), ('er_file_2023_10_19_13_07_40.wav', 'Raindrop'), ('er_file_2023_10_19_12_45_38.wav', 'Crow'), ('er_file_2023_10_19_12_32_59.wav', 'Bird'), ('er_file_2023_10_19_13_15_57.wav', 'Hoot'), ('er_file_2023_10_19_12_29_54.wav', 'Vehicle'), ('er_file_2023_10_19_13_21_34.wav', 'Crow'), ('er_file_2023_10_19_13_07_24.wav', 'Thunder'), ('er_file_2023_10_19_13_05_09.wav', 'Vehicle'), ('er_file_2023_10_19_12_48_36.wav', 'Animal'), ('er_file_2023_10_19_13_17_36.wav', 'Crow'), ('er_file_2023_10_19_13_21_37.wav', 'Speech'), ('er_file_2023_10_19_12_51_14.wav', 'Bird'), ('er_file_2023_10_19_13_07_32.wav', 'Rumble'), ('er_file_2023_10_19_12_39_30.wav', 'Sneeze'), ('er_file_2023_10_19_13_21_32.wav', 'Squawk'), ('er_file_2023_10_19_12_51_05.wav', 'Bird'), ('er_file_2023_10_19_12_48_19.wav', 'Vehicle'), ('er_file_2023_10_19_13_21_27.wav', 'Speech'), ('er_file_2023_10_19_12_50_50.wav', 'Bird vocalization, bird call, bird song'), ('er_file_2023_10_19_13_02_05.wav', 'Heart sounds, heartbeat'), ('er_file_2023_10_19_13_06_49.wav', 'Vehicle'), ('er_file_2023_10_19_12_48_33.wav', 'Vehicle'), ('er_file_2023_10_19_13_21_18.wav', 'Animal'), ('er_file_2023_10_19_13_21_24.wav', 'Speech'), ('er_file_2023_10_19_12_37_06.wav', 'Animal'), ('er_file_2023_10_19_13_21_01.wav', 'Vehicle'), ('er_file_2023_10_19_12_54_06.wav', 'Vehicle'), ('er_file_2023_10_19_12_56_03.wav', 'Animal'), ('er_file_2023_10_19_12_46_13.wav', 'Bird'), ('er_file_2023_10_19_12_48_16.wav', 'Animal'), ('er_file_2023_10_19_13_09_29.wav', 'Animal'), ('er_file_2023_10_19_12_53_21.wav', 'Vehicle'), ('er_file_2023_10_19_13_05_12.wav', 'Sliding door'), ('er_file_2023_10_19_12_35_11.wav', 'Mouse'), ('er_file_2023_10_19_12_48_10.wav', 'Vehicle'), ('er_file_2023_10_19_12_55_41.wav', 'Animal'), ('er_file_2023_10_19_13_07_02.wav', 'Rain'), ('er_file_2023_10_19_12_50_59.wav', 'Bird'), ('er_file_2023_10_19_13_10_18.wav', 'Raindrop'), ('er_file_2023_10_19_12_54_17.wav', 'Rustling leaves'), ('er_file_2023_10_19_13_07_14.wav', 'Rain'), ('er_file_2023_10_19_12_55_43.wav', 'Fowl'), ('er_file_2023_10_19_12_48_07.wav', 'Bird'), ('er_file_2023_10_19_12_48_13.wav', 'Animal'), ('er_file_2023_10_19_13_04_50.wav', 'Vehicle'), ('er_file_2023_10_19_12_59_25.wav', 'Fowl'), ('er_file_2023_10_19_12_33_15.wav', 'Caw'), ('er_file_2023_10_19_12_33_01.wav', 'Animal'), ('er_file_2023_10_19_13_00_53.wav', 'Caw'), ('er_file_2023_10_19_13_00_47.wav', 'Mouse'), ('er_file_2023_10_19_12_36_19.wav', 'Vehicle'), ('er_file_2023_10_19_13_01_13.wav', 'Caw'), ('er_file_2023_10_19_13_01_06.wav', 'Crow'), ('er_file_2023_10_19_13_11_03.wav', 'Bleat'), ('er_file_2023_10_19_12_53_45.wav', 'Speech'), ('er_file_2023_10_19_12_32_42.wav', 'Bird'), ('er_file_2023_10_19_13_12_50.wav', 'Bird'), ('er_file_2023_10_19_13_20_34.wav', 'Bird'), ('er_file_2023_10_19_12_33_17.wav', 'Bird'), ('er_file_2023_10_19_13_22_21.wav', 'Caw'), ('er_file_2023_10_19_12_50_07.wav', 'Chirp, tweet'), ('er_file_2023_10_19_13_07_48.wav', 'Vehicle'), ('er_file_2023_10_19_12_47_37.wav', 'Animal'), ('er_file_2023_10_19_12_31_16.wav', 'Heart sounds, heartbeat'), ('er_file_2023_10_19_12_51_53.wav', 'Chirp, tweet'), ('er_file_2023_10_19_12_51_47.wav', 'Bird vocalization, bird call, bird song'), ('er_file_2023_10_19_12_32_53.wav', 'Animal'), ('er_file_2023_10_19_12_32_47.wav', 'Bird'), ('er_file_2023_10_19_13_15_48.wav', 'Tick'), ('er_file_2023_10_19_13_16_24.wav', 'Bird'), ('er_file_2023_10_19_12_42_06.wav', 'Sneeze'), ('er_file_2023_10_19_13_00_40.wav', 'Bird'), ('er_file_2023_10_19_12_50_04.wav', 'Bird'), ('er_file_2023_10_19_12_43_44.wav', 'Chink, clink'), ('er_file_2023_10_19_12_33_10.wav', 'Bird'), ('er_file_2023_10_19_12_33_04.wav', 'Caw'), ('er_file_2023_10_19_12_47_20.wav', 'Speech'), ('er_file_2023_10_19_13_11_07.wav', 'Bird'), ('er_file_2023_10_19_13_18_23.wav', 'Chirp, tweet'), ('er_file_2023_10_19_13_16_32.wav', 'Bird'), ('er_file_2023_10_19_12_32_50.wav', 'Bird'), ('er_file_2023_10_19_12_45_18.wav', 'Vehicle'), ('er_file_2023_10_19_13_00_43.wav', 'Bird'), ('er_file_2023_10_19_12_50_11.wav', 'Bird'), ('er_file_2023_10_19_13_22_23.wav', 'Speech'), ('er_file_2023_10_19_19_33_18.wav', 'Sound effect'), ('er_file_2023_10_19_18_46_36.wav', 'Heart sounds, heartbeat'), ('er_file_2023_10_19_19_47_15.wav', 'Eruption'), ('er_file_2023_10_19_19_42_31.wav', 'Thunder'), ('er_file_2023_10_19_18_39_33.wav', 'Vehicle'), ('er_file_2023_10_19_18_39_25.wav', 'Thunder'), ('er_file_2023_10_19_20_04_07.wav', 'Typing'), ('er_file_2023_10_19_19_15_22.wav', 'Tick'), ('er_file_2023_10_19_20_07_47.wav', 'Vehicle'), ('er_file_2023_10_19_20_07_53.wav', 'Fowl'), ('er_file_2023_10_19_19_57_17.wav', 'Vehicle'), ('er_file_2023_10_19_19_47_06.wav', 'Thunder'), ('er_file_2023_10_19_19_46_47.wav', 'Bird'), ('er_file_2023_10_19_20_07_50.wav', 'Tick'), ('er_file_2023_10_19_20_14_38.wav', 'Door'), ('er_file_2023_10_19_19_57_14.wav', 'White noise'), ('er_file_2023_10_19_19_15_25.wav', 'Drip'), ('er_file_2023_10_19_18_56_22.wav', 'Chink, clink'), ('er_file_2023_10_19_19_46_44.wav', 'Vehicle'), ('er_file_2023_10_19_19_25_50.wav', 'Burst, pop'), ('er_file_2023_10_19_18_47_28.wav', 'Caw'), ('er_file_2023_10_19_19_27_32.wav', 'Firecracker'), ('er_file_2023_10_19_19_33_47.wav', 'Fowl'), ('er_file_2023_10_19_18_42_25.wav', 'Vehicle'), ('er_file_2023_10_19_19_32_12.wav', 'Vehicle'), ('er_file_2023_10_19_18_39_52.wav', 'Rumble'), ('er_file_2023_10_19_18_57_12.wav', 'Music'), ('er_file_2023_10_19_19_55_48.wav', 'Vehicle'), ('er_file_2023_10_19_19_08_39.wav', 'Drip'), ('er_file_2023_10_19_19_50_51.wav', 'Vehicle'), ('er_file_2023_10_19_19_09_50.wav', 'Drip'), ('er_file_2023_10_19_19_00_48.wav', 'Raindrop'), ('er_file_2023_10_19_20_14_48.wav', 'Door'), ('er_file_2023_10_19_19_26_58.wav', 'Burst, pop'), ('er_file_2023_10_19_19_03_35.wav', 'Drip'), ('er_file_2023_10_19_20_14_58.wav', 'Door'), ('er_file_2023_10_19_20_12_05.wav', 'Tick-tock'), ('er_file_2023_10_19_19_15_51.wav', 'Drip'), ('er_file_2023_10_19_19_00_59.wav', 'Whistle'), ('er_file_2023_10_19_19_31_51.wav', 'Sliding door'), ('er_file_2023_10_19_19_25_32.wav', 'Burst, pop'), ('er_file_2023_10_19_19_56_37.wav', 'Vehicle'), ('er_file_2023_10_19_19_04_17.wav', 'Drip'), ('er_file_2023_10_19_18_38_28.wav', 'Thunder'), ('er_file_2023_10_19_19_18_12.wav', 'Caw'), ('er_file_2023_10_19_18_56_41.wav', 'Speech'), ('er_file_2023_10_19_19_23_52.wav', 'Artillery fire'), ('er_file_2023_10_19_20_19_03.wav', 'Tick'), ('er_file_2023_10_19_18_47_21.wav', 'Caw'), ('er_file_2023_10_19_20_08_46.wav', 'Bird'), ('er_file_2023_10_19_19_12_43.wav', 'Rain'), ('er_file_2023_10_19_19_55_43.wav', 'Vehicle'), ('er_file_2023_10_19_18_57_31.wav', 'Door'), ('er_file_2023_10_19_19_25_01.wav', 'Whip'), ('er_file_2023_10_19_19_32_19.wav', 'Tick'), ('er_file_2023_10_19_19_41_08.wav', 'Door'), ('er_file_2023_10_19_19_27_10.wav', 'Tick-tock'), ('er_file_2023_10_19_20_15_29.wav', 'Door'), ('er_file_2023_10_19_20_08_50.wav', 'Tick'), ('er_file_2023_10_19_20_02_25.wav', 'Door'), ('er_file_2023_10_19_19_13_01.wav', 'Gurgling'), ('er_file_2023_10_19_20_14_55.wav', 'Door'), ('er_file_2023_10_19_20_07_01.wav', 'Fowl'), ('er_file_2023_10_19_20_14_45.wav', 'Clip-clop'), ('er_file_2023_10_19_20_13_58.wav', 'Tick'), ('er_file_2023_10_19_20_14_51.wav', 'Door'), ('er_file_2023_10_19_19_41_25.wav', 'Clip-clop'), ('er_file_2023_10_19_19_24_44.wav', 'Drip'), ('er_file_2023_10_19_19_01_39.wav', 'Burst, pop'), ('er_file_2023_10_19_19_40_58.wav', 'Tick'), ('er_file_2023_10_19_18_53_53.wav', 'Mouse'), ('er_file_2023_10_19_20_09_15.wav', 'Vehicle'), ('er_file_2023_10_19_19_56_00.wav', 'Vehicle'), ('er_file_2023_10_19_20_10_34.wav', 'Raindrop'), ('er_file_2023_10_19_20_19_06.wav', 'Vehicle'), ('er_file_2023_10_19_18_39_49.wav', 'Crow'), ('er_file_2023_10_19_19_10_43.wav', 'Vehicle'), ('er_file_2023_10_19_19_41_33.wav', 'Door'), ('er_file_2023_10_19_18_59_19.wav', 'Speech'), ('er_file_2023_10_19_20_10_23.wav', 'Tick'), ('er_file_2023_10_19_20_03_10.wav', 'Door'), ('er_file_2023_10_19_19_32_45.wav', 'Vehicle'), ('er_file_2023_10_19_19_23_28.wav', 'Bird'), ('er_file_2023_10_19_19_47_35.wav', 'Thunder'), ('er_file_2023_10_19_19_15_29.wav', 'Tick-tock'), ('er_file_2023_10_19_20_02_51.wav', 'Door'), ('er_file_2023_10_19_19_32_50.wav', 'Drip'), ('er_file_2023_10_19_19_26_19.wav', 'Burst, pop'), ('er_file_2023_10_19_19_42_07.wav', 'Door'), ('er_file_2023_10_19_20_10_56.wav', 'Drip'), ('er_file_2023_10_19_19_24_27.wav', 'Burst, pop'), ('er_file_2023_10_19_19_02_23.wav', 'Explosion'), ('er_file_2023_10_19_18_58_39.wav', 'Tick-tock'), ('er_file_2023_10_19_18_38_40.wav', 'Vehicle'), ('er_file_2023_10_19_19_32_42.wav', 'Vehicle'), ('er_file_2023_10_19_19_07_04.wav', 'Drip'), ('er_file_2023_10_19_19_02_20.wav', 'Burst, pop'), ('er_file_2023_10_19_18_56_16.wav', 'Speech'), ('er_file_2023_10_19_19_33_29.wav', 'Animal'), ('er_file_2023_10_19_19_41_50.wav', 'Door'), ('er_file_2023_10_20_2_20_44.wav', 'Raindrop'), ('er_file_2023_10_20_2_26_31.wav', 'Raindrop'), ('er_file_2023_10_20_2_38_31.wav', 'Raindrop'), ('er_file_2023_10_20_2_17_05.wav', 'Rain on surface'), ('er_file_2023_10_20_2_23_28.wav', 'Raindrop'), ('er_file_2023_10_20_2_24_21.wav', 'Raindrop'), ('er_file_2023_10_20_2_16_52.wav', 'Raindrop'), ('er_file_2023_10_20_2_32_47.wav', 'Raindrop'), ('er_file_2023_10_20_2_23_13.wav', 'Raindrop'), ('er_file_2023_10_20_2_26_37.wav', 'Raindrop'), ('er_file_2023_10_20_2_38_22.wav', 'Raindrop'), ('er_file_2023_10_20_2_40_12.wav', 'Raindrop'), ('er_file_2023_10_20_2_12_26.wav', 'Rain on surface'), ('er_file_2023_10_20_2_34_08.wav', 'Raindrop'), ('er_file_2023_10_20_2_32_55.wav', 'Raindrop'), ('er_file_2023_10_20_2_38_08.wav', 'Raindrop'), ('er_file_2023_10_20_2_42_15.wav', 'Raindrop'), ('er_file_2023_10_20_2_28_18.wav', 'Raindrop'), ('er_file_2023_10_20_2_23_05.wav', 'Raindrop'), ('er_file_2023_10_20_2_33_00.wav', 'Raindrop'), ('er_file_2023_10_20_2_30_36.wav', 'Raindrop'), ('er_file_2023_10_20_2_37_03.wav', 'Raindrop'), ('er_file_2023_10_20_2_16_26.wav', 'Rain on surface'), ('er_file_2023_10_20_2_38_53.wav', 'Raindrop'), ('er_file_2023_10_20_2_38_47.wav', 'Raindrop'), ('er_file_2023_10_20_2_28_42.wav', 'Raindrop'), ('er_file_2023_10_20_2_43_32.wav', 'Raindrop'), ('er_file_2023_10_20_2_34_53.wav', 'Rain on surface'), ('er_file_2023_10_20_2_13_01.wav', 'Raindrop'), ('er_file_2023_10_20_2_09_59.wav', 'Raindrop'), ('er_file_2023_10_20_2_38_44.wav', 'Bicycle'), ('er_file_2023_10_20_2_38_50.wav', 'Raindrop'), ('er_file_2023_10_20_2_28_55.wav', 'Raindrop'), ('er_file_2023_10_20_2_15_59.wav', 'Rain on surface'), ('er_file_2023_10_20_2_24_51.wav', 'Rain on surface'), ('er_file_2023_10_20_2_16_20.wav', 'Rain on surface'), ('er_file_2023_10_20_2_32_09.wav', 'Raindrop'), ('er_file_2023_10_20_2_41_18.wav', 'Rain on surface'), ('er_file_2023_10_20_2_42_48.wav', 'Rain on surface'), ('er_file_2023_10_20_2_36_50.wav', 'Raindrop'), ('er_file_2023_10_20_2_35_15.wav', 'Raindrop'), ('er_file_2023_10_20_2_28_46.wav', 'Raindrop'), ('er_file_2023_10_20_2_32_23.wav', 'Raindrop'), ('er_file_2023_10_20_2_18_33.wav', 'Rain on surface'), ('er_file_2023_10_20_2_17_46.wav', 'Raindrop'), ('er_file_2023_10_20_2_23_56.wav', 'Raindrop'), ('er_file_2023_10_20_2_08_06.wav', 'Raindrop'), ('er_file_2023_10_20_2_27_18.wav', 'Raindrop'), ('er_file_2023_10_20_2_40_54.wav', 'Raindrop'), ('er_file_2023_10_20_2_08_10.wav', 'Oink'), ('er_file_2023_10_20_2_39_24.wav', 'Raindrop'), ('er_file_2023_10_20_2_10_58.wav', 'Raindrop'), ('er_file_2023_10_20_2_39_21.wav', 'Raindrop'), ('er_file_2023_10_20_2_18_38.wav', 'Raindrop'), ('er_file_2023_10_20_2_35_35.wav', 'Rain on surface'), ('er_file_2023_10_20_2_40_50.wav', 'Raindrop'), ('er_file_2023_10_20_2_33_57.wav', 'Raindrop'), ('er_file_2023_10_20_2_17_56.wav', 'Raindrop'), ('er_file_2023_10_20_2_34_10.wav', 'Raindrop'), ('er_file_2023_10_20_2_28_15.wav', 'Raindrop'), ('er_file_2023_10_20_2_10_39.wav', 'Raindrop'), ('er_file_2023_10_20_2_36_28.wav', 'Raindrop'), ('er_file_2023_10_20_2_44_51.wav', 'Raindrop'), ('er_file_2023_10_20_2_23_21.wav', 'Raindrop'), ('er_file_2023_10_20_2_15_20.wav', 'Rain on surface'), ('er_file_2023_10_20_2_34_05.wav', 'Raindrop'), ('er_file_2023_10_20_2_26_13.wav', 'Raindrop'), ('er_file_2023_10_20_2_45_06.wav', 'Raindrop'), ('er_file_2023_10_20_2_21_33.wav', 'Raindrop'), ('er_file_2023_10_20_2_26_06.wav', 'Rain on surface'), ('er_file_2023_10_20_2_12_02.wav', 'Raindrop'), ('er_file_2023_10_20_2_37_47.wav', 'Raindrop'), ('er_file_2023_10_20_2_35_57.wav', 'Raindrop'), ('er_file_2023_10_20_2_27_43.wav', 'Raindrop'), ('er_file_2023_10_20_2_37_44.wav', 'Raindrop'), ('er_file_2023_10_20_2_16_49.wav', 'Rain on surface'), ('er_file_2023_10_20_2_09_35.wav', 'Drip'), ('er_file_2023_10_20_2_38_15.wav', 'Raindrop'), ('er_file_2023_10_20_2_10_14.wav', 'Drip'), ('er_file_2023_10_20_2_42_34.wav', 'Raindrop'), ('er_file_2023_10_20_2_09_20.wav', 'Drip'), ('er_file_2023_10_20_2_39_40.wav', 'Raindrop'), ('er_file_2023_10_20_2_40_24.wav', 'Raindrop'), ('er_file_2023_10_19_20_19_41.wav', 'Tick-tock'), ('er_file_2023_10_19_21_42_26.wav', 'Gasp'), ('er_file_2023_10_19_21_10_06.wav', 'Gasp'), ('er_file_2023_10_19_20_37_20.wav', 'Burst, pop'), ('er_file_2023_10_19_21_10_13.wav', 'Animal'), ('er_file_2023_10_19_20_35_19.wav', 'Burst, pop'), ('er_file_2023_10_19_21_24_17.wav', 'Drip'), ('er_file_2023_10_19_20_46_22.wav', 'Tick'), ('er_file_2023_10_19_20_30_17.wav', 'Tick'), ('er_file_2023_10_19_21_26_11.wav', 'Ice cream truck, ice cream van'), ('er_file_2023_10_19_21_09_25.wav', 'Gasp'), ('er_file_2023_10_19_21_09_31.wav', 'Animal'), ('er_file_2023_10_19_21_42_18.wav', 'Gasp'), ('er_file_2023_10_19_21_42_30.wav', 'Gasp'), ('er_file_2023_10_19_20_46_33.wav', 'Explosion'), ('er_file_2023_10_19_21_09_35.wav', 'Animal'), ('er_file_2023_10_19_21_10_01.wav', 'Bow-wow'), ('er_file_2023_10_19_21_38_17.wav', 'Burst, pop'), ('er_file_2023_10_19_20_46_19.wav', 'Tick'), ('er_file_2023_10_19_20_45_48.wav', 'Burst, pop'), ('er_file_2023_10_19_21_37_09.wav', 'Drip'), ('er_file_2023_10_19_21_29_21.wav', 'Tick'), ('er_file_2023_10_19_21_09_50.wav', 'Gasp'), ('er_file_2023_10_19_20_49_13.wav', 'Vehicle'), ('er_file_2023_10_19_21_41_14.wav', 'Drip'), ('er_file_2023_10_19_21_32_38.wav', 'Raindrop'), ('er_file_2023_10_19_21_09_45.wav', 'Gasp'), ('er_file_2023_10_19_21_27_19.wav', 'Siren'), ('er_file_2023_10_19_21_39_25.wav', 'Tick'), ('er_file_2023_10_19_20_19_09.wav', 'Vehicle'), ('er_file_2023_10_19_20_39_44.wav', 'Drip'), ('er_file_2023_10_19_20_23_09.wav', 'Tick'), ('er_file_2023_10_19_21_01_26.wav', 'Speech'), ('er_file_2023_10_19_20_28_38.wav', 'Raindrop'), ('er_file_2023_10_19_20_59_04.wav', 'Music'), ('er_file_2023_10_19_20_57_15.wav', 'Burst, pop'), ('er_file_2023_10_19_21_31_46.wav', 'Vehicle'), ('er_file_2023_10_19_21_07_47.wav', 'Tick'), ('er_file_2023_10_19_21_09_42.wav', 'Gasp'), ('er_file_2023_10_19_20_33_21.wav', 'Drip'), ('er_file_2023_10_19_21_14_12.wav', 'Drip'), ('er_file_2023_10_19_20_50_21.wav', 'Drip'), ('er_file_2023_10_19_21_40_47.wav', 'Drip'), ('er_file_2023_10_19_21_11_20.wav', 'Tick'), ('er_file_2023_10_19_21_23_51.wav', 'Rustling leaves'), ('er_file_2023_10_19_20_59_07.wav', 'Music'), ('er_file_2023_10_19_20_49_03.wav', 'Drip'), ('er_file_2023_10_19_20_28_06.wav', 'Fowl'), ('er_file_2023_10_19_21_20_29.wav', 'Animal'), ('er_file_2023_10_19_21_27_05.wav', 'Ambulance (siren)'), ('er_file_2023_10_19_21_00_41.wav', 'Tick-tock'), ('er_file_2023_10_19_21_10_45.wav', 'Drip'), ('er_file_2023_10_19_20_31_29.wav', 'Drip'), ('er_file_2023_10_19_21_41_23.wav', 'Tick'), ('er_file_2023_10_19_21_13_03.wav', 'Sliding door'), ('er_file_2023_10_19_21_41_37.wav', 'Fowl'), ('er_file_2023_10_19_21_25_02.wav', 'Tick'), ('er_file_2023_10_19_21_36_56.wav', 'Inside, small room'), ('er_file_2023_10_19_20_50_39.wav', 'Finger snapping'), ('er_file_2023_10_19_20_28_35.wav', 'Drip'), ('er_file_2023_10_19_21_18_22.wav', 'Crow'), ('er_file_2023_10_19_21_37_06.wav', 'Tick'), ('er_file_2023_10_19_21_30_27.wav', 'Fowl'), ('er_file_2023_10_19_21_10_42.wav', 'Animal'), ('er_file_2023_10_19_21_36_52.wav', 'Fowl'), ('er_file_2023_10_19_21_41_33.wav', 'Drip'), ('er_file_2023_10_19_21_00_47.wav', 'Drip'), ('er_file_2023_10_19_20_49_09.wav', 'Tick'), ('er_file_2023_10_19_20_23_05.wav', 'Tick'), ('er_file_2023_10_19_20_24_30.wav', 'Drip'), ('er_file_2023_10_19_20_19_12.wav', 'Tick'), ('er_file_2023_10_19_21_09_48.wav', 'Bow-wow'), ('er_file_2023_10_19_21_41_30.wav', 'Tick'), ('er_file_2023_10_19_21_00_51.wav', 'Fowl'), ('er_file_2023_10_19_21_29_10.wav', 'Animal'), ('er_file_2023_10_19_21_27_15.wav', 'Emergency vehicle'), ('er_file_2023_10_19_21_26_26.wav', 'Ice cream truck, ice cream van'), ('er_file_2023_10_19_20_49_44.wav', 'Fowl'), ('er_file_2023_10_19_20_49_50.wav', 'Tick'), ('er_file_2023_10_19_21_17_07.wav', 'Fowl'), ('er_file_2023_10_19_21_10_26.wav', 'Animal'), ('er_file_2023_10_19_21_10_32.wav', 'Animal'), ('er_file_2023_10_19_21_12_23.wav', 'Drip'), ('er_file_2023_10_19_21_42_10.wav', 'Speech'), ('er_file_2023_10_19_21_10_18.wav', 'Bow-wow'), ('er_file_2023_10_19_21_26_19.wav', 'Emergency vehicle'), ('er_file_2023_10_19_21_24_21.wav', 'Drip'), ('er_file_2023_10_19_20_38_43.wav', 'Explosion'), ('er_file_2023_10_19_21_42_15.wav', 'Speech'), ('er_file_2023_10_19_21_09_28.wav', 'Gasp'), ('er_file_2023_10_19_21_41_50.wav', 'Raindrop'), ('er_file_2023_10_19_21_07_38.wav', 'Speech'), ('er_file_2023_10_19_21_04_55.wav', 'Slam'), ('er_file_2023_10_19_21_24_24.wav', 'Tick'), ('er_file_2023_10_19_21_42_02.wav', 'Sliding door'), ('er_file_2023_10_19_20_20_08.wav', 'Drip'), ('er_file_2023_10_19_21_26_22.wav', 'Ambulance (siren)'), ('er_file_2023_10_19_20_55_44.wav', 'Drip'), ('er_file_2023_10_19_20_41_25.wav', 'Drip'), ('er_file_2023_10_19_21_24_27.wav', 'Drip')]\n"
     ]
    },
    {
     "name": "stderr",
     "output_type": "stream",
     "text": [
      "\n"
     ]
    }
   ],
   "source": [
    "test_folder = 'garden_19102023/'\n",
    "res = analyze_folders(test_folder)\n",
    "print(res)"
   ]
  },
  {
   "cell_type": "code",
   "execution_count": 111,
   "metadata": {},
   "outputs": [
    {
     "data": {
      "text/plain": [
       "'er_file_2023_10_19_16_55_54.wav'"
      ]
     },
     "execution_count": 111,
     "metadata": {},
     "output_type": "execute_result"
    }
   ],
   "source": [
    "res[0][0]    "
   ]
  },
  {
   "cell_type": "code",
   "execution_count": 112,
   "metadata": {},
   "outputs": [
    {
     "data": {
      "text/plain": [
       "'garden_19102023/160/er_file_2023_10_19_9_38_33.wav'"
      ]
     },
     "execution_count": 112,
     "metadata": {},
     "output_type": "execute_result"
    }
   ],
   "source": [
    "f = pd.read_excel(\"metadata/garden_19102023_metadata_birdnet_labeled_mit_ast.xlsx\")\n",
    "#f.loc[f['filename'] == res[0][0], 'MIT_AST_label'] = res[0][1]\n",
    "f['filename'][1]"
   ]
  },
  {
   "cell_type": "code",
   "execution_count": 109,
   "metadata": {},
   "outputs": [
    {
     "data": {
      "text/html": [
       "<div>\n",
       "<style scoped>\n",
       "    .dataframe tbody tr th:only-of-type {\n",
       "        vertical-align: middle;\n",
       "    }\n",
       "\n",
       "    .dataframe tbody tr th {\n",
       "        vertical-align: top;\n",
       "    }\n",
       "\n",
       "    .dataframe thead th {\n",
       "        text-align: right;\n",
       "    }\n",
       "</style>\n",
       "<table border=\"1\" class=\"dataframe\">\n",
       "  <thead>\n",
       "    <tr style=\"text-align: right;\">\n",
       "      <th></th>\n",
       "      <th>Unnamed: 0.2</th>\n",
       "      <th>Unnamed: 0.1</th>\n",
       "      <th>Unnamed: 0</th>\n",
       "      <th>sessionId</th>\n",
       "      <th>time</th>\n",
       "      <th>filename</th>\n",
       "      <th>th1</th>\n",
       "      <th>th1_value</th>\n",
       "      <th>th2</th>\n",
       "      <th>th2_value</th>\n",
       "      <th>...</th>\n",
       "      <th>windspeedAvg</th>\n",
       "      <th>tempAve</th>\n",
       "      <th>humidityAvg</th>\n",
       "      <th>winddirAvg</th>\n",
       "      <th>uvHigh</th>\n",
       "      <th>solarRadiationHigh</th>\n",
       "      <th>lon</th>\n",
       "      <th>lat</th>\n",
       "      <th>label</th>\n",
       "      <th>MIT_AST_label</th>\n",
       "    </tr>\n",
       "  </thead>\n",
       "  <tbody>\n",
       "  </tbody>\n",
       "</table>\n",
       "<p>0 rows × 28 columns</p>\n",
       "</div>"
      ],
      "text/plain": [
       "Empty DataFrame\n",
       "Columns: [Unnamed: 0.2, Unnamed: 0.1, Unnamed: 0, sessionId, time, filename, th1, th1_value, th2, th2_value, th3, th3_value, wudate, datetime, precipRate, pressureMax, dewptAvg, windgustHigh, windspeedAvg, tempAve, humidityAvg, winddirAvg, uvHigh, solarRadiationHigh, lon, lat, label, MIT_AST_label]\n",
       "Index: []\n",
       "\n",
       "[0 rows x 28 columns]"
      ]
     },
     "execution_count": 109,
     "metadata": {},
     "output_type": "execute_result"
    }
   ],
   "source": [
    "f[f['MIT_AST_label'].notnull()].head()"
   ]
  },
  {
   "cell_type": "code",
   "execution_count": 99,
   "metadata": {},
   "outputs": [
    {
     "data": {
      "text/html": [
       "<div>\n",
       "<style scoped>\n",
       "    .dataframe tbody tr th:only-of-type {\n",
       "        vertical-align: middle;\n",
       "    }\n",
       "\n",
       "    .dataframe tbody tr th {\n",
       "        vertical-align: top;\n",
       "    }\n",
       "\n",
       "    .dataframe thead th {\n",
       "        text-align: right;\n",
       "    }\n",
       "</style>\n",
       "<table border=\"1\" class=\"dataframe\">\n",
       "  <thead>\n",
       "    <tr style=\"text-align: right;\">\n",
       "      <th></th>\n",
       "      <th>filename</th>\n",
       "      <th>MIT_AST_label</th>\n",
       "    </tr>\n",
       "  </thead>\n",
       "  <tbody>\n",
       "    <tr>\n",
       "      <th>0</th>\n",
       "      <td>er_file_2023_10_19_16_55_54.wav</td>\n",
       "      <td>Caw</td>\n",
       "    </tr>\n",
       "    <tr>\n",
       "      <th>1</th>\n",
       "      <td>er_file_2023_10_19_17_18_42.wav</td>\n",
       "      <td>Vehicle</td>\n",
       "    </tr>\n",
       "    <tr>\n",
       "      <th>2</th>\n",
       "      <td>er_file_2023_10_19_16_41_08.wav</td>\n",
       "      <td>Squeak</td>\n",
       "    </tr>\n",
       "    <tr>\n",
       "      <th>3</th>\n",
       "      <td>er_file_2023_10_19_16_39_04.wav</td>\n",
       "      <td>Vehicle</td>\n",
       "    </tr>\n",
       "    <tr>\n",
       "      <th>4</th>\n",
       "      <td>er_file_2023_10_19_16_59_41.wav</td>\n",
       "      <td>Bird</td>\n",
       "    </tr>\n",
       "    <tr>\n",
       "      <th>5</th>\n",
       "      <td>er_file_2023_10_19_16_57_50.wav</td>\n",
       "      <td>Bird</td>\n",
       "    </tr>\n",
       "    <tr>\n",
       "      <th>6</th>\n",
       "      <td>er_file_2023_10_19_16_54_03.wav</td>\n",
       "      <td>Caw</td>\n",
       "    </tr>\n",
       "    <tr>\n",
       "      <th>7</th>\n",
       "      <td>er_file_2023_10_19_16_57_52.wav</td>\n",
       "      <td>Fowl</td>\n",
       "    </tr>\n",
       "    <tr>\n",
       "      <th>8</th>\n",
       "      <td>er_file_2023_10_19_17_31_29.wav</td>\n",
       "      <td>Vehicle</td>\n",
       "    </tr>\n",
       "    <tr>\n",
       "      <th>9</th>\n",
       "      <td>er_file_2023_10_19_17_40_15.wav</td>\n",
       "      <td>Animal</td>\n",
       "    </tr>\n",
       "    <tr>\n",
       "      <th>10</th>\n",
       "      <td>er_file_2023_10_19_17_12_35.wav</td>\n",
       "      <td>Bird</td>\n",
       "    </tr>\n",
       "    <tr>\n",
       "      <th>11</th>\n",
       "      <td>er_file_2023_10_19_16_45_52.wav</td>\n",
       "      <td>Fowl</td>\n",
       "    </tr>\n",
       "    <tr>\n",
       "      <th>12</th>\n",
       "      <td>er_file_2023_10_19_16_56_12.wav</td>\n",
       "      <td>Fowl</td>\n",
       "    </tr>\n",
       "    <tr>\n",
       "      <th>13</th>\n",
       "      <td>er_file_2023_10_19_17_08_50.wav</td>\n",
       "      <td>Bird</td>\n",
       "    </tr>\n",
       "    <tr>\n",
       "      <th>14</th>\n",
       "      <td>er_file_2023_10_19_17_15_29.wav</td>\n",
       "      <td>Chirp, tweet</td>\n",
       "    </tr>\n",
       "    <tr>\n",
       "      <th>15</th>\n",
       "      <td>er_file_2023_10_19_17_42_05.wav</td>\n",
       "      <td>Speech</td>\n",
       "    </tr>\n",
       "    <tr>\n",
       "      <th>16</th>\n",
       "      <td>er_file_2023_10_19_16_57_47.wav</td>\n",
       "      <td>Animal</td>\n",
       "    </tr>\n",
       "    <tr>\n",
       "      <th>17</th>\n",
       "      <td>er_file_2023_10_19_17_26_24.wav</td>\n",
       "      <td>Speech</td>\n",
       "    </tr>\n",
       "    <tr>\n",
       "      <th>18</th>\n",
       "      <td>er_file_2023_10_19_17_00_08.wav</td>\n",
       "      <td>Rustling leaves</td>\n",
       "    </tr>\n",
       "    <tr>\n",
       "      <th>19</th>\n",
       "      <td>er_file_2023_10_19_16_54_12.wav</td>\n",
       "      <td>Caw</td>\n",
       "    </tr>\n",
       "  </tbody>\n",
       "</table>\n",
       "</div>"
      ],
      "text/plain": [
       "                           filename    MIT_AST_label\n",
       "0   er_file_2023_10_19_16_55_54.wav              Caw\n",
       "1   er_file_2023_10_19_17_18_42.wav          Vehicle\n",
       "2   er_file_2023_10_19_16_41_08.wav           Squeak\n",
       "3   er_file_2023_10_19_16_39_04.wav          Vehicle\n",
       "4   er_file_2023_10_19_16_59_41.wav             Bird\n",
       "5   er_file_2023_10_19_16_57_50.wav             Bird\n",
       "6   er_file_2023_10_19_16_54_03.wav              Caw\n",
       "7   er_file_2023_10_19_16_57_52.wav             Fowl\n",
       "8   er_file_2023_10_19_17_31_29.wav          Vehicle\n",
       "9   er_file_2023_10_19_17_40_15.wav           Animal\n",
       "10  er_file_2023_10_19_17_12_35.wav             Bird\n",
       "11  er_file_2023_10_19_16_45_52.wav             Fowl\n",
       "12  er_file_2023_10_19_16_56_12.wav             Fowl\n",
       "13  er_file_2023_10_19_17_08_50.wav             Bird\n",
       "14  er_file_2023_10_19_17_15_29.wav     Chirp, tweet\n",
       "15  er_file_2023_10_19_17_42_05.wav           Speech\n",
       "16  er_file_2023_10_19_16_57_47.wav           Animal\n",
       "17  er_file_2023_10_19_17_26_24.wav           Speech\n",
       "18  er_file_2023_10_19_17_00_08.wav  Rustling leaves\n",
       "19  er_file_2023_10_19_16_54_12.wav              Caw"
      ]
     },
     "execution_count": 99,
     "metadata": {},
     "output_type": "execute_result"
    }
   ],
   "source": [
    "# make a df out of the results\n",
    "df = pd.DataFrame(res, columns=['filename', 'MIT_AST_label'])\n",
    "df.head(20)"
   ]
  },
  {
   "cell_type": "code",
   "execution_count": 100,
   "metadata": {},
   "outputs": [
    {
     "data": {
      "text/html": [
       "<div>\n",
       "<style scoped>\n",
       "    .dataframe tbody tr th:only-of-type {\n",
       "        vertical-align: middle;\n",
       "    }\n",
       "\n",
       "    .dataframe tbody tr th {\n",
       "        vertical-align: top;\n",
       "    }\n",
       "\n",
       "    .dataframe thead th {\n",
       "        text-align: right;\n",
       "    }\n",
       "</style>\n",
       "<table border=\"1\" class=\"dataframe\">\n",
       "  <thead>\n",
       "    <tr style=\"text-align: right;\">\n",
       "      <th></th>\n",
       "      <th>filename</th>\n",
       "    </tr>\n",
       "  </thead>\n",
       "  <tbody>\n",
       "    <tr>\n",
       "      <th>0</th>\n",
       "      <td>er_file_2023_10_19_16_55_54.wav</td>\n",
       "    </tr>\n",
       "    <tr>\n",
       "      <th>1</th>\n",
       "      <td>er_file_2023_10_19_17_18_42.wav</td>\n",
       "    </tr>\n",
       "    <tr>\n",
       "      <th>2</th>\n",
       "      <td>er_file_2023_10_19_16_41_08.wav</td>\n",
       "    </tr>\n",
       "    <tr>\n",
       "      <th>3</th>\n",
       "      <td>er_file_2023_10_19_16_39_04.wav</td>\n",
       "    </tr>\n",
       "    <tr>\n",
       "      <th>4</th>\n",
       "      <td>er_file_2023_10_19_16_59_41.wav</td>\n",
       "    </tr>\n",
       "  </tbody>\n",
       "</table>\n",
       "</div>"
      ],
      "text/plain": [
       "                          filename\n",
       "0  er_file_2023_10_19_16_55_54.wav\n",
       "1  er_file_2023_10_19_17_18_42.wav\n",
       "2  er_file_2023_10_19_16_41_08.wav\n",
       "3  er_file_2023_10_19_16_39_04.wav\n",
       "4  er_file_2023_10_19_16_59_41.wav"
      ]
     },
     "execution_count": 100,
     "metadata": {},
     "output_type": "execute_result"
    }
   ],
   "source": [
    "# drop column 'MIT_AST_label'\n",
    "df = df.drop(columns=['MIT_AST_label'])\n",
    "df.head()"
   ]
  },
  {
   "cell_type": "code",
   "execution_count": 101,
   "metadata": {},
   "outputs": [
    {
     "data": {
      "text/html": [
       "<div>\n",
       "<style scoped>\n",
       "    .dataframe tbody tr th:only-of-type {\n",
       "        vertical-align: middle;\n",
       "    }\n",
       "\n",
       "    .dataframe tbody tr th {\n",
       "        vertical-align: top;\n",
       "    }\n",
       "\n",
       "    .dataframe thead th {\n",
       "        text-align: right;\n",
       "    }\n",
       "</style>\n",
       "<table border=\"1\" class=\"dataframe\">\n",
       "  <thead>\n",
       "    <tr style=\"text-align: right;\">\n",
       "      <th></th>\n",
       "      <th>filename</th>\n",
       "      <th>MIT_AST_label</th>\n",
       "    </tr>\n",
       "  </thead>\n",
       "  <tbody>\n",
       "    <tr>\n",
       "      <th>0</th>\n",
       "      <td>er_file_2023_10_19_16_55_54.wav</td>\n",
       "      <td>Caw</td>\n",
       "    </tr>\n",
       "    <tr>\n",
       "      <th>1</th>\n",
       "      <td>er_file_2023_10_19_17_18_42.wav</td>\n",
       "      <td>Vehicle</td>\n",
       "    </tr>\n",
       "    <tr>\n",
       "      <th>2</th>\n",
       "      <td>er_file_2023_10_19_16_41_08.wav</td>\n",
       "      <td>Squeak</td>\n",
       "    </tr>\n",
       "    <tr>\n",
       "      <th>3</th>\n",
       "      <td>er_file_2023_10_19_16_39_04.wav</td>\n",
       "      <td>Vehicle</td>\n",
       "    </tr>\n",
       "    <tr>\n",
       "      <th>4</th>\n",
       "      <td>er_file_2023_10_19_16_59_41.wav</td>\n",
       "      <td>Bird</td>\n",
       "    </tr>\n",
       "  </tbody>\n",
       "</table>\n",
       "</div>"
      ],
      "text/plain": [
       "                          filename MIT_AST_label\n",
       "0  er_file_2023_10_19_16_55_54.wav           Caw\n",
       "1  er_file_2023_10_19_17_18_42.wav       Vehicle\n",
       "2  er_file_2023_10_19_16_41_08.wav        Squeak\n",
       "3  er_file_2023_10_19_16_39_04.wav       Vehicle\n",
       "4  er_file_2023_10_19_16_59_41.wav          Bird"
      ]
     },
     "execution_count": 101,
     "metadata": {},
     "output_type": "execute_result"
    }
   ],
   "source": [
    "df = add_label_column(df, res)\n",
    "df.head()"
   ]
  },
  {
   "cell_type": "code",
   "execution_count": 102,
   "metadata": {},
   "outputs": [],
   "source": [
    "df.to_excel('metadata/garden_19102023_metadata_birdnet_labeled_mit_ast.xlsx')"
   ]
  },
  {
   "cell_type": "code",
   "execution_count": 59,
   "metadata": {},
   "outputs": [],
   "source": [
    "def pipeline_mit_ast(folder):\n",
    "    metadata_file, output_file = get_metadata_output_files(folder)\n",
    "    results = analyze_folders(folder)\n",
    "    df = pd.read_excel(metadata_file)\n",
    "    df = add_label_column(df, results)\n",
    "    df.to_excel(output_file)"
   ]
  },
  {
   "cell_type": "code",
   "execution_count": 124,
   "metadata": {},
   "outputs": [
    {
     "name": "stderr",
     "output_type": "stream",
     "text": [
      "100%|██████████| 49/49 [42:10<00:00, 51.64s/it]\n"
     ]
    }
   ],
   "source": [
    "# test the pipeline\n",
    "folder = \"garden_11082023/\"\n",
    "\n",
    "pipeline_mit_ast(folder)\n"
   ]
  },
  {
   "cell_type": "code",
   "execution_count": 120,
   "metadata": {},
   "outputs": [
    {
     "data": {
      "text/html": [
       "<div>\n",
       "<style scoped>\n",
       "    .dataframe tbody tr th:only-of-type {\n",
       "        vertical-align: middle;\n",
       "    }\n",
       "\n",
       "    .dataframe tbody tr th {\n",
       "        vertical-align: top;\n",
       "    }\n",
       "\n",
       "    .dataframe thead th {\n",
       "        text-align: right;\n",
       "    }\n",
       "</style>\n",
       "<table border=\"1\" class=\"dataframe\">\n",
       "  <thead>\n",
       "    <tr style=\"text-align: right;\">\n",
       "      <th></th>\n",
       "      <th>Unnamed: 0.2</th>\n",
       "      <th>Unnamed: 0.1</th>\n",
       "      <th>Unnamed: 0</th>\n",
       "      <th>sessionId</th>\n",
       "      <th>time</th>\n",
       "      <th>filename</th>\n",
       "      <th>th1</th>\n",
       "      <th>th1_value</th>\n",
       "      <th>th2</th>\n",
       "      <th>th2_value</th>\n",
       "      <th>...</th>\n",
       "      <th>windspeedAvg</th>\n",
       "      <th>tempAve</th>\n",
       "      <th>humidityAvg</th>\n",
       "      <th>winddirAvg</th>\n",
       "      <th>uvHigh</th>\n",
       "      <th>solarRadiationHigh</th>\n",
       "      <th>lon</th>\n",
       "      <th>lat</th>\n",
       "      <th>label</th>\n",
       "      <th>MIT_AST_label</th>\n",
       "    </tr>\n",
       "  </thead>\n",
       "  <tbody>\n",
       "    <tr>\n",
       "      <th>0</th>\n",
       "      <td>0</td>\n",
       "      <td>0</td>\n",
       "      <td>0</td>\n",
       "      <td>test</td>\n",
       "      <td>_2023_12_16_18_02_08</td>\n",
       "      <td>garden_16122023/0/er_file_2023_12_16_18_02_08.wav</td>\n",
       "      <td>0.154655</td>\n",
       "      <td>0.22</td>\n",
       "      <td>0.921054</td>\n",
       "      <td>0.5</td>\n",
       "      <td>...</td>\n",
       "      <td>3.0</td>\n",
       "      <td>9.1</td>\n",
       "      <td>98.0</td>\n",
       "      <td>204.0</td>\n",
       "      <td>0.0</td>\n",
       "      <td>0.0</td>\n",
       "      <td>5.462251</td>\n",
       "      <td>51.417782</td>\n",
       "      <td>NaN</td>\n",
       "      <td>Rustling leaves</td>\n",
       "    </tr>\n",
       "    <tr>\n",
       "      <th>1</th>\n",
       "      <td>1</td>\n",
       "      <td>1</td>\n",
       "      <td>1</td>\n",
       "      <td>test</td>\n",
       "      <td>_2023_12_16_18_02_11</td>\n",
       "      <td>garden_16122023/0/er_file_2023_12_16_18_02_11.wav</td>\n",
       "      <td>0.545252</td>\n",
       "      <td>0.22</td>\n",
       "      <td>0.869510</td>\n",
       "      <td>0.5</td>\n",
       "      <td>...</td>\n",
       "      <td>3.0</td>\n",
       "      <td>9.1</td>\n",
       "      <td>98.0</td>\n",
       "      <td>204.0</td>\n",
       "      <td>0.0</td>\n",
       "      <td>0.0</td>\n",
       "      <td>5.462251</td>\n",
       "      <td>51.417782</td>\n",
       "      <td>NaN</td>\n",
       "      <td>Heart murmur</td>\n",
       "    </tr>\n",
       "    <tr>\n",
       "      <th>2</th>\n",
       "      <td>2</td>\n",
       "      <td>2</td>\n",
       "      <td>2</td>\n",
       "      <td>test</td>\n",
       "      <td>_2023_12_16_18_02_14</td>\n",
       "      <td>garden_16122023/0/er_file_2023_12_16_18_02_14.wav</td>\n",
       "      <td>0.262045</td>\n",
       "      <td>0.22</td>\n",
       "      <td>0.680537</td>\n",
       "      <td>0.5</td>\n",
       "      <td>...</td>\n",
       "      <td>3.0</td>\n",
       "      <td>9.1</td>\n",
       "      <td>98.0</td>\n",
       "      <td>204.0</td>\n",
       "      <td>0.0</td>\n",
       "      <td>0.0</td>\n",
       "      <td>5.462251</td>\n",
       "      <td>51.417782</td>\n",
       "      <td>NaN</td>\n",
       "      <td>Knock</td>\n",
       "    </tr>\n",
       "    <tr>\n",
       "      <th>3</th>\n",
       "      <td>3</td>\n",
       "      <td>3</td>\n",
       "      <td>3</td>\n",
       "      <td>test</td>\n",
       "      <td>_2023_12_16_18_02_17</td>\n",
       "      <td>garden_16122023/0/er_file_2023_12_16_18_02_17.wav</td>\n",
       "      <td>0.465999</td>\n",
       "      <td>0.22</td>\n",
       "      <td>0.746294</td>\n",
       "      <td>0.5</td>\n",
       "      <td>...</td>\n",
       "      <td>3.0</td>\n",
       "      <td>9.1</td>\n",
       "      <td>98.0</td>\n",
       "      <td>204.0</td>\n",
       "      <td>0.0</td>\n",
       "      <td>0.0</td>\n",
       "      <td>5.462251</td>\n",
       "      <td>51.417782</td>\n",
       "      <td>NaN</td>\n",
       "      <td>Door</td>\n",
       "    </tr>\n",
       "    <tr>\n",
       "      <th>4</th>\n",
       "      <td>4</td>\n",
       "      <td>4</td>\n",
       "      <td>4</td>\n",
       "      <td>test</td>\n",
       "      <td>_2023_12_16_18_02_23</td>\n",
       "      <td>garden_16122023/0/er_file_2023_12_16_18_02_23.wav</td>\n",
       "      <td>0.245217</td>\n",
       "      <td>0.22</td>\n",
       "      <td>0.715698</td>\n",
       "      <td>0.5</td>\n",
       "      <td>...</td>\n",
       "      <td>3.6</td>\n",
       "      <td>9.1</td>\n",
       "      <td>98.0</td>\n",
       "      <td>193.0</td>\n",
       "      <td>0.0</td>\n",
       "      <td>0.0</td>\n",
       "      <td>5.462251</td>\n",
       "      <td>51.417782</td>\n",
       "      <td>NaN</td>\n",
       "      <td>Door</td>\n",
       "    </tr>\n",
       "  </tbody>\n",
       "</table>\n",
       "<p>5 rows × 28 columns</p>\n",
       "</div>"
      ],
      "text/plain": [
       "   Unnamed: 0.2  Unnamed: 0.1  Unnamed: 0 sessionId                  time  \\\n",
       "0             0             0           0      test  _2023_12_16_18_02_08   \n",
       "1             1             1           1      test  _2023_12_16_18_02_11   \n",
       "2             2             2           2      test  _2023_12_16_18_02_14   \n",
       "3             3             3           3      test  _2023_12_16_18_02_17   \n",
       "4             4             4           4      test  _2023_12_16_18_02_23   \n",
       "\n",
       "                                            filename       th1  th1_value  \\\n",
       "0  garden_16122023/0/er_file_2023_12_16_18_02_08.wav  0.154655       0.22   \n",
       "1  garden_16122023/0/er_file_2023_12_16_18_02_11.wav  0.545252       0.22   \n",
       "2  garden_16122023/0/er_file_2023_12_16_18_02_14.wav  0.262045       0.22   \n",
       "3  garden_16122023/0/er_file_2023_12_16_18_02_17.wav  0.465999       0.22   \n",
       "4  garden_16122023/0/er_file_2023_12_16_18_02_23.wav  0.245217       0.22   \n",
       "\n",
       "        th2  th2_value  ...  windspeedAvg  tempAve  humidityAvg winddirAvg  \\\n",
       "0  0.921054        0.5  ...           3.0      9.1         98.0      204.0   \n",
       "1  0.869510        0.5  ...           3.0      9.1         98.0      204.0   \n",
       "2  0.680537        0.5  ...           3.0      9.1         98.0      204.0   \n",
       "3  0.746294        0.5  ...           3.0      9.1         98.0      204.0   \n",
       "4  0.715698        0.5  ...           3.6      9.1         98.0      193.0   \n",
       "\n",
       "   uvHigh  solarRadiationHigh       lon        lat  label    MIT_AST_label  \n",
       "0     0.0                 0.0  5.462251  51.417782    NaN  Rustling leaves  \n",
       "1     0.0                 0.0  5.462251  51.417782    NaN     Heart murmur  \n",
       "2     0.0                 0.0  5.462251  51.417782    NaN            Knock  \n",
       "3     0.0                 0.0  5.462251  51.417782    NaN             Door  \n",
       "4     0.0                 0.0  5.462251  51.417782    NaN             Door  \n",
       "\n",
       "[5 rows x 28 columns]"
      ]
     },
     "execution_count": 120,
     "metadata": {},
     "output_type": "execute_result"
    }
   ],
   "source": [
    "mf = pd.read_excel(\"metadata/garden_16122023_metadata_birdnet_labeled_mit_ast.xlsx\")\n",
    "mf[mf['MIT_AST_label'].notnull()].head()"
   ]
  }
 ],
 "metadata": {
  "kernelspec": {
   "display_name": "ast",
   "language": "python",
   "name": "python3"
  },
  "language_info": {
   "codemirror_mode": {
    "name": "ipython",
    "version": 3
   },
   "file_extension": ".py",
   "mimetype": "text/x-python",
   "name": "python",
   "nbconvert_exporter": "python",
   "pygments_lexer": "ipython3",
   "version": "3.12.1"
  }
 },
 "nbformat": 4,
 "nbformat_minor": 2
}
