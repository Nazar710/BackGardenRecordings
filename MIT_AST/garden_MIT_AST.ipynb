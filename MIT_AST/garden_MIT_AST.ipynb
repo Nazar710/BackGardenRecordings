{
 "cells": [
  {
   "cell_type": "markdown",
   "metadata": {},
   "source": [
    "MIT_AST processing steps, 1 \"garden_010120024\" folder ata time:\n",
    "\n",
    "1.define path to folder with .wav files\n",
    "TODO: \n",
    "2.get results from MIT_AST model, results are filename,label,prob_dict\n",
    "TODO: modify  analyze_files_ast(folder) so the results contain prob_dict\n",
    "3.speech_detected(), returns true/false, checks if prob_dict contains at least 1 out of 50 speech_related_labels\n",
    "TODO: \n",
    "4.add label, speeech_detected(0/1) columns to metadata file.\n",
    "\n"
   ]
  },
  {
   "cell_type": "code",
   "execution_count": 9,
   "metadata": {},
   "outputs": [],
   "source": [
    "import pandas as pd\n",
    "import os\n",
    "from tqdm import tqdm\n",
    "from test_mit_ast import MIT_AST_model\n",
    "from mit_ast_prob import MIT_AST_model_prob\n",
    "\n",
    "\n"
   ]
  },
  {
   "cell_type": "code",
   "execution_count": 3,
   "metadata": {},
   "outputs": [
    {
     "data": {
      "text/html": [
       "<div>\n",
       "<style scoped>\n",
       "    .dataframe tbody tr th:only-of-type {\n",
       "        vertical-align: middle;\n",
       "    }\n",
       "\n",
       "    .dataframe tbody tr th {\n",
       "        vertical-align: top;\n",
       "    }\n",
       "\n",
       "    .dataframe thead th {\n",
       "        text-align: right;\n",
       "    }\n",
       "</style>\n",
       "<table border=\"1\" class=\"dataframe\">\n",
       "  <thead>\n",
       "    <tr style=\"text-align: right;\">\n",
       "      <th></th>\n",
       "      <th>Unnamed: 0</th>\n",
       "      <th>label</th>\n",
       "      <th>source</th>\n",
       "    </tr>\n",
       "  </thead>\n",
       "  <tbody>\n",
       "    <tr>\n",
       "      <th>0</th>\n",
       "      <td>0</td>\n",
       "      <td>Speech</td>\n",
       "      <td>human</td>\n",
       "    </tr>\n",
       "    <tr>\n",
       "      <th>1</th>\n",
       "      <td>1</td>\n",
       "      <td>Male speech, man speaking</td>\n",
       "      <td>human</td>\n",
       "    </tr>\n",
       "    <tr>\n",
       "      <th>2</th>\n",
       "      <td>2</td>\n",
       "      <td>Female speech, woman speaking</td>\n",
       "      <td>human</td>\n",
       "    </tr>\n",
       "    <tr>\n",
       "      <th>3</th>\n",
       "      <td>3</td>\n",
       "      <td>Child speech, kid speaking</td>\n",
       "      <td>human</td>\n",
       "    </tr>\n",
       "    <tr>\n",
       "      <th>4</th>\n",
       "      <td>4</td>\n",
       "      <td>Conversation</td>\n",
       "      <td>human</td>\n",
       "    </tr>\n",
       "  </tbody>\n",
       "</table>\n",
       "</div>"
      ],
      "text/plain": [
       "   Unnamed: 0                          label source\n",
       "0           0                         Speech  human\n",
       "1           1      Male speech, man speaking  human\n",
       "2           2  Female speech, woman speaking  human\n",
       "3           3     Child speech, kid speaking  human\n",
       "4           4                   Conversation  human"
      ]
     },
     "execution_count": 3,
     "metadata": {},
     "output_type": "execute_result"
    }
   ],
   "source": [
    "labels_df = pd.read_excel('MIT_AST_label_map.xlsx')\n",
    "labels_df.head()"
   ]
  },
  {
   "cell_type": "code",
   "execution_count": 8,
   "metadata": {},
   "outputs": [
    {
     "data": {
      "text/plain": [
       "source\n",
       "music           146\n",
       "vehicle          51\n",
       "human            46\n",
       "animal           36\n",
       "alarm            31\n",
       "work             29\n",
       "material         25\n",
       "mechanical       22\n",
       "bird             21\n",
       "background       21\n",
       "explosion        19\n",
       "weather          18\n",
       "machine          17\n",
       "foley            16\n",
       "vocalization     12\n",
       "door             11\n",
       "insect            6\n",
       "Name: count, dtype: int64"
      ]
     },
     "execution_count": 8,
     "metadata": {},
     "output_type": "execute_result"
    }
   ],
   "source": [
    "labels_df['source'].value_counts()"
   ]
  },
  {
   "cell_type": "code",
   "execution_count": 21,
   "metadata": {},
   "outputs": [
    {
     "name": "stdout",
     "output_type": "stream",
     "text": [
      "    Unnamed: 0                                label source\n",
      "0            0                               Speech  human\n",
      "1            1            Male speech, man speaking  human\n",
      "2            2        Female speech, woman speaking  human\n",
      "3            3           Child speech, kid speaking  human\n",
      "4            4                         Conversation  human\n",
      "5            5                 Narration, monologue  human\n",
      "6            6                             Babbling  human\n",
      "7            7                   Speech synthesizer  human\n",
      "8            8                                Shout  human\n",
      "9            9                               Bellow  human\n",
      "10          10                                Whoop  human\n",
      "11          11                                 Yell  human\n",
      "12          12                           Battle cry  human\n",
      "13          13                    Children shouting  human\n",
      "14          14                            Screaming  human\n",
      "15          15                           Whispering  human\n",
      "16          16                             Laughter  human\n",
      "17          17                        Baby laughter  human\n",
      "18          18                               Giggle  human\n",
      "19          19                              Snicker  human\n",
      "20          20                          Belly laugh  human\n",
      "21          21                     Chuckle, chortle  human\n",
      "22          22                      Crying, sobbing  human\n",
      "23          23                 Baby cry, infant cry  human\n",
      "24          24                              Whimper  human\n",
      "25          25                           Wail, moan  human\n",
      "26          26                                 Sigh  human\n",
      "27          27                              Singing  human\n",
      "28          28                                Choir  human\n",
      "29          29                             Yodeling  human\n",
      "30          30                                Chant  human\n",
      "31          31                               Mantra  human\n",
      "32          32                         Male singing  human\n",
      "33          33                       Female singing  human\n",
      "34          34                        Child singing  human\n",
      "35          35                    Synthetic singing  human\n",
      "36          36                              Rapping  human\n",
      "37          37                              Humming  human\n",
      "38          38                                Groan  human\n",
      "39          39                                Grunt  human\n",
      "40          40                            Whistling  human\n",
      "66          66                             Cheering  human\n",
      "68          68                              Chatter  human\n",
      "69          69                                Crowd  human\n",
      "70          70  Hubbub, speech noise, speech babble  human\n",
      "71          71                     Children playing  human\n"
     ]
    }
   ],
   "source": [
    "# all labels where source human\n",
    "\n",
    "\n",
    "human = labels_df[labels_df['source']=='human']\n",
    "print(human)"
   ]
  },
  {
   "cell_type": "code",
   "execution_count": 11,
   "metadata": {},
   "outputs": [
    {
     "name": "stdout",
     "output_type": "stream",
     "text": [
      "     Unnamed: 0                                    label source\n",
      "98           98                                     Fowl   bird\n",
      "99           99                         Chicken, rooster   bird\n",
      "100         100                                    Cluck   bird\n",
      "101         101               Crowing, cock-a-doodle-doo   bird\n",
      "102         102                                   Turkey   bird\n",
      "103         103                                   Gobble   bird\n",
      "104         104                                     Duck   bird\n",
      "105         105                                    Quack   bird\n",
      "106         106                                    Goose   bird\n",
      "107         107                                     Honk   bird\n",
      "111         111                                     Bird   bird\n",
      "112         112  Bird vocalization, bird call, bird song   bird\n",
      "113         113                             Chirp, tweet   bird\n",
      "114         114                                   Squawk   bird\n",
      "115         115                             Pigeon, dove   bird\n",
      "116         116                                      Coo   bird\n",
      "117         117                                     Crow   bird\n",
      "118         118                                      Caw   bird\n",
      "119         119                                      Owl   bird\n",
      "120         120                                     Hoot   bird\n",
      "121         121              Bird flight, flapping wings   bird\n"
     ]
    }
   ],
   "source": [
    "# extract row with label 'Whistling'\n",
    "\n",
    "ss = labels_df[labels_df['source']=='bird']\n",
    "print(ss)"
   ]
  },
  {
   "cell_type": "code",
   "execution_count": 4,
   "metadata": {},
   "outputs": [
    {
     "name": "stdout",
     "output_type": "stream",
     "text": [
      "Top 5 class/prob: {'Heart murmur': 0.433290958404541, 'Heart sounds, heartbeat': 0.2911057770252228, 'Hum': 0.03401926904916763, 'Throbbing': 0.030839039012789726, 'Stomach rumble': 0.025580795481801033}\n",
      "{'Animal': 0.14979426562786102, 'Speech': 0.07444065809249878, 'Outside, rural or natural': 0.06758172810077667, 'Clip-clop': 0.06603291630744934, 'Horse': 0.058802176266908646}\n"
     ]
    }
   ],
   "source": [
    "\n",
    "\n",
    "\n",
    "#cfile = 'er_file_2023_09_04_7_13_08.wav'\n",
    "inhale_file = \"/Users/evgenynazarenko/DACS_3_year/Thesis/GardenFiles23/garden_01012024/0/er_file_2024_01_01_11_03_19.wav\"\n",
    "afile =\"/Users/evgenynazarenko/DACS_3_year/Thesis/GardenFiles23/garden_01012024/16/er_file_2024_01_01_14_18_13.wav\"\n",
    "model_prob = MIT_AST_model_prob()\n",
    "model = MIT_AST_model()\n",
    "res = model_prob.classify(inhale_file)\n",
    "print(res)"
   ]
  },
  {
   "cell_type": "code",
   "execution_count": 48,
   "metadata": {},
   "outputs": [],
   "source": [
    "\n",
    "\n",
    "def classify_files_ast_prob(filepaths_list):\n",
    "    \"\"\"\n",
    "    Classify a list of audio files using the MIT AST model\n",
    "    :param filepaths_list: list of file paths\n",
    "    :return: list of tuples with file path and classification results a list of tuples for each file\n",
    "            where each tuple contains the file path and a results tuple.\n",
    "            res tuple contains winning label + dictionary with top 5 labels and their probabilities\n",
    "            results = [(file_path, (label,{label:prob,...})), ...]\n",
    "    \"\"\"\n",
    "    results = []\n",
    "    model_prob = MIT_AST_model_prob()\n",
    "    for file_path in tqdm(filepaths_list, desc=\"Classifying files\"):\n",
    "        try:\n",
    "            res = model_prob.classify(file_path)\n",
    "            if len(res) > 0:\n",
    "                results.append((file_path, res))\n",
    "        except Exception as e:\n",
    "                print(f\"Error processing file {file_path}: {e}\")\n",
    "                continue\n",
    "    return results\n",
    "        \n",
    "      \n",
    "    "
   ]
  },
  {
   "cell_type": "code",
   "execution_count": 15,
   "metadata": {},
   "outputs": [],
   "source": [
    "def split_prob_results(prob_results):\n",
    "    \"\"\"\n",
    "    Split the results of the classification into a list of tuples with file path and label and a list of tuples with file path and dictionary\n",
    "    :param prob_results: list of tuples with file path and classification results dictionary with top labels and their probabilities\n",
    "                         results = [(file_path, {label: prob, ...}), ...]\n",
    "    :return: list of tuples with file path and label and a list of tuples with file path and dictionary\n",
    "    \"\"\"\n",
    "    labels = []\n",
    "    dictionaries = []\n",
    "    for file_path, label_prob_dict in prob_results:\n",
    "        # Get the top label\n",
    "        top_label = max(label_prob_dict, key=label_prob_dict.get)\n",
    "        labels.append((file_path, top_label))\n",
    "        dictionaries.append((file_path, label_prob_dict))\n",
    "    return labels, dictionaries\n",
    "\n",
    "\n"
   ]
  },
  {
   "cell_type": "code",
   "execution_count": 16,
   "metadata": {},
   "outputs": [],
   "source": [
    "# human_detected function. finds if human related albels are among the results\n",
    "def human_detected(prob_results, human_labels):\n",
    "    \"\"\"\n",
    "    Check if any of the labels in the results is a human label and return a list of tuples with file path and a flag\n",
    "    :param prob_results: list of tuples with file path and classification results dictionary with top 5 labels and their probabilities\n",
    "                         results = [(file_path, {label: prob, ...}), ...]\n",
    "    :param human_labels: list of human labels\n",
    "    :return: list of tuples with file path and 1 if a human label is detected, 0 otherwise\n",
    "    \"\"\"\n",
    "    detected_results = []\n",
    "    for file_path, label_prob_dict in prob_results:\n",
    "        # Check if any label is in human_labels\n",
    "        human_detected = any(label in human_labels for label in label_prob_dict)\n",
    "        detected_results.append((file_path, 1 if human_detected else 0))\n",
    "    return detected_results\n"
   ]
  },
  {
   "cell_type": "code",
   "execution_count": 17,
   "metadata": {},
   "outputs": [],
   "source": [
    "# add_labels function. Adds a label to the results if it is a human label\n",
    "def add_labels(metadata_file_path,results,column_name):\n",
    "    \"\"\"\n",
    "    Add MIT_AST labels to the metadata file\n",
    "    :param metadata_file_path: path to the metadata file\n",
    "    :param results: list of tuples with file path and top label \n",
    "    :param column_name: name of the column to add to the metadata file            \n",
    "    :return: path to the new metadata file\n",
    "    \"\"\"\n",
    "     # Create a DataFrame from results\n",
    "    labels_df = pd.DataFrame(results, columns=['filepath', column_name])\n",
    "    \n",
    "    # Extract basenames for comparison\n",
    "    labels_df['filename'] = labels_df['filepath'].apply(os.path.basename)\n",
    "    \n",
    "    # Load the existing metadata DataFrame\n",
    "    df = pd.read_excel(metadata_file_path)\n",
    "    \n",
    "    # Ensure filenames are basenames for comparison\n",
    "    df['filename'] = df['filename'].apply(os.path.basename)\n",
    "    \n",
    "    # Check if the 'BirdNET_label' column exists; if not, create it with NaN values\n",
    "    if column_name not in df.columns:\n",
    "        df[column_name] = pd.NA\n",
    "    \n",
    "    # Merge the existing df with the labels_df\n",
    "    df = df.merge(labels_df[['filename', column_name]], on='filename', how='left', suffixes=('', '_new'))\n",
    "    \n",
    "    # Update the 'MIT_AST_label' column with new values where available\n",
    "    df[column_name] = df[column_name+'_new'].combine_first(df[column_name])\n",
    "    \n",
    "    # Drop the temporary 'BirdNET_label_new' column\n",
    "    df.drop(column_name+'_new', axis=1, inplace=True)\n",
    " \n",
    "    # Construct the new filename\n",
    "    original_filename = os.path.basename(metadata_file_path)\n",
    "    new_filename = original_filename.replace('metadata', column_name + '_metadata')\n",
    "    new_filepath = os.path.join(os.path.dirname(metadata_file_path), new_filename)\n",
    "    # Save the updated DataFrame to a new Excel file\n",
    "    df.to_excel(new_filepath, index=False)\n",
    "      # Remove the original file\n",
    "    os.remove(metadata_file_path)\n",
    "    return new_filepath\n"
   ]
  },
  {
   "cell_type": "code",
   "execution_count": 18,
   "metadata": {},
   "outputs": [],
   "source": [
    "\n",
    "\n",
    "def find_files(root_folder):\n",
    "    \"\"\"\n",
    "    Finds the metadata file and audio files in the specified root folder.\n",
    "    The root folder is assumed to contain subfolders with audio files and metadata file.\n",
    "    The metadata file is assumed to be named '...metadata.xlsx' and the audio files are assumed to have the extension '.wav'.\n",
    "    parameters:\n",
    "    - root_folder: The path to the root folder containing the audio files and metadata file.\n",
    "    returns:\n",
    "    - metadata_filepath: The path to the metadata file.\n",
    "    - audio_files: A list of relative paths to the audio files.\n",
    "\n",
    "    \"\"\"\n",
    "    audio_files = []\n",
    "    metadata_filepath = None\n",
    "    for dirpath, dirnames, filenames in os.walk(root_folder):\n",
    "        for filename in filenames:\n",
    "            if filename.endswith('metadata.xlsx'):\n",
    "                metadata_filepath = os.path.join(dirpath, filename)\n",
    "                print(f\"Found metadata file: {metadata_filepath}\")\n",
    "\n",
    "            elif filename.endswith('.wav'):\n",
    "                audio_files.append(os.path.join(dirpath, filename))\n",
    "            \n",
    "\n",
    "    return metadata_filepath, audio_files"
   ]
  },
  {
   "cell_type": "code",
   "execution_count": 19,
   "metadata": {},
   "outputs": [],
   "source": [
    "\n",
    "\n",
    "# mit_ast_pipeline\n",
    "def mit_ast_pipeline(folder_path,human_labels_list):\n",
    "    \"\"\"\n",
    "    Classify all audio files in the folder using the MIT AST model and add the human labels to the metadata file\n",
    "    :param folder_path: path to the folder with audio files\n",
    "    :param human_labels_list: list of human labels from MIT_AST_label_map.xlsx\n",
    "    :return: None\n",
    "    \"\"\"\n",
    "    # Get a list of all audio files in the folder\n",
    "    metadata_filepath, audio_files = find_files(folder_path)\n",
    "    \n",
    "    # Classify the audio files using the MIT AST model\n",
    "    results = classify_files_ast_prob(audio_files)\n",
    "\n",
    "    # Split the results into labels and dictionaries\n",
    "    labels, dictionaries = split_prob_results(results)\n",
    "    \n",
    "    # add labels to the metadata file\n",
    "    new_metadata_filepath = add_labels(metadata_filepath,labels,'MIT_AST')\n",
    "    print(metadata_filepath)\n",
    "\n",
    "    # Check if any of the labels in the results is a human label\n",
    "    human_detected_results = human_detected(dictionaries, human_labels_list)\n",
    "\n",
    "    # add human detected labels to the metadata file\n",
    "    add_labels(new_metadata_filepath,human_detected_results,'Human_detected')\n",
    "\n",
    "\n",
    "   "
   ]
  },
  {
   "cell_type": "code",
   "execution_count": 22,
   "metadata": {},
   "outputs": [
    {
     "name": "stdout",
     "output_type": "stream",
     "text": [
      "Found metadata file: /Users/evgenynazarenko/DACS_3_year/Thesis/GardenFiles23/garden_01012024/garden_01012024_metadata.xlsx\n"
     ]
    },
    {
     "name": "stderr",
     "output_type": "stream",
     "text": [
      "Classifying files: 100%|██████████| 20222/20222 [49:24<00:00,  6.82it/s]   \n"
     ]
    },
    {
     "name": "stdout",
     "output_type": "stream",
     "text": [
      "/Users/evgenynazarenko/DACS_3_year/Thesis/GardenFiles23/garden_01012024/garden_01012024_metadata.xlsx\n"
     ]
    },
    {
     "name": "stderr",
     "output_type": "stream",
     "text": [
      "/var/folders/lh/0lt7mv811l56hczm0y7dwzym0000gn/T/ipykernel_81228/1414391559.py:30: FutureWarning: The behavior of array concatenation with empty entries is deprecated. In a future version, this will no longer exclude empty items when determining the result dtype. To retain the old behavior, exclude the empty entries before the concat operation.\n",
      "  df[column_name] = df[column_name+'_new'].combine_first(df[column_name])\n"
     ]
    }
   ],
   "source": [
    "# test pipeline\n",
    "garden_folder = \"/Users/evgenynazarenko/DACS_3_year/Thesis/GardenFiles23/garden_01012024\"\n",
    "human_labels = list(human['label'])\n",
    "mit_ast_pipeline(garden_folder,human_labels)\n"
   ]
  },
  {
   "cell_type": "code",
   "execution_count": 23,
   "metadata": {},
   "outputs": [
    {
     "name": "stdout",
     "output_type": "stream",
     "text": [
      "Found metadata file: /Users/evgenynazarenko/DACS_3_year/Thesis/GardenFiles23/garden_02092023/garden_02092023_metadata.xlsx\n"
     ]
    },
    {
     "name": "stderr",
     "output_type": "stream",
     "text": [
      "Classifying files: 100%|██████████| 20748/20748 [50:09<00:00,  6.89it/s]  \n"
     ]
    },
    {
     "name": "stdout",
     "output_type": "stream",
     "text": [
      "/Users/evgenynazarenko/DACS_3_year/Thesis/GardenFiles23/garden_02092023/garden_02092023_metadata.xlsx\n"
     ]
    },
    {
     "name": "stderr",
     "output_type": "stream",
     "text": [
      "/var/folders/lh/0lt7mv811l56hczm0y7dwzym0000gn/T/ipykernel_81228/1414391559.py:30: FutureWarning: The behavior of array concatenation with empty entries is deprecated. In a future version, this will no longer exclude empty items when determining the result dtype. To retain the old behavior, exclude the empty entries before the concat operation.\n",
      "  df[column_name] = df[column_name+'_new'].combine_first(df[column_name])\n"
     ]
    }
   ],
   "source": [
    "# test pipeline\n",
    "garden_folder = \"/Users/evgenynazarenko/DACS_3_year/Thesis/GardenFiles23/garden_02092023\"\n",
    "human_labels = list(human['label'])\n",
    "mit_ast_pipeline(garden_folder,human_labels)"
   ]
  },
  {
   "cell_type": "code",
   "execution_count": 27,
   "metadata": {},
   "outputs": [
    {
     "name": "stdout",
     "output_type": "stream",
     "text": [
      "Found metadata file: /Users/evgenynazarenko/DACS_3_year/Thesis/GardenFiles23/garden_02122023/garden_02122023_metadata.xlsx\n"
     ]
    },
    {
     "data": {
      "application/vnd.jupyter.widget-view+json": {
       "model_id": "797cbf1429fc4854a6d52911dfd7d50d",
       "version_major": 2,
       "version_minor": 0
      },
      "text/plain": [
       "Classifying files:   0%|          | 0/4866 [00:00<?, ?it/s]"
      ]
     },
     "metadata": {},
     "output_type": "display_data"
    },
    {
     "name": "stdout",
     "output_type": "stream",
     "text": [
      "/Users/evgenynazarenko/DACS_3_year/Thesis/GardenFiles23/garden_02122023/garden_02122023_metadata.xlsx\n"
     ]
    },
    {
     "name": "stderr",
     "output_type": "stream",
     "text": [
      "/var/folders/lh/0lt7mv811l56hczm0y7dwzym0000gn/T/ipykernel_81228/1414391559.py:30: FutureWarning: The behavior of array concatenation with empty entries is deprecated. In a future version, this will no longer exclude empty items when determining the result dtype. To retain the old behavior, exclude the empty entries before the concat operation.\n",
      "  df[column_name] = df[column_name+'_new'].combine_first(df[column_name])\n"
     ]
    }
   ],
   "source": [
    "# test pipeline\n",
    "garden_folder = \"/Users/evgenynazarenko/DACS_3_year/Thesis/GardenFiles23/garden_02122023\"\n",
    "human_labels = list(human['label'])\n",
    "mit_ast_pipeline(garden_folder,human_labels)"
   ]
  },
  {
   "cell_type": "code",
   "execution_count": 28,
   "metadata": {},
   "outputs": [
    {
     "name": "stdout",
     "output_type": "stream",
     "text": [
      "Found metadata file: /Users/evgenynazarenko/DACS_3_year/Thesis/GardenFiles23/garden_03022024/garden_03022024_metadata.xlsx\n"
     ]
    },
    {
     "data": {
      "application/vnd.jupyter.widget-view+json": {
       "model_id": "06bd6c824b3948048b9adfb789ff4b6d",
       "version_major": 2,
       "version_minor": 0
      },
      "text/plain": [
       "Classifying files:   0%|          | 0/24276 [00:00<?, ?it/s]"
      ]
     },
     "metadata": {},
     "output_type": "display_data"
    },
    {
     "name": "stdout",
     "output_type": "stream",
     "text": [
      "/Users/evgenynazarenko/DACS_3_year/Thesis/GardenFiles23/garden_03022024/garden_03022024_metadata.xlsx\n"
     ]
    },
    {
     "name": "stderr",
     "output_type": "stream",
     "text": [
      "/var/folders/lh/0lt7mv811l56hczm0y7dwzym0000gn/T/ipykernel_81228/1414391559.py:30: FutureWarning: The behavior of array concatenation with empty entries is deprecated. In a future version, this will no longer exclude empty items when determining the result dtype. To retain the old behavior, exclude the empty entries before the concat operation.\n",
      "  df[column_name] = df[column_name+'_new'].combine_first(df[column_name])\n"
     ]
    }
   ],
   "source": [
    "# test pipeline\n",
    "garden_folder = \"/Users/evgenynazarenko/DACS_3_year/Thesis/GardenFiles23/garden_03022024\"\n",
    "human_labels = list(human['label'])\n",
    "mit_ast_pipeline(garden_folder,human_labels)"
   ]
  },
  {
   "cell_type": "code",
   "execution_count": 29,
   "metadata": {},
   "outputs": [
    {
     "name": "stdout",
     "output_type": "stream",
     "text": [
      "Found metadata file: /Users/evgenynazarenko/DACS_3_year/Thesis/GardenFiles23/garden_03032024/garden_03032024_metadata.xlsx\n"
     ]
    },
    {
     "data": {
      "application/vnd.jupyter.widget-view+json": {
       "model_id": "2834ef06d09547fba8e09a9848fffc7a",
       "version_major": 2,
       "version_minor": 0
      },
      "text/plain": [
       "Classifying files:   0%|          | 0/8567 [00:00<?, ?it/s]"
      ]
     },
     "metadata": {},
     "output_type": "display_data"
    },
    {
     "name": "stdout",
     "output_type": "stream",
     "text": [
      "/Users/evgenynazarenko/DACS_3_year/Thesis/GardenFiles23/garden_03032024/garden_03032024_metadata.xlsx\n"
     ]
    },
    {
     "name": "stderr",
     "output_type": "stream",
     "text": [
      "/var/folders/lh/0lt7mv811l56hczm0y7dwzym0000gn/T/ipykernel_81228/1414391559.py:30: FutureWarning: The behavior of array concatenation with empty entries is deprecated. In a future version, this will no longer exclude empty items when determining the result dtype. To retain the old behavior, exclude the empty entries before the concat operation.\n",
      "  df[column_name] = df[column_name+'_new'].combine_first(df[column_name])\n"
     ]
    }
   ],
   "source": [
    "# test pipeline\n",
    "garden_folder = \"/Users/evgenynazarenko/DACS_3_year/Thesis/GardenFiles23/garden_03032024\"\n",
    "human_labels = list(human['label'])\n",
    "mit_ast_pipeline(garden_folder,human_labels)"
   ]
  },
  {
   "cell_type": "code",
   "execution_count": null,
   "metadata": {},
   "outputs": [],
   "source": [
    "# test pipeline\n",
    "garden_folder = \"/Users/evgenynazarenko/DACS_3_year/Thesis/GardenFiles23/garden_06012023\"\n",
    "human_labels = list(human['label'])\n",
    "mit_ast_pipeline(garden_folder,human_labels)"
   ]
  },
  {
   "cell_type": "code",
   "execution_count": 32,
   "metadata": {},
   "outputs": [
    {
     "name": "stdout",
     "output_type": "stream",
     "text": [
      "Found metadata file: /Users/evgenynazarenko/DACS_3_year/Thesis/GardenFiles23/garden_07122023/garden_07122023_metadata.xlsx\n"
     ]
    },
    {
     "data": {
      "application/vnd.jupyter.widget-view+json": {
       "model_id": "0bc703ba191e4c57a698abae1126a457",
       "version_major": 2,
       "version_minor": 0
      },
      "text/plain": [
       "Classifying files:   0%|          | 0/25617 [00:00<?, ?it/s]"
      ]
     },
     "metadata": {},
     "output_type": "display_data"
    },
    {
     "name": "stdout",
     "output_type": "stream",
     "text": [
      "/Users/evgenynazarenko/DACS_3_year/Thesis/GardenFiles23/garden_07122023/garden_07122023_metadata.xlsx\n"
     ]
    },
    {
     "name": "stderr",
     "output_type": "stream",
     "text": [
      "/var/folders/lh/0lt7mv811l56hczm0y7dwzym0000gn/T/ipykernel_81228/1414391559.py:30: FutureWarning: The behavior of array concatenation with empty entries is deprecated. In a future version, this will no longer exclude empty items when determining the result dtype. To retain the old behavior, exclude the empty entries before the concat operation.\n",
      "  df[column_name] = df[column_name+'_new'].combine_first(df[column_name])\n"
     ]
    }
   ],
   "source": [
    "# test pipeline\n",
    "garden_folder = \"/Users/evgenynazarenko/DACS_3_year/Thesis/GardenFiles23/garden_07122023\"\n",
    "human_labels = list(human['label'])\n",
    "mit_ast_pipeline(garden_folder,human_labels)"
   ]
  },
  {
   "cell_type": "code",
   "execution_count": 34,
   "metadata": {},
   "outputs": [
    {
     "name": "stdout",
     "output_type": "stream",
     "text": [
      "Found metadata file: /Users/evgenynazarenko/DACS_3_year/Thesis/GardenFiles23/garden_08032024/garden_08032024_metadata.xlsx\n"
     ]
    },
    {
     "data": {
      "application/vnd.jupyter.widget-view+json": {
       "model_id": "0b0e9384ab8549ff9a15957f2ac6ced1",
       "version_major": 2,
       "version_minor": 0
      },
      "text/plain": [
       "Classifying files:   0%|          | 0/25809 [00:00<?, ?it/s]"
      ]
     },
     "metadata": {},
     "output_type": "display_data"
    },
    {
     "name": "stdout",
     "output_type": "stream",
     "text": [
      "/Users/evgenynazarenko/DACS_3_year/Thesis/GardenFiles23/garden_08032024/garden_08032024_metadata.xlsx\n"
     ]
    },
    {
     "name": "stderr",
     "output_type": "stream",
     "text": [
      "/var/folders/lh/0lt7mv811l56hczm0y7dwzym0000gn/T/ipykernel_81228/1414391559.py:30: FutureWarning: The behavior of array concatenation with empty entries is deprecated. In a future version, this will no longer exclude empty items when determining the result dtype. To retain the old behavior, exclude the empty entries before the concat operation.\n",
      "  df[column_name] = df[column_name+'_new'].combine_first(df[column_name])\n"
     ]
    }
   ],
   "source": [
    "# test pipeline\n",
    "garden_folder = \"/Users/evgenynazarenko/DACS_3_year/Thesis/GardenFiles23/garden_08032024\"\n",
    "human_labels = list(human['label'])\n",
    "mit_ast_pipeline(garden_folder,human_labels)"
   ]
  },
  {
   "cell_type": "code",
   "execution_count": 35,
   "metadata": {},
   "outputs": [
    {
     "name": "stdout",
     "output_type": "stream",
     "text": [
      "Found metadata file: /Users/evgenynazarenko/DACS_3_year/Thesis/GardenFiles23/garden_10092023/garden_10092023_metadata.xlsx\n"
     ]
    },
    {
     "data": {
      "application/vnd.jupyter.widget-view+json": {
       "model_id": "ab2b2196a68043dbbadb56be6c079461",
       "version_major": 2,
       "version_minor": 0
      },
      "text/plain": [
       "Classifying files:   0%|          | 0/12696 [00:00<?, ?it/s]"
      ]
     },
     "metadata": {},
     "output_type": "display_data"
    },
    {
     "name": "stdout",
     "output_type": "stream",
     "text": [
      "/Users/evgenynazarenko/DACS_3_year/Thesis/GardenFiles23/garden_10092023/garden_10092023_metadata.xlsx\n"
     ]
    },
    {
     "name": "stderr",
     "output_type": "stream",
     "text": [
      "/var/folders/lh/0lt7mv811l56hczm0y7dwzym0000gn/T/ipykernel_81228/1414391559.py:30: FutureWarning: The behavior of array concatenation with empty entries is deprecated. In a future version, this will no longer exclude empty items when determining the result dtype. To retain the old behavior, exclude the empty entries before the concat operation.\n",
      "  df[column_name] = df[column_name+'_new'].combine_first(df[column_name])\n"
     ]
    }
   ],
   "source": [
    "# test pipeline\n",
    "garden_folder = \"/Users/evgenynazarenko/DACS_3_year/Thesis/GardenFiles23/garden_10092023\"\n",
    "human_labels = list(human['label'])\n",
    "mit_ast_pipeline(garden_folder,human_labels)"
   ]
  },
  {
   "cell_type": "code",
   "execution_count": 36,
   "metadata": {},
   "outputs": [
    {
     "name": "stdout",
     "output_type": "stream",
     "text": [
      "Found metadata file: /Users/evgenynazarenko/DACS_3_year/Thesis/GardenFiles23/garden_11082023/garden_11082023_metadata.xlsx\n"
     ]
    },
    {
     "data": {
      "application/vnd.jupyter.widget-view+json": {
       "model_id": "3d34bb770ad84fc980cd692393cc47d4",
       "version_major": 2,
       "version_minor": 0
      },
      "text/plain": [
       "Classifying files:   0%|          | 0/4823 [00:00<?, ?it/s]"
      ]
     },
     "metadata": {},
     "output_type": "display_data"
    },
    {
     "name": "stdout",
     "output_type": "stream",
     "text": [
      "/Users/evgenynazarenko/DACS_3_year/Thesis/GardenFiles23/garden_11082023/garden_11082023_metadata.xlsx\n"
     ]
    },
    {
     "name": "stderr",
     "output_type": "stream",
     "text": [
      "/var/folders/lh/0lt7mv811l56hczm0y7dwzym0000gn/T/ipykernel_81228/1414391559.py:30: FutureWarning: The behavior of array concatenation with empty entries is deprecated. In a future version, this will no longer exclude empty items when determining the result dtype. To retain the old behavior, exclude the empty entries before the concat operation.\n",
      "  df[column_name] = df[column_name+'_new'].combine_first(df[column_name])\n"
     ]
    }
   ],
   "source": [
    "# test pipeline\n",
    "garden_folder = \"/Users/evgenynazarenko/DACS_3_year/Thesis/GardenFiles23/garden_11082023\"\n",
    "human_labels = list(human['label'])\n",
    "mit_ast_pipeline(garden_folder,human_labels)"
   ]
  },
  {
   "cell_type": "code",
   "execution_count": 37,
   "metadata": {},
   "outputs": [
    {
     "name": "stdout",
     "output_type": "stream",
     "text": [
      "Found metadata file: /Users/evgenynazarenko/DACS_3_year/Thesis/GardenFiles23/garden_12112023/garden_12112023_metadata.xlsx\n"
     ]
    },
    {
     "data": {
      "application/vnd.jupyter.widget-view+json": {
       "model_id": "c10d0d768f354307870ea6da0bd9aedc",
       "version_major": 2,
       "version_minor": 0
      },
      "text/plain": [
       "Classifying files:   0%|          | 0/32772 [00:00<?, ?it/s]"
      ]
     },
     "metadata": {},
     "output_type": "display_data"
    },
    {
     "name": "stdout",
     "output_type": "stream",
     "text": [
      "/Users/evgenynazarenko/DACS_3_year/Thesis/GardenFiles23/garden_12112023/garden_12112023_metadata.xlsx\n"
     ]
    },
    {
     "name": "stderr",
     "output_type": "stream",
     "text": [
      "/var/folders/lh/0lt7mv811l56hczm0y7dwzym0000gn/T/ipykernel_81228/1414391559.py:30: FutureWarning: The behavior of array concatenation with empty entries is deprecated. In a future version, this will no longer exclude empty items when determining the result dtype. To retain the old behavior, exclude the empty entries before the concat operation.\n",
      "  df[column_name] = df[column_name+'_new'].combine_first(df[column_name])\n"
     ]
    }
   ],
   "source": [
    "# test pipeline\n",
    "garden_folder = \"/Users/evgenynazarenko/DACS_3_year/Thesis/GardenFiles23/garden_12112023\"\n",
    "human_labels = list(human['label'])\n",
    "mit_ast_pipeline(garden_folder,human_labels)"
   ]
  },
  {
   "cell_type": "code",
   "execution_count": 39,
   "metadata": {},
   "outputs": [
    {
     "name": "stdout",
     "output_type": "stream",
     "text": [
      "Found metadata file: /Users/evgenynazarenko/DACS_3_year/Thesis/GardenFiles23/garden_16032024/garden_16032024_metadata.xlsx\n"
     ]
    },
    {
     "data": {
      "application/vnd.jupyter.widget-view+json": {
       "model_id": "1f5bc7f80fa54ad68441941625c22ad9",
       "version_major": 2,
       "version_minor": 0
      },
      "text/plain": [
       "Classifying files:   0%|          | 0/24671 [00:00<?, ?it/s]"
      ]
     },
     "metadata": {},
     "output_type": "display_data"
    },
    {
     "name": "stdout",
     "output_type": "stream",
     "text": [
      "/Users/evgenynazarenko/DACS_3_year/Thesis/GardenFiles23/garden_16032024/garden_16032024_metadata.xlsx\n"
     ]
    },
    {
     "name": "stderr",
     "output_type": "stream",
     "text": [
      "/var/folders/lh/0lt7mv811l56hczm0y7dwzym0000gn/T/ipykernel_81228/1414391559.py:30: FutureWarning: The behavior of array concatenation with empty entries is deprecated. In a future version, this will no longer exclude empty items when determining the result dtype. To retain the old behavior, exclude the empty entries before the concat operation.\n",
      "  df[column_name] = df[column_name+'_new'].combine_first(df[column_name])\n"
     ]
    }
   ],
   "source": [
    "# test pipeline\n",
    "garden_folder = \"/Users/evgenynazarenko/DACS_3_year/Thesis/GardenFiles23/garden_16032024\"\n",
    "human_labels = list(human['label'])\n",
    "mit_ast_pipeline(garden_folder,human_labels)"
   ]
  },
  {
   "cell_type": "code",
   "execution_count": 50,
   "metadata": {},
   "outputs": [
    {
     "name": "stdout",
     "output_type": "stream",
     "text": [
      "Found metadata file: /Users/evgenynazarenko/DACS_3_year/Thesis/GardenFiles23/garden_16122023/garden_16122023_metadata.xlsx\n"
     ]
    },
    {
     "data": {
      "application/vnd.jupyter.widget-view+json": {
       "model_id": "48b835b9c3ce418da0eb118271bfb4f1",
       "version_major": 2,
       "version_minor": 0
      },
      "text/plain": [
       "Classifying files:   0%|          | 0/31574 [00:00<?, ?it/s]"
      ]
     },
     "metadata": {},
     "output_type": "display_data"
    },
    {
     "name": "stdout",
     "output_type": "stream",
     "text": [
      "/Users/evgenynazarenko/DACS_3_year/Thesis/GardenFiles23/garden_16122023/garden_16122023_metadata.xlsx\n"
     ]
    }
   ],
   "source": [
    "# test pipeline\n",
    "garden_folder = \"/Users/evgenynazarenko/DACS_3_year/Thesis/GardenFiles23/garden_16122023\"\n",
    "human_labels = list(human['label'])\n",
    "mit_ast_pipeline(garden_folder,human_labels)"
   ]
  },
  {
   "cell_type": "code",
   "execution_count": 42,
   "metadata": {},
   "outputs": [
    {
     "name": "stdout",
     "output_type": "stream",
     "text": [
      "Found metadata file: /Users/evgenynazarenko/DACS_3_year/Thesis/GardenFiles23/garden_19102023/garden_19102023_birdnet_metadata.xlsx\n"
     ]
    },
    {
     "data": {
      "application/vnd.jupyter.widget-view+json": {
       "model_id": "dbdbe327676b4d8a8f52681aaf006ee4",
       "version_major": 2,
       "version_minor": 0
      },
      "text/plain": [
       "Classifying files:   0%|          | 0/1619 [00:00<?, ?it/s]"
      ]
     },
     "metadata": {},
     "output_type": "display_data"
    },
    {
     "name": "stdout",
     "output_type": "stream",
     "text": [
      "/Users/evgenynazarenko/DACS_3_year/Thesis/GardenFiles23/garden_19102023/garden_19102023_birdnet_metadata.xlsx\n"
     ]
    },
    {
     "name": "stderr",
     "output_type": "stream",
     "text": [
      "/var/folders/lh/0lt7mv811l56hczm0y7dwzym0000gn/T/ipykernel_81228/1414391559.py:30: FutureWarning: The behavior of array concatenation with empty entries is deprecated. In a future version, this will no longer exclude empty items when determining the result dtype. To retain the old behavior, exclude the empty entries before the concat operation.\n",
      "  df[column_name] = df[column_name+'_new'].combine_first(df[column_name])\n"
     ]
    }
   ],
   "source": [
    "# test pipeline\n",
    "garden_folder = \"/Users/evgenynazarenko/DACS_3_year/Thesis/GardenFiles23/garden_19102023\"\n",
    "human_labels = list(human['label'])\n",
    "mit_ast_pipeline(garden_folder,human_labels)"
   ]
  },
  {
   "cell_type": "code",
   "execution_count": 51,
   "metadata": {},
   "outputs": [
    {
     "name": "stdout",
     "output_type": "stream",
     "text": [
      "Found metadata file: /Users/evgenynazarenko/DACS_3_year/Thesis/GardenFiles23/garden_20012024/garden_20012024_metadata.xlsx\n"
     ]
    },
    {
     "data": {
      "application/vnd.jupyter.widget-view+json": {
       "model_id": "63665d7824a94d46afdd58ad901e793d",
       "version_major": 2,
       "version_minor": 0
      },
      "text/plain": [
       "Classifying files:   0%|          | 0/45069 [00:00<?, ?it/s]"
      ]
     },
     "metadata": {},
     "output_type": "display_data"
    },
    {
     "name": "stdout",
     "output_type": "stream",
     "text": [
      "/Users/evgenynazarenko/DACS_3_year/Thesis/GardenFiles23/garden_20012024/garden_20012024_metadata.xlsx\n"
     ]
    },
    {
     "name": "stderr",
     "output_type": "stream",
     "text": [
      "/var/folders/lh/0lt7mv811l56hczm0y7dwzym0000gn/T/ipykernel_81228/1414391559.py:30: FutureWarning: The behavior of array concatenation with empty entries is deprecated. In a future version, this will no longer exclude empty items when determining the result dtype. To retain the old behavior, exclude the empty entries before the concat operation.\n",
      "  df[column_name] = df[column_name+'_new'].combine_first(df[column_name])\n"
     ]
    }
   ],
   "source": [
    "# test pipeline\n",
    "garden_folder = \"/Users/evgenynazarenko/DACS_3_year/Thesis/GardenFiles23/garden_20012024\"\n",
    "human_labels = list(human['label'])\n",
    "mit_ast_pipeline(garden_folder,human_labels)"
   ]
  },
  {
   "cell_type": "code",
   "execution_count": 44,
   "metadata": {},
   "outputs": [
    {
     "name": "stdout",
     "output_type": "stream",
     "text": [
      "Found metadata file: /Users/evgenynazarenko/DACS_3_year/Thesis/GardenFiles23/garden_21092023/garden_21092023_metadata.xlsx\n"
     ]
    },
    {
     "data": {
      "application/vnd.jupyter.widget-view+json": {
       "model_id": "f5d2e865d5744338bfc32464db7ce820",
       "version_major": 2,
       "version_minor": 0
      },
      "text/plain": [
       "Classifying files:   0%|          | 0/20886 [00:00<?, ?it/s]"
      ]
     },
     "metadata": {},
     "output_type": "display_data"
    },
    {
     "name": "stdout",
     "output_type": "stream",
     "text": [
      "/Users/evgenynazarenko/DACS_3_year/Thesis/GardenFiles23/garden_21092023/garden_21092023_metadata.xlsx\n"
     ]
    },
    {
     "name": "stderr",
     "output_type": "stream",
     "text": [
      "/var/folders/lh/0lt7mv811l56hczm0y7dwzym0000gn/T/ipykernel_81228/1414391559.py:30: FutureWarning: The behavior of array concatenation with empty entries is deprecated. In a future version, this will no longer exclude empty items when determining the result dtype. To retain the old behavior, exclude the empty entries before the concat operation.\n",
      "  df[column_name] = df[column_name+'_new'].combine_first(df[column_name])\n"
     ]
    }
   ],
   "source": [
    "# test pipeline\n",
    "garden_folder = \"/Users/evgenynazarenko/DACS_3_year/Thesis/GardenFiles23/garden_21092023\"\n",
    "human_labels = list(human['label'])\n",
    "mit_ast_pipeline(garden_folder,human_labels)"
   ]
  },
  {
   "cell_type": "code",
   "execution_count": 45,
   "metadata": {},
   "outputs": [
    {
     "name": "stdout",
     "output_type": "stream",
     "text": [
      "Found metadata file: /Users/evgenynazarenko/DACS_3_year/Thesis/GardenFiles23/garden_21102023/garden_21102023_metadata.xlsx\n"
     ]
    },
    {
     "data": {
      "application/vnd.jupyter.widget-view+json": {
       "model_id": "376643fbb5bc4906960ecfeda7bbcc35",
       "version_major": 2,
       "version_minor": 0
      },
      "text/plain": [
       "Classifying files:   0%|          | 0/17620 [00:00<?, ?it/s]"
      ]
     },
     "metadata": {},
     "output_type": "display_data"
    },
    {
     "name": "stdout",
     "output_type": "stream",
     "text": [
      "/Users/evgenynazarenko/DACS_3_year/Thesis/GardenFiles23/garden_21102023/garden_21102023_metadata.xlsx\n"
     ]
    },
    {
     "name": "stderr",
     "output_type": "stream",
     "text": [
      "/var/folders/lh/0lt7mv811l56hczm0y7dwzym0000gn/T/ipykernel_81228/1414391559.py:30: FutureWarning: The behavior of array concatenation with empty entries is deprecated. In a future version, this will no longer exclude empty items when determining the result dtype. To retain the old behavior, exclude the empty entries before the concat operation.\n",
      "  df[column_name] = df[column_name+'_new'].combine_first(df[column_name])\n"
     ]
    }
   ],
   "source": [
    "# test pipeline\n",
    "garden_folder = \"/Users/evgenynazarenko/DACS_3_year/Thesis/GardenFiles23/garden_21102023\"\n",
    "human_labels = list(human['label'])\n",
    "mit_ast_pipeline(garden_folder,human_labels)"
   ]
  },
  {
   "cell_type": "code",
   "execution_count": 49,
   "metadata": {},
   "outputs": [
    {
     "name": "stdout",
     "output_type": "stream",
     "text": [
      "Found metadata file: /Users/evgenynazarenko/DACS_3_year/Thesis/GardenFiles23/garden_23122023/garden_23122023_metadata.xlsx\n"
     ]
    },
    {
     "data": {
      "application/vnd.jupyter.widget-view+json": {
       "model_id": "3341ead201a6493f80b5a7e7a4bc1cb1",
       "version_major": 2,
       "version_minor": 0
      },
      "text/plain": [
       "Classifying files:   0%|          | 0/15162 [00:00<?, ?it/s]"
      ]
     },
     "metadata": {},
     "output_type": "display_data"
    },
    {
     "name": "stdout",
     "output_type": "stream",
     "text": [
      "Error processing file /Users/evgenynazarenko/DACS_3_year/Thesis/GardenFiles23/garden_23122023/146/er_file_2023_12_24_20_28_23.wav: Failed to open the input \"/Users/evgenynazarenko/DACS_3_year/Thesis/GardenFiles23/garden_23122023/146/er_file_2023_12_24_20_28_23.wav\" (Invalid data found when processing input).\n",
      "Error processing file /Users/evgenynazarenko/DACS_3_year/Thesis/GardenFiles23/garden_23122023/146/er_file_2023_12_24_20_55_23.wav: Failed to open the input \"/Users/evgenynazarenko/DACS_3_year/Thesis/GardenFiles23/garden_23122023/146/er_file_2023_12_24_20_55_23.wav\" (Invalid data found when processing input).\n",
      "Error processing file /Users/evgenynazarenko/DACS_3_year/Thesis/GardenFiles23/garden_23122023/146/er_file_2023_12_24_21_47_54.wav: Failed to open the input \"/Users/evgenynazarenko/DACS_3_year/Thesis/GardenFiles23/garden_23122023/146/er_file_2023_12_24_21_47_54.wav\" (Invalid data found when processing input).\n",
      "Error processing file /Users/evgenynazarenko/DACS_3_year/Thesis/GardenFiles23/garden_23122023/146/er_file_2023_12_24_21_01_15.wav: Failed to open the input \"/Users/evgenynazarenko/DACS_3_year/Thesis/GardenFiles23/garden_23122023/146/er_file_2023_12_24_21_01_15.wav\" (Invalid data found when processing input).\n",
      "Error processing file /Users/evgenynazarenko/DACS_3_year/Thesis/GardenFiles23/garden_23122023/146/er_file_2023_12_24_21_47_40.wav: Failed to open the input \"/Users/evgenynazarenko/DACS_3_year/Thesis/GardenFiles23/garden_23122023/146/er_file_2023_12_24_21_47_40.wav\" (Invalid data found when processing input).\n",
      "Error processing file /Users/evgenynazarenko/DACS_3_year/Thesis/GardenFiles23/garden_23122023/146/er_file_2023_12_24_20_31_16.wav: Failed to open the input \"/Users/evgenynazarenko/DACS_3_year/Thesis/GardenFiles23/garden_23122023/146/er_file_2023_12_24_20_31_16.wav\" (Invalid data found when processing input).\n",
      "Error processing file /Users/evgenynazarenko/DACS_3_year/Thesis/GardenFiles23/garden_23122023/146/er_file_2023_12_24_21_24_54.wav: Failed to open the input \"/Users/evgenynazarenko/DACS_3_year/Thesis/GardenFiles23/garden_23122023/146/er_file_2023_12_24_21_24_54.wav\" (Invalid data found when processing input).\n",
      "Error processing file /Users/evgenynazarenko/DACS_3_year/Thesis/GardenFiles23/garden_23122023/146/er_file_2023_12_24_21_24_40.wav: Failed to open the input \"/Users/evgenynazarenko/DACS_3_year/Thesis/GardenFiles23/garden_23122023/146/er_file_2023_12_24_21_24_40.wav\" (Invalid data found when processing input).\n",
      "Error processing file /Users/evgenynazarenko/DACS_3_year/Thesis/GardenFiles23/garden_23122023/146/er_file_2023_12_24_18_05_38.wav: Failed to open the input \"/Users/evgenynazarenko/DACS_3_year/Thesis/GardenFiles23/garden_23122023/146/er_file_2023_12_24_18_05_38.wav\" (Invalid data found when processing input).\n",
      "Error processing file /Users/evgenynazarenko/DACS_3_year/Thesis/GardenFiles23/garden_23122023/146/er_file_2023_12_24_21_23_49.wav: Failed to open the input \"/Users/evgenynazarenko/DACS_3_year/Thesis/GardenFiles23/garden_23122023/146/er_file_2023_12_24_21_23_49.wav\" (Invalid data found when processing input).\n",
      "Error processing file /Users/evgenynazarenko/DACS_3_year/Thesis/GardenFiles23/garden_23122023/146/er_file_2023_12_24_18_05_04.wav: Failed to open the input \"/Users/evgenynazarenko/DACS_3_year/Thesis/GardenFiles23/garden_23122023/146/er_file_2023_12_24_18_05_04.wav\" (Invalid data found when processing input).\n",
      "Error processing file /Users/evgenynazarenko/DACS_3_year/Thesis/GardenFiles23/garden_23122023/146/er_file_2023_12_24_21_37_00.wav: Failed to open the input \"/Users/evgenynazarenko/DACS_3_year/Thesis/GardenFiles23/garden_23122023/146/er_file_2023_12_24_21_37_00.wav\" (Invalid data found when processing input).\n",
      "Error processing file /Users/evgenynazarenko/DACS_3_year/Thesis/GardenFiles23/garden_23122023/146/er_file_2023_12_24_21_50_58.wav: Failed to open the input \"/Users/evgenynazarenko/DACS_3_year/Thesis/GardenFiles23/garden_23122023/146/er_file_2023_12_24_21_50_58.wav\" (Invalid data found when processing input).\n",
      "Error processing file /Users/evgenynazarenko/DACS_3_year/Thesis/GardenFiles23/garden_23122023/146/er_file_2023_12_24_18_48_58.wav: Failed to open the input \"/Users/evgenynazarenko/DACS_3_year/Thesis/GardenFiles23/garden_23122023/146/er_file_2023_12_24_18_48_58.wav\" (Invalid data found when processing input).\n",
      "Error processing file /Users/evgenynazarenko/DACS_3_year/Thesis/GardenFiles23/garden_23122023/146/er_file_2023_12_24_21_46_00.wav: Failed to open the input \"/Users/evgenynazarenko/DACS_3_year/Thesis/GardenFiles23/garden_23122023/146/er_file_2023_12_24_21_46_00.wav\" (Invalid data found when processing input).\n",
      "Error processing file /Users/evgenynazarenko/DACS_3_year/Thesis/GardenFiles23/garden_23122023/146/er_file_2023_12_24_21_46_14.wav: Failed to open the input \"/Users/evgenynazarenko/DACS_3_year/Thesis/GardenFiles23/garden_23122023/146/er_file_2023_12_24_21_46_14.wav\" (Invalid data found when processing input).\n",
      "Error processing file /Users/evgenynazarenko/DACS_3_year/Thesis/GardenFiles23/garden_23122023/146/er_file_2023_12_24_21_00_41.wav: Failed to open the input \"/Users/evgenynazarenko/DACS_3_year/Thesis/GardenFiles23/garden_23122023/146/er_file_2023_12_24_21_00_41.wav\" (Invalid data found when processing input).\n",
      "Error processing file /Users/evgenynazarenko/DACS_3_year/Thesis/GardenFiles23/garden_23122023/146/er_file_2023_12_24_21_48_11.wav: Failed to open the input \"/Users/evgenynazarenko/DACS_3_year/Thesis/GardenFiles23/garden_23122023/146/er_file_2023_12_24_21_48_11.wav\" (Invalid data found when processing input).\n",
      "Error processing file /Users/evgenynazarenko/DACS_3_year/Thesis/GardenFiles23/garden_23122023/146/er_file_2023_12_24_19_20_26.wav: Failed to open the input \"/Users/evgenynazarenko/DACS_3_year/Thesis/GardenFiles23/garden_23122023/146/er_file_2023_12_24_19_20_26.wav\" (Invalid data found when processing input).\n",
      "Error processing file /Users/evgenynazarenko/DACS_3_year/Thesis/GardenFiles23/garden_23122023/146/er_file_2023_12_24_21_25_00.wav: Failed to open the input \"/Users/evgenynazarenko/DACS_3_year/Thesis/GardenFiles23/garden_23122023/146/er_file_2023_12_24_21_25_00.wav\" (Invalid data found when processing input).\n",
      "Error processing file /Users/evgenynazarenko/DACS_3_year/Thesis/GardenFiles23/garden_23122023/146/er_file_2023_12_24_19_30_23.wav: Failed to open the input \"/Users/evgenynazarenko/DACS_3_year/Thesis/GardenFiles23/garden_23122023/146/er_file_2023_12_24_19_30_23.wav\" (Invalid data found when processing input).\n",
      "Error processing file /Users/evgenynazarenko/DACS_3_year/Thesis/GardenFiles23/garden_23122023/146/er_file_2023_12_24_21_03_05.wav: Failed to open the input \"/Users/evgenynazarenko/DACS_3_year/Thesis/GardenFiles23/garden_23122023/146/er_file_2023_12_24_21_03_05.wav\" (Invalid data found when processing input).\n",
      "Error processing file /Users/evgenynazarenko/DACS_3_year/Thesis/GardenFiles23/garden_23122023/146/er_file_2023_12_24_20_57_27.wav: Failed to open the input \"/Users/evgenynazarenko/DACS_3_year/Thesis/GardenFiles23/garden_23122023/146/er_file_2023_12_24_20_57_27.wav\" (Invalid data found when processing input).\n",
      "Error processing file /Users/evgenynazarenko/DACS_3_year/Thesis/GardenFiles23/garden_23122023/146/er_file_2023_12_24_21_22_20.wav: Failed to open the input \"/Users/evgenynazarenko/DACS_3_year/Thesis/GardenFiles23/garden_23122023/146/er_file_2023_12_24_21_22_20.wav\" (Invalid data found when processing input).\n",
      "Error processing file /Users/evgenynazarenko/DACS_3_year/Thesis/GardenFiles23/garden_23122023/146/er_file_2023_12_24_19_18_23.wav: Failed to open the input \"/Users/evgenynazarenko/DACS_3_year/Thesis/GardenFiles23/garden_23122023/146/er_file_2023_12_24_19_18_23.wav\" (Invalid data found when processing input).\n",
      "Error processing file /Users/evgenynazarenko/DACS_3_year/Thesis/GardenFiles23/garden_23122023/146/er_file_2023_12_24_21_48_38.wav: Failed to open the input \"/Users/evgenynazarenko/DACS_3_year/Thesis/GardenFiles23/garden_23122023/146/er_file_2023_12_24_21_48_38.wav\" (Invalid data found when processing input).\n",
      "Error processing file /Users/evgenynazarenko/DACS_3_year/Thesis/GardenFiles23/garden_23122023/146/er_file_2023_12_24_21_41_08.wav: Failed to open the input \"/Users/evgenynazarenko/DACS_3_year/Thesis/GardenFiles23/garden_23122023/146/er_file_2023_12_24_21_41_08.wav\" (Invalid data found when processing input).\n",
      "Error processing file /Users/evgenynazarenko/DACS_3_year/Thesis/GardenFiles23/garden_23122023/146/er_file_2023_12_24_21_21_59.wav: Failed to open the input \"/Users/evgenynazarenko/DACS_3_year/Thesis/GardenFiles23/garden_23122023/146/er_file_2023_12_24_21_21_59.wav\" (Invalid data found when processing input).\n",
      "Error processing file /Users/evgenynazarenko/DACS_3_year/Thesis/GardenFiles23/garden_23122023/146/er_file_2023_12_24_21_44_38.wav: Failed to open the input \"/Users/evgenynazarenko/DACS_3_year/Thesis/GardenFiles23/garden_23122023/146/er_file_2023_12_24_21_44_38.wav\" (Invalid data found when processing input).\n",
      "Error processing file /Users/evgenynazarenko/DACS_3_year/Thesis/GardenFiles23/garden_23122023/146/er_file_2023_12_24_21_43_31.wav: Failed to open the input \"/Users/evgenynazarenko/DACS_3_year/Thesis/GardenFiles23/garden_23122023/146/er_file_2023_12_24_21_43_31.wav\" (Invalid data found when processing input).\n",
      "Error processing file /Users/evgenynazarenko/DACS_3_year/Thesis/GardenFiles23/garden_23122023/146/er_file_2023_12_24_21_44_10.wav: Failed to open the input \"/Users/evgenynazarenko/DACS_3_year/Thesis/GardenFiles23/garden_23122023/146/er_file_2023_12_24_21_44_10.wav\" (Invalid data found when processing input).\n",
      "Error processing file /Users/evgenynazarenko/DACS_3_year/Thesis/GardenFiles23/garden_23122023/146/er_file_2023_12_24_20_31_03.wav: Failed to open the input \"/Users/evgenynazarenko/DACS_3_year/Thesis/GardenFiles23/garden_23122023/146/er_file_2023_12_24_20_31_03.wav\" (Invalid data found when processing input).\n",
      "Error processing file /Users/evgenynazarenko/DACS_3_year/Thesis/GardenFiles23/garden_23122023/146/er_file_2023_12_24_21_39_10.wav: Failed to open the input \"/Users/evgenynazarenko/DACS_3_year/Thesis/GardenFiles23/garden_23122023/146/er_file_2023_12_24_21_39_10.wav\" (Invalid data found when processing input).\n",
      "Error processing file /Users/evgenynazarenko/DACS_3_year/Thesis/GardenFiles23/garden_23122023/146/er_file_2023_12_24_20_28_20.wav: Failed to open the input \"/Users/evgenynazarenko/DACS_3_year/Thesis/GardenFiles23/garden_23122023/146/er_file_2023_12_24_20_28_20.wav\" (Invalid data found when processing input).\n",
      "Error processing file /Users/evgenynazarenko/DACS_3_year/Thesis/GardenFiles23/garden_23122023/146/er_file_2023_12_24_20_32_50.wav: Failed to open the input \"/Users/evgenynazarenko/DACS_3_year/Thesis/GardenFiles23/garden_23122023/146/er_file_2023_12_24_20_32_50.wav\" (Invalid data found when processing input).\n",
      "Error processing file /Users/evgenynazarenko/DACS_3_year/Thesis/GardenFiles23/garden_23122023/146/er_file_2023_12_24_20_55_20.wav: Failed to open the input \"/Users/evgenynazarenko/DACS_3_year/Thesis/GardenFiles23/garden_23122023/146/er_file_2023_12_24_20_55_20.wav\" (Invalid data found when processing input).\n",
      "Error processing file /Users/evgenynazarenko/DACS_3_year/Thesis/GardenFiles23/garden_23122023/146/er_file_2023_12_24_19_28_55.wav: Failed to open the input \"/Users/evgenynazarenko/DACS_3_year/Thesis/GardenFiles23/garden_23122023/146/er_file_2023_12_24_19_28_55.wav\" (Invalid data found when processing input).\n",
      "Error processing file /Users/evgenynazarenko/DACS_3_year/Thesis/GardenFiles23/garden_23122023/146/er_file_2023_12_24_20_55_08.wav: Failed to open the input \"/Users/evgenynazarenko/DACS_3_year/Thesis/GardenFiles23/garden_23122023/146/er_file_2023_12_24_20_55_08.wav\" (Invalid data found when processing input).\n",
      "Error processing file /Users/evgenynazarenko/DACS_3_year/Thesis/GardenFiles23/garden_23122023/146/er_file_2023_12_24_21_47_57.wav: Failed to open the input \"/Users/evgenynazarenko/DACS_3_year/Thesis/GardenFiles23/garden_23122023/146/er_file_2023_12_24_21_47_57.wav\" (Invalid data found when processing input).\n",
      "Error processing file /Users/evgenynazarenko/DACS_3_year/Thesis/GardenFiles23/garden_23122023/146/er_file_2023_12_24_21_39_06.wav: Failed to open the input \"/Users/evgenynazarenko/DACS_3_year/Thesis/GardenFiles23/garden_23122023/146/er_file_2023_12_24_21_39_06.wav\" (Invalid data found when processing input).\n",
      "Error processing file /Users/evgenynazarenko/DACS_3_year/Thesis/GardenFiles23/garden_23122023/146/er_file_2023_12_24_21_37_03.wav: Failed to open the input \"/Users/evgenynazarenko/DACS_3_year/Thesis/GardenFiles23/garden_23122023/146/er_file_2023_12_24_21_37_03.wav\" (Invalid data found when processing input).\n",
      "Error processing file /Users/evgenynazarenko/DACS_3_year/Thesis/GardenFiles23/garden_23122023/146/er_file_2023_12_24_18_05_07.wav: Failed to open the input \"/Users/evgenynazarenko/DACS_3_year/Thesis/GardenFiles23/garden_23122023/146/er_file_2023_12_24_18_05_07.wav\" (Invalid data found when processing input).\n",
      "Error processing file /Users/evgenynazarenko/DACS_3_year/Thesis/GardenFiles23/garden_23122023/146/er_file_2023_12_24_20_56_59.wav: Failed to open the input \"/Users/evgenynazarenko/DACS_3_year/Thesis/GardenFiles23/garden_23122023/146/er_file_2023_12_24_20_56_59.wav\" (Invalid data found when processing input).\n",
      "Error processing file /Users/evgenynazarenko/DACS_3_year/Thesis/GardenFiles23/garden_23122023/146/er_file_2023_12_24_21_02_53.wav: Failed to open the input \"/Users/evgenynazarenko/DACS_3_year/Thesis/GardenFiles23/garden_23122023/146/er_file_2023_12_24_21_02_53.wav\" (Invalid data found when processing input).\n",
      "Error processing file /Users/evgenynazarenko/DACS_3_year/Thesis/GardenFiles23/garden_23122023/146/er_file_2023_12_24_21_43_33.wav: Failed to open the input \"/Users/evgenynazarenko/DACS_3_year/Thesis/GardenFiles23/garden_23122023/146/er_file_2023_12_24_21_43_33.wav\" (Invalid data found when processing input).\n",
      "Error processing file /Users/evgenynazarenko/DACS_3_year/Thesis/GardenFiles23/garden_23122023/146/er_file_2023_12_24_21_46_17.wav: Failed to open the input \"/Users/evgenynazarenko/DACS_3_year/Thesis/GardenFiles23/garden_23122023/146/er_file_2023_12_24_21_46_17.wav\" (Invalid data found when processing input).\n",
      "Error processing file /Users/evgenynazarenko/DACS_3_year/Thesis/GardenFiles23/garden_23122023/146/er_file_2023_12_24_21_41_22.wav: Failed to open the input \"/Users/evgenynazarenko/DACS_3_year/Thesis/GardenFiles23/garden_23122023/146/er_file_2023_12_24_21_41_22.wav\" (Invalid data found when processing input).\n",
      "Error processing file /Users/evgenynazarenko/DACS_3_year/Thesis/GardenFiles23/garden_23122023/146/er_file_2023_12_24_18_04_53.wav: Failed to open the input \"/Users/evgenynazarenko/DACS_3_year/Thesis/GardenFiles23/garden_23122023/146/er_file_2023_12_24_18_04_53.wav\" (Invalid data found when processing input).\n",
      "Error processing file /Users/evgenynazarenko/DACS_3_year/Thesis/GardenFiles23/garden_23122023/146/er_file_2023_12_24_19_18_21.wav: Failed to open the input \"/Users/evgenynazarenko/DACS_3_year/Thesis/GardenFiles23/garden_23122023/146/er_file_2023_12_24_19_18_21.wav\" (Invalid data found when processing input).\n",
      "Error processing file /Users/evgenynazarenko/DACS_3_year/Thesis/GardenFiles23/garden_23122023/146/er_file_2023_12_24_21_22_36.wav: Failed to open the input \"/Users/evgenynazarenko/DACS_3_year/Thesis/GardenFiles23/garden_23122023/146/er_file_2023_12_24_21_22_36.wav\" (Invalid data found when processing input).\n",
      "Error processing file /Users/evgenynazarenko/DACS_3_year/Thesis/GardenFiles23/garden_23122023/146/er_file_2023_12_24_19_18_09.wav: Failed to open the input \"/Users/evgenynazarenko/DACS_3_year/Thesis/GardenFiles23/garden_23122023/146/er_file_2023_12_24_19_18_09.wav\" (Invalid data found when processing input).\n",
      "Error processing file /Users/evgenynazarenko/DACS_3_year/Thesis/GardenFiles23/garden_23122023/146/er_file_2023_12_24_20_59_08.wav: Failed to open the input \"/Users/evgenynazarenko/DACS_3_year/Thesis/GardenFiles23/garden_23122023/146/er_file_2023_12_24_20_59_08.wav\" (Invalid data found when processing input).\n",
      "Error processing file /Users/evgenynazarenko/DACS_3_year/Thesis/GardenFiles23/garden_23122023/146/er_file_2023_12_24_19_30_20.wav: Failed to open the input \"/Users/evgenynazarenko/DACS_3_year/Thesis/GardenFiles23/garden_23122023/146/er_file_2023_12_24_19_30_20.wav\" (Invalid data found when processing input).\n",
      "Error processing file /Users/evgenynazarenko/DACS_3_year/Thesis/GardenFiles23/garden_23122023/146/er_file_2023_12_24_20_57_19.wav: Failed to open the input \"/Users/evgenynazarenko/DACS_3_year/Thesis/GardenFiles23/garden_23122023/146/er_file_2023_12_24_20_57_19.wav\" (Invalid data found when processing input).\n",
      "Error processing file /Users/evgenynazarenko/DACS_3_year/Thesis/GardenFiles23/garden_23122023/146/er_file_2023_12_24_21_41_37.wav: Failed to open the input \"/Users/evgenynazarenko/DACS_3_year/Thesis/GardenFiles23/garden_23122023/146/er_file_2023_12_24_21_41_37.wav\" (Invalid data found when processing input).\n",
      "Error processing file /Users/evgenynazarenko/DACS_3_year/Thesis/GardenFiles23/garden_23122023/146/er_file_2023_12_24_19_20_30.wav: Failed to open the input \"/Users/evgenynazarenko/DACS_3_year/Thesis/GardenFiles23/garden_23122023/146/er_file_2023_12_24_19_20_30.wav\" (Invalid data found when processing input).\n",
      "Error processing file /Users/evgenynazarenko/DACS_3_year/Thesis/GardenFiles23/garden_23122023/146/er_file_2023_12_24_21_00_43.wav: Failed to open the input \"/Users/evgenynazarenko/DACS_3_year/Thesis/GardenFiles23/garden_23122023/146/er_file_2023_12_24_21_00_43.wav\" (Invalid data found when processing input).\n",
      "Error processing file /Users/evgenynazarenko/DACS_3_year/Thesis/GardenFiles23/garden_23122023/146/er_file_2023_12_24_19_22_21.wav: Failed to open the input \"/Users/evgenynazarenko/DACS_3_year/Thesis/GardenFiles23/garden_23122023/146/er_file_2023_12_24_19_22_21.wav\" (Invalid data found when processing input).\n",
      "Error processing file /Users/evgenynazarenko/DACS_3_year/Thesis/GardenFiles23/garden_23122023/146/er_file_2023_12_24_21_44_07.wav: Failed to open the input \"/Users/evgenynazarenko/DACS_3_year/Thesis/GardenFiles23/garden_23122023/146/er_file_2023_12_24_21_44_07.wav\" (Invalid data found when processing input).\n",
      "Error processing file /Users/evgenynazarenko/DACS_3_year/Thesis/GardenFiles23/garden_23122023/146/er_file_2023_12_24_18_05_12.wav: Failed to open the input \"/Users/evgenynazarenko/DACS_3_year/Thesis/GardenFiles23/garden_23122023/146/er_file_2023_12_24_18_05_12.wav\" (Invalid data found when processing input).\n",
      "Error processing file /Users/evgenynazarenko/DACS_3_year/Thesis/GardenFiles23/garden_23122023/146/er_file_2023_12_24_19_19_48.wav: Failed to open the input \"/Users/evgenynazarenko/DACS_3_year/Thesis/GardenFiles23/garden_23122023/146/er_file_2023_12_24_19_19_48.wav\" (Invalid data found when processing input).\n",
      "Error processing file /Users/evgenynazarenko/DACS_3_year/Thesis/GardenFiles23/garden_23122023/146/er_file_2023_12_24_21_39_13.wav: Failed to open the input \"/Users/evgenynazarenko/DACS_3_year/Thesis/GardenFiles23/garden_23122023/146/er_file_2023_12_24_21_39_13.wav\" (Invalid data found when processing input).\n",
      "Error processing file /Users/evgenynazarenko/DACS_3_year/Thesis/GardenFiles23/garden_23122023/146/er_file_2023_12_24_21_01_03.wav: Failed to open the input \"/Users/evgenynazarenko/DACS_3_year/Thesis/GardenFiles23/garden_23122023/146/er_file_2023_12_24_21_01_03.wav\" (Invalid data found when processing input).\n",
      "Error processing file /Users/evgenynazarenko/DACS_3_year/Thesis/GardenFiles23/garden_23122023/146/er_file_2023_12_24_21_49_47.wav: Failed to open the input \"/Users/evgenynazarenko/DACS_3_year/Thesis/GardenFiles23/garden_23122023/146/er_file_2023_12_24_21_49_47.wav\" (Invalid data found when processing input).\n",
      "Error processing file /Users/evgenynazarenko/DACS_3_year/Thesis/GardenFiles23/garden_23122023/146/er_file_2023_12_24_21_49_53.wav: Failed to open the input \"/Users/evgenynazarenko/DACS_3_year/Thesis/GardenFiles23/garden_23122023/146/er_file_2023_12_24_21_49_53.wav\" (Invalid data found when processing input).\n",
      "Error processing file /Users/evgenynazarenko/DACS_3_year/Thesis/GardenFiles23/garden_23122023/146/er_file_2023_12_24_19_28_40.wav: Failed to open the input \"/Users/evgenynazarenko/DACS_3_year/Thesis/GardenFiles23/garden_23122023/146/er_file_2023_12_24_19_28_40.wav\" (Invalid data found when processing input).\n",
      "Error processing file /Users/evgenynazarenko/DACS_3_year/Thesis/GardenFiles23/garden_23122023/146/er_file_2023_12_24_20_32_45.wav: Failed to open the input \"/Users/evgenynazarenko/DACS_3_year/Thesis/GardenFiles23/garden_23122023/146/er_file_2023_12_24_20_32_45.wav\" (Invalid data found when processing input).\n",
      "Error processing file /Users/evgenynazarenko/DACS_3_year/Thesis/GardenFiles23/garden_23122023/146/er_file_2023_12_24_20_28_09.wav: Failed to open the input \"/Users/evgenynazarenko/DACS_3_year/Thesis/GardenFiles23/garden_23122023/146/er_file_2023_12_24_20_28_09.wav\" (Invalid data found when processing input).\n",
      "Error processing file /Users/evgenynazarenko/DACS_3_year/Thesis/GardenFiles23/garden_23122023/146/er_file_2023_12_24_18_49_32.wav: Failed to open the input \"/Users/evgenynazarenko/DACS_3_year/Thesis/GardenFiles23/garden_23122023/146/er_file_2023_12_24_18_49_32.wav\" (Invalid data found when processing input).\n",
      "Error processing file /Users/evgenynazarenko/DACS_3_year/Thesis/GardenFiles23/garden_23122023/146/er_file_2023_12_24_20_28_25.wav: Failed to open the input \"/Users/evgenynazarenko/DACS_3_year/Thesis/GardenFiles23/garden_23122023/146/er_file_2023_12_24_20_28_25.wav\" (Invalid data found when processing input).\n",
      "Error processing file /Users/evgenynazarenko/DACS_3_year/Thesis/GardenFiles23/garden_23122023/146/er_file_2023_12_24_19_21_48.wav: Failed to open the input \"/Users/evgenynazarenko/DACS_3_year/Thesis/GardenFiles23/garden_23122023/146/er_file_2023_12_24_19_21_48.wav\" (Invalid data found when processing input).\n",
      "Error processing file /Users/evgenynazarenko/DACS_3_year/Thesis/GardenFiles23/garden_23122023/146/er_file_2023_12_24_19_28_50.wav: Failed to open the input \"/Users/evgenynazarenko/DACS_3_year/Thesis/GardenFiles23/garden_23122023/146/er_file_2023_12_24_19_28_50.wav\" (Invalid data found when processing input).\n",
      "Error processing file /Users/evgenynazarenko/DACS_3_year/Thesis/GardenFiles23/garden_23122023/146/er_file_2023_12_24_21_37_06.wav: Failed to open the input \"/Users/evgenynazarenko/DACS_3_year/Thesis/GardenFiles23/garden_23122023/146/er_file_2023_12_24_21_37_06.wav\" (Invalid data found when processing input).\n",
      "Error processing file /Users/evgenynazarenko/DACS_3_year/Thesis/GardenFiles23/garden_23122023/146/er_file_2023_12_24_21_39_03.wav: Failed to open the input \"/Users/evgenynazarenko/DACS_3_year/Thesis/GardenFiles23/garden_23122023/146/er_file_2023_12_24_21_39_03.wav\" (Invalid data found when processing input).\n",
      "Error processing file /Users/evgenynazarenko/DACS_3_year/Thesis/GardenFiles23/garden_23122023/146/er_file_2023_12_24_21_02_56.wav: Failed to open the input \"/Users/evgenynazarenko/DACS_3_year/Thesis/GardenFiles23/garden_23122023/146/er_file_2023_12_24_21_02_56.wav\" (Invalid data found when processing input).\n",
      "Error processing file /Users/evgenynazarenko/DACS_3_year/Thesis/GardenFiles23/garden_23122023/146/er_file_2023_12_24_21_36_52.wav: Failed to open the input \"/Users/evgenynazarenko/DACS_3_year/Thesis/GardenFiles23/garden_23122023/146/er_file_2023_12_24_21_36_52.wav\" (Invalid data found when processing input).\n",
      "Error processing file /Users/evgenynazarenko/DACS_3_year/Thesis/GardenFiles23/garden_23122023/146/er_file_2023_12_24_21_45_43.wav: Failed to open the input \"/Users/evgenynazarenko/DACS_3_year/Thesis/GardenFiles23/garden_23122023/146/er_file_2023_12_24_21_45_43.wav\" (Invalid data found when processing input).\n",
      "Error processing file /Users/evgenynazarenko/DACS_3_year/Thesis/GardenFiles23/garden_23122023/146/er_file_2023_12_24_18_04_43.wav: Failed to open the input \"/Users/evgenynazarenko/DACS_3_year/Thesis/GardenFiles23/garden_23122023/146/er_file_2023_12_24_18_04_43.wav\" (Invalid data found when processing input).\n",
      "Error processing file /Users/evgenynazarenko/DACS_3_year/Thesis/GardenFiles23/garden_23122023/146/er_file_2023_12_24_21_22_32.wav: Failed to open the input \"/Users/evgenynazarenko/DACS_3_year/Thesis/GardenFiles23/garden_23122023/146/er_file_2023_12_24_21_22_32.wav\" (Invalid data found when processing input).\n",
      "Error processing file /Users/evgenynazarenko/DACS_3_year/Thesis/GardenFiles23/garden_23122023/146/er_file_2023_12_24_19_18_31.wav: Failed to open the input \"/Users/evgenynazarenko/DACS_3_year/Thesis/GardenFiles23/garden_23122023/146/er_file_2023_12_24_19_18_31.wav\" (Invalid data found when processing input).\n",
      "Error processing file /Users/evgenynazarenko/DACS_3_year/Thesis/GardenFiles23/garden_23122023/146/er_file_2023_12_24_20_24_30.wav: Failed to open the input \"/Users/evgenynazarenko/DACS_3_year/Thesis/GardenFiles23/garden_23122023/146/er_file_2023_12_24_20_24_30.wav\" (Invalid data found when processing input).\n",
      "Error processing file /Users/evgenynazarenko/DACS_3_year/Thesis/GardenFiles23/garden_23122023/146/er_file_2023_12_24_21_00_46.wav: Failed to open the input \"/Users/evgenynazarenko/DACS_3_year/Thesis/GardenFiles23/garden_23122023/146/er_file_2023_12_24_21_00_46.wav\" (Invalid data found when processing input).\n",
      "Error processing file /Users/evgenynazarenko/DACS_3_year/Thesis/GardenFiles23/garden_23122023/146/er_file_2023_12_24_20_56_49.wav: Failed to open the input \"/Users/evgenynazarenko/DACS_3_year/Thesis/GardenFiles23/garden_23122023/146/er_file_2023_12_24_20_56_49.wav\" (Invalid data found when processing input).\n",
      "Error processing file /Users/evgenynazarenko/DACS_3_year/Thesis/GardenFiles23/garden_23122023/146/er_file_2023_12_24_21_44_16.wav: Failed to open the input \"/Users/evgenynazarenko/DACS_3_year/Thesis/GardenFiles23/garden_23122023/146/er_file_2023_12_24_21_44_16.wav\" (Invalid data found when processing input).\n",
      "Error processing file /Users/evgenynazarenko/DACS_3_year/Thesis/GardenFiles23/garden_23122023/146/er_file_2023_12_24_18_50_02.wav: Failed to open the input \"/Users/evgenynazarenko/DACS_3_year/Thesis/GardenFiles23/garden_23122023/146/er_file_2023_12_24_18_50_02.wav\" (Invalid data found when processing input).\n",
      "Error processing file /Users/evgenynazarenko/DACS_3_year/Thesis/GardenFiles23/garden_23122023/146/er_file_2023_12_24_20_31_05.wav: Failed to open the input \"/Users/evgenynazarenko/DACS_3_year/Thesis/GardenFiles23/garden_23122023/146/er_file_2023_12_24_20_31_05.wav\" (Invalid data found when processing input).\n",
      "Error processing file /Users/evgenynazarenko/DACS_3_year/Thesis/GardenFiles23/garden_23122023/146/er_file_2023_12_24_21_49_56.wav: Failed to open the input \"/Users/evgenynazarenko/DACS_3_year/Thesis/GardenFiles23/garden_23122023/146/er_file_2023_12_24_21_49_56.wav\" (Invalid data found when processing input).\n",
      "Error processing file /Users/evgenynazarenko/DACS_3_year/Thesis/GardenFiles23/garden_23122023/146/er_file_2023_12_24_21_01_12.wav: Failed to open the input \"/Users/evgenynazarenko/DACS_3_year/Thesis/GardenFiles23/garden_23122023/146/er_file_2023_12_24_21_01_12.wav\" (Invalid data found when processing input).\n",
      "Error processing file /Users/evgenynazarenko/DACS_3_year/Thesis/GardenFiles23/garden_23122023/146/er_file_2023_12_24_20_26_35.wav: Failed to open the input \"/Users/evgenynazarenko/DACS_3_year/Thesis/GardenFiles23/garden_23122023/146/er_file_2023_12_24_20_26_35.wav\" (Invalid data found when processing input).\n",
      "Error processing file /Users/evgenynazarenko/DACS_3_year/Thesis/GardenFiles23/garden_23122023/146/er_file_2023_12_24_18_49_35.wav: Failed to open the input \"/Users/evgenynazarenko/DACS_3_year/Thesis/GardenFiles23/garden_23122023/146/er_file_2023_12_24_18_49_35.wav\" (Invalid data found when processing input).\n",
      "Error processing file /Users/evgenynazarenko/DACS_3_year/Thesis/GardenFiles23/garden_23122023/146/er_file_2023_12_24_21_40_58.wav: Failed to open the input \"/Users/evgenynazarenko/DACS_3_year/Thesis/GardenFiles23/garden_23122023/146/er_file_2023_12_24_21_40_58.wav\" (Invalid data found when processing input).\n",
      "Error processing file /Users/evgenynazarenko/DACS_3_year/Thesis/GardenFiles23/garden_23122023/146/er_file_2023_12_24_21_47_45.wav: Failed to open the input \"/Users/evgenynazarenko/DACS_3_year/Thesis/GardenFiles23/garden_23122023/146/er_file_2023_12_24_21_47_45.wav\" (Invalid data found when processing input).\n",
      "Error processing file /Users/evgenynazarenko/DACS_3_year/Thesis/GardenFiles23/garden_23122023/146/er_file_2023_12_24_18_05_01.wav: Failed to open the input \"/Users/evgenynazarenko/DACS_3_year/Thesis/GardenFiles23/garden_23122023/146/er_file_2023_12_24_18_05_01.wav\" (Invalid data found when processing input).\n",
      "Error processing file /Users/evgenynazarenko/DACS_3_year/Thesis/GardenFiles23/garden_23122023/146/er_file_2023_12_24_20_31_13.wav: Failed to open the input \"/Users/evgenynazarenko/DACS_3_year/Thesis/GardenFiles23/garden_23122023/146/er_file_2023_12_24_20_31_13.wav\" (Invalid data found when processing input).\n",
      "Error processing file /Users/evgenynazarenko/DACS_3_year/Thesis/GardenFiles23/garden_23122023/146/er_file_2023_12_24_21_39_00.wav: Failed to open the input \"/Users/evgenynazarenko/DACS_3_year/Thesis/GardenFiles23/garden_23122023/146/er_file_2023_12_24_21_39_00.wav\" (Invalid data found when processing input).\n",
      "Error processing file /Users/evgenynazarenko/DACS_3_year/Thesis/GardenFiles23/garden_23122023/146/er_file_2023_12_24_18_48_49.wav: Failed to open the input \"/Users/evgenynazarenko/DACS_3_year/Thesis/GardenFiles23/garden_23122023/146/er_file_2023_12_24_18_48_49.wav\" (Invalid data found when processing input).\n",
      "Error processing file /Users/evgenynazarenko/DACS_3_year/Thesis/GardenFiles23/garden_23122023/146/er_file_2023_12_24_21_21_49.wav: Failed to open the input \"/Users/evgenynazarenko/DACS_3_year/Thesis/GardenFiles23/garden_23122023/146/er_file_2023_12_24_21_21_49.wav\" (Invalid data found when processing input).\n",
      "Error processing file /Users/evgenynazarenko/DACS_3_year/Thesis/GardenFiles23/garden_23122023/146/er_file_2023_12_24_19_20_37.wav: Failed to open the input \"/Users/evgenynazarenko/DACS_3_year/Thesis/GardenFiles23/garden_23122023/146/er_file_2023_12_24_19_20_37.wav\" (Invalid data found when processing input).\n",
      "Error processing file /Users/evgenynazarenko/DACS_3_year/Thesis/GardenFiles23/garden_23122023/146/er_file_2023_12_24_21_22_24.wav: Failed to open the input \"/Users/evgenynazarenko/DACS_3_year/Thesis/GardenFiles23/garden_23122023/146/er_file_2023_12_24_21_22_24.wav\" (Invalid data found when processing input).\n",
      "Error processing file /Users/evgenynazarenko/DACS_3_year/Thesis/GardenFiles23/garden_23122023/146/er_file_2023_12_24_21_42_49.wav: Failed to open the input \"/Users/evgenynazarenko/DACS_3_year/Thesis/GardenFiles23/garden_23122023/146/er_file_2023_12_24_21_42_49.wav\" (Invalid data found when processing input).\n",
      "Error processing file /Users/evgenynazarenko/DACS_3_year/Thesis/GardenFiles23/garden_23122023/146/er_file_2023_12_24_21_45_40.wav: Failed to open the input \"/Users/evgenynazarenko/DACS_3_year/Thesis/GardenFiles23/garden_23122023/146/er_file_2023_12_24_21_45_40.wav\" (Invalid data found when processing input).\n",
      "Error processing file /Users/evgenynazarenko/DACS_3_year/Thesis/GardenFiles23/garden_23122023/146/er_file_2023_12_24_20_57_23.wav: Failed to open the input \"/Users/evgenynazarenko/DACS_3_year/Thesis/GardenFiles23/garden_23122023/146/er_file_2023_12_24_20_57_23.wav\" (Invalid data found when processing input).\n",
      "Error processing file /Users/evgenynazarenko/DACS_3_year/Thesis/GardenFiles23/garden_23122023/146/er_file_2023_12_24_20_57_37.wav: Failed to open the input \"/Users/evgenynazarenko/DACS_3_year/Thesis/GardenFiles23/garden_23122023/146/er_file_2023_12_24_20_57_37.wav\" (Invalid data found when processing input).\n",
      "Error processing file /Users/evgenynazarenko/DACS_3_year/Thesis/GardenFiles23/garden_23122023/146/er_file_2023_12_24_21_25_04.wav: Failed to open the input \"/Users/evgenynazarenko/DACS_3_year/Thesis/GardenFiles23/garden_23122023/146/er_file_2023_12_24_21_25_04.wav\" (Invalid data found when processing input).\n",
      "Error processing file /Users/evgenynazarenko/DACS_3_year/Thesis/GardenFiles23/garden_23122023/146/er_file_2023_12_24_20_24_33.wav: Failed to open the input \"/Users/evgenynazarenko/DACS_3_year/Thesis/GardenFiles23/garden_23122023/146/er_file_2023_12_24_20_24_33.wav\" (Invalid data found when processing input).\n",
      "Error processing file /Users/evgenynazarenko/DACS_3_year/Thesis/GardenFiles23/garden_23122023/146/er_file_2023_12_24_21_46_10.wav: Failed to open the input \"/Users/evgenynazarenko/DACS_3_year/Thesis/GardenFiles23/garden_23122023/146/er_file_2023_12_24_21_46_10.wav\" (Invalid data found when processing input).\n",
      "Error processing file /Users/evgenynazarenko/DACS_3_year/Thesis/GardenFiles23/garden_23122023/146/er_file_2023_12_24_19_29_06.wav: Failed to open the input \"/Users/evgenynazarenko/DACS_3_year/Thesis/GardenFiles23/garden_23122023/146/er_file_2023_12_24_19_29_06.wav\" (Invalid data found when processing input).\n",
      "Error processing file /Users/evgenynazarenko/DACS_3_year/Thesis/GardenFiles23/garden_23122023/146/er_file_2023_12_24_21_43_08.wav: Failed to open the input \"/Users/evgenynazarenko/DACS_3_year/Thesis/GardenFiles23/garden_23122023/146/er_file_2023_12_24_21_43_08.wav\" (Invalid data found when processing input).\n",
      "Error processing file /Users/evgenynazarenko/DACS_3_year/Thesis/GardenFiles23/garden_23122023/146/er_file_2023_12_24_21_43_20.wav: Failed to open the input \"/Users/evgenynazarenko/DACS_3_year/Thesis/GardenFiles23/garden_23122023/146/er_file_2023_12_24_21_43_20.wav\" (Invalid data found when processing input).\n",
      "Error processing file /Users/evgenynazarenko/DACS_3_year/Thesis/GardenFiles23/garden_23122023/146/er_file_2023_12_24_19_28_46.wav: Failed to open the input \"/Users/evgenynazarenko/DACS_3_year/Thesis/GardenFiles23/garden_23122023/146/er_file_2023_12_24_19_28_46.wav\" (Invalid data found when processing input).\n",
      "Error processing file /Users/evgenynazarenko/DACS_3_year/Thesis/GardenFiles23/garden_23122023/146/er_file_2023_12_24_19_28_52.wav: Failed to open the input \"/Users/evgenynazarenko/DACS_3_year/Thesis/GardenFiles23/garden_23122023/146/er_file_2023_12_24_19_28_52.wav\" (Invalid data found when processing input).\n",
      "Error processing file /Users/evgenynazarenko/DACS_3_year/Thesis/GardenFiles23/garden_23122023/146/er_file_2023_12_24_18_49_20.wav: Failed to open the input \"/Users/evgenynazarenko/DACS_3_year/Thesis/GardenFiles23/garden_23122023/146/er_file_2023_12_24_18_49_20.wav\" (Invalid data found when processing input).\n",
      "Error processing file /Users/evgenynazarenko/DACS_3_year/Thesis/GardenFiles23/garden_23122023/146/er_file_2023_12_24_20_32_57.wav: Failed to open the input \"/Users/evgenynazarenko/DACS_3_year/Thesis/GardenFiles23/garden_23122023/146/er_file_2023_12_24_20_32_57.wav\" (Invalid data found when processing input).\n",
      "Error processing file /Users/evgenynazarenko/DACS_3_year/Thesis/GardenFiles23/garden_23122023/146/er_file_2023_12_24_20_32_43.wav: Failed to open the input \"/Users/evgenynazarenko/DACS_3_year/Thesis/GardenFiles23/garden_23122023/146/er_file_2023_12_24_20_32_43.wav\" (Invalid data found when processing input).\n",
      "Error processing file /Users/evgenynazarenko/DACS_3_year/Thesis/GardenFiles23/garden_23122023/146/er_file_2023_12_24_20_32_18.wav: Failed to open the input \"/Users/evgenynazarenko/DACS_3_year/Thesis/GardenFiles23/garden_23122023/146/er_file_2023_12_24_20_32_18.wav\" (Invalid data found when processing input).\n",
      "Error processing file /Users/evgenynazarenko/DACS_3_year/Thesis/GardenFiles23/garden_23122023/146/er_file_2023_12_24_21_20_47.wav: Failed to open the input \"/Users/evgenynazarenko/DACS_3_year/Thesis/GardenFiles23/garden_23122023/146/er_file_2023_12_24_21_20_47.wav\" (Invalid data found when processing input).\n",
      "Error processing file /Users/evgenynazarenko/DACS_3_year/Thesis/GardenFiles23/garden_23122023/146/er_file_2023_12_24_21_24_37.wav: Failed to open the input \"/Users/evgenynazarenko/DACS_3_year/Thesis/GardenFiles23/garden_23122023/146/er_file_2023_12_24_21_24_37.wav\" (Invalid data found when processing input).\n",
      "Error processing file /Users/evgenynazarenko/DACS_3_year/Thesis/GardenFiles23/garden_23122023/146/er_file_2023_12_24_19_19_15.wav: Failed to open the input \"/Users/evgenynazarenko/DACS_3_year/Thesis/GardenFiles23/garden_23122023/146/er_file_2023_12_24_19_19_15.wav\" (Invalid data found when processing input).\n",
      "Error processing file /Users/evgenynazarenko/DACS_3_year/Thesis/GardenFiles23/garden_23122023/146/er_file_2023_12_24_19_19_01.wav: Failed to open the input \"/Users/evgenynazarenko/DACS_3_year/Thesis/GardenFiles23/garden_23122023/146/er_file_2023_12_24_19_19_01.wav\" (Invalid data found when processing input).\n",
      "Error processing file /Users/evgenynazarenko/DACS_3_year/Thesis/GardenFiles23/garden_23122023/146/er_file_2023_12_24_20_25_28.wav: Failed to open the input \"/Users/evgenynazarenko/DACS_3_year/Thesis/GardenFiles23/garden_23122023/146/er_file_2023_12_24_20_25_28.wav\" (Invalid data found when processing input).\n",
      "Error processing file /Users/evgenynazarenko/DACS_3_year/Thesis/GardenFiles23/garden_23122023/146/er_file_2023_12_24_21_50_13.wav: Failed to open the input \"/Users/evgenynazarenko/DACS_3_year/Thesis/GardenFiles23/garden_23122023/146/er_file_2023_12_24_21_50_13.wav\" (Invalid data found when processing input).\n",
      "Error processing file /Users/evgenynazarenko/DACS_3_year/Thesis/GardenFiles23/garden_23122023/146/er_file_2023_12_24_18_24_56.wav: Failed to open the input \"/Users/evgenynazarenko/DACS_3_year/Thesis/GardenFiles23/garden_23122023/146/er_file_2023_12_24_18_24_56.wav\" (Invalid data found when processing input).\n",
      "Error processing file /Users/evgenynazarenko/DACS_3_year/Thesis/GardenFiles23/garden_23122023/146/er_file_2023_12_24_20_56_39.wav: Failed to open the input \"/Users/evgenynazarenko/DACS_3_year/Thesis/GardenFiles23/garden_23122023/146/er_file_2023_12_24_20_56_39.wav\" (Invalid data found when processing input).\n",
      "Error processing file /Users/evgenynazarenko/DACS_3_year/Thesis/GardenFiles23/garden_23122023/146/er_file_2023_12_24_21_21_07.wav: Failed to open the input \"/Users/evgenynazarenko/DACS_3_year/Thesis/GardenFiles23/garden_23122023/146/er_file_2023_12_24_21_21_07.wav\" (Invalid data found when processing input).\n",
      "Error processing file /Users/evgenynazarenko/DACS_3_year/Thesis/GardenFiles23/garden_23122023/146/er_file_2023_12_24_21_41_42.wav: Failed to open the input \"/Users/evgenynazarenko/DACS_3_year/Thesis/GardenFiles23/garden_23122023/146/er_file_2023_12_24_21_41_42.wav\" (Invalid data found when processing input).\n",
      "Error processing file /Users/evgenynazarenko/DACS_3_year/Thesis/GardenFiles23/garden_23122023/146/er_file_2023_12_24_21_22_56.wav: Failed to open the input \"/Users/evgenynazarenko/DACS_3_year/Thesis/GardenFiles23/garden_23122023/146/er_file_2023_12_24_21_22_56.wav\" (Invalid data found when processing input).\n",
      "Error processing file /Users/evgenynazarenko/DACS_3_year/Thesis/GardenFiles23/garden_23122023/146/er_file_2023_12_24_20_30_09.wav: Failed to open the input \"/Users/evgenynazarenko/DACS_3_year/Thesis/GardenFiles23/garden_23122023/146/er_file_2023_12_24_20_30_09.wav\" (Invalid data found when processing input).\n",
      "Error processing file /Users/evgenynazarenko/DACS_3_year/Thesis/GardenFiles23/garden_23122023/146/er_file_2023_12_24_21_38_32.wav: Failed to open the input \"/Users/evgenynazarenko/DACS_3_year/Thesis/GardenFiles23/garden_23122023/146/er_file_2023_12_24_21_38_32.wav\" (Invalid data found when processing input).\n",
      "Error processing file /Users/evgenynazarenko/DACS_3_year/Thesis/GardenFiles23/garden_23122023/146/er_file_2023_12_24_20_24_54.wav: Failed to open the input \"/Users/evgenynazarenko/DACS_3_year/Thesis/GardenFiles23/garden_23122023/146/er_file_2023_12_24_20_24_54.wav\" (Invalid data found when processing input).\n",
      "Error processing file /Users/evgenynazarenko/DACS_3_year/Thesis/GardenFiles23/garden_23122023/146/er_file_2023_12_24_18_25_16.wav: Failed to open the input \"/Users/evgenynazarenko/DACS_3_year/Thesis/GardenFiles23/garden_23122023/146/er_file_2023_12_24_18_25_16.wav\" (Invalid data found when processing input).\n",
      "Error processing file /Users/evgenynazarenko/DACS_3_year/Thesis/GardenFiles23/garden_23122023/146/er_file_2023_12_24_21_45_27.wav: Failed to open the input \"/Users/evgenynazarenko/DACS_3_year/Thesis/GardenFiles23/garden_23122023/146/er_file_2023_12_24_21_45_27.wav\" (Invalid data found when processing input).\n",
      "Error processing file /Users/evgenynazarenko/DACS_3_year/Thesis/GardenFiles23/garden_23122023/146/er_file_2023_12_24_21_45_33.wav: Failed to open the input \"/Users/evgenynazarenko/DACS_3_year/Thesis/GardenFiles23/garden_23122023/146/er_file_2023_12_24_21_45_33.wav\" (Invalid data found when processing input).\n",
      "Error processing file /Users/evgenynazarenko/DACS_3_year/Thesis/GardenFiles23/garden_23122023/146/er_file_2023_12_24_18_04_26.wav: Failed to open the input \"/Users/evgenynazarenko/DACS_3_year/Thesis/GardenFiles23/garden_23122023/146/er_file_2023_12_24_18_04_26.wav\" (Invalid data found when processing input).\n",
      "Error processing file /Users/evgenynazarenko/DACS_3_year/Thesis/GardenFiles23/garden_23122023/146/er_file_2023_12_24_20_25_15.wav: Failed to open the input \"/Users/evgenynazarenko/DACS_3_year/Thesis/GardenFiles23/garden_23122023/146/er_file_2023_12_24_20_25_15.wav\" (Invalid data found when processing input).\n",
      "Error processing file /Users/evgenynazarenko/DACS_3_year/Thesis/GardenFiles23/garden_23122023/146/er_file_2023_12_24_19_19_28.wav: Failed to open the input \"/Users/evgenynazarenko/DACS_3_year/Thesis/GardenFiles23/garden_23122023/146/er_file_2023_12_24_19_19_28.wav\" (Invalid data found when processing input).\n",
      "Error processing file /Users/evgenynazarenko/DACS_3_year/Thesis/GardenFiles23/garden_23122023/146/er_file_2023_12_24_21_47_22.wav: Failed to open the input \"/Users/evgenynazarenko/DACS_3_year/Thesis/GardenFiles23/garden_23122023/146/er_file_2023_12_24_21_47_22.wav\" (Invalid data found when processing input).\n",
      "Error processing file /Users/evgenynazarenko/DACS_3_year/Thesis/GardenFiles23/garden_23122023/146/er_file_2023_12_24_19_21_04.wav: Failed to open the input \"/Users/evgenynazarenko/DACS_3_year/Thesis/GardenFiles23/garden_23122023/146/er_file_2023_12_24_19_21_04.wav\" (Invalid data found when processing input).\n",
      "Error processing file /Users/evgenynazarenko/DACS_3_year/Thesis/GardenFiles23/garden_23122023/146/er_file_2023_12_24_19_21_12.wav: Failed to open the input \"/Users/evgenynazarenko/DACS_3_year/Thesis/GardenFiles23/garden_23122023/146/er_file_2023_12_24_19_21_12.wav\" (Invalid data found when processing input).\n",
      "Error processing file /Users/evgenynazarenko/DACS_3_year/Thesis/GardenFiles23/garden_23122023/146/er_file_2023_12_24_21_40_29.wav: Failed to open the input \"/Users/evgenynazarenko/DACS_3_year/Thesis/GardenFiles23/garden_23122023/146/er_file_2023_12_24_21_40_29.wav\" (Invalid data found when processing input).\n",
      "Error processing file /Users/evgenynazarenko/DACS_3_year/Thesis/GardenFiles23/garden_23122023/146/er_file_2023_12_24_21_37_48.wav: Failed to open the input \"/Users/evgenynazarenko/DACS_3_year/Thesis/GardenFiles23/garden_23122023/146/er_file_2023_12_24_21_37_48.wav\" (Invalid data found when processing input).\n",
      "Error processing file /Users/evgenynazarenko/DACS_3_year/Thesis/GardenFiles23/garden_23122023/146/er_file_2023_12_24_21_24_34.wav: Failed to open the input \"/Users/evgenynazarenko/DACS_3_year/Thesis/GardenFiles23/garden_23122023/146/er_file_2023_12_24_21_24_34.wav\" (Invalid data found when processing input).\n",
      "Error processing file /Users/evgenynazarenko/DACS_3_year/Thesis/GardenFiles23/garden_23122023/146/er_file_2023_12_24_21_50_38.wav: Failed to open the input \"/Users/evgenynazarenko/DACS_3_year/Thesis/GardenFiles23/garden_23122023/146/er_file_2023_12_24_21_50_38.wav\" (Invalid data found when processing input).\n",
      "Error processing file /Users/evgenynazarenko/DACS_3_year/Thesis/GardenFiles23/garden_23122023/146/er_file_2023_12_24_20_56_12.wav: Failed to open the input \"/Users/evgenynazarenko/DACS_3_year/Thesis/GardenFiles23/garden_23122023/146/er_file_2023_12_24_20_56_12.wav\" (Invalid data found when processing input).\n",
      "Error processing file /Users/evgenynazarenko/DACS_3_year/Thesis/GardenFiles23/garden_23122023/146/er_file_2023_12_24_20_27_06.wav: Failed to open the input \"/Users/evgenynazarenko/DACS_3_year/Thesis/GardenFiles23/garden_23122023/146/er_file_2023_12_24_20_27_06.wav\" (Invalid data found when processing input).\n",
      "Error processing file /Users/evgenynazarenko/DACS_3_year/Thesis/GardenFiles23/garden_23122023/146/er_file_2023_12_24_20_29_17.wav: Failed to open the input \"/Users/evgenynazarenko/DACS_3_year/Thesis/GardenFiles23/garden_23122023/146/er_file_2023_12_24_20_29_17.wav\" (Invalid data found when processing input).\n",
      "Error processing file /Users/evgenynazarenko/DACS_3_year/Thesis/GardenFiles23/garden_23122023/146/er_file_2023_12_24_21_21_04.wav: Failed to open the input \"/Users/evgenynazarenko/DACS_3_year/Thesis/GardenFiles23/garden_23122023/146/er_file_2023_12_24_21_21_04.wav\" (Invalid data found when processing input).\n",
      "Error processing file /Users/evgenynazarenko/DACS_3_year/Thesis/GardenFiles23/garden_23122023/146/er_file_2023_12_24_20_30_22.wav: Failed to open the input \"/Users/evgenynazarenko/DACS_3_year/Thesis/GardenFiles23/garden_23122023/146/er_file_2023_12_24_20_30_22.wav\" (Invalid data found when processing input).\n",
      "Error processing file /Users/evgenynazarenko/DACS_3_year/Thesis/GardenFiles23/garden_23122023/146/er_file_2023_12_24_20_57_46.wav: Failed to open the input \"/Users/evgenynazarenko/DACS_3_year/Thesis/GardenFiles23/garden_23122023/146/er_file_2023_12_24_20_57_46.wav\" (Invalid data found when processing input).\n",
      "Error processing file /Users/evgenynazarenko/DACS_3_year/Thesis/GardenFiles23/garden_23122023/146/er_file_2023_12_24_20_59_57.wav: Failed to open the input \"/Users/evgenynazarenko/DACS_3_year/Thesis/GardenFiles23/garden_23122023/146/er_file_2023_12_24_20_59_57.wav\" (Invalid data found when processing input).\n",
      "Error processing file /Users/evgenynazarenko/DACS_3_year/Thesis/GardenFiles23/garden_23122023/146/er_file_2023_12_24_21_45_30.wav: Failed to open the input \"/Users/evgenynazarenko/DACS_3_year/Thesis/GardenFiles23/garden_23122023/146/er_file_2023_12_24_21_45_30.wav\" (Invalid data found when processing input).\n",
      "Error processing file /Users/evgenynazarenko/DACS_3_year/Thesis/GardenFiles23/garden_23122023/146/er_file_2023_12_24_21_38_24.wav: Failed to open the input \"/Users/evgenynazarenko/DACS_3_year/Thesis/GardenFiles23/garden_23122023/146/er_file_2023_12_24_21_38_24.wav\" (Invalid data found when processing input).\n",
      "Error processing file /Users/evgenynazarenko/DACS_3_year/Thesis/GardenFiles23/garden_23122023/146/er_file_2023_12_24_20_30_37.wav: Failed to open the input \"/Users/evgenynazarenko/DACS_3_year/Thesis/GardenFiles23/garden_23122023/146/er_file_2023_12_24_20_30_37.wav\" (Invalid data found when processing input).\n",
      "Error processing file /Users/evgenynazarenko/DACS_3_year/Thesis/GardenFiles23/garden_23122023/146/er_file_2023_12_24_21_00_08.wav: Failed to open the input \"/Users/evgenynazarenko/DACS_3_year/Thesis/GardenFiles23/garden_23122023/146/er_file_2023_12_24_21_00_08.wav\" (Invalid data found when processing input).\n",
      "Error processing file /Users/evgenynazarenko/DACS_3_year/Thesis/GardenFiles23/garden_23122023/146/er_file_2023_12_24_18_26_45.wav: Failed to open the input \"/Users/evgenynazarenko/DACS_3_year/Thesis/GardenFiles23/garden_23122023/146/er_file_2023_12_24_18_26_45.wav\" (Invalid data found when processing input).\n",
      "Error processing file /Users/evgenynazarenko/DACS_3_year/Thesis/GardenFiles23/garden_23122023/146/er_file_2023_12_24_21_21_11.wav: Failed to open the input \"/Users/evgenynazarenko/DACS_3_year/Thesis/GardenFiles23/garden_23122023/146/er_file_2023_12_24_21_21_11.wav\" (Invalid data found when processing input).\n",
      "Error processing file /Users/evgenynazarenko/DACS_3_year/Thesis/GardenFiles23/garden_23122023/146/er_file_2023_12_24_20_27_13.wav: Failed to open the input \"/Users/evgenynazarenko/DACS_3_year/Thesis/GardenFiles23/garden_23122023/146/er_file_2023_12_24_20_27_13.wav\" (Invalid data found when processing input).\n",
      "Error processing file /Users/evgenynazarenko/DACS_3_year/Thesis/GardenFiles23/garden_23122023/146/er_file_2023_12_24_19_22_42.wav: Failed to open the input \"/Users/evgenynazarenko/DACS_3_year/Thesis/GardenFiles23/garden_23122023/146/er_file_2023_12_24_19_22_42.wav\" (Invalid data found when processing input).\n",
      "Error processing file /Users/evgenynazarenko/DACS_3_year/Thesis/GardenFiles23/garden_23122023/146/er_file_2023_12_24_20_25_02.wav: Failed to open the input \"/Users/evgenynazarenko/DACS_3_year/Thesis/GardenFiles23/garden_23122023/146/er_file_2023_12_24_20_25_02.wav\" (Invalid data found when processing input).\n",
      "Error processing file /Users/evgenynazarenko/DACS_3_year/Thesis/GardenFiles23/garden_23122023/146/er_file_2023_12_24_18_27_11.wav: Failed to open the input \"/Users/evgenynazarenko/DACS_3_year/Thesis/GardenFiles23/garden_23122023/146/er_file_2023_12_24_18_27_11.wav\" (Invalid data found when processing input).\n",
      "Error processing file /Users/evgenynazarenko/DACS_3_year/Thesis/GardenFiles23/garden_23122023/146/er_file_2023_12_24_19_28_37.wav: Failed to open the input \"/Users/evgenynazarenko/DACS_3_year/Thesis/GardenFiles23/garden_23122023/146/er_file_2023_12_24_19_28_37.wav\" (Invalid data found when processing input).\n",
      "Error processing file /Users/evgenynazarenko/DACS_3_year/Thesis/GardenFiles23/garden_23122023/146/er_file_2023_12_24_21_49_30.wav: Failed to open the input \"/Users/evgenynazarenko/DACS_3_year/Thesis/GardenFiles23/garden_23122023/146/er_file_2023_12_24_21_49_30.wav\" (Invalid data found when processing input).\n",
      "Error processing file /Users/evgenynazarenko/DACS_3_year/Thesis/GardenFiles23/garden_23122023/146/er_file_2023_12_24_20_32_32.wav: Failed to open the input \"/Users/evgenynazarenko/DACS_3_year/Thesis/GardenFiles23/garden_23122023/146/er_file_2023_12_24_20_32_32.wav\" (Invalid data found when processing input).\n",
      "Error processing file /Users/evgenynazarenko/DACS_3_year/Thesis/GardenFiles23/garden_23122023/146/er_file_2023_12_24_20_26_57.wav: Failed to open the input \"/Users/evgenynazarenko/DACS_3_year/Thesis/GardenFiles23/garden_23122023/146/er_file_2023_12_24_20_26_57.wav\" (Invalid data found when processing input).\n",
      "Error processing file /Users/evgenynazarenko/DACS_3_year/Thesis/GardenFiles23/garden_23122023/146/er_file_2023_12_24_18_49_41.wav: Failed to open the input \"/Users/evgenynazarenko/DACS_3_year/Thesis/GardenFiles23/garden_23122023/146/er_file_2023_12_24_18_49_41.wav\" (Invalid data found when processing input).\n",
      "Error processing file /Users/evgenynazarenko/DACS_3_year/Thesis/GardenFiles23/garden_23122023/146/er_file_2023_12_24_21_49_08.wav: Failed to open the input \"/Users/evgenynazarenko/DACS_3_year/Thesis/GardenFiles23/garden_23122023/146/er_file_2023_12_24_21_49_08.wav\" (Invalid data found when processing input).\n",
      "Error processing file /Users/evgenynazarenko/DACS_3_year/Thesis/GardenFiles23/garden_23122023/146/er_file_2023_12_24_18_27_15.wav: Failed to open the input \"/Users/evgenynazarenko/DACS_3_year/Thesis/GardenFiles23/garden_23122023/146/er_file_2023_12_24_18_27_15.wav\" (Invalid data found when processing input).\n",
      "Error processing file /Users/evgenynazarenko/DACS_3_year/Thesis/GardenFiles23/garden_23122023/146/er_file_2023_12_24_21_47_19.wav: Failed to open the input \"/Users/evgenynazarenko/DACS_3_year/Thesis/GardenFiles23/garden_23122023/146/er_file_2023_12_24_21_47_19.wav\" (Invalid data found when processing input).\n",
      "Error processing file /Users/evgenynazarenko/DACS_3_year/Thesis/GardenFiles23/garden_23122023/146/er_file_2023_12_24_21_49_20.wav: Failed to open the input \"/Users/evgenynazarenko/DACS_3_year/Thesis/GardenFiles23/garden_23122023/146/er_file_2023_12_24_21_49_20.wav\" (Invalid data found when processing input).\n",
      "Error processing file /Users/evgenynazarenko/DACS_3_year/Thesis/GardenFiles23/garden_23122023/146/er_file_2023_12_24_21_39_48.wav: Failed to open the input \"/Users/evgenynazarenko/DACS_3_year/Thesis/GardenFiles23/garden_23122023/146/er_file_2023_12_24_21_39_48.wav\" (Invalid data found when processing input).\n",
      "Error processing file /Users/evgenynazarenko/DACS_3_year/Thesis/GardenFiles23/garden_23122023/146/er_file_2023_12_24_21_24_19.wav: Failed to open the input \"/Users/evgenynazarenko/DACS_3_year/Thesis/GardenFiles23/garden_23122023/146/er_file_2023_12_24_21_24_19.wav\" (Invalid data found when processing input).\n",
      "Error processing file /Users/evgenynazarenko/DACS_3_year/Thesis/GardenFiles23/garden_23122023/146/er_file_2023_12_24_21_24_31.wav: Failed to open the input \"/Users/evgenynazarenko/DACS_3_year/Thesis/GardenFiles23/garden_23122023/146/er_file_2023_12_24_21_24_31.wav\" (Invalid data found when processing input).\n",
      "Error processing file /Users/evgenynazarenko/DACS_3_year/Thesis/GardenFiles23/garden_23122023/146/er_file_2023_12_24_21_23_38.wav: Failed to open the input \"/Users/evgenynazarenko/DACS_3_year/Thesis/GardenFiles23/garden_23122023/146/er_file_2023_12_24_21_23_38.wav\" (Invalid data found when processing input).\n",
      "Error processing file /Users/evgenynazarenko/DACS_3_year/Thesis/GardenFiles23/garden_23122023/146/er_file_2023_12_24_21_50_29.wav: Failed to open the input \"/Users/evgenynazarenko/DACS_3_year/Thesis/GardenFiles23/garden_23122023/146/er_file_2023_12_24_21_50_29.wav\" (Invalid data found when processing input).\n",
      "Error processing file /Users/evgenynazarenko/DACS_3_year/Thesis/GardenFiles23/garden_23122023/146/er_file_2023_12_24_21_02_21.wav: Failed to open the input \"/Users/evgenynazarenko/DACS_3_year/Thesis/GardenFiles23/garden_23122023/146/er_file_2023_12_24_21_02_21.wav\" (Invalid data found when processing input).\n",
      "Error processing file /Users/evgenynazarenko/DACS_3_year/Thesis/GardenFiles23/garden_23122023/146/er_file_2023_12_24_20_29_06.wav: Failed to open the input \"/Users/evgenynazarenko/DACS_3_year/Thesis/GardenFiles23/garden_23122023/146/er_file_2023_12_24_20_29_06.wav\" (Invalid data found when processing input).\n",
      "Error processing file /Users/evgenynazarenko/DACS_3_year/Thesis/GardenFiles23/garden_23122023/146/er_file_2023_12_24_21_21_15.wav: Failed to open the input \"/Users/evgenynazarenko/DACS_3_year/Thesis/GardenFiles23/garden_23122023/146/er_file_2023_12_24_21_21_15.wav\" (Invalid data found when processing input).\n",
      "Error processing file /Users/evgenynazarenko/DACS_3_year/Thesis/GardenFiles23/garden_23122023/146/er_file_2023_12_24_21_21_01.wav: Failed to open the input \"/Users/evgenynazarenko/DACS_3_year/Thesis/GardenFiles23/garden_23122023/146/er_file_2023_12_24_21_21_01.wav\" (Invalid data found when processing input).\n",
      "Error processing file /Users/evgenynazarenko/DACS_3_year/Thesis/GardenFiles23/garden_23122023/146/er_file_2023_12_24_19_20_43.wav: Failed to open the input \"/Users/evgenynazarenko/DACS_3_year/Thesis/GardenFiles23/garden_23122023/146/er_file_2023_12_24_19_20_43.wav\" (Invalid data found when processing input).\n",
      "Error processing file /Users/evgenynazarenko/DACS_3_year/Thesis/GardenFiles23/garden_23122023/146/er_file_2023_12_24_21_48_48.wav: Failed to open the input \"/Users/evgenynazarenko/DACS_3_year/Thesis/GardenFiles23/garden_23122023/146/er_file_2023_12_24_21_48_48.wav\" (Invalid data found when processing input).\n",
      "Error processing file /Users/evgenynazarenko/DACS_3_year/Thesis/GardenFiles23/garden_23122023/146/er_file_2023_12_24_20_30_33.wav: Failed to open the input \"/Users/evgenynazarenko/DACS_3_year/Thesis/GardenFiles23/garden_23122023/146/er_file_2023_12_24_20_30_33.wav\" (Invalid data found when processing input).\n",
      "Error processing file /Users/evgenynazarenko/DACS_3_year/Thesis/GardenFiles23/garden_23122023/146/er_file_2023_12_24_21_38_34.wav: Failed to open the input \"/Users/evgenynazarenko/DACS_3_year/Thesis/GardenFiles23/garden_23122023/146/er_file_2023_12_24_21_38_34.wav\" (Invalid data found when processing input).\n",
      "Error processing file /Users/evgenynazarenko/DACS_3_year/Thesis/GardenFiles23/garden_23122023/146/er_file_2023_12_24_19_16_56.wav: Failed to open the input \"/Users/evgenynazarenko/DACS_3_year/Thesis/GardenFiles23/garden_23122023/146/er_file_2023_12_24_19_16_56.wav\" (Invalid data found when processing input).\n",
      "Error processing file /Users/evgenynazarenko/DACS_3_year/Thesis/GardenFiles23/garden_23122023/146/er_file_2023_12_24_19_18_53.wav: Failed to open the input \"/Users/evgenynazarenko/DACS_3_year/Thesis/GardenFiles23/garden_23122023/146/er_file_2023_12_24_19_18_53.wav\" (Invalid data found when processing input).\n",
      "Error processing file /Users/evgenynazarenko/DACS_3_year/Thesis/GardenFiles23/garden_23122023/146/er_file_2023_12_24_18_25_38.wav: Failed to open the input \"/Users/evgenynazarenko/DACS_3_year/Thesis/GardenFiles23/garden_23122023/146/er_file_2023_12_24_18_25_38.wav\" (Invalid data found when processing input).\n",
      "Error processing file /Users/evgenynazarenko/DACS_3_year/Thesis/GardenFiles23/garden_23122023/146/er_file_2023_12_24_20_57_42.wav: Failed to open the input \"/Users/evgenynazarenko/DACS_3_year/Thesis/GardenFiles23/garden_23122023/146/er_file_2023_12_24_20_57_42.wav\" (Invalid data found when processing input).\n",
      "Error processing file /Users/evgenynazarenko/DACS_3_year/Thesis/GardenFiles23/garden_23122023/146/er_file_2023_12_24_20_57_56.wav: Failed to open the input \"/Users/evgenynazarenko/DACS_3_year/Thesis/GardenFiles23/garden_23122023/146/er_file_2023_12_24_20_57_56.wav\" (Invalid data found when processing input).\n",
      "Error processing file /Users/evgenynazarenko/DACS_3_year/Thesis/GardenFiles23/garden_23122023/146/er_file_2023_12_24_18_25_11.wav: Failed to open the input \"/Users/evgenynazarenko/DACS_3_year/Thesis/GardenFiles23/garden_23122023/146/er_file_2023_12_24_18_25_11.wav\" (Invalid data found when processing input).\n",
      "Error processing file /Users/evgenynazarenko/DACS_3_year/Thesis/GardenFiles23/garden_23122023/146/er_file_2023_12_24_18_04_34.wav: Failed to open the input \"/Users/evgenynazarenko/DACS_3_year/Thesis/GardenFiles23/garden_23122023/146/er_file_2023_12_24_18_04_34.wav\" (Invalid data found when processing input).\n",
      "Error processing file /Users/evgenynazarenko/DACS_3_year/Thesis/GardenFiles23/garden_23122023/146/er_file_2023_12_24_21_46_58.wav: Failed to open the input \"/Users/evgenynazarenko/DACS_3_year/Thesis/GardenFiles23/garden_23122023/146/er_file_2023_12_24_21_46_58.wav\" (Invalid data found when processing input).\n",
      "Error processing file /Users/evgenynazarenko/DACS_3_year/Thesis/GardenFiles23/garden_23122023/146/er_file_2023_12_24_21_41_45.wav: Failed to open the input \"/Users/evgenynazarenko/DACS_3_year/Thesis/GardenFiles23/garden_23122023/146/er_file_2023_12_24_21_41_45.wav\" (Invalid data found when processing input).\n",
      "Error processing file /Users/evgenynazarenko/DACS_3_year/Thesis/GardenFiles23/garden_23122023/146/er_file_2023_12_24_21_21_28.wav: Failed to open the input \"/Users/evgenynazarenko/DACS_3_year/Thesis/GardenFiles23/garden_23122023/146/er_file_2023_12_24_21_21_28.wav\" (Invalid data found when processing input).\n",
      "Error processing file /Users/evgenynazarenko/DACS_3_year/Thesis/GardenFiles23/garden_23122023/146/er_file_2023_12_24_20_29_13.wav: Failed to open the input \"/Users/evgenynazarenko/DACS_3_year/Thesis/GardenFiles23/garden_23122023/146/er_file_2023_12_24_20_29_13.wav\" (Invalid data found when processing input).\n",
      "Error processing file /Users/evgenynazarenko/DACS_3_year/Thesis/GardenFiles23/garden_23122023/146/er_file_2023_12_24_20_28_53.wav: Failed to open the input \"/Users/evgenynazarenko/DACS_3_year/Thesis/GardenFiles23/garden_23122023/146/er_file_2023_12_24_20_28_53.wav\" (Invalid data found when processing input).\n",
      "Error processing file /Users/evgenynazarenko/DACS_3_year/Thesis/GardenFiles23/garden_23122023/146/er_file_2023_12_24_20_32_23.wav: Failed to open the input \"/Users/evgenynazarenko/DACS_3_year/Thesis/GardenFiles23/garden_23122023/146/er_file_2023_12_24_20_32_23.wav\" (Invalid data found when processing input).\n",
      "Error processing file /Users/evgenynazarenko/DACS_3_year/Thesis/GardenFiles23/garden_23122023/146/er_file_2023_12_24_20_32_37.wav: Failed to open the input \"/Users/evgenynazarenko/DACS_3_year/Thesis/GardenFiles23/garden_23122023/146/er_file_2023_12_24_20_32_37.wav\" (Invalid data found when processing input).\n",
      "Error processing file /Users/evgenynazarenko/DACS_3_year/Thesis/GardenFiles23/garden_23122023/146/er_file_2023_12_24_20_26_54.wav: Failed to open the input \"/Users/evgenynazarenko/DACS_3_year/Thesis/GardenFiles23/garden_23122023/146/er_file_2023_12_24_20_26_54.wav\" (Invalid data found when processing input).\n",
      "Error processing file /Users/evgenynazarenko/DACS_3_year/Thesis/GardenFiles23/garden_23122023/146/er_file_2023_12_24_21_20_56.wav: Failed to open the input \"/Users/evgenynazarenko/DACS_3_year/Thesis/GardenFiles23/garden_23122023/146/er_file_2023_12_24_21_20_56.wav\" (Invalid data found when processing input).\n",
      "Error processing file /Users/evgenynazarenko/DACS_3_year/Thesis/GardenFiles23/garden_23122023/146/er_file_2023_12_24_20_32_09.wav: Failed to open the input \"/Users/evgenynazarenko/DACS_3_year/Thesis/GardenFiles23/garden_23122023/146/er_file_2023_12_24_20_32_09.wav\" (Invalid data found when processing input).\n",
      "Error processing file /Users/evgenynazarenko/DACS_3_year/Thesis/GardenFiles23/garden_23122023/146/er_file_2023_12_24_21_49_23.wav: Failed to open the input \"/Users/evgenynazarenko/DACS_3_year/Thesis/GardenFiles23/garden_23122023/146/er_file_2023_12_24_21_49_23.wav\" (Invalid data found when processing input).\n",
      "Error processing file /Users/evgenynazarenko/DACS_3_year/Thesis/GardenFiles23/garden_23122023/146/er_file_2023_12_24_21_23_07.wav: Failed to open the input \"/Users/evgenynazarenko/DACS_3_year/Thesis/GardenFiles23/garden_23122023/146/er_file_2023_12_24_21_23_07.wav\" (Invalid data found when processing input).\n",
      "Error processing file /Users/evgenynazarenko/DACS_3_year/Thesis/GardenFiles23/garden_23122023/146/er_file_2023_12_24_20_31_58.wav: Failed to open the input \"/Users/evgenynazarenko/DACS_3_year/Thesis/GardenFiles23/garden_23122023/146/er_file_2023_12_24_20_31_58.wav\" (Invalid data found when processing input).\n",
      "Error processing file /Users/evgenynazarenko/DACS_3_year/Thesis/GardenFiles23/garden_23122023/146/er_file_2023_12_24_19_17_29.wav: Failed to open the input \"/Users/evgenynazarenko/DACS_3_year/Thesis/GardenFiles23/garden_23122023/146/er_file_2023_12_24_19_17_29.wav\" (Invalid data found when processing input).\n",
      "Error processing file /Users/evgenynazarenko/DACS_3_year/Thesis/GardenFiles23/garden_23122023/146/er_file_2023_12_24_21_23_13.wav: Failed to open the input \"/Users/evgenynazarenko/DACS_3_year/Thesis/GardenFiles23/garden_23122023/146/er_file_2023_12_24_21_23_13.wav\" (Invalid data found when processing input).\n",
      "Error processing file /Users/evgenynazarenko/DACS_3_year/Thesis/GardenFiles23/garden_23122023/146/er_file_2023_12_24_20_56_14.wav: Failed to open the input \"/Users/evgenynazarenko/DACS_3_year/Thesis/GardenFiles23/garden_23122023/146/er_file_2023_12_24_20_56_14.wav\" (Invalid data found when processing input).\n",
      "Error processing file /Users/evgenynazarenko/DACS_3_year/Thesis/GardenFiles23/garden_23122023/146/er_file_2023_12_24_20_58_39.wav: Failed to open the input \"/Users/evgenynazarenko/DACS_3_year/Thesis/GardenFiles23/garden_23122023/146/er_file_2023_12_24_20_58_39.wav\" (Invalid data found when processing input).\n",
      "Error processing file /Users/evgenynazarenko/DACS_3_year/Thesis/GardenFiles23/garden_23122023/146/er_file_2023_12_24_21_43_42.wav: Failed to open the input \"/Users/evgenynazarenko/DACS_3_year/Thesis/GardenFiles23/garden_23122023/146/er_file_2023_12_24_21_43_42.wav\" (Invalid data found when processing input).\n",
      "Error processing file /Users/evgenynazarenko/DACS_3_year/Thesis/GardenFiles23/garden_23122023/146/er_file_2023_12_24_20_27_00.wav: Failed to open the input \"/Users/evgenynazarenko/DACS_3_year/Thesis/GardenFiles23/garden_23122023/146/er_file_2023_12_24_20_27_00.wav\" (Invalid data found when processing input).\n",
      "Error processing file /Users/evgenynazarenko/DACS_3_year/Thesis/GardenFiles23/garden_23122023/146/er_file_2023_12_24_18_26_42.wav: Failed to open the input \"/Users/evgenynazarenko/DACS_3_year/Thesis/GardenFiles23/garden_23122023/146/er_file_2023_12_24_18_26_42.wav\" (Invalid data found when processing input).\n",
      "Error processing file /Users/evgenynazarenko/DACS_3_year/Thesis/GardenFiles23/garden_23122023/146/er_file_2023_12_24_20_59_51.wav: Failed to open the input \"/Users/evgenynazarenko/DACS_3_year/Thesis/GardenFiles23/garden_23122023/146/er_file_2023_12_24_20_59_51.wav\" (Invalid data found when processing input).\n",
      "Error processing file /Users/evgenynazarenko/DACS_3_year/Thesis/GardenFiles23/garden_23122023/146/er_file_2023_12_24_18_25_13.wav: Failed to open the input \"/Users/evgenynazarenko/DACS_3_year/Thesis/GardenFiles23/garden_23122023/146/er_file_2023_12_24_18_25_13.wav\" (Invalid data found when processing input).\n",
      "Error processing file /Users/evgenynazarenko/DACS_3_year/Thesis/GardenFiles23/garden_23122023/146/er_file_2023_12_24_20_57_40.wav: Failed to open the input \"/Users/evgenynazarenko/DACS_3_year/Thesis/GardenFiles23/garden_23122023/146/er_file_2023_12_24_20_57_40.wav\" (Invalid data found when processing input).\n",
      "Error processing file /Users/evgenynazarenko/DACS_3_year/Thesis/GardenFiles23/garden_23122023/146/er_file_2023_12_24_20_59_44.wav: Failed to open the input \"/Users/evgenynazarenko/DACS_3_year/Thesis/GardenFiles23/garden_23122023/146/er_file_2023_12_24_20_59_44.wav\" (Invalid data found when processing input).\n",
      "Error processing file /Users/evgenynazarenko/DACS_3_year/Thesis/GardenFiles23/garden_23122023/146/er_file_2023_12_24_21_45_36.wav: Failed to open the input \"/Users/evgenynazarenko/DACS_3_year/Thesis/GardenFiles23/garden_23122023/146/er_file_2023_12_24_21_45_36.wav\" (Invalid data found when processing input).\n",
      "Error processing file /Users/evgenynazarenko/DACS_3_year/Thesis/GardenFiles23/garden_23122023/146/er_file_2023_12_24_21_22_46.wav: Failed to open the input \"/Users/evgenynazarenko/DACS_3_year/Thesis/GardenFiles23/garden_23122023/146/er_file_2023_12_24_21_22_46.wav\" (Invalid data found when processing input).\n",
      "Error processing file /Users/evgenynazarenko/DACS_3_year/Thesis/GardenFiles23/garden_23122023/146/er_file_2023_12_24_19_18_51.wav: Failed to open the input \"/Users/evgenynazarenko/DACS_3_year/Thesis/GardenFiles23/garden_23122023/146/er_file_2023_12_24_19_18_51.wav\" (Invalid data found when processing input).\n",
      "Error processing file /Users/evgenynazarenko/DACS_3_year/Thesis/GardenFiles23/garden_23122023/146/er_file_2023_12_24_19_18_45.wav: Failed to open the input \"/Users/evgenynazarenko/DACS_3_year/Thesis/GardenFiles23/garden_23122023/146/er_file_2023_12_24_19_18_45.wav\" (Invalid data found when processing input).\n",
      "Error processing file /Users/evgenynazarenko/DACS_3_year/Thesis/GardenFiles23/garden_23122023/146/er_file_2023_12_24_21_22_52.wav: Failed to open the input \"/Users/evgenynazarenko/DACS_3_year/Thesis/GardenFiles23/garden_23122023/146/er_file_2023_12_24_21_22_52.wav\" (Invalid data found when processing input).\n",
      "Error processing file /Users/evgenynazarenko/DACS_3_year/Thesis/GardenFiles23/garden_23122023/146/er_file_2023_12_24_21_21_17.wav: Failed to open the input \"/Users/evgenynazarenko/DACS_3_year/Thesis/GardenFiles23/garden_23122023/146/er_file_2023_12_24_21_21_17.wav\" (Invalid data found when processing input).\n",
      "Error processing file /Users/evgenynazarenko/DACS_3_year/Thesis/GardenFiles23/garden_23122023/146/er_file_2023_12_24_20_29_10.wav: Failed to open the input \"/Users/evgenynazarenko/DACS_3_year/Thesis/GardenFiles23/garden_23122023/146/er_file_2023_12_24_20_29_10.wav\" (Invalid data found when processing input).\n",
      "Error processing file /Users/evgenynazarenko/DACS_3_year/Thesis/GardenFiles23/garden_23122023/146/er_file_2023_12_24_19_19_05.wav: Failed to open the input \"/Users/evgenynazarenko/DACS_3_year/Thesis/GardenFiles23/garden_23122023/146/er_file_2023_12_24_19_19_05.wav\" (Invalid data found when processing input).\n",
      "Error processing file /Users/evgenynazarenko/DACS_3_year/Thesis/GardenFiles23/garden_23122023/146/er_file_2023_12_24_18_27_03.wav: Failed to open the input \"/Users/evgenynazarenko/DACS_3_year/Thesis/GardenFiles23/garden_23122023/146/er_file_2023_12_24_18_27_03.wav\" (Invalid data found when processing input).\n",
      "Error processing file /Users/evgenynazarenko/DACS_3_year/Thesis/GardenFiles23/garden_23122023/146/er_file_2023_12_24_21_47_33.wav: Failed to open the input \"/Users/evgenynazarenko/DACS_3_year/Thesis/GardenFiles23/garden_23122023/146/er_file_2023_12_24_21_47_33.wav\" (Invalid data found when processing input).\n",
      "Error processing file /Users/evgenynazarenko/DACS_3_year/Thesis/GardenFiles23/garden_23122023/146/er_file_2023_12_24_21_49_13.wav: Failed to open the input \"/Users/evgenynazarenko/DACS_3_year/Thesis/GardenFiles23/garden_23122023/146/er_file_2023_12_24_21_49_13.wav\" (Invalid data found when processing input).\n",
      "Error processing file /Users/evgenynazarenko/DACS_3_year/Thesis/GardenFiles23/garden_23122023/146/er_file_2023_12_24_18_27_32.wav: Failed to open the input \"/Users/evgenynazarenko/DACS_3_year/Thesis/GardenFiles23/garden_23122023/146/er_file_2023_12_24_18_27_32.wav\" (Invalid data found when processing input).\n",
      "Error processing file /Users/evgenynazarenko/DACS_3_year/Thesis/GardenFiles23/garden_23122023/146/er_file_2023_12_24_21_47_16.wav: Failed to open the input \"/Users/evgenynazarenko/DACS_3_year/Thesis/GardenFiles23/garden_23122023/146/er_file_2023_12_24_21_47_16.wav\" (Invalid data found when processing input).\n",
      "Error processing file /Users/evgenynazarenko/DACS_3_year/Thesis/GardenFiles23/garden_23122023/146/er_file_2023_12_24_21_01_43.wav: Failed to open the input \"/Users/evgenynazarenko/DACS_3_year/Thesis/GardenFiles23/garden_23122023/146/er_file_2023_12_24_21_01_43.wav\" (Invalid data found when processing input).\n",
      "Error processing file /Users/evgenynazarenko/DACS_3_year/Thesis/GardenFiles23/garden_23122023/146/er_file_2023_12_24_21_01_57.wav: Failed to open the input \"/Users/evgenynazarenko/DACS_3_year/Thesis/GardenFiles23/garden_23122023/146/er_file_2023_12_24_21_01_57.wav\" (Invalid data found when processing input).\n",
      "Error processing file /Users/evgenynazarenko/DACS_3_year/Thesis/GardenFiles23/garden_23122023/146/er_file_2023_12_24_20_55_49.wav: Failed to open the input \"/Users/evgenynazarenko/DACS_3_year/Thesis/GardenFiles23/garden_23122023/146/er_file_2023_12_24_20_55_49.wav\" (Invalid data found when processing input).\n",
      "Error processing file /Users/evgenynazarenko/DACS_3_year/Thesis/GardenFiles23/garden_23122023/146/er_file_2023_12_24_21_24_16.wav: Failed to open the input \"/Users/evgenynazarenko/DACS_3_year/Thesis/GardenFiles23/garden_23122023/146/er_file_2023_12_24_21_24_16.wav\" (Invalid data found when processing input).\n",
      "Error processing file /Users/evgenynazarenko/DACS_3_year/Thesis/GardenFiles23/garden_23122023/146/er_file_2023_12_24_19_19_08.wav: Failed to open the input \"/Users/evgenynazarenko/DACS_3_year/Thesis/GardenFiles23/garden_23122023/146/er_file_2023_12_24_19_19_08.wav\" (Invalid data found when processing input).\n",
      "Error processing file /Users/evgenynazarenko/DACS_3_year/Thesis/GardenFiles23/garden_23122023/146/er_file_2023_12_24_19_17_19.wav: Failed to open the input \"/Users/evgenynazarenko/DACS_3_year/Thesis/GardenFiles23/garden_23122023/146/er_file_2023_12_24_19_17_19.wav\" (Invalid data found when processing input).\n",
      "Error processing file /Users/evgenynazarenko/DACS_3_year/Thesis/GardenFiles23/garden_23122023/146/er_file_2023_12_24_21_02_12.wav: Failed to open the input \"/Users/evgenynazarenko/DACS_3_year/Thesis/GardenFiles23/garden_23122023/146/er_file_2023_12_24_21_02_12.wav\" (Invalid data found when processing input).\n",
      "Error processing file /Users/evgenynazarenko/DACS_3_year/Thesis/GardenFiles23/garden_23122023/146/er_file_2023_12_24_21_50_26.wav: Failed to open the input \"/Users/evgenynazarenko/DACS_3_year/Thesis/GardenFiles23/garden_23122023/146/er_file_2023_12_24_21_50_26.wav\" (Invalid data found when processing input).\n",
      "Error processing file /Users/evgenynazarenko/DACS_3_year/Thesis/GardenFiles23/garden_23122023/146/er_file_2023_12_24_20_56_24.wav: Failed to open the input \"/Users/evgenynazarenko/DACS_3_year/Thesis/GardenFiles23/garden_23122023/146/er_file_2023_12_24_20_56_24.wav\" (Invalid data found when processing input).\n",
      "Error processing file /Users/evgenynazarenko/DACS_3_year/Thesis/GardenFiles23/garden_23122023/146/er_file_2023_12_24_20_58_09.wav: Failed to open the input \"/Users/evgenynazarenko/DACS_3_year/Thesis/GardenFiles23/garden_23122023/146/er_file_2023_12_24_20_58_09.wav\" (Invalid data found when processing input).\n",
      "Error processing file /Users/evgenynazarenko/DACS_3_year/Thesis/GardenFiles23/garden_23122023/146/er_file_2023_12_24_20_27_24.wav: Failed to open the input \"/Users/evgenynazarenko/DACS_3_year/Thesis/GardenFiles23/garden_23122023/146/er_file_2023_12_24_20_27_24.wav\" (Invalid data found when processing input).\n",
      "Error processing file /Users/evgenynazarenko/DACS_3_year/Thesis/GardenFiles23/garden_23122023/146/er_file_2023_12_24_19_20_58.wav: Failed to open the input \"/Users/evgenynazarenko/DACS_3_year/Thesis/GardenFiles23/garden_23122023/146/er_file_2023_12_24_19_20_58.wav\" (Invalid data found when processing input).\n",
      "Error processing file /Users/evgenynazarenko/DACS_3_year/Thesis/GardenFiles23/garden_23122023/146/er_file_2023_12_24_21_48_53.wav: Failed to open the input \"/Users/evgenynazarenko/DACS_3_year/Thesis/GardenFiles23/garden_23122023/146/er_file_2023_12_24_21_48_53.wav\" (Invalid data found when processing input).\n",
      "Error processing file /Users/evgenynazarenko/DACS_3_year/Thesis/GardenFiles23/garden_23122023/146/er_file_2023_12_24_19_29_54.wav: Failed to open the input \"/Users/evgenynazarenko/DACS_3_year/Thesis/GardenFiles23/garden_23122023/146/er_file_2023_12_24_19_29_54.wav\" (Invalid data found when processing input).\n",
      "Error processing file /Users/evgenynazarenko/DACS_3_year/Thesis/GardenFiles23/garden_23122023/146/er_file_2023_12_24_19_16_59.wav: Failed to open the input \"/Users/evgenynazarenko/DACS_3_year/Thesis/GardenFiles23/garden_23122023/146/er_file_2023_12_24_19_16_59.wav\" (Invalid data found when processing input).\n",
      "Error processing file /Users/evgenynazarenko/DACS_3_year/Thesis/GardenFiles23/garden_23122023/146/er_file_2023_12_24_21_45_06.wav: Failed to open the input \"/Users/evgenynazarenko/DACS_3_year/Thesis/GardenFiles23/garden_23122023/146/er_file_2023_12_24_21_45_06.wav\" (Invalid data found when processing input).\n",
      "Error processing file /Users/evgenynazarenko/DACS_3_year/Thesis/GardenFiles23/garden_23122023/146/er_file_2023_12_24_21_45_12.wav: Failed to open the input \"/Users/evgenynazarenko/DACS_3_year/Thesis/GardenFiles23/garden_23122023/146/er_file_2023_12_24_21_45_12.wav\" (Invalid data found when processing input).\n",
      "Error processing file /Users/evgenynazarenko/DACS_3_year/Thesis/GardenFiles23/garden_23122023/146/er_file_2023_12_24_21_42_33.wav: Failed to open the input \"/Users/evgenynazarenko/DACS_3_year/Thesis/GardenFiles23/garden_23122023/146/er_file_2023_12_24_21_42_33.wav\" (Invalid data found when processing input).\n",
      "Error processing file /Users/evgenynazarenko/DACS_3_year/Thesis/GardenFiles23/garden_23122023/146/er_file_2023_12_24_20_24_48.wav: Failed to open the input \"/Users/evgenynazarenko/DACS_3_year/Thesis/GardenFiles23/garden_23122023/146/er_file_2023_12_24_20_24_48.wav\" (Invalid data found when processing input).\n",
      "Error processing file /Users/evgenynazarenko/DACS_3_year/Thesis/GardenFiles23/garden_23122023/146/er_file_2023_12_24_18_48_27.wav: Failed to open the input \"/Users/evgenynazarenko/DACS_3_year/Thesis/GardenFiles23/garden_23122023/146/er_file_2023_12_24_18_48_27.wav\" (Invalid data found when processing input).\n",
      "Error processing file /Users/evgenynazarenko/DACS_3_year/Thesis/GardenFiles23/garden_23122023/146/er_file_2023_12_24_20_27_31.wav: Failed to open the input \"/Users/evgenynazarenko/DACS_3_year/Thesis/GardenFiles23/garden_23122023/146/er_file_2023_12_24_20_27_31.wav\" (Invalid data found when processing input).\n",
      "Error processing file /Users/evgenynazarenko/DACS_3_year/Thesis/GardenFiles23/garden_23122023/146/er_file_2023_12_24_21_02_07.wav: Failed to open the input \"/Users/evgenynazarenko/DACS_3_year/Thesis/GardenFiles23/garden_23122023/146/er_file_2023_12_24_21_02_07.wav\" (Invalid data found when processing input).\n",
      "Error processing file /Users/evgenynazarenko/DACS_3_year/Thesis/GardenFiles23/garden_23122023/146/er_file_2023_12_24_21_44_52.wav: Failed to open the input \"/Users/evgenynazarenko/DACS_3_year/Thesis/GardenFiles23/garden_23122023/146/er_file_2023_12_24_21_44_52.wav\" (Invalid data found when processing input).\n",
      "Error processing file /Users/evgenynazarenko/DACS_3_year/Thesis/GardenFiles23/garden_23122023/146/er_file_2023_12_24_20_58_34.wav: Failed to open the input \"/Users/evgenynazarenko/DACS_3_year/Thesis/GardenFiles23/garden_23122023/146/er_file_2023_12_24_20_58_34.wav\" (Invalid data found when processing input).\n",
      "Error processing file /Users/evgenynazarenko/DACS_3_year/Thesis/GardenFiles23/garden_23122023/146/er_file_2023_12_24_21_23_22.wav: Failed to open the input \"/Users/evgenynazarenko/DACS_3_year/Thesis/GardenFiles23/garden_23122023/146/er_file_2023_12_24_21_23_22.wav\" (Invalid data found when processing input).\n",
      "Error processing file /Users/evgenynazarenko/DACS_3_year/Thesis/GardenFiles23/garden_23122023/146/er_file_2023_12_24_19_19_35.wav: Failed to open the input \"/Users/evgenynazarenko/DACS_3_year/Thesis/GardenFiles23/garden_23122023/146/er_file_2023_12_24_19_19_35.wav\" (Invalid data found when processing input).\n",
      "Error processing file /Users/evgenynazarenko/DACS_3_year/Thesis/GardenFiles23/garden_23122023/146/er_file_2023_12_24_19_21_31.wav: Failed to open the input \"/Users/evgenynazarenko/DACS_3_year/Thesis/GardenFiles23/garden_23122023/146/er_file_2023_12_24_19_21_31.wav\" (Invalid data found when processing input).\n",
      "Error processing file /Users/evgenynazarenko/DACS_3_year/Thesis/GardenFiles23/garden_23122023/146/er_file_2023_12_24_20_32_12.wav: Failed to open the input \"/Users/evgenynazarenko/DACS_3_year/Thesis/GardenFiles23/garden_23122023/146/er_file_2023_12_24_20_32_12.wav\" (Invalid data found when processing input).\n",
      "Error processing file /Users/evgenynazarenko/DACS_3_year/Thesis/GardenFiles23/garden_23122023/146/er_file_2023_12_24_20_32_06.wav: Failed to open the input \"/Users/evgenynazarenko/DACS_3_year/Thesis/GardenFiles23/garden_23122023/146/er_file_2023_12_24_20_32_06.wav\" (Invalid data found when processing input).\n",
      "Error processing file /Users/evgenynazarenko/DACS_3_year/Thesis/GardenFiles23/garden_23122023/146/er_file_2023_12_24_18_27_19.wav: Failed to open the input \"/Users/evgenynazarenko/DACS_3_year/Thesis/GardenFiles23/garden_23122023/146/er_file_2023_12_24_18_27_19.wav\" (Invalid data found when processing input).\n",
      "Error processing file /Users/evgenynazarenko/DACS_3_year/Thesis/GardenFiles23/garden_23122023/146/er_file_2023_12_24_21_47_29.wav: Failed to open the input \"/Users/evgenynazarenko/DACS_3_year/Thesis/GardenFiles23/garden_23122023/146/er_file_2023_12_24_21_47_29.wav\" (Invalid data found when processing input).\n",
      "Error processing file /Users/evgenynazarenko/DACS_3_year/Thesis/GardenFiles23/garden_23122023/146/er_file_2023_12_24_21_01_40.wav: Failed to open the input \"/Users/evgenynazarenko/DACS_3_year/Thesis/GardenFiles23/garden_23122023/146/er_file_2023_12_24_21_01_40.wav\" (Invalid data found when processing input).\n",
      "Error processing file /Users/evgenynazarenko/DACS_3_year/Thesis/GardenFiles23/garden_23122023/146/er_file_2023_12_24_21_39_44.wav: Failed to open the input \"/Users/evgenynazarenko/DACS_3_year/Thesis/GardenFiles23/garden_23122023/146/er_file_2023_12_24_21_39_44.wav\" (Invalid data found when processing input).\n",
      "Error processing file /Users/evgenynazarenko/DACS_3_year/Thesis/GardenFiles23/garden_23122023/146/er_file_2023_12_24_20_56_27.wav: Failed to open the input \"/Users/evgenynazarenko/DACS_3_year/Thesis/GardenFiles23/garden_23122023/146/er_file_2023_12_24_20_56_27.wav\" (Invalid data found when processing input).\n",
      "Error processing file /Users/evgenynazarenko/DACS_3_year/Thesis/GardenFiles23/garden_23122023/146/er_file_2023_12_24_21_02_39.wav: Failed to open the input \"/Users/evgenynazarenko/DACS_3_year/Thesis/GardenFiles23/garden_23122023/146/er_file_2023_12_24_21_02_39.wav\" (Invalid data found when processing input).\n",
      "Error processing file /Users/evgenynazarenko/DACS_3_year/Thesis/GardenFiles23/garden_23122023/146/er_file_2023_12_24_21_21_31.wav: Failed to open the input \"/Users/evgenynazarenko/DACS_3_year/Thesis/GardenFiles23/garden_23122023/146/er_file_2023_12_24_21_21_31.wav\" (Invalid data found when processing input).\n",
      "Error processing file /Users/evgenynazarenko/DACS_3_year/Thesis/GardenFiles23/garden_23122023/146/er_file_2023_12_24_18_48_31.wav: Failed to open the input \"/Users/evgenynazarenko/DACS_3_year/Thesis/GardenFiles23/garden_23122023/146/er_file_2023_12_24_18_48_31.wav\" (Invalid data found when processing input).\n",
      "Error processing file /Users/evgenynazarenko/DACS_3_year/Thesis/GardenFiles23/garden_23122023/146/er_file_2023_12_24_21_21_25.wav: Failed to open the input \"/Users/evgenynazarenko/DACS_3_year/Thesis/GardenFiles23/garden_23122023/146/er_file_2023_12_24_21_21_25.wav\" (Invalid data found when processing input).\n",
      "Error processing file /Users/evgenynazarenko/DACS_3_year/Thesis/GardenFiles23/garden_23122023/146/er_file_2023_12_24_21_41_48.wav: Failed to open the input \"/Users/evgenynazarenko/DACS_3_year/Thesis/GardenFiles23/garden_23122023/146/er_file_2023_12_24_21_41_48.wav\" (Invalid data found when processing input).\n",
      "Error processing file /Users/evgenynazarenko/DACS_3_year/Thesis/GardenFiles23/garden_23122023/146/er_file_2023_12_24_21_46_41.wav: Failed to open the input \"/Users/evgenynazarenko/DACS_3_year/Thesis/GardenFiles23/garden_23122023/146/er_file_2023_12_24_21_46_41.wav\" (Invalid data found when processing input).\n",
      "Error processing file /Users/evgenynazarenko/DACS_3_year/Thesis/GardenFiles23/garden_23122023/146/er_file_2023_12_24_20_23_57.wav: Failed to open the input \"/Users/evgenynazarenko/DACS_3_year/Thesis/GardenFiles23/garden_23122023/146/er_file_2023_12_24_20_23_57.wav\" (Invalid data found when processing input).\n",
      "Error processing file /Users/evgenynazarenko/DACS_3_year/Thesis/GardenFiles23/garden_23122023/146/er_file_2023_12_24_18_25_08.wav: Failed to open the input \"/Users/evgenynazarenko/DACS_3_year/Thesis/GardenFiles23/garden_23122023/146/er_file_2023_12_24_18_25_08.wav\" (Invalid data found when processing input).\n",
      "Error processing file /Users/evgenynazarenko/DACS_3_year/Thesis/GardenFiles23/garden_23122023/146/er_file_2023_12_24_21_45_04.wav: Failed to open the input \"/Users/evgenynazarenko/DACS_3_year/Thesis/GardenFiles23/garden_23122023/146/er_file_2023_12_24_21_45_04.wav\" (Invalid data found when processing input).\n",
      "Error processing file /Users/evgenynazarenko/DACS_3_year/Thesis/GardenFiles23/garden_23122023/146/er_file_2023_12_24_21_42_18.wav: Failed to open the input \"/Users/evgenynazarenko/DACS_3_year/Thesis/GardenFiles23/garden_23122023/146/er_file_2023_12_24_21_42_18.wav\" (Invalid data found when processing input).\n",
      "Error processing file /Users/evgenynazarenko/DACS_3_year/Thesis/GardenFiles23/garden_23122023/146/er_file_2023_12_24_21_22_49.wav: Failed to open the input \"/Users/evgenynazarenko/DACS_3_year/Thesis/GardenFiles23/garden_23122023/146/er_file_2023_12_24_21_22_49.wav\" (Invalid data found when processing input).\n",
      "Error processing file /Users/evgenynazarenko/DACS_3_year/Thesis/GardenFiles23/garden_23122023/146/er_file_2023_12_24_20_30_16.wav: Failed to open the input \"/Users/evgenynazarenko/DACS_3_year/Thesis/GardenFiles23/garden_23122023/146/er_file_2023_12_24_20_30_16.wav\" (Invalid data found when processing input).\n",
      "Error processing file /Users/evgenynazarenko/DACS_3_year/Thesis/GardenFiles23/garden_23122023/146/er_file_2023_12_24_18_48_24.wav: Failed to open the input \"/Users/evgenynazarenko/DACS_3_year/Thesis/GardenFiles23/garden_23122023/146/er_file_2023_12_24_18_48_24.wav\" (Invalid data found when processing input).\n",
      "Error processing file /Users/evgenynazarenko/DACS_3_year/Thesis/GardenFiles23/garden_23122023/146/er_file_2023_12_24_21_44_45.wav: Failed to open the input \"/Users/evgenynazarenko/DACS_3_year/Thesis/GardenFiles23/garden_23122023/146/er_file_2023_12_24_21_44_45.wav\" (Invalid data found when processing input).\n",
      "Error processing file /Users/evgenynazarenko/DACS_3_year/Thesis/GardenFiles23/garden_23122023/146/er_file_2023_12_24_20_58_23.wav: Failed to open the input \"/Users/evgenynazarenko/DACS_3_year/Thesis/GardenFiles23/garden_23122023/146/er_file_2023_12_24_20_58_23.wav\" (Invalid data found when processing input).\n",
      "Error processing file /Users/evgenynazarenko/DACS_3_year/Thesis/GardenFiles23/garden_23122023/146/er_file_2023_12_24_20_58_37.wav: Failed to open the input \"/Users/evgenynazarenko/DACS_3_year/Thesis/GardenFiles23/garden_23122023/146/er_file_2023_12_24_20_58_37.wav\" (Invalid data found when processing input).\n",
      "Error processing file /Users/evgenynazarenko/DACS_3_year/Thesis/GardenFiles23/garden_23122023/146/er_file_2023_12_24_21_02_04.wav: Failed to open the input \"/Users/evgenynazarenko/DACS_3_year/Thesis/GardenFiles23/garden_23122023/146/er_file_2023_12_24_21_02_04.wav\" (Invalid data found when processing input).\n",
      "Error processing file /Users/evgenynazarenko/DACS_3_year/Thesis/GardenFiles23/garden_23122023/146/er_file_2023_12_24_21_23_35.wav: Failed to open the input \"/Users/evgenynazarenko/DACS_3_year/Thesis/GardenFiles23/garden_23122023/146/er_file_2023_12_24_21_23_35.wav\" (Invalid data found when processing input).\n",
      "Error processing file /Users/evgenynazarenko/DACS_3_year/Thesis/GardenFiles23/garden_23122023/146/er_file_2023_12_24_21_24_00.wav: Failed to open the input \"/Users/evgenynazarenko/DACS_3_year/Thesis/GardenFiles23/garden_23122023/146/er_file_2023_12_24_21_24_00.wav\" (Invalid data found when processing input).\n",
      "Error processing file /Users/evgenynazarenko/DACS_3_year/Thesis/GardenFiles23/garden_23122023/146/er_file_2023_12_24_21_39_51.wav: Failed to open the input \"/Users/evgenynazarenko/DACS_3_year/Thesis/GardenFiles23/garden_23122023/146/er_file_2023_12_24_21_39_51.wav\" (Invalid data found when processing input).\n",
      "Error processing file /Users/evgenynazarenko/DACS_3_year/Thesis/GardenFiles23/garden_23122023/146/er_file_2023_12_24_19_17_33.wav: Failed to open the input \"/Users/evgenynazarenko/DACS_3_year/Thesis/GardenFiles23/garden_23122023/146/er_file_2023_12_24_19_17_33.wav\" (Invalid data found when processing input).\n",
      "Error processing file /Users/evgenynazarenko/DACS_3_year/Thesis/GardenFiles23/garden_23122023/146/er_file_2023_12_24_21_49_05.wav: Failed to open the input \"/Users/evgenynazarenko/DACS_3_year/Thesis/GardenFiles23/garden_23122023/146/er_file_2023_12_24_21_49_05.wav\" (Invalid data found when processing input).\n",
      "Error processing file /Users/evgenynazarenko/DACS_3_year/Thesis/GardenFiles23/garden_23122023/146/er_file_2023_12_24_21_40_21.wav: Failed to open the input \"/Users/evgenynazarenko/DACS_3_year/Thesis/GardenFiles23/garden_23122023/146/er_file_2023_12_24_21_40_21.wav\" (Invalid data found when processing input).\n",
      "Error processing file /Users/evgenynazarenko/DACS_3_year/Thesis/GardenFiles23/garden_23122023/146/er_file_2023_12_24_18_49_58.wav: Failed to open the input \"/Users/evgenynazarenko/DACS_3_year/Thesis/GardenFiles23/garden_23122023/146/er_file_2023_12_24_18_49_58.wav\" (Invalid data found when processing input).\n",
      "Error processing file /Users/evgenynazarenko/DACS_3_year/Thesis/GardenFiles23/garden_23122023/146/er_file_2023_12_24_21_23_25.wav: Failed to open the input \"/Users/evgenynazarenko/DACS_3_year/Thesis/GardenFiles23/garden_23122023/146/er_file_2023_12_24_21_23_25.wav\" (Invalid data found when processing input).\n",
      "Error processing file /Users/evgenynazarenko/DACS_3_year/Thesis/GardenFiles23/garden_23122023/146/er_file_2023_12_24_21_24_04.wav: Failed to open the input \"/Users/evgenynazarenko/DACS_3_year/Thesis/GardenFiles23/garden_23122023/146/er_file_2023_12_24_21_24_04.wav\" (Invalid data found when processing input).\n",
      "Error processing file /Users/evgenynazarenko/DACS_3_year/Thesis/GardenFiles23/garden_23122023/146/er_file_2023_12_24_20_25_33.wav: Failed to open the input \"/Users/evgenynazarenko/DACS_3_year/Thesis/GardenFiles23/garden_23122023/146/er_file_2023_12_24_20_25_33.wav\" (Invalid data found when processing input).\n",
      "Error processing file /Users/evgenynazarenko/DACS_3_year/Thesis/GardenFiles23/garden_23122023/146/er_file_2023_12_24_21_23_19.wav: Failed to open the input \"/Users/evgenynazarenko/DACS_3_year/Thesis/GardenFiles23/garden_23122023/146/er_file_2023_12_24_21_23_19.wav\" (Invalid data found when processing input).\n",
      "Error processing file /Users/evgenynazarenko/DACS_3_year/Thesis/GardenFiles23/garden_23122023/146/er_file_2023_12_24_18_24_59.wav: Failed to open the input \"/Users/evgenynazarenko/DACS_3_year/Thesis/GardenFiles23/garden_23122023/146/er_file_2023_12_24_18_24_59.wav\" (Invalid data found when processing input).\n",
      "Error processing file /Users/evgenynazarenko/DACS_3_year/Thesis/GardenFiles23/garden_23122023/146/er_file_2023_12_24_21_50_34.wav: Failed to open the input \"/Users/evgenynazarenko/DACS_3_year/Thesis/GardenFiles23/garden_23122023/146/er_file_2023_12_24_21_50_34.wav\" (Invalid data found when processing input).\n",
      "Error processing file /Users/evgenynazarenko/DACS_3_year/Thesis/GardenFiles23/garden_23122023/146/er_file_2023_12_24_21_21_34.wav: Failed to open the input \"/Users/evgenynazarenko/DACS_3_year/Thesis/GardenFiles23/garden_23122023/146/er_file_2023_12_24_21_21_34.wav\" (Invalid data found when processing input).\n",
      "Error processing file /Users/evgenynazarenko/DACS_3_year/Thesis/GardenFiles23/garden_23122023/146/er_file_2023_12_24_21_21_20.wav: Failed to open the input \"/Users/evgenynazarenko/DACS_3_year/Thesis/GardenFiles23/garden_23122023/146/er_file_2023_12_24_21_21_20.wav\" (Invalid data found when processing input).\n",
      "Error processing file /Users/evgenynazarenko/DACS_3_year/Thesis/GardenFiles23/garden_23122023/146/er_file_2023_12_24_21_48_41.wav: Failed to open the input \"/Users/evgenynazarenko/DACS_3_year/Thesis/GardenFiles23/garden_23122023/146/er_file_2023_12_24_21_48_41.wav\" (Invalid data found when processing input).\n",
      "Error processing file /Users/evgenynazarenko/DACS_3_year/Thesis/GardenFiles23/garden_23122023/146/er_file_2023_12_24_21_48_55.wav: Failed to open the input \"/Users/evgenynazarenko/DACS_3_year/Thesis/GardenFiles23/garden_23122023/146/er_file_2023_12_24_21_48_55.wav\" (Invalid data found when processing input).\n",
      "Error processing file /Users/evgenynazarenko/DACS_3_year/Thesis/GardenFiles23/garden_23122023/146/er_file_2023_12_24_21_00_05.wav: Failed to open the input \"/Users/evgenynazarenko/DACS_3_year/Thesis/GardenFiles23/garden_23122023/146/er_file_2023_12_24_21_00_05.wav\" (Invalid data found when processing input).\n",
      "Error processing file /Users/evgenynazarenko/DACS_3_year/Thesis/GardenFiles23/garden_23122023/146/er_file_2023_12_24_21_38_15.wav: Failed to open the input \"/Users/evgenynazarenko/DACS_3_year/Thesis/GardenFiles23/garden_23122023/146/er_file_2023_12_24_21_38_15.wav\" (Invalid data found when processing input).\n",
      "Error processing file /Users/evgenynazarenko/DACS_3_year/Thesis/GardenFiles23/garden_23122023/146/er_file_2023_12_24_20_30_06.wav: Failed to open the input \"/Users/evgenynazarenko/DACS_3_year/Thesis/GardenFiles23/garden_23122023/146/er_file_2023_12_24_20_30_06.wav\" (Invalid data found when processing input).\n",
      "Error processing file /Users/evgenynazarenko/DACS_3_year/Thesis/GardenFiles23/garden_23122023/146/er_file_2023_12_24_20_23_52.wav: Failed to open the input \"/Users/evgenynazarenko/DACS_3_year/Thesis/GardenFiles23/garden_23122023/146/er_file_2023_12_24_20_23_52.wav\" (Invalid data found when processing input).\n",
      "Error processing file /Users/evgenynazarenko/DACS_3_year/Thesis/GardenFiles23/garden_23122023/146/er_file_2023_12_24_21_38_29.wav: Failed to open the input \"/Users/evgenynazarenko/DACS_3_year/Thesis/GardenFiles23/garden_23122023/146/er_file_2023_12_24_21_38_29.wav\" (Invalid data found when processing input).\n",
      "Error processing file /Users/evgenynazarenko/DACS_3_year/Thesis/GardenFiles23/garden_23122023/146/er_file_2023_12_24_21_42_08.wav: Failed to open the input \"/Users/evgenynazarenko/DACS_3_year/Thesis/GardenFiles23/garden_23122023/146/er_file_2023_12_24_21_42_08.wav\" (Invalid data found when processing input).\n",
      "Error processing file /Users/evgenynazarenko/DACS_3_year/Thesis/GardenFiles23/garden_23122023/146/er_file_2023_12_24_18_25_19.wav: Failed to open the input \"/Users/evgenynazarenko/DACS_3_year/Thesis/GardenFiles23/garden_23122023/146/er_file_2023_12_24_18_25_19.wav\" (Invalid data found when processing input).\n",
      "Error processing file /Users/evgenynazarenko/DACS_3_year/Thesis/GardenFiles23/garden_23122023/146/er_file_2023_12_24_19_23_33.wav: choose a window size 400 that is [2, 342]\n",
      "Error processing file /Users/evgenynazarenko/DACS_3_year/Thesis/GardenFiles23/garden_23122023/146/er_file_2023_12_24_21_42_21.wav: Failed to open the input \"/Users/evgenynazarenko/DACS_3_year/Thesis/GardenFiles23/garden_23122023/146/er_file_2023_12_24_21_42_21.wav\" (Invalid data found when processing input).\n",
      "Error processing file /Users/evgenynazarenko/DACS_3_year/Thesis/GardenFiles23/garden_23122023/146/er_file_2023_12_24_21_45_00.wav: Failed to open the input \"/Users/evgenynazarenko/DACS_3_year/Thesis/GardenFiles23/garden_23122023/146/er_file_2023_12_24_21_45_00.wav\" (Invalid data found when processing input).\n",
      "Error processing file /Users/evgenynazarenko/DACS_3_year/Thesis/GardenFiles23/garden_23122023/146/er_file_2023_12_24_21_41_58.wav: Failed to open the input \"/Users/evgenynazarenko/DACS_3_year/Thesis/GardenFiles23/garden_23122023/146/er_file_2023_12_24_21_41_58.wav\" (Invalid data found when processing input).\n",
      "Error processing file /Users/evgenynazarenko/DACS_3_year/Thesis/GardenFiles23/garden_23122023/146/er_file_2023_12_24_21_00_38.wav: Failed to open the input \"/Users/evgenynazarenko/DACS_3_year/Thesis/GardenFiles23/garden_23122023/146/er_file_2023_12_24_21_00_38.wav\" (Invalid data found when processing input).\n",
      "Error processing file /Users/evgenynazarenko/DACS_3_year/Thesis/GardenFiles23/garden_23122023/146/er_file_2023_12_24_20_27_37.wav: Failed to open the input \"/Users/evgenynazarenko/DACS_3_year/Thesis/GardenFiles23/garden_23122023/146/er_file_2023_12_24_20_27_37.wav\" (Invalid data found when processing input).\n",
      "Error processing file /Users/evgenynazarenko/DACS_3_year/Thesis/GardenFiles23/garden_23122023/146/er_file_2023_12_24_21_02_01.wav: Failed to open the input \"/Users/evgenynazarenko/DACS_3_year/Thesis/GardenFiles23/garden_23122023/146/er_file_2023_12_24_21_02_01.wav\" (Invalid data found when processing input).\n",
      "Error processing file /Users/evgenynazarenko/DACS_3_year/Thesis/GardenFiles23/garden_23122023/146/er_file_2023_12_24_21_44_54.wav: Failed to open the input \"/Users/evgenynazarenko/DACS_3_year/Thesis/GardenFiles23/garden_23122023/146/er_file_2023_12_24_21_44_54.wav\" (Invalid data found when processing input).\n",
      "Error processing file /Users/evgenynazarenko/DACS_3_year/Thesis/GardenFiles23/garden_23122023/146/er_file_2023_12_24_18_50_40.wav: Failed to open the input \"/Users/evgenynazarenko/DACS_3_year/Thesis/GardenFiles23/garden_23122023/146/er_file_2023_12_24_18_50_40.wav\" (Invalid data found when processing input).\n",
      "Error processing file /Users/evgenynazarenko/DACS_3_year/Thesis/GardenFiles23/garden_23122023/146/er_file_2023_12_24_19_17_22.wav: Failed to open the input \"/Users/evgenynazarenko/DACS_3_year/Thesis/GardenFiles23/garden_23122023/146/er_file_2023_12_24_19_17_22.wav\" (Invalid data found when processing input).\n",
      "Error processing file /Users/evgenynazarenko/DACS_3_year/Thesis/GardenFiles23/garden_23122023/146/er_file_2023_12_24_21_39_54.wav: Failed to open the input \"/Users/evgenynazarenko/DACS_3_year/Thesis/GardenFiles23/garden_23122023/146/er_file_2023_12_24_21_39_54.wav\" (Invalid data found when processing input).\n",
      "Error processing file /Users/evgenynazarenko/DACS_3_year/Thesis/GardenFiles23/garden_23122023/146/er_file_2023_12_24_21_37_51.wav: Failed to open the input \"/Users/evgenynazarenko/DACS_3_year/Thesis/GardenFiles23/garden_23122023/146/er_file_2023_12_24_21_37_51.wav\" (Invalid data found when processing input).\n",
      "Error processing file /Users/evgenynazarenko/DACS_3_year/Thesis/GardenFiles23/garden_23122023/146/er_file_2023_12_24_21_23_30.wav: Failed to open the input \"/Users/evgenynazarenko/DACS_3_year/Thesis/GardenFiles23/garden_23122023/146/er_file_2023_12_24_21_23_30.wav\" (Invalid data found when processing input).\n",
      "Error processing file /Users/evgenynazarenko/DACS_3_year/Thesis/GardenFiles23/garden_23122023/146/er_file_2023_12_24_18_05_41.wav: Failed to open the input \"/Users/evgenynazarenko/DACS_3_year/Thesis/GardenFiles23/garden_23122023/146/er_file_2023_12_24_18_05_41.wav\" (Invalid data found when processing input).\n",
      "Error processing file /Users/evgenynazarenko/DACS_3_year/Thesis/GardenFiles23/garden_23122023/146/er_file_2023_12_24_19_21_37.wav: Failed to open the input \"/Users/evgenynazarenko/DACS_3_year/Thesis/GardenFiles23/garden_23122023/146/er_file_2023_12_24_19_21_37.wav\" (Invalid data found when processing input).\n",
      "Error processing file /Users/evgenynazarenko/DACS_3_year/Thesis/GardenFiles23/garden_23122023/146/er_file_2023_12_24_21_40_18.wav: Failed to open the input \"/Users/evgenynazarenko/DACS_3_year/Thesis/GardenFiles23/garden_23122023/146/er_file_2023_12_24_21_40_18.wav\" (Invalid data found when processing input).\n",
      "Error processing file /Users/evgenynazarenko/DACS_3_year/Thesis/GardenFiles23/garden_23122023/146/er_file_2023_12_24_21_49_28.wav: Failed to open the input \"/Users/evgenynazarenko/DACS_3_year/Thesis/GardenFiles23/garden_23122023/146/er_file_2023_12_24_21_49_28.wav\" (Invalid data found when processing input).\n",
      "Error processing file /Users/evgenynazarenko/DACS_3_year/Thesis/GardenFiles23/garden_23122023/146/er_file_2023_12_24_21_47_05.wav: Failed to open the input \"/Users/evgenynazarenko/DACS_3_year/Thesis/GardenFiles23/garden_23122023/146/er_file_2023_12_24_21_47_05.wav\" (Invalid data found when processing input).\n",
      "Error processing file /Users/evgenynazarenko/DACS_3_year/Thesis/GardenFiles23/garden_23122023/146/er_file_2023_12_24_21_01_46.wav: Failed to open the input \"/Users/evgenynazarenko/DACS_3_year/Thesis/GardenFiles23/garden_23122023/146/er_file_2023_12_24_21_01_46.wav\" (Invalid data found when processing input).\n",
      "Error processing file /Users/evgenynazarenko/DACS_3_year/Thesis/GardenFiles23/garden_23122023/146/er_file_2023_12_24_21_47_13.wav: Failed to open the input \"/Users/evgenynazarenko/DACS_3_year/Thesis/GardenFiles23/garden_23122023/146/er_file_2023_12_24_21_47_13.wav\" (Invalid data found when processing input).\n",
      "Error processing file /Users/evgenynazarenko/DACS_3_year/Thesis/GardenFiles23/garden_23122023/146/er_file_2023_12_24_21_49_02.wav: Failed to open the input \"/Users/evgenynazarenko/DACS_3_year/Thesis/GardenFiles23/garden_23122023/146/er_file_2023_12_24_21_49_02.wav\" (Invalid data found when processing input).\n",
      "Error processing file /Users/evgenynazarenko/DACS_3_year/Thesis/GardenFiles23/garden_23122023/146/er_file_2023_12_24_21_40_32.wav: Failed to open the input \"/Users/evgenynazarenko/DACS_3_year/Thesis/GardenFiles23/garden_23122023/146/er_file_2023_12_24_21_40_32.wav\" (Invalid data found when processing input).\n",
      "Error processing file /Users/evgenynazarenko/DACS_3_year/Thesis/GardenFiles23/garden_23122023/146/er_file_2023_12_24_19_19_31.wav: Failed to open the input \"/Users/evgenynazarenko/DACS_3_year/Thesis/GardenFiles23/garden_23122023/146/er_file_2023_12_24_19_19_31.wav\" (Invalid data found when processing input).\n",
      "Error processing file /Users/evgenynazarenko/DACS_3_year/Thesis/GardenFiles23/garden_23122023/146/er_file_2023_12_24_18_50_42.wav: Failed to open the input \"/Users/evgenynazarenko/DACS_3_year/Thesis/GardenFiles23/garden_23122023/146/er_file_2023_12_24_18_50_42.wav\" (Invalid data found when processing input).\n",
      "Error processing file /Users/evgenynazarenko/DACS_3_year/Thesis/GardenFiles23/garden_23122023/146/er_file_2023_12_24_21_39_42.wav: Failed to open the input \"/Users/evgenynazarenko/DACS_3_year/Thesis/GardenFiles23/garden_23122023/146/er_file_2023_12_24_21_39_42.wav\" (Invalid data found when processing input).\n",
      "Error processing file /Users/evgenynazarenko/DACS_3_year/Thesis/GardenFiles23/garden_23122023/146/er_file_2023_12_24_20_25_24.wav: Failed to open the input \"/Users/evgenynazarenko/DACS_3_year/Thesis/GardenFiles23/garden_23122023/146/er_file_2023_12_24_20_25_24.wav\" (Invalid data found when processing input).\n",
      "Error processing file /Users/evgenynazarenko/DACS_3_year/Thesis/GardenFiles23/garden_23122023/146/er_file_2023_12_24_20_58_30.wav: Failed to open the input \"/Users/evgenynazarenko/DACS_3_year/Thesis/GardenFiles23/garden_23122023/146/er_file_2023_12_24_20_58_30.wav\" (Invalid data found when processing input).\n",
      "Error processing file /Users/evgenynazarenko/DACS_3_year/Thesis/GardenFiles23/garden_23122023/146/er_file_2023_12_24_18_48_37.wav: Failed to open the input \"/Users/evgenynazarenko/DACS_3_year/Thesis/GardenFiles23/garden_23122023/146/er_file_2023_12_24_18_48_37.wav\" (Invalid data found when processing input).\n",
      "Error processing file /Users/evgenynazarenko/DACS_3_year/Thesis/GardenFiles23/garden_23122023/146/er_file_2023_12_24_19_29_51.wav: Failed to open the input \"/Users/evgenynazarenko/DACS_3_year/Thesis/GardenFiles23/garden_23122023/146/er_file_2023_12_24_19_29_51.wav\" (Invalid data found when processing input).\n",
      "Error processing file /Users/evgenynazarenko/DACS_3_year/Thesis/GardenFiles23/garden_23122023/146/er_file_2023_12_24_19_20_49.wav: Failed to open the input \"/Users/evgenynazarenko/DACS_3_year/Thesis/GardenFiles23/garden_23122023/146/er_file_2023_12_24_19_20_49.wav\" (Invalid data found when processing input).\n",
      "Error processing file /Users/evgenynazarenko/DACS_3_year/Thesis/GardenFiles23/garden_23122023/146/er_file_2023_12_24_20_30_11.wav: Failed to open the input \"/Users/evgenynazarenko/DACS_3_year/Thesis/GardenFiles23/garden_23122023/146/er_file_2023_12_24_20_30_11.wav\" (Invalid data found when processing input).\n",
      "Error processing file /Users/evgenynazarenko/DACS_3_year/Thesis/GardenFiles23/garden_23122023/146/er_file_2023_12_24_19_23_18.wav: Failed to open the input \"/Users/evgenynazarenko/DACS_3_year/Thesis/GardenFiles23/garden_23122023/146/er_file_2023_12_24_19_23_18.wav\" (Invalid data found when processing input).\n",
      "Error processing file /Users/evgenynazarenko/DACS_3_year/Thesis/GardenFiles23/garden_23122023/146/er_file_2023_12_24_19_23_30.wav: Failed to open the input \"/Users/evgenynazarenko/DACS_3_year/Thesis/GardenFiles23/garden_23122023/146/er_file_2023_12_24_19_23_30.wav\" (Invalid data found when processing input).\n",
      "Error processing file /Users/evgenynazarenko/DACS_3_year/Thesis/GardenFiles23/garden_23122023/146/er_file_2023_12_24_20_59_59.wav: Failed to open the input \"/Users/evgenynazarenko/DACS_3_year/Thesis/GardenFiles23/garden_23122023/146/er_file_2023_12_24_20_59_59.wav\" (Invalid data found when processing input).\n",
      "Error processing file /Users/evgenynazarenko/DACS_3_year/Thesis/GardenFiles23/garden_23122023/146/er_file_2023_12_24_21_42_36.wav: Failed to open the input \"/Users/evgenynazarenko/DACS_3_year/Thesis/GardenFiles23/garden_23122023/146/er_file_2023_12_24_21_42_36.wav\" (Invalid data found when processing input).\n",
      "Error processing file /Users/evgenynazarenko/DACS_3_year/Thesis/GardenFiles23/garden_23122023/146/er_file_2023_12_24_18_25_27.wav: Failed to open the input \"/Users/evgenynazarenko/DACS_3_year/Thesis/GardenFiles23/garden_23122023/146/er_file_2023_12_24_18_25_27.wav\" (Invalid data found when processing input).\n",
      "Error processing file /Users/evgenynazarenko/DACS_3_year/Thesis/GardenFiles23/garden_23122023/146/er_file_2023_12_24_19_18_58.wav: Failed to open the input \"/Users/evgenynazarenko/DACS_3_year/Thesis/GardenFiles23/garden_23122023/146/er_file_2023_12_24_19_18_58.wav\" (Invalid data found when processing input).\n",
      "Error processing file /Users/evgenynazarenko/DACS_3_year/Thesis/GardenFiles23/garden_23122023/146/er_file_2023_12_24_20_27_34.wav: Failed to open the input \"/Users/evgenynazarenko/DACS_3_year/Thesis/GardenFiles23/garden_23122023/146/er_file_2023_12_24_20_27_34.wav\" (Invalid data found when processing input).\n",
      "Error processing file /Users/evgenynazarenko/DACS_3_year/Thesis/GardenFiles23/garden_23122023/146/er_file_2023_12_24_21_21_36.wav: Failed to open the input \"/Users/evgenynazarenko/DACS_3_year/Thesis/GardenFiles23/garden_23122023/146/er_file_2023_12_24_21_21_36.wav\" (Invalid data found when processing input).\n",
      "Error processing file /Users/evgenynazarenko/DACS_3_year/Thesis/GardenFiles23/garden_23122023/146/er_file_2023_12_24_20_27_08.wav: Failed to open the input \"/Users/evgenynazarenko/DACS_3_year/Thesis/GardenFiles23/garden_23122023/146/er_file_2023_12_24_20_27_08.wav\" (Invalid data found when processing input).\n",
      "Error processing file /Users/evgenynazarenko/DACS_3_year/Thesis/GardenFiles23/garden_23122023/146/er_file_2023_12_24_21_50_22.wav: Failed to open the input \"/Users/evgenynazarenko/DACS_3_year/Thesis/GardenFiles23/garden_23122023/146/er_file_2023_12_24_21_50_22.wav\" (Invalid data found when processing input).\n",
      "Error processing file /Users/evgenynazarenko/DACS_3_year/Thesis/GardenFiles23/garden_23122023/146/er_file_2023_12_24_21_02_16.wav: Failed to open the input \"/Users/evgenynazarenko/DACS_3_year/Thesis/GardenFiles23/garden_23122023/146/er_file_2023_12_24_21_02_16.wav\" (Invalid data found when processing input).\n",
      "Error processing file /Users/evgenynazarenko/DACS_3_year/Thesis/GardenFiles23/garden_23122023/146/er_file_2023_12_24_20_56_08.wav: Failed to open the input \"/Users/evgenynazarenko/DACS_3_year/Thesis/GardenFiles23/garden_23122023/146/er_file_2023_12_24_20_56_08.wav\" (Invalid data found when processing input).\n",
      "Error processing file /Users/evgenynazarenko/DACS_3_year/Thesis/GardenFiles23/garden_23122023/146/er_file_2023_12_24_21_23_33.wav: Failed to open the input \"/Users/evgenynazarenko/DACS_3_year/Thesis/GardenFiles23/garden_23122023/146/er_file_2023_12_24_21_23_33.wav\" (Invalid data found when processing input).\n",
      "Error processing file /Users/evgenynazarenko/DACS_3_year/Thesis/GardenFiles23/garden_23122023/146/er_file_2023_12_24_20_25_19.wav: Failed to open the input \"/Users/evgenynazarenko/DACS_3_year/Thesis/GardenFiles23/garden_23122023/146/er_file_2023_12_24_20_25_19.wav\" (Invalid data found when processing input).\n",
      "Error processing file /Users/evgenynazarenko/DACS_3_year/Thesis/GardenFiles23/garden_23122023/146/er_file_2023_12_24_20_55_59.wav: Failed to open the input \"/Users/evgenynazarenko/DACS_3_year/Thesis/GardenFiles23/garden_23122023/146/er_file_2023_12_24_20_55_59.wav\" (Invalid data found when processing input).\n",
      "Error processing file /Users/evgenynazarenko/DACS_3_year/Thesis/GardenFiles23/garden_23122023/146/er_file_2023_12_24_20_32_15.wav: Failed to open the input \"/Users/evgenynazarenko/DACS_3_year/Thesis/GardenFiles23/garden_23122023/146/er_file_2023_12_24_20_32_15.wav\" (Invalid data found when processing input).\n",
      "Error processing file /Users/evgenynazarenko/DACS_3_year/Thesis/GardenFiles23/garden_23122023/146/er_file_2023_12_24_18_49_11.wav: Failed to open the input \"/Users/evgenynazarenko/DACS_3_year/Thesis/GardenFiles23/garden_23122023/146/er_file_2023_12_24_18_49_11.wav\" (Invalid data found when processing input).\n",
      "Error processing file /Users/evgenynazarenko/DACS_3_year/Thesis/GardenFiles23/garden_23122023/146/er_file_2023_12_24_20_28_16.wav: Failed to open the input \"/Users/evgenynazarenko/DACS_3_year/Thesis/GardenFiles23/garden_23122023/146/er_file_2023_12_24_20_28_16.wav\" (Invalid data found when processing input).\n",
      "Error processing file /Users/evgenynazarenko/DACS_3_year/Thesis/GardenFiles23/garden_23122023/146/er_file_2023_12_24_21_37_09.wav: Failed to open the input \"/Users/evgenynazarenko/DACS_3_year/Thesis/GardenFiles23/garden_23122023/146/er_file_2023_12_24_21_37_09.wav\" (Invalid data found when processing input).\n",
      "Error processing file /Users/evgenynazarenko/DACS_3_year/Thesis/GardenFiles23/garden_23122023/146/er_file_2023_12_24_21_39_24.wav: Failed to open the input \"/Users/evgenynazarenko/DACS_3_year/Thesis/GardenFiles23/garden_23122023/146/er_file_2023_12_24_21_39_24.wav\" (Invalid data found when processing input).\n",
      "Error processing file /Users/evgenynazarenko/DACS_3_year/Thesis/GardenFiles23/garden_23122023/146/er_file_2023_12_24_20_31_37.wav: Failed to open the input \"/Users/evgenynazarenko/DACS_3_year/Thesis/GardenFiles23/garden_23122023/146/er_file_2023_12_24_20_31_37.wav\" (Invalid data found when processing input).\n",
      "Error processing file /Users/evgenynazarenko/DACS_3_year/Thesis/GardenFiles23/garden_23122023/146/er_file_2023_12_24_21_39_30.wav: Failed to open the input \"/Users/evgenynazarenko/DACS_3_year/Thesis/GardenFiles23/garden_23122023/146/er_file_2023_12_24_21_39_30.wav\" (Invalid data found when processing input).\n",
      "Error processing file /Users/evgenynazarenko/DACS_3_year/Thesis/GardenFiles23/garden_23122023/146/er_file_2023_12_24_19_19_57.wav: Failed to open the input \"/Users/evgenynazarenko/DACS_3_year/Thesis/GardenFiles23/garden_23122023/146/er_file_2023_12_24_19_19_57.wav\" (Invalid data found when processing input).\n",
      "Error processing file /Users/evgenynazarenko/DACS_3_year/Thesis/GardenFiles23/garden_23122023/146/er_file_2023_12_24_21_50_51.wav: Failed to open the input \"/Users/evgenynazarenko/DACS_3_year/Thesis/GardenFiles23/garden_23122023/146/er_file_2023_12_24_21_50_51.wav\" (Invalid data found when processing input).\n",
      "Error processing file /Users/evgenynazarenko/DACS_3_year/Thesis/GardenFiles23/garden_23122023/146/er_file_2023_12_24_20_58_42.wav: Failed to open the input \"/Users/evgenynazarenko/DACS_3_year/Thesis/GardenFiles23/garden_23122023/146/er_file_2023_12_24_20_58_42.wav\" (Invalid data found when processing input).\n",
      "Error processing file /Users/evgenynazarenko/DACS_3_year/Thesis/GardenFiles23/garden_23122023/146/er_file_2023_12_24_21_50_45.wav: Failed to open the input \"/Users/evgenynazarenko/DACS_3_year/Thesis/GardenFiles23/garden_23122023/146/er_file_2023_12_24_21_50_45.wav\" (Invalid data found when processing input).\n",
      "Error processing file /Users/evgenynazarenko/DACS_3_year/Thesis/GardenFiles23/garden_23122023/146/er_file_2023_12_24_21_44_30.wav: Failed to open the input \"/Users/evgenynazarenko/DACS_3_year/Thesis/GardenFiles23/garden_23122023/146/er_file_2023_12_24_21_44_30.wav\" (Invalid data found when processing input).\n",
      "Error processing file /Users/evgenynazarenko/DACS_3_year/Thesis/GardenFiles23/garden_23122023/146/er_file_2023_12_24_21_02_59.wav: Failed to open the input \"/Users/evgenynazarenko/DACS_3_year/Thesis/GardenFiles23/garden_23122023/146/er_file_2023_12_24_21_02_59.wav\" (Invalid data found when processing input).\n",
      "Error processing file /Users/evgenynazarenko/DACS_3_year/Thesis/GardenFiles23/garden_23122023/146/er_file_2023_12_24_21_41_14.wav: Failed to open the input \"/Users/evgenynazarenko/DACS_3_year/Thesis/GardenFiles23/garden_23122023/146/er_file_2023_12_24_21_41_14.wav\" (Invalid data found when processing input).\n",
      "Error processing file /Users/evgenynazarenko/DACS_3_year/Thesis/GardenFiles23/garden_23122023/146/er_file_2023_12_24_18_26_39.wav: Failed to open the input \"/Users/evgenynazarenko/DACS_3_year/Thesis/GardenFiles23/garden_23122023/146/er_file_2023_12_24_18_26_39.wav\" (Invalid data found when processing input).\n",
      "Error processing file /Users/evgenynazarenko/DACS_3_year/Thesis/GardenFiles23/garden_23122023/146/er_file_2023_12_24_21_48_30.wav: Failed to open the input \"/Users/evgenynazarenko/DACS_3_year/Thesis/GardenFiles23/garden_23122023/146/er_file_2023_12_24_21_48_30.wav\" (Invalid data found when processing input).\n",
      "Error processing file /Users/evgenynazarenko/DACS_3_year/Thesis/GardenFiles23/garden_23122023/146/er_file_2023_12_24_20_23_37.wav: Failed to open the input \"/Users/evgenynazarenko/DACS_3_year/Thesis/GardenFiles23/garden_23122023/146/er_file_2023_12_24_20_23_37.wav\" (Invalid data found when processing input).\n",
      "Error processing file /Users/evgenynazarenko/DACS_3_year/Thesis/GardenFiles23/garden_23122023/146/er_file_2023_12_24_21_51_10.wav: Failed to open the input \"/Users/evgenynazarenko/DACS_3_year/Thesis/GardenFiles23/garden_23122023/146/er_file_2023_12_24_21_51_10.wav\" (Invalid data found when processing input).\n",
      "Error processing file /Users/evgenynazarenko/DACS_3_year/Thesis/GardenFiles23/garden_23122023/146/er_file_2023_12_24_20_59_03.wav: Failed to open the input \"/Users/evgenynazarenko/DACS_3_year/Thesis/GardenFiles23/garden_23122023/146/er_file_2023_12_24_20_59_03.wav\" (Invalid data found when processing input).\n",
      "Error processing file /Users/evgenynazarenko/DACS_3_year/Thesis/GardenFiles23/garden_23122023/146/er_file_2023_12_24_18_25_41.wav: Failed to open the input \"/Users/evgenynazarenko/DACS_3_year/Thesis/GardenFiles23/garden_23122023/146/er_file_2023_12_24_18_25_41.wav\" (Invalid data found when processing input).\n",
      "Error processing file /Users/evgenynazarenko/DACS_3_year/Thesis/GardenFiles23/garden_23122023/146/er_file_2023_12_24_18_25_55.wav: Failed to open the input \"/Users/evgenynazarenko/DACS_3_year/Thesis/GardenFiles23/garden_23122023/146/er_file_2023_12_24_18_25_55.wav\" (Invalid data found when processing input).\n",
      "Error processing file /Users/evgenynazarenko/DACS_3_year/Thesis/GardenFiles23/garden_23122023/146/er_file_2023_12_24_20_59_17.wav: Failed to open the input \"/Users/evgenynazarenko/DACS_3_year/Thesis/GardenFiles23/garden_23122023/146/er_file_2023_12_24_20_59_17.wav\" (Invalid data found when processing input).\n",
      "Error processing file /Users/evgenynazarenko/DACS_3_year/Thesis/GardenFiles23/garden_23122023/146/er_file_2023_12_24_19_30_17.wav: Failed to open the input \"/Users/evgenynazarenko/DACS_3_year/Thesis/GardenFiles23/garden_23122023/146/er_file_2023_12_24_19_30_17.wav\" (Invalid data found when processing input).\n",
      "Error processing file /Users/evgenynazarenko/DACS_3_year/Thesis/GardenFiles23/garden_23122023/146/er_file_2023_12_24_21_51_04.wav: Failed to open the input \"/Users/evgenynazarenko/DACS_3_year/Thesis/GardenFiles23/garden_23122023/146/er_file_2023_12_24_21_51_04.wav\" (Invalid data found when processing input).\n",
      "Error processing file /Users/evgenynazarenko/DACS_3_year/Thesis/GardenFiles23/garden_23122023/146/er_file_2023_12_24_18_04_58.wav: Failed to open the input \"/Users/evgenynazarenko/DACS_3_year/Thesis/GardenFiles23/garden_23122023/146/er_file_2023_12_24_18_04_58.wav\" (Invalid data found when processing input).\n",
      "Error processing file /Users/evgenynazarenko/DACS_3_year/Thesis/GardenFiles23/garden_23122023/146/er_file_2023_12_24_19_18_02.wav: Failed to open the input \"/Users/evgenynazarenko/DACS_3_year/Thesis/GardenFiles23/garden_23122023/146/er_file_2023_12_24_19_18_02.wav\" (Invalid data found when processing input).\n",
      "Error processing file /Users/evgenynazarenko/DACS_3_year/Thesis/GardenFiles23/garden_23122023/146/er_file_2023_12_24_21_22_15.wav: Failed to open the input \"/Users/evgenynazarenko/DACS_3_year/Thesis/GardenFiles23/garden_23122023/146/er_file_2023_12_24_21_22_15.wav\" (Invalid data found when processing input).\n",
      "Error processing file /Users/evgenynazarenko/DACS_3_year/Thesis/GardenFiles23/garden_23122023/146/er_file_2023_12_24_18_28_01.wav: Failed to open the input \"/Users/evgenynazarenko/DACS_3_year/Thesis/GardenFiles23/garden_23122023/146/er_file_2023_12_24_18_28_01.wav\" (Invalid data found when processing input).\n",
      "Error processing file /Users/evgenynazarenko/DACS_3_year/Thesis/GardenFiles23/garden_23122023/146/er_file_2023_12_24_20_29_43.wav: Failed to open the input \"/Users/evgenynazarenko/DACS_3_year/Thesis/GardenFiles23/garden_23122023/146/er_file_2023_12_24_20_29_43.wav\" (Invalid data found when processing input).\n",
      "Error processing file /Users/evgenynazarenko/DACS_3_year/Thesis/GardenFiles23/garden_23122023/146/er_file_2023_12_24_21_21_44.wav: Failed to open the input \"/Users/evgenynazarenko/DACS_3_year/Thesis/GardenFiles23/garden_23122023/146/er_file_2023_12_24_21_21_44.wav\" (Invalid data found when processing input).\n",
      "Error processing file /Users/evgenynazarenko/DACS_3_year/Thesis/GardenFiles23/garden_23122023/146/er_file_2023_12_24_20_56_46.wav: Failed to open the input \"/Users/evgenynazarenko/DACS_3_year/Thesis/GardenFiles23/garden_23122023/146/er_file_2023_12_24_20_56_46.wav\" (Invalid data found when processing input).\n",
      "Error processing file /Users/evgenynazarenko/DACS_3_year/Thesis/GardenFiles23/garden_23122023/146/er_file_2023_12_24_20_58_57.wav: Failed to open the input \"/Users/evgenynazarenko/DACS_3_year/Thesis/GardenFiles23/garden_23122023/146/er_file_2023_12_24_20_58_57.wav\" (Invalid data found when processing input).\n",
      "Error processing file /Users/evgenynazarenko/DACS_3_year/Thesis/GardenFiles23/garden_23122023/146/er_file_2023_12_24_19_19_42.wav: Failed to open the input \"/Users/evgenynazarenko/DACS_3_year/Thesis/GardenFiles23/garden_23122023/146/er_file_2023_12_24_19_19_42.wav\" (Invalid data found when processing input).\n",
      "Error processing file /Users/evgenynazarenko/DACS_3_year/Thesis/GardenFiles23/garden_23122023/146/er_file_2023_12_24_18_50_19.wav: Failed to open the input \"/Users/evgenynazarenko/DACS_3_year/Thesis/GardenFiles23/garden_23122023/146/er_file_2023_12_24_18_50_19.wav\" (Invalid data found when processing input).\n",
      "Error processing file /Users/evgenynazarenko/DACS_3_year/Thesis/GardenFiles23/garden_23122023/146/er_file_2023_12_24_21_37_34.wav: Failed to open the input \"/Users/evgenynazarenko/DACS_3_year/Thesis/GardenFiles23/garden_23122023/146/er_file_2023_12_24_21_37_34.wav\" (Invalid data found when processing input).\n",
      "Error processing file /Users/evgenynazarenko/DACS_3_year/Thesis/GardenFiles23/garden_23122023/146/er_file_2023_12_24_20_55_17.wav: Failed to open the input \"/Users/evgenynazarenko/DACS_3_year/Thesis/GardenFiles23/garden_23122023/146/er_file_2023_12_24_20_55_17.wav\" (Invalid data found when processing input).\n",
      "Error processing file /Users/evgenynazarenko/DACS_3_year/Thesis/GardenFiles23/garden_23122023/146/er_file_2023_12_24_21_01_09.wav: Failed to open the input \"/Users/evgenynazarenko/DACS_3_year/Thesis/GardenFiles23/garden_23122023/146/er_file_2023_12_24_21_01_09.wav\" (Invalid data found when processing input).\n",
      "Error processing file /Users/evgenynazarenko/DACS_3_year/Thesis/GardenFiles23/garden_23122023/146/er_file_2023_12_24_18_49_38.wav: Failed to open the input \"/Users/evgenynazarenko/DACS_3_year/Thesis/GardenFiles23/garden_23122023/146/er_file_2023_12_24_18_49_38.wav\" (Invalid data found when processing input).\n",
      "Error processing file /Users/evgenynazarenko/DACS_3_year/Thesis/GardenFiles23/garden_23122023/146/er_file_2023_12_24_18_49_04.wav: Failed to open the input \"/Users/evgenynazarenko/DACS_3_year/Thesis/GardenFiles23/garden_23122023/146/er_file_2023_12_24_18_49_04.wav\" (Invalid data found when processing input).\n",
      "Error processing file /Users/evgenynazarenko/DACS_3_year/Thesis/GardenFiles23/garden_23122023/146/er_file_2023_12_24_20_28_01.wav: Failed to open the input \"/Users/evgenynazarenko/DACS_3_year/Thesis/GardenFiles23/garden_23122023/146/er_file_2023_12_24_20_28_01.wav\" (Invalid data found when processing input).\n",
      "Error processing file /Users/evgenynazarenko/DACS_3_year/Thesis/GardenFiles23/garden_23122023/146/er_file_2023_12_24_21_01_23.wav: Failed to open the input \"/Users/evgenynazarenko/DACS_3_year/Thesis/GardenFiles23/garden_23122023/146/er_file_2023_12_24_21_01_23.wav\" (Invalid data found when processing input).\n",
      "Error processing file /Users/evgenynazarenko/DACS_3_year/Thesis/GardenFiles23/garden_23122023/146/er_file_2023_12_24_19_17_51.wav: Failed to open the input \"/Users/evgenynazarenko/DACS_3_year/Thesis/GardenFiles23/garden_23122023/146/er_file_2023_12_24_19_17_51.wav\" (Invalid data found when processing input).\n",
      "Error processing file /Users/evgenynazarenko/DACS_3_year/Thesis/GardenFiles23/garden_23122023/146/er_file_2023_12_24_20_31_34.wav: Failed to open the input \"/Users/evgenynazarenko/DACS_3_year/Thesis/GardenFiles23/garden_23122023/146/er_file_2023_12_24_20_31_34.wav\" (Invalid data found when processing input).\n",
      "Error processing file /Users/evgenynazarenko/DACS_3_year/Thesis/GardenFiles23/garden_23122023/146/er_file_2023_12_24_19_19_40.wav: Failed to open the input \"/Users/evgenynazarenko/DACS_3_year/Thesis/GardenFiles23/garden_23122023/146/er_file_2023_12_24_19_19_40.wav\" (Invalid data found when processing input).\n",
      "Error processing file /Users/evgenynazarenko/DACS_3_year/Thesis/GardenFiles23/garden_23122023/146/er_file_2023_12_24_19_19_54.wav: Failed to open the input \"/Users/evgenynazarenko/DACS_3_year/Thesis/GardenFiles23/garden_23122023/146/er_file_2023_12_24_19_19_54.wav\" (Invalid data found when processing input).\n",
      "Error processing file /Users/evgenynazarenko/DACS_3_year/Thesis/GardenFiles23/garden_23122023/146/er_file_2023_12_24_21_44_33.wav: Failed to open the input \"/Users/evgenynazarenko/DACS_3_year/Thesis/GardenFiles23/garden_23122023/146/er_file_2023_12_24_21_44_33.wav\" (Invalid data found when processing input).\n",
      "Error processing file /Users/evgenynazarenko/DACS_3_year/Thesis/GardenFiles23/garden_23122023/146/er_file_2023_12_24_21_43_06.wav: Failed to open the input \"/Users/evgenynazarenko/DACS_3_year/Thesis/GardenFiles23/garden_23122023/146/er_file_2023_12_24_21_43_06.wav\" (Invalid data found when processing input).\n",
      "Error processing file /Users/evgenynazarenko/DACS_3_year/Thesis/GardenFiles23/garden_23122023/146/er_file_2023_12_24_19_22_01.wav: Failed to open the input \"/Users/evgenynazarenko/DACS_3_year/Thesis/GardenFiles23/garden_23122023/146/er_file_2023_12_24_19_22_01.wav\" (Invalid data found when processing input).\n",
      "Error processing file /Users/evgenynazarenko/DACS_3_year/Thesis/GardenFiles23/garden_23122023/146/er_file_2023_12_24_18_48_52.wav: Failed to open the input \"/Users/evgenynazarenko/DACS_3_year/Thesis/GardenFiles23/garden_23122023/146/er_file_2023_12_24_18_48_52.wav\" (Invalid data found when processing input).\n",
      "Error processing file /Users/evgenynazarenko/DACS_3_year/Thesis/GardenFiles23/garden_23122023/146/er_file_2023_12_24_18_26_06.wav: Failed to open the input \"/Users/evgenynazarenko/DACS_3_year/Thesis/GardenFiles23/garden_23122023/146/er_file_2023_12_24_18_26_06.wav\" (Invalid data found when processing input).\n",
      "Error processing file /Users/evgenynazarenko/DACS_3_year/Thesis/GardenFiles23/garden_23122023/146/er_file_2023_12_24_21_48_27.wav: Failed to open the input \"/Users/evgenynazarenko/DACS_3_year/Thesis/GardenFiles23/garden_23122023/146/er_file_2023_12_24_21_48_27.wav\" (Invalid data found when processing input).\n",
      "Error processing file /Users/evgenynazarenko/DACS_3_year/Thesis/GardenFiles23/garden_23122023/146/er_file_2023_12_24_21_48_33.wav: Failed to open the input \"/Users/evgenynazarenko/DACS_3_year/Thesis/GardenFiles23/garden_23122023/146/er_file_2023_12_24_21_48_33.wav\" (Invalid data found when processing input).\n",
      "Error processing file /Users/evgenynazarenko/DACS_3_year/Thesis/GardenFiles23/garden_23122023/146/er_file_2023_12_24_20_23_34.wav: Failed to open the input \"/Users/evgenynazarenko/DACS_3_year/Thesis/GardenFiles23/garden_23122023/146/er_file_2023_12_24_20_23_34.wav\" (Invalid data found when processing input).\n",
      "Error processing file /Users/evgenynazarenko/DACS_3_year/Thesis/GardenFiles23/garden_23122023/146/er_file_2023_12_24_19_18_00.wav: Failed to open the input \"/Users/evgenynazarenko/DACS_3_year/Thesis/GardenFiles23/garden_23122023/146/er_file_2023_12_24_19_18_00.wav\" (Invalid data found when processing input).\n",
      "Error processing file /Users/evgenynazarenko/DACS_3_year/Thesis/GardenFiles23/garden_23122023/146/er_file_2023_12_24_20_57_10.wav: Failed to open the input \"/Users/evgenynazarenko/DACS_3_year/Thesis/GardenFiles23/garden_23122023/146/er_file_2023_12_24_20_57_10.wav\" (Invalid data found when processing input).\n",
      "Error processing file /Users/evgenynazarenko/DACS_3_year/Thesis/GardenFiles23/garden_23122023/146/er_file_2023_12_24_21_42_52.wav: Failed to open the input \"/Users/evgenynazarenko/DACS_3_year/Thesis/GardenFiles23/garden_23122023/146/er_file_2023_12_24_21_42_52.wav\" (Invalid data found when processing input).\n",
      "Error processing file /Users/evgenynazarenko/DACS_3_year/Thesis/GardenFiles23/garden_23122023/146/er_file_2023_12_24_21_51_07.wav: Failed to open the input \"/Users/evgenynazarenko/DACS_3_year/Thesis/GardenFiles23/garden_23122023/146/er_file_2023_12_24_21_51_07.wav\" (Invalid data found when processing input).\n",
      "Error processing file /Users/evgenynazarenko/DACS_3_year/Thesis/GardenFiles23/garden_23122023/146/er_file_2023_12_24_20_59_14.wav: Failed to open the input \"/Users/evgenynazarenko/DACS_3_year/Thesis/GardenFiles23/garden_23122023/146/er_file_2023_12_24_20_59_14.wav\" (Invalid data found when processing input).\n",
      "Error processing file /Users/evgenynazarenko/DACS_3_year/Thesis/GardenFiles23/garden_23122023/146/er_file_2023_12_24_19_30_00.wav: Failed to open the input \"/Users/evgenynazarenko/DACS_3_year/Thesis/GardenFiles23/garden_23122023/146/er_file_2023_12_24_19_30_00.wav\" (Invalid data found when processing input).\n",
      "Error processing file /Users/evgenynazarenko/DACS_3_year/Thesis/GardenFiles23/garden_23122023/146/er_file_2023_12_24_20_59_00.wav: Failed to open the input \"/Users/evgenynazarenko/DACS_3_year/Thesis/GardenFiles23/garden_23122023/146/er_file_2023_12_24_20_59_00.wav\" (Invalid data found when processing input).\n",
      "Error processing file /Users/evgenynazarenko/DACS_3_year/Thesis/GardenFiles23/garden_23122023/146/er_file_2023_12_24_20_54_54.wav: Failed to open the input \"/Users/evgenynazarenko/DACS_3_year/Thesis/GardenFiles23/garden_23122023/146/er_file_2023_12_24_20_54_54.wav\" (Invalid data found when processing input).\n",
      "Error processing file /Users/evgenynazarenko/DACS_3_year/Thesis/GardenFiles23/garden_23122023/146/er_file_2023_12_24_21_41_16.wav: Failed to open the input \"/Users/evgenynazarenko/DACS_3_year/Thesis/GardenFiles23/garden_23122023/146/er_file_2023_12_24_21_41_16.wav\" (Invalid data found when processing input).\n",
      "Error processing file /Users/evgenynazarenko/DACS_3_year/Thesis/GardenFiles23/garden_23122023/146/er_file_2023_12_24_20_58_54.wav: Failed to open the input \"/Users/evgenynazarenko/DACS_3_year/Thesis/GardenFiles23/garden_23122023/146/er_file_2023_12_24_20_58_54.wav\" (Invalid data found when processing input).\n",
      "Error processing file /Users/evgenynazarenko/DACS_3_year/Thesis/GardenFiles23/garden_23122023/146/er_file_2023_12_24_20_31_09.wav: Failed to open the input \"/Users/evgenynazarenko/DACS_3_year/Thesis/GardenFiles23/garden_23122023/146/er_file_2023_12_24_20_31_09.wav\" (Invalid data found when processing input).\n",
      "Error processing file /Users/evgenynazarenko/DACS_3_year/Thesis/GardenFiles23/garden_23122023/146/er_file_2023_12_24_18_50_26.wav: Failed to open the input \"/Users/evgenynazarenko/DACS_3_year/Thesis/GardenFiles23/garden_23122023/146/er_file_2023_12_24_18_50_26.wav\" (Invalid data found when processing input).\n",
      "Error processing file /Users/evgenynazarenko/DACS_3_year/Thesis/GardenFiles23/garden_23122023/146/er_file_2023_12_24_18_27_53.wav: Failed to open the input \"/Users/evgenynazarenko/DACS_3_year/Thesis/GardenFiles23/garden_23122023/146/er_file_2023_12_24_18_27_53.wav\" (Invalid data found when processing input).\n",
      "Error processing file /Users/evgenynazarenko/DACS_3_year/Thesis/GardenFiles23/garden_23122023/146/er_file_2023_12_24_21_40_56.wav: Failed to open the input \"/Users/evgenynazarenko/DACS_3_year/Thesis/GardenFiles23/garden_23122023/146/er_file_2023_12_24_21_40_56.wav\" (Invalid data found when processing input).\n",
      "Error processing file /Users/evgenynazarenko/DACS_3_year/Thesis/GardenFiles23/garden_23122023/146/er_file_2023_12_24_21_01_26.wav: Failed to open the input \"/Users/evgenynazarenko/DACS_3_year/Thesis/GardenFiles23/garden_23122023/146/er_file_2023_12_24_21_01_26.wav\" (Invalid data found when processing input).\n",
      "Error processing file /Users/evgenynazarenko/DACS_3_year/Thesis/GardenFiles23/garden_23122023/146/er_file_2023_12_24_21_23_46.wav: Failed to open the input \"/Users/evgenynazarenko/DACS_3_year/Thesis/GardenFiles23/garden_23122023/146/er_file_2023_12_24_21_23_46.wav\" (Invalid data found when processing input).\n",
      "Error processing file /Users/evgenynazarenko/DACS_3_year/Thesis/GardenFiles23/garden_23122023/146/er_file_2023_12_24_19_19_51.wav: Failed to open the input \"/Users/evgenynazarenko/DACS_3_year/Thesis/GardenFiles23/garden_23122023/146/er_file_2023_12_24_19_19_51.wav\" (Invalid data found when processing input).\n",
      "Error processing file /Users/evgenynazarenko/DACS_3_year/Thesis/GardenFiles23/garden_23122023/146/er_file_2023_12_24_18_50_22.wav: Failed to open the input \"/Users/evgenynazarenko/DACS_3_year/Thesis/GardenFiles23/garden_23122023/146/er_file_2023_12_24_18_50_22.wav\" (Invalid data found when processing input).\n",
      "Error processing file /Users/evgenynazarenko/DACS_3_year/Thesis/GardenFiles23/garden_23122023/146/er_file_2023_12_24_21_50_43.wav: Failed to open the input \"/Users/evgenynazarenko/DACS_3_year/Thesis/GardenFiles23/garden_23122023/146/er_file_2023_12_24_21_50_43.wav\" (Invalid data found when processing input).\n",
      "Error processing file /Users/evgenynazarenko/DACS_3_year/Thesis/GardenFiles23/garden_23122023/146/er_file_2023_12_24_21_48_36.wav: Failed to open the input \"/Users/evgenynazarenko/DACS_3_year/Thesis/GardenFiles23/garden_23122023/146/er_file_2023_12_24_21_48_36.wav\" (Invalid data found when processing input).\n",
      "Error processing file /Users/evgenynazarenko/DACS_3_year/Thesis/GardenFiles23/garden_23122023/146/er_file_2023_12_24_19_20_01.wav: Failed to open the input \"/Users/evgenynazarenko/DACS_3_year/Thesis/GardenFiles23/garden_23122023/146/er_file_2023_12_24_19_20_01.wav\" (Invalid data found when processing input).\n",
      "Error processing file /Users/evgenynazarenko/DACS_3_year/Thesis/GardenFiles23/garden_23122023/146/er_file_2023_12_24_21_46_33.wav: Failed to open the input \"/Users/evgenynazarenko/DACS_3_year/Thesis/GardenFiles23/garden_23122023/146/er_file_2023_12_24_21_46_33.wav\" (Invalid data found when processing input).\n",
      "Error processing file /Users/evgenynazarenko/DACS_3_year/Thesis/GardenFiles23/garden_23122023/146/er_file_2023_12_24_18_26_03.wav: Failed to open the input \"/Users/evgenynazarenko/DACS_3_year/Thesis/GardenFiles23/garden_23122023/146/er_file_2023_12_24_18_26_03.wav\" (Invalid data found when processing input).\n",
      "Error processing file /Users/evgenynazarenko/DACS_3_year/Thesis/GardenFiles23/garden_23122023/146/er_file_2023_12_24_19_18_11.wav: Failed to open the input \"/Users/evgenynazarenko/DACS_3_year/Thesis/GardenFiles23/garden_23122023/146/er_file_2023_12_24_19_18_11.wav\" (Invalid data found when processing input).\n",
      "Error processing file /Users/evgenynazarenko/DACS_3_year/Thesis/GardenFiles23/garden_23122023/146/er_file_2023_12_24_19_18_05.wav: Failed to open the input \"/Users/evgenynazarenko/DACS_3_year/Thesis/GardenFiles23/garden_23122023/146/er_file_2023_12_24_19_18_05.wav\" (Invalid data found when processing input).\n",
      "Error processing file /Users/evgenynazarenko/DACS_3_year/Thesis/GardenFiles23/garden_23122023/146/er_file_2023_12_24_21_42_57.wav: Failed to open the input \"/Users/evgenynazarenko/DACS_3_year/Thesis/GardenFiles23/garden_23122023/146/er_file_2023_12_24_21_42_57.wav\" (Invalid data found when processing input).\n",
      "Error processing file /Users/evgenynazarenko/DACS_3_year/Thesis/GardenFiles23/garden_23122023/146/er_file_2023_12_24_21_42_43.wav: Failed to open the input \"/Users/evgenynazarenko/DACS_3_year/Thesis/GardenFiles23/garden_23122023/146/er_file_2023_12_24_21_42_43.wav\" (Invalid data found when processing input).\n",
      "Error processing file /Users/evgenynazarenko/DACS_3_year/Thesis/GardenFiles23/garden_23122023/146/er_file_2023_12_24_20_57_14.wav: Failed to open the input \"/Users/evgenynazarenko/DACS_3_year/Thesis/GardenFiles23/garden_23122023/146/er_file_2023_12_24_20_57_14.wav\" (Invalid data found when processing input).\n",
      "Error processing file /Users/evgenynazarenko/DACS_3_year/Thesis/GardenFiles23/garden_23122023/146/er_file_2023_12_24_20_59_39.wav: Failed to open the input \"/Users/evgenynazarenko/DACS_3_year/Thesis/GardenFiles23/garden_23122023/146/er_file_2023_12_24_20_59_39.wav\" (Invalid data found when processing input).\n",
      "Error processing file /Users/evgenynazarenko/DACS_3_year/Thesis/GardenFiles23/garden_23122023/146/er_file_2023_12_24_21_22_07.wav: Failed to open the input \"/Users/evgenynazarenko/DACS_3_year/Thesis/GardenFiles23/garden_23122023/146/er_file_2023_12_24_21_22_07.wav\" (Invalid data found when processing input).\n",
      "Error processing file /Users/evgenynazarenko/DACS_3_year/Thesis/GardenFiles23/garden_23122023/146/er_file_2023_12_24_20_54_51.wav: Failed to open the input \"/Users/evgenynazarenko/DACS_3_year/Thesis/GardenFiles23/garden_23122023/146/er_file_2023_12_24_20_54_51.wav\" (Invalid data found when processing input).\n",
      "Error processing file /Users/evgenynazarenko/DACS_3_year/Thesis/GardenFiles23/garden_23122023/146/er_file_2023_12_24_19_20_14.wav: Failed to open the input \"/Users/evgenynazarenko/DACS_3_year/Thesis/GardenFiles23/garden_23122023/146/er_file_2023_12_24_19_20_14.wav\" (Invalid data found when processing input).\n",
      "Error processing file /Users/evgenynazarenko/DACS_3_year/Thesis/GardenFiles23/garden_23122023/146/er_file_2023_12_24_18_48_42.wav: Failed to open the input \"/Users/evgenynazarenko/DACS_3_year/Thesis/GardenFiles23/garden_23122023/146/er_file_2023_12_24_18_48_42.wav\" (Invalid data found when processing input).\n",
      "Error processing file /Users/evgenynazarenko/DACS_3_year/Thesis/GardenFiles23/garden_23122023/146/er_file_2023_12_24_20_58_51.wav: Failed to open the input \"/Users/evgenynazarenko/DACS_3_year/Thesis/GardenFiles23/garden_23122023/146/er_file_2023_12_24_20_58_51.wav\" (Invalid data found when processing input).\n",
      "Error processing file /Users/evgenynazarenko/DACS_3_year/Thesis/GardenFiles23/garden_23122023/146/er_file_2023_12_24_21_43_16.wav: Failed to open the input \"/Users/evgenynazarenko/DACS_3_year/Thesis/GardenFiles23/garden_23122023/146/er_file_2023_12_24_21_43_16.wav\" (Invalid data found when processing input).\n",
      "Error processing file /Users/evgenynazarenko/DACS_3_year/Thesis/GardenFiles23/garden_23122023/146/er_file_2023_12_24_21_37_26.wav: Failed to open the input \"/Users/evgenynazarenko/DACS_3_year/Thesis/GardenFiles23/garden_23122023/146/er_file_2023_12_24_21_37_26.wav\" (Invalid data found when processing input).\n",
      "Error processing file /Users/evgenynazarenko/DACS_3_year/Thesis/GardenFiles23/garden_23122023/146/er_file_2023_12_24_20_55_05.wav: Failed to open the input \"/Users/evgenynazarenko/DACS_3_year/Thesis/GardenFiles23/garden_23122023/146/er_file_2023_12_24_20_55_05.wav\" (Invalid data found when processing input).\n",
      "Error processing file /Users/evgenynazarenko/DACS_3_year/Thesis/GardenFiles23/garden_23122023/146/er_file_2023_12_24_21_40_53.wav: Failed to open the input \"/Users/evgenynazarenko/DACS_3_year/Thesis/GardenFiles23/garden_23122023/146/er_file_2023_12_24_21_40_53.wav\" (Invalid data found when processing input).\n",
      "Error processing file /Users/evgenynazarenko/DACS_3_year/Thesis/GardenFiles23/garden_23122023/146/er_file_2023_12_24_18_27_56.wav: Failed to open the input \"/Users/evgenynazarenko/DACS_3_year/Thesis/GardenFiles23/garden_23122023/146/er_file_2023_12_24_18_27_56.wav\" (Invalid data found when processing input).\n",
      "Error processing file /Users/evgenynazarenko/DACS_3_year/Thesis/GardenFiles23/garden_23122023/146/er_file_2023_12_24_20_28_05.wav: Failed to open the input \"/Users/evgenynazarenko/DACS_3_year/Thesis/GardenFiles23/garden_23122023/146/er_file_2023_12_24_20_28_05.wav\" (Invalid data found when processing input).\n",
      "Error processing file /Users/evgenynazarenko/DACS_3_year/Thesis/GardenFiles23/garden_23122023/146/er_file_2023_12_24_20_28_13.wav: Failed to open the input \"/Users/evgenynazarenko/DACS_3_year/Thesis/GardenFiles23/garden_23122023/146/er_file_2023_12_24_20_28_13.wav\" (Invalid data found when processing input).\n",
      "Error processing file /Users/evgenynazarenko/DACS_3_year/Thesis/GardenFiles23/garden_23122023/146/er_file_2023_12_24_21_01_19.wav: Failed to open the input \"/Users/evgenynazarenko/DACS_3_year/Thesis/GardenFiles23/garden_23122023/146/er_file_2023_12_24_21_01_19.wav\" (Invalid data found when processing input).\n",
      "Error processing file /Users/evgenynazarenko/DACS_3_year/Thesis/GardenFiles23/garden_23122023/146/er_file_2023_12_24_18_50_09.wav: Failed to open the input \"/Users/evgenynazarenko/DACS_3_year/Thesis/GardenFiles23/garden_23122023/146/er_file_2023_12_24_18_50_09.wav\" (Invalid data found when processing input).\n",
      "Error processing file /Users/evgenynazarenko/DACS_3_year/Thesis/GardenFiles23/garden_23122023/146/er_file_2023_12_24_19_17_43.wav: Failed to open the input \"/Users/evgenynazarenko/DACS_3_year/Thesis/GardenFiles23/garden_23122023/146/er_file_2023_12_24_19_17_43.wav\" (Invalid data found when processing input).\n",
      "Error processing file /Users/evgenynazarenko/DACS_3_year/Thesis/GardenFiles23/garden_23122023/146/er_file_2023_12_24_20_56_56.wav: Failed to open the input \"/Users/evgenynazarenko/DACS_3_year/Thesis/GardenFiles23/garden_23122023/146/er_file_2023_12_24_20_56_56.wav\" (Invalid data found when processing input).\n",
      "Error processing file /Users/evgenynazarenko/DACS_3_year/Thesis/GardenFiles23/garden_23122023/146/er_file_2023_12_24_20_58_47.wav: Failed to open the input \"/Users/evgenynazarenko/DACS_3_year/Thesis/GardenFiles23/garden_23122023/146/er_file_2023_12_24_20_58_47.wav\" (Invalid data found when processing input).\n",
      "Error processing file /Users/evgenynazarenko/DACS_3_year/Thesis/GardenFiles23/garden_23122023/146/er_file_2023_12_24_21_43_28.wav: Failed to open the input \"/Users/evgenynazarenko/DACS_3_year/Thesis/GardenFiles23/garden_23122023/146/er_file_2023_12_24_21_43_28.wav\" (Invalid data found when processing input).\n",
      "Error processing file /Users/evgenynazarenko/DACS_3_year/Thesis/GardenFiles23/garden_23122023/146/er_file_2023_12_24_21_44_35.wav: Failed to open the input \"/Users/evgenynazarenko/DACS_3_year/Thesis/GardenFiles23/garden_23122023/146/er_file_2023_12_24_21_44_35.wav\" (Invalid data found when processing input).\n",
      "Error processing file /Users/evgenynazarenko/DACS_3_year/Thesis/GardenFiles23/garden_23122023/146/er_file_2023_12_24_20_27_42.wav: Failed to open the input \"/Users/evgenynazarenko/DACS_3_year/Thesis/GardenFiles23/garden_23122023/146/er_file_2023_12_24_20_27_42.wav\" (Invalid data found when processing input).\n",
      "Error processing file /Users/evgenynazarenko/DACS_3_year/Thesis/GardenFiles23/garden_23122023/146/er_file_2023_12_24_20_54_47.wav: Failed to open the input \"/Users/evgenynazarenko/DACS_3_year/Thesis/GardenFiles23/garden_23122023/146/er_file_2023_12_24_20_54_47.wav\" (Invalid data found when processing input).\n",
      "Error processing file /Users/evgenynazarenko/DACS_3_year/Thesis/GardenFiles23/garden_23122023/146/er_file_2023_12_24_21_00_59.wav: Failed to open the input \"/Users/evgenynazarenko/DACS_3_year/Thesis/GardenFiles23/garden_23122023/146/er_file_2023_12_24_21_00_59.wav\" (Invalid data found when processing input).\n",
      "Error processing file /Users/evgenynazarenko/DACS_3_year/Thesis/GardenFiles23/garden_23122023/146/er_file_2023_12_24_18_26_00.wav: Failed to open the input \"/Users/evgenynazarenko/DACS_3_year/Thesis/GardenFiles23/garden_23122023/146/er_file_2023_12_24_18_26_00.wav\" (Invalid data found when processing input).\n",
      "Error processing file /Users/evgenynazarenko/DACS_3_year/Thesis/GardenFiles23/garden_23122023/146/er_file_2023_12_24_21_22_39.wav: Failed to open the input \"/Users/evgenynazarenko/DACS_3_year/Thesis/GardenFiles23/garden_23122023/146/er_file_2023_12_24_21_22_39.wav\" (Invalid data found when processing input).\n",
      "Error processing file /Users/evgenynazarenko/DACS_3_year/Thesis/GardenFiles23/garden_23122023/146/er_file_2023_12_24_21_22_11.wav: Failed to open the input \"/Users/evgenynazarenko/DACS_3_year/Thesis/GardenFiles23/garden_23122023/146/er_file_2023_12_24_21_22_11.wav\" (Invalid data found when processing input).\n",
      "Error processing file /Users/evgenynazarenko/DACS_3_year/Thesis/GardenFiles23/garden_23122023/146/er_file_2023_12_24_18_25_51.wav: Failed to open the input \"/Users/evgenynazarenko/DACS_3_year/Thesis/GardenFiles23/garden_23122023/146/er_file_2023_12_24_18_25_51.wav\" (Invalid data found when processing input).\n",
      "Error processing file /Users/evgenynazarenko/DACS_3_year/Thesis/GardenFiles23/garden_23122023/146/er_file_2023_12_24_20_57_02.wav: Failed to open the input \"/Users/evgenynazarenko/DACS_3_year/Thesis/GardenFiles23/garden_23122023/146/er_file_2023_12_24_20_57_02.wav\" (Invalid data found when processing input).\n",
      "Error processing file /Users/evgenynazarenko/DACS_3_year/Thesis/GardenFiles23/garden_23122023/146/er_file_2023_12_24_18_25_44.wav: Failed to open the input \"/Users/evgenynazarenko/DACS_3_year/Thesis/GardenFiles23/garden_23122023/146/er_file_2023_12_24_18_25_44.wav\" (Invalid data found when processing input).\n",
      "Error processing file /Users/evgenynazarenko/DACS_3_year/Thesis/GardenFiles23/garden_23122023/146/er_file_2023_12_24_21_51_01.wav: Failed to open the input \"/Users/evgenynazarenko/DACS_3_year/Thesis/GardenFiles23/garden_23122023/146/er_file_2023_12_24_21_51_01.wav\" (Invalid data found when processing input).\n",
      "Error processing file /Users/evgenynazarenko/DACS_3_year/Thesis/GardenFiles23/garden_23122023/146/er_file_2023_12_24_21_48_08.wav: Failed to open the input \"/Users/evgenynazarenko/DACS_3_year/Thesis/GardenFiles23/garden_23122023/146/er_file_2023_12_24_21_48_08.wav\" (Invalid data found when processing input).\n",
      "Error processing file /Users/evgenynazarenko/DACS_3_year/Thesis/GardenFiles23/garden_23122023/146/er_file_2023_12_24_20_27_57.wav: Failed to open the input \"/Users/evgenynazarenko/DACS_3_year/Thesis/GardenFiles23/garden_23122023/146/er_file_2023_12_24_20_27_57.wav\" (Invalid data found when processing input).\n",
      "Error processing file /Users/evgenynazarenko/DACS_3_year/Thesis/GardenFiles23/garden_23122023/146/er_file_2023_12_24_21_21_55.wav: Failed to open the input \"/Users/evgenynazarenko/DACS_3_year/Thesis/GardenFiles23/garden_23122023/146/er_file_2023_12_24_21_21_55.wav\" (Invalid data found when processing input).\n",
      "Error processing file /Users/evgenynazarenko/DACS_3_year/Thesis/GardenFiles23/garden_23122023/146/er_file_2023_12_24_18_48_55.wav: Failed to open the input \"/Users/evgenynazarenko/DACS_3_year/Thesis/GardenFiles23/garden_23122023/146/er_file_2023_12_24_18_48_55.wav\" (Invalid data found when processing input).\n",
      "Error processing file /Users/evgenynazarenko/DACS_3_year/Thesis/GardenFiles23/garden_23122023/146/er_file_2023_12_24_20_29_52.wav: Failed to open the input \"/Users/evgenynazarenko/DACS_3_year/Thesis/GardenFiles23/garden_23122023/146/er_file_2023_12_24_20_29_52.wav\" (Invalid data found when processing input).\n",
      "Error processing file /Users/evgenynazarenko/DACS_3_year/Thesis/GardenFiles23/garden_23122023/146/er_file_2023_12_24_21_50_55.wav: Failed to open the input \"/Users/evgenynazarenko/DACS_3_year/Thesis/GardenFiles23/garden_23122023/146/er_file_2023_12_24_21_50_55.wav\" (Invalid data found when processing input).\n",
      "Error processing file /Users/evgenynazarenko/DACS_3_year/Thesis/GardenFiles23/garden_23122023/146/er_file_2023_12_24_21_39_34.wav: Failed to open the input \"/Users/evgenynazarenko/DACS_3_year/Thesis/GardenFiles23/garden_23122023/146/er_file_2023_12_24_21_39_34.wav\" (Invalid data found when processing input).\n",
      "Error processing file /Users/evgenynazarenko/DACS_3_year/Thesis/GardenFiles23/garden_23122023/146/er_file_2023_12_24_18_50_34.wav: Failed to open the input \"/Users/evgenynazarenko/DACS_3_year/Thesis/GardenFiles23/garden_23122023/146/er_file_2023_12_24_18_50_34.wav\" (Invalid data found when processing input).\n",
      "Error processing file /Users/evgenynazarenko/DACS_3_year/Thesis/GardenFiles23/garden_23122023/146/er_file_2023_12_24_21_37_19.wav: Failed to open the input \"/Users/evgenynazarenko/DACS_3_year/Thesis/GardenFiles23/garden_23122023/146/er_file_2023_12_24_21_37_19.wav\" (Invalid data found when processing input).\n",
      "Error processing file /Users/evgenynazarenko/DACS_3_year/Thesis/GardenFiles23/garden_23122023/146/er_file_2023_12_24_19_17_56.wav: Failed to open the input \"/Users/evgenynazarenko/DACS_3_year/Thesis/GardenFiles23/garden_23122023/146/er_file_2023_12_24_19_17_56.wav\" (Invalid data found when processing input).\n",
      "Error processing file /Users/evgenynazarenko/DACS_3_year/Thesis/GardenFiles23/garden_23122023/146/er_file_2023_12_24_21_39_20.wav: Failed to open the input \"/Users/evgenynazarenko/DACS_3_year/Thesis/GardenFiles23/garden_23122023/146/er_file_2023_12_24_21_39_20.wav\" (Invalid data found when processing input).\n",
      "Error processing file /Users/evgenynazarenko/DACS_3_year/Thesis/GardenFiles23/garden_23122023/146/er_file_2023_12_24_18_05_35.wav: Failed to open the input \"/Users/evgenynazarenko/DACS_3_year/Thesis/GardenFiles23/garden_23122023/146/er_file_2023_12_24_18_05_35.wav\" (Invalid data found when processing input).\n",
      "Error processing file /Users/evgenynazarenko/DACS_3_year/Thesis/GardenFiles23/garden_23122023/146/er_file_2023_12_24_21_37_31.wav: Failed to open the input \"/Users/evgenynazarenko/DACS_3_year/Thesis/GardenFiles23/garden_23122023/146/er_file_2023_12_24_21_37_31.wav\" (Invalid data found when processing input).\n",
      "Error processing file /Users/evgenynazarenko/DACS_3_year/Thesis/GardenFiles23/garden_23122023/146/er_file_2023_12_24_21_23_44.wav: Failed to open the input \"/Users/evgenynazarenko/DACS_3_year/Thesis/GardenFiles23/garden_23122023/146/er_file_2023_12_24_21_23_44.wav\" (Invalid data found when processing input).\n",
      "Error processing file /Users/evgenynazarenko/DACS_3_year/Thesis/GardenFiles23/garden_23122023/146/er_file_2023_12_24_21_40_50.wav: Failed to open the input \"/Users/evgenynazarenko/DACS_3_year/Thesis/GardenFiles23/garden_23122023/146/er_file_2023_12_24_21_40_50.wav\" (Invalid data found when processing input).\n",
      "Error processing file /Users/evgenynazarenko/DACS_3_year/Thesis/GardenFiles23/garden_23122023/146/er_file_2023_12_24_20_55_12.wav: Failed to open the input \"/Users/evgenynazarenko/DACS_3_year/Thesis/GardenFiles23/garden_23122023/146/er_file_2023_12_24_20_55_12.wav\" (Invalid data found when processing input).\n",
      "Error processing file /Users/evgenynazarenko/DACS_3_year/Thesis/GardenFiles23/garden_23122023/146/er_file_2023_12_24_18_49_01.wav: Failed to open the input \"/Users/evgenynazarenko/DACS_3_year/Thesis/GardenFiles23/garden_23122023/146/er_file_2023_12_24_18_49_01.wav\" (Invalid data found when processing input).\n",
      "Error processing file /Users/evgenynazarenko/DACS_3_year/Thesis/GardenFiles23/garden_23122023/146/er_file_2023_12_24_18_49_15.wav: Failed to open the input \"/Users/evgenynazarenko/DACS_3_year/Thesis/GardenFiles23/garden_23122023/146/er_file_2023_12_24_18_49_15.wav\" (Invalid data found when processing input).\n",
      "/Users/evgenynazarenko/DACS_3_year/Thesis/GardenFiles23/garden_23122023/garden_23122023_metadata.xlsx\n"
     ]
    },
    {
     "name": "stderr",
     "output_type": "stream",
     "text": [
      "/var/folders/lh/0lt7mv811l56hczm0y7dwzym0000gn/T/ipykernel_81228/1414391559.py:30: FutureWarning: The behavior of array concatenation with empty entries is deprecated. In a future version, this will no longer exclude empty items when determining the result dtype. To retain the old behavior, exclude the empty entries before the concat operation.\n",
      "  df[column_name] = df[column_name+'_new'].combine_first(df[column_name])\n"
     ]
    }
   ],
   "source": [
    "# test pipeline\n",
    "garden_folder = \"/Users/evgenynazarenko/DACS_3_year/Thesis/GardenFiles23/garden_23122023\"\n",
    "human_labels = list(human['label'])\n",
    "mit_ast_pipeline(garden_folder,human_labels)"
   ]
  },
  {
   "cell_type": "code",
   "execution_count": 38,
   "metadata": {},
   "outputs": [
    {
     "name": "stdout",
     "output_type": "stream",
     "text": [
      "Found metadata file: /Users/evgenynazarenko/DACS_3_year/Thesis/GardenFiles23/garden_25112023/garden_25112023_metadata.xlsx\n"
     ]
    },
    {
     "data": {
      "application/vnd.jupyter.widget-view+json": {
       "model_id": "a064615e746d4ff7925782851b136314",
       "version_major": 2,
       "version_minor": 0
      },
      "text/plain": [
       "Classifying files:   0%|          | 0/5257 [00:00<?, ?it/s]"
      ]
     },
     "metadata": {},
     "output_type": "display_data"
    },
    {
     "name": "stdout",
     "output_type": "stream",
     "text": [
      "/Users/evgenynazarenko/DACS_3_year/Thesis/GardenFiles23/garden_25112023/garden_25112023_metadata.xlsx\n"
     ]
    },
    {
     "name": "stderr",
     "output_type": "stream",
     "text": [
      "/var/folders/lh/0lt7mv811l56hczm0y7dwzym0000gn/T/ipykernel_81228/1414391559.py:30: FutureWarning: The behavior of array concatenation with empty entries is deprecated. In a future version, this will no longer exclude empty items when determining the result dtype. To retain the old behavior, exclude the empty entries before the concat operation.\n",
      "  df[column_name] = df[column_name+'_new'].combine_first(df[column_name])\n"
     ]
    }
   ],
   "source": [
    "# test pipeline\n",
    "garden_folder = \"/Users/evgenynazarenko/DACS_3_year/Thesis/GardenFiles23/garden_25112023\"\n",
    "human_labels = list(human['label'])\n",
    "mit_ast_pipeline(garden_folder,human_labels)"
   ]
  },
  {
   "cell_type": "code",
   "execution_count": 52,
   "metadata": {},
   "outputs": [
    {
     "name": "stdout",
     "output_type": "stream",
     "text": [
      "Found metadata file: /Users/evgenynazarenko/DACS_3_year/Thesis/GardenFiles23/garden_26012024/garden_26012024_metadata.xlsx\n"
     ]
    },
    {
     "data": {
      "application/vnd.jupyter.widget-view+json": {
       "model_id": "fa70c1ccec6a4db2acf07c3de3fb2238",
       "version_major": 2,
       "version_minor": 0
      },
      "text/plain": [
       "Classifying files:   0%|          | 0/29225 [00:00<?, ?it/s]"
      ]
     },
     "metadata": {},
     "output_type": "display_data"
    },
    {
     "name": "stdout",
     "output_type": "stream",
     "text": [
      "/Users/evgenynazarenko/DACS_3_year/Thesis/GardenFiles23/garden_26012024/garden_26012024_metadata.xlsx\n"
     ]
    },
    {
     "name": "stderr",
     "output_type": "stream",
     "text": [
      "/var/folders/lh/0lt7mv811l56hczm0y7dwzym0000gn/T/ipykernel_81228/1414391559.py:30: FutureWarning: The behavior of array concatenation with empty entries is deprecated. In a future version, this will no longer exclude empty items when determining the result dtype. To retain the old behavior, exclude the empty entries before the concat operation.\n",
      "  df[column_name] = df[column_name+'_new'].combine_first(df[column_name])\n"
     ]
    }
   ],
   "source": [
    "# test pipeline\n",
    "garden_folder = \"/Users/evgenynazarenko/DACS_3_year/Thesis/GardenFiles23/garden_26012024\"\n",
    "human_labels = list(human['label'])\n",
    "mit_ast_pipeline(garden_folder,human_labels)"
   ]
  },
  {
   "cell_type": "code",
   "execution_count": 54,
   "metadata": {},
   "outputs": [
    {
     "name": "stdout",
     "output_type": "stream",
     "text": [
      "Found metadata file: /Users/evgenynazarenko/DACS_3_year/Thesis/GardenFiles23/garden_30102023/garden_30102023_metadata.xlsx\n"
     ]
    },
    {
     "data": {
      "application/vnd.jupyter.widget-view+json": {
       "model_id": "ec19c646787b41d99128fb9564083731",
       "version_major": 2,
       "version_minor": 0
      },
      "text/plain": [
       "Classifying files:   0%|          | 0/3361 [00:00<?, ?it/s]"
      ]
     },
     "metadata": {},
     "output_type": "display_data"
    },
    {
     "name": "stdout",
     "output_type": "stream",
     "text": [
      "/Users/evgenynazarenko/DACS_3_year/Thesis/GardenFiles23/garden_30102023/garden_30102023_metadata.xlsx\n"
     ]
    },
    {
     "name": "stderr",
     "output_type": "stream",
     "text": [
      "/var/folders/lh/0lt7mv811l56hczm0y7dwzym0000gn/T/ipykernel_81228/1414391559.py:30: FutureWarning: The behavior of array concatenation with empty entries is deprecated. In a future version, this will no longer exclude empty items when determining the result dtype. To retain the old behavior, exclude the empty entries before the concat operation.\n",
      "  df[column_name] = df[column_name+'_new'].combine_first(df[column_name])\n"
     ]
    }
   ],
   "source": [
    "# test pipeline\n",
    "garden_folder = \"/Users/evgenynazarenko/DACS_3_year/Thesis/GardenFiles23/garden_30102023\"\n",
    "human_labels = list(human['label'])\n",
    "mit_ast_pipeline(garden_folder,human_labels)"
   ]
  },
  {
   "cell_type": "markdown",
   "metadata": {},
   "source": [
    "create dull meatdata file "
   ]
  },
  {
   "cell_type": "code",
   "execution_count": 70,
   "metadata": {},
   "outputs": [
    {
     "data": {
      "text/plain": [
       "(406689, 27)"
      ]
     },
     "execution_count": 70,
     "metadata": {},
     "output_type": "execute_result"
    }
   ],
   "source": [
    "# read the metadata file\n",
    "df_meta_2504 = pd.read_excel('metadata/garden_concat_metadata_birdnet_labeled_mit_ast_2404.xlsx')\n",
    "df_meta_2504.shape"
   ]
  },
  {
   "cell_type": "code",
   "execution_count": 71,
   "metadata": {},
   "outputs": [
    {
     "data": {
      "text/html": [
       "<div>\n",
       "<style scoped>\n",
       "    .dataframe tbody tr th:only-of-type {\n",
       "        vertical-align: middle;\n",
       "    }\n",
       "\n",
       "    .dataframe tbody tr th {\n",
       "        vertical-align: top;\n",
       "    }\n",
       "\n",
       "    .dataframe thead th {\n",
       "        text-align: right;\n",
       "    }\n",
       "</style>\n",
       "<table border=\"1\" class=\"dataframe\">\n",
       "  <thead>\n",
       "    <tr style=\"text-align: right;\">\n",
       "      <th></th>\n",
       "      <th>Unnamed: 0</th>\n",
       "      <th>sessionId</th>\n",
       "      <th>time</th>\n",
       "      <th>filename</th>\n",
       "      <th>th1</th>\n",
       "      <th>th1_value</th>\n",
       "      <th>th2</th>\n",
       "      <th>th2_value</th>\n",
       "      <th>th3</th>\n",
       "      <th>th3_value</th>\n",
       "      <th>...</th>\n",
       "      <th>tempAve</th>\n",
       "      <th>humidityAvg</th>\n",
       "      <th>winddirAvg</th>\n",
       "      <th>uvHigh</th>\n",
       "      <th>solarRadiationHigh</th>\n",
       "      <th>lon</th>\n",
       "      <th>lat</th>\n",
       "      <th>BirdNET</th>\n",
       "      <th>MIT_AST_label</th>\n",
       "      <th>sound_class_label</th>\n",
       "    </tr>\n",
       "  </thead>\n",
       "  <tbody>\n",
       "    <tr>\n",
       "      <th>0</th>\n",
       "      <td>0</td>\n",
       "      <td>test</td>\n",
       "      <td>_2024_03_03_8_34_48</td>\n",
       "      <td>garden_03032024/0/er_file_2024_03_03_8_34_48.wav</td>\n",
       "      <td>0.382969</td>\n",
       "      <td>0.50</td>\n",
       "      <td>0.790168</td>\n",
       "      <td>0.50</td>\n",
       "      <td>0.255452</td>\n",
       "      <td>0.50</td>\n",
       "      <td>...</td>\n",
       "      <td>9.6</td>\n",
       "      <td>88.0</td>\n",
       "      <td>286.0</td>\n",
       "      <td>0.0</td>\n",
       "      <td>36.0</td>\n",
       "      <td>5.462251</td>\n",
       "      <td>51.417782</td>\n",
       "      <td>NaN</td>\n",
       "      <td>Bird</td>\n",
       "      <td>bird</td>\n",
       "    </tr>\n",
       "    <tr>\n",
       "      <th>1</th>\n",
       "      <td>1</td>\n",
       "      <td>test</td>\n",
       "      <td>_2024_03_03_8_34_50</td>\n",
       "      <td>garden_03032024/0/er_file_2024_03_03_8_34_50.wav</td>\n",
       "      <td>0.176002</td>\n",
       "      <td>0.25</td>\n",
       "      <td>0.932867</td>\n",
       "      <td>0.50</td>\n",
       "      <td>0.271969</td>\n",
       "      <td>0.50</td>\n",
       "      <td>...</td>\n",
       "      <td>9.6</td>\n",
       "      <td>88.0</td>\n",
       "      <td>286.0</td>\n",
       "      <td>0.0</td>\n",
       "      <td>36.0</td>\n",
       "      <td>5.462251</td>\n",
       "      <td>51.417782</td>\n",
       "      <td>Streptopelia decaocto_Eurasian Collared-Dove</td>\n",
       "      <td>Owl</td>\n",
       "      <td>bird</td>\n",
       "    </tr>\n",
       "    <tr>\n",
       "      <th>2</th>\n",
       "      <td>2</td>\n",
       "      <td>test</td>\n",
       "      <td>_2024_03_03_8_34_53</td>\n",
       "      <td>garden_03032024/0/er_file_2024_03_03_8_34_53.wav</td>\n",
       "      <td>0.278563</td>\n",
       "      <td>0.25</td>\n",
       "      <td>0.474437</td>\n",
       "      <td>0.50</td>\n",
       "      <td>0.023406</td>\n",
       "      <td>0.24</td>\n",
       "      <td>...</td>\n",
       "      <td>9.6</td>\n",
       "      <td>88.0</td>\n",
       "      <td>286.0</td>\n",
       "      <td>0.0</td>\n",
       "      <td>36.0</td>\n",
       "      <td>5.462251</td>\n",
       "      <td>51.417782</td>\n",
       "      <td>Streptopelia decaocto_Eurasian Collared-Dove</td>\n",
       "      <td>Owl</td>\n",
       "      <td>bird</td>\n",
       "    </tr>\n",
       "    <tr>\n",
       "      <th>3</th>\n",
       "      <td>3</td>\n",
       "      <td>test</td>\n",
       "      <td>_2024_03_03_8_34_56</td>\n",
       "      <td>garden_03032024/0/er_file_2024_03_03_8_34_56.wav</td>\n",
       "      <td>0.263044</td>\n",
       "      <td>0.25</td>\n",
       "      <td>0.812372</td>\n",
       "      <td>0.64</td>\n",
       "      <td>0.172581</td>\n",
       "      <td>0.24</td>\n",
       "      <td>...</td>\n",
       "      <td>9.6</td>\n",
       "      <td>88.0</td>\n",
       "      <td>286.0</td>\n",
       "      <td>0.0</td>\n",
       "      <td>36.0</td>\n",
       "      <td>5.462251</td>\n",
       "      <td>51.417782</td>\n",
       "      <td>Streptopelia decaocto_Eurasian Collared-Dove</td>\n",
       "      <td>Bird</td>\n",
       "      <td>bird</td>\n",
       "    </tr>\n",
       "    <tr>\n",
       "      <th>4</th>\n",
       "      <td>4</td>\n",
       "      <td>test</td>\n",
       "      <td>_2024_03_03_8_34_59</td>\n",
       "      <td>garden_03032024/0/er_file_2024_03_03_8_34_59.wav</td>\n",
       "      <td>0.164429</td>\n",
       "      <td>0.25</td>\n",
       "      <td>0.871671</td>\n",
       "      <td>0.64</td>\n",
       "      <td>0.044865</td>\n",
       "      <td>0.24</td>\n",
       "      <td>...</td>\n",
       "      <td>9.6</td>\n",
       "      <td>88.0</td>\n",
       "      <td>286.0</td>\n",
       "      <td>0.0</td>\n",
       "      <td>36.0</td>\n",
       "      <td>5.462251</td>\n",
       "      <td>51.417782</td>\n",
       "      <td>NaN</td>\n",
       "      <td>Bird</td>\n",
       "      <td>bird</td>\n",
       "    </tr>\n",
       "  </tbody>\n",
       "</table>\n",
       "<p>5 rows × 27 columns</p>\n",
       "</div>"
      ],
      "text/plain": [
       "   Unnamed: 0 sessionId                 time  \\\n",
       "0           0      test  _2024_03_03_8_34_48   \n",
       "1           1      test  _2024_03_03_8_34_50   \n",
       "2           2      test  _2024_03_03_8_34_53   \n",
       "3           3      test  _2024_03_03_8_34_56   \n",
       "4           4      test  _2024_03_03_8_34_59   \n",
       "\n",
       "                                           filename       th1  th1_value  \\\n",
       "0  garden_03032024/0/er_file_2024_03_03_8_34_48.wav  0.382969       0.50   \n",
       "1  garden_03032024/0/er_file_2024_03_03_8_34_50.wav  0.176002       0.25   \n",
       "2  garden_03032024/0/er_file_2024_03_03_8_34_53.wav  0.278563       0.25   \n",
       "3  garden_03032024/0/er_file_2024_03_03_8_34_56.wav  0.263044       0.25   \n",
       "4  garden_03032024/0/er_file_2024_03_03_8_34_59.wav  0.164429       0.25   \n",
       "\n",
       "        th2  th2_value       th3  th3_value  ...  tempAve humidityAvg  \\\n",
       "0  0.790168       0.50  0.255452       0.50  ...      9.6        88.0   \n",
       "1  0.932867       0.50  0.271969       0.50  ...      9.6        88.0   \n",
       "2  0.474437       0.50  0.023406       0.24  ...      9.6        88.0   \n",
       "3  0.812372       0.64  0.172581       0.24  ...      9.6        88.0   \n",
       "4  0.871671       0.64  0.044865       0.24  ...      9.6        88.0   \n",
       "\n",
       "   winddirAvg  uvHigh  solarRadiationHigh       lon        lat  \\\n",
       "0       286.0     0.0                36.0  5.462251  51.417782   \n",
       "1       286.0     0.0                36.0  5.462251  51.417782   \n",
       "2       286.0     0.0                36.0  5.462251  51.417782   \n",
       "3       286.0     0.0                36.0  5.462251  51.417782   \n",
       "4       286.0     0.0                36.0  5.462251  51.417782   \n",
       "\n",
       "                                        BirdNET  MIT_AST_label  \\\n",
       "0                                           NaN           Bird   \n",
       "1  Streptopelia decaocto_Eurasian Collared-Dove            Owl   \n",
       "2  Streptopelia decaocto_Eurasian Collared-Dove            Owl   \n",
       "3  Streptopelia decaocto_Eurasian Collared-Dove           Bird   \n",
       "4                                           NaN           Bird   \n",
       "\n",
       "   sound_class_label  \n",
       "0               bird  \n",
       "1               bird  \n",
       "2               bird  \n",
       "3               bird  \n",
       "4               bird  \n",
       "\n",
       "[5 rows x 27 columns]"
      ]
     },
     "execution_count": 71,
     "metadata": {},
     "output_type": "execute_result"
    }
   ],
   "source": [
    "df_meta_2504.head()"
   ]
  },
  {
   "cell_type": "code",
   "execution_count": 65,
   "metadata": {},
   "outputs": [],
   "source": [
    "# get metadata df from files that ends with 'metadata.xlsx'  from all subfolders of the GardenFiles23 folder\n",
    "def get_metadata_files(folder_path):\n",
    "    \"\"\"\n",
    "    Get metadata  from all subfolders of the specified folder\n",
    "    :param folder_path: path to the folder\n",
    "    :return: metadata_df: DataFrame with metadata\n",
    "\n",
    "    \"\"\"\n",
    "    metadata_df = pd.DataFrame()\n",
    "    for dirpath, dirnames, filenames in os.walk(folder_path):\n",
    "        for filename in filenames:\n",
    "            if filename.endswith('metadata.xlsx'):\n",
    "                # read the metadata file\n",
    "                meta_df = pd.read_excel(os.path.join(dirpath, filename))\n",
    "                metadata_df = pd.concat([metadata_df, meta_df], ignore_index=True)\n",
    "    return metadata_df\n",
    "\n",
    "\n",
    "\n",
    "\n"
   ]
  },
  {
   "cell_type": "code",
   "execution_count": 66,
   "metadata": {},
   "outputs": [
    {
     "data": {
      "text/plain": [
       "(406869, 27)"
      ]
     },
     "execution_count": 66,
     "metadata": {},
     "output_type": "execute_result"
    }
   ],
   "source": [
    "# get metadata from all subfolders of the GardenFiles23 folder\n",
    "metadata_human_det_df = get_metadata_files('/Users/evgenynazarenko/DACS_3_year/Thesis/GardenFiles23')\n",
    "metadata_human_det_df.shape"
   ]
  },
  {
   "cell_type": "code",
   "execution_count": 67,
   "metadata": {},
   "outputs": [
    {
     "data": {
      "text/html": [
       "<div>\n",
       "<style scoped>\n",
       "    .dataframe tbody tr th:only-of-type {\n",
       "        vertical-align: middle;\n",
       "    }\n",
       "\n",
       "    .dataframe tbody tr th {\n",
       "        vertical-align: top;\n",
       "    }\n",
       "\n",
       "    .dataframe thead th {\n",
       "        text-align: right;\n",
       "    }\n",
       "</style>\n",
       "<table border=\"1\" class=\"dataframe\">\n",
       "  <thead>\n",
       "    <tr style=\"text-align: right;\">\n",
       "      <th></th>\n",
       "      <th>Unnamed: 0</th>\n",
       "      <th>sessionId</th>\n",
       "      <th>time</th>\n",
       "      <th>filename</th>\n",
       "      <th>th1</th>\n",
       "      <th>th1_value</th>\n",
       "      <th>th2</th>\n",
       "      <th>th2_value</th>\n",
       "      <th>th3</th>\n",
       "      <th>th3_value</th>\n",
       "      <th>...</th>\n",
       "      <th>tempAve</th>\n",
       "      <th>humidityAvg</th>\n",
       "      <th>winddirAvg</th>\n",
       "      <th>uvHigh</th>\n",
       "      <th>solarRadiationHigh</th>\n",
       "      <th>lon</th>\n",
       "      <th>lat</th>\n",
       "      <th>MIT_AST</th>\n",
       "      <th>Human_detected</th>\n",
       "      <th>BirdNET_label</th>\n",
       "    </tr>\n",
       "  </thead>\n",
       "  <tbody>\n",
       "    <tr>\n",
       "      <th>0</th>\n",
       "      <td>0.0</td>\n",
       "      <td>test</td>\n",
       "      <td>_2024_01_06_11_20_56</td>\n",
       "      <td>er_file_2024_01_06_11_20_56.wav</td>\n",
       "      <td>0.164558</td>\n",
       "      <td>0.32</td>\n",
       "      <td>0.673863</td>\n",
       "      <td>0.5</td>\n",
       "      <td>0.215897</td>\n",
       "      <td>0.50</td>\n",
       "      <td>...</td>\n",
       "      <td>3.9</td>\n",
       "      <td>94.0</td>\n",
       "      <td>170.0</td>\n",
       "      <td>0.0</td>\n",
       "      <td>35.1</td>\n",
       "      <td>5.462251</td>\n",
       "      <td>51.417782</td>\n",
       "      <td>Caw</td>\n",
       "      <td>1.0</td>\n",
       "      <td>NaN</td>\n",
       "    </tr>\n",
       "    <tr>\n",
       "      <th>1</th>\n",
       "      <td>1.0</td>\n",
       "      <td>test</td>\n",
       "      <td>_2024_01_06_11_21_01</td>\n",
       "      <td>er_file_2024_01_06_11_21_01.wav</td>\n",
       "      <td>0.225941</td>\n",
       "      <td>0.20</td>\n",
       "      <td>0.496771</td>\n",
       "      <td>0.5</td>\n",
       "      <td>0.023409</td>\n",
       "      <td>0.21</td>\n",
       "      <td>...</td>\n",
       "      <td>3.9</td>\n",
       "      <td>94.0</td>\n",
       "      <td>170.0</td>\n",
       "      <td>0.0</td>\n",
       "      <td>35.1</td>\n",
       "      <td>5.462251</td>\n",
       "      <td>51.417782</td>\n",
       "      <td>Speech</td>\n",
       "      <td>1.0</td>\n",
       "      <td>NaN</td>\n",
       "    </tr>\n",
       "    <tr>\n",
       "      <th>2</th>\n",
       "      <td>2.0</td>\n",
       "      <td>test</td>\n",
       "      <td>_2024_01_06_11_21_04</td>\n",
       "      <td>er_file_2024_01_06_11_21_04.wav</td>\n",
       "      <td>0.145084</td>\n",
       "      <td>0.20</td>\n",
       "      <td>0.672597</td>\n",
       "      <td>0.5</td>\n",
       "      <td>0.039366</td>\n",
       "      <td>0.21</td>\n",
       "      <td>...</td>\n",
       "      <td>3.9</td>\n",
       "      <td>94.0</td>\n",
       "      <td>170.0</td>\n",
       "      <td>0.0</td>\n",
       "      <td>35.1</td>\n",
       "      <td>5.462251</td>\n",
       "      <td>51.417782</td>\n",
       "      <td>Caw</td>\n",
       "      <td>1.0</td>\n",
       "      <td>NaN</td>\n",
       "    </tr>\n",
       "    <tr>\n",
       "      <th>3</th>\n",
       "      <td>3.0</td>\n",
       "      <td>test</td>\n",
       "      <td>_2024_01_06_11_21_07</td>\n",
       "      <td>er_file_2024_01_06_11_21_07.wav</td>\n",
       "      <td>0.150078</td>\n",
       "      <td>0.20</td>\n",
       "      <td>0.778181</td>\n",
       "      <td>0.5</td>\n",
       "      <td>0.079053</td>\n",
       "      <td>0.21</td>\n",
       "      <td>...</td>\n",
       "      <td>3.9</td>\n",
       "      <td>94.0</td>\n",
       "      <td>170.0</td>\n",
       "      <td>0.0</td>\n",
       "      <td>35.1</td>\n",
       "      <td>5.462251</td>\n",
       "      <td>51.417782</td>\n",
       "      <td>Mouse</td>\n",
       "      <td>1.0</td>\n",
       "      <td>NaN</td>\n",
       "    </tr>\n",
       "    <tr>\n",
       "      <th>4</th>\n",
       "      <td>4.0</td>\n",
       "      <td>test</td>\n",
       "      <td>_2024_01_06_11_21_10</td>\n",
       "      <td>er_file_2024_01_06_11_21_10.wav</td>\n",
       "      <td>0.142194</td>\n",
       "      <td>0.20</td>\n",
       "      <td>0.792797</td>\n",
       "      <td>0.5</td>\n",
       "      <td>0.024214</td>\n",
       "      <td>0.21</td>\n",
       "      <td>...</td>\n",
       "      <td>3.9</td>\n",
       "      <td>94.0</td>\n",
       "      <td>170.0</td>\n",
       "      <td>0.0</td>\n",
       "      <td>35.1</td>\n",
       "      <td>5.462251</td>\n",
       "      <td>51.417782</td>\n",
       "      <td>Bird</td>\n",
       "      <td>1.0</td>\n",
       "      <td>NaN</td>\n",
       "    </tr>\n",
       "  </tbody>\n",
       "</table>\n",
       "<p>5 rows × 27 columns</p>\n",
       "</div>"
      ],
      "text/plain": [
       "   Unnamed: 0 sessionId                  time  \\\n",
       "0         0.0      test  _2024_01_06_11_20_56   \n",
       "1         1.0      test  _2024_01_06_11_21_01   \n",
       "2         2.0      test  _2024_01_06_11_21_04   \n",
       "3         3.0      test  _2024_01_06_11_21_07   \n",
       "4         4.0      test  _2024_01_06_11_21_10   \n",
       "\n",
       "                          filename       th1  th1_value       th2  th2_value  \\\n",
       "0  er_file_2024_01_06_11_20_56.wav  0.164558       0.32  0.673863        0.5   \n",
       "1  er_file_2024_01_06_11_21_01.wav  0.225941       0.20  0.496771        0.5   \n",
       "2  er_file_2024_01_06_11_21_04.wav  0.145084       0.20  0.672597        0.5   \n",
       "3  er_file_2024_01_06_11_21_07.wav  0.150078       0.20  0.778181        0.5   \n",
       "4  er_file_2024_01_06_11_21_10.wav  0.142194       0.20  0.792797        0.5   \n",
       "\n",
       "        th3  th3_value  ...  tempAve humidityAvg  winddirAvg  uvHigh  \\\n",
       "0  0.215897       0.50  ...      3.9        94.0       170.0     0.0   \n",
       "1  0.023409       0.21  ...      3.9        94.0       170.0     0.0   \n",
       "2  0.039366       0.21  ...      3.9        94.0       170.0     0.0   \n",
       "3  0.079053       0.21  ...      3.9        94.0       170.0     0.0   \n",
       "4  0.024214       0.21  ...      3.9        94.0       170.0     0.0   \n",
       "\n",
       "   solarRadiationHigh       lon        lat  MIT_AST  Human_detected  \\\n",
       "0                35.1  5.462251  51.417782      Caw             1.0   \n",
       "1                35.1  5.462251  51.417782   Speech             1.0   \n",
       "2                35.1  5.462251  51.417782      Caw             1.0   \n",
       "3                35.1  5.462251  51.417782    Mouse             1.0   \n",
       "4                35.1  5.462251  51.417782     Bird             1.0   \n",
       "\n",
       "   BirdNET_label  \n",
       "0            NaN  \n",
       "1            NaN  \n",
       "2            NaN  \n",
       "3            NaN  \n",
       "4            NaN  \n",
       "\n",
       "[5 rows x 27 columns]"
      ]
     },
     "execution_count": 67,
     "metadata": {},
     "output_type": "execute_result"
    }
   ],
   "source": [
    "metadata_human_det_df.head()"
   ]
  },
  {
   "cell_type": "code",
   "execution_count": 72,
   "metadata": {},
   "outputs": [
    {
     "data": {
      "text/html": [
       "<div>\n",
       "<style scoped>\n",
       "    .dataframe tbody tr th:only-of-type {\n",
       "        vertical-align: middle;\n",
       "    }\n",
       "\n",
       "    .dataframe tbody tr th {\n",
       "        vertical-align: top;\n",
       "    }\n",
       "\n",
       "    .dataframe thead th {\n",
       "        text-align: right;\n",
       "    }\n",
       "</style>\n",
       "<table border=\"1\" class=\"dataframe\">\n",
       "  <thead>\n",
       "    <tr style=\"text-align: right;\">\n",
       "      <th></th>\n",
       "      <th>Unnamed: 0</th>\n",
       "      <th>sessionId</th>\n",
       "      <th>time</th>\n",
       "      <th>filename</th>\n",
       "      <th>th1</th>\n",
       "      <th>th1_value</th>\n",
       "      <th>th2</th>\n",
       "      <th>th2_value</th>\n",
       "      <th>th3</th>\n",
       "      <th>th3_value</th>\n",
       "      <th>...</th>\n",
       "      <th>humidityAvg</th>\n",
       "      <th>winddirAvg</th>\n",
       "      <th>uvHigh</th>\n",
       "      <th>solarRadiationHigh</th>\n",
       "      <th>lon</th>\n",
       "      <th>lat</th>\n",
       "      <th>BirdNET</th>\n",
       "      <th>MIT_AST_label</th>\n",
       "      <th>sound_class_label</th>\n",
       "      <th>Human_detected</th>\n",
       "    </tr>\n",
       "  </thead>\n",
       "  <tbody>\n",
       "    <tr>\n",
       "      <th>0</th>\n",
       "      <td>0</td>\n",
       "      <td>test</td>\n",
       "      <td>_2024_03_03_8_34_48</td>\n",
       "      <td>garden_03032024/0/er_file_2024_03_03_8_34_48.wav</td>\n",
       "      <td>0.382969</td>\n",
       "      <td>0.50</td>\n",
       "      <td>0.790168</td>\n",
       "      <td>0.50</td>\n",
       "      <td>0.255452</td>\n",
       "      <td>0.50</td>\n",
       "      <td>...</td>\n",
       "      <td>88.0</td>\n",
       "      <td>286.0</td>\n",
       "      <td>0.0</td>\n",
       "      <td>36.0</td>\n",
       "      <td>5.462251</td>\n",
       "      <td>51.417782</td>\n",
       "      <td>NaN</td>\n",
       "      <td>Bird</td>\n",
       "      <td>bird</td>\n",
       "      <td>1.0</td>\n",
       "    </tr>\n",
       "    <tr>\n",
       "      <th>1</th>\n",
       "      <td>1</td>\n",
       "      <td>test</td>\n",
       "      <td>_2024_03_03_8_34_50</td>\n",
       "      <td>garden_03032024/0/er_file_2024_03_03_8_34_50.wav</td>\n",
       "      <td>0.176002</td>\n",
       "      <td>0.25</td>\n",
       "      <td>0.932867</td>\n",
       "      <td>0.50</td>\n",
       "      <td>0.271969</td>\n",
       "      <td>0.50</td>\n",
       "      <td>...</td>\n",
       "      <td>88.0</td>\n",
       "      <td>286.0</td>\n",
       "      <td>0.0</td>\n",
       "      <td>36.0</td>\n",
       "      <td>5.462251</td>\n",
       "      <td>51.417782</td>\n",
       "      <td>Streptopelia decaocto_Eurasian Collared-Dove</td>\n",
       "      <td>Owl</td>\n",
       "      <td>bird</td>\n",
       "      <td>1.0</td>\n",
       "    </tr>\n",
       "    <tr>\n",
       "      <th>2</th>\n",
       "      <td>2</td>\n",
       "      <td>test</td>\n",
       "      <td>_2024_03_03_8_34_53</td>\n",
       "      <td>garden_03032024/0/er_file_2024_03_03_8_34_53.wav</td>\n",
       "      <td>0.278563</td>\n",
       "      <td>0.25</td>\n",
       "      <td>0.474437</td>\n",
       "      <td>0.50</td>\n",
       "      <td>0.023406</td>\n",
       "      <td>0.24</td>\n",
       "      <td>...</td>\n",
       "      <td>88.0</td>\n",
       "      <td>286.0</td>\n",
       "      <td>0.0</td>\n",
       "      <td>36.0</td>\n",
       "      <td>5.462251</td>\n",
       "      <td>51.417782</td>\n",
       "      <td>Streptopelia decaocto_Eurasian Collared-Dove</td>\n",
       "      <td>Owl</td>\n",
       "      <td>bird</td>\n",
       "      <td>1.0</td>\n",
       "    </tr>\n",
       "    <tr>\n",
       "      <th>3</th>\n",
       "      <td>3</td>\n",
       "      <td>test</td>\n",
       "      <td>_2024_03_03_8_34_56</td>\n",
       "      <td>garden_03032024/0/er_file_2024_03_03_8_34_56.wav</td>\n",
       "      <td>0.263044</td>\n",
       "      <td>0.25</td>\n",
       "      <td>0.812372</td>\n",
       "      <td>0.64</td>\n",
       "      <td>0.172581</td>\n",
       "      <td>0.24</td>\n",
       "      <td>...</td>\n",
       "      <td>88.0</td>\n",
       "      <td>286.0</td>\n",
       "      <td>0.0</td>\n",
       "      <td>36.0</td>\n",
       "      <td>5.462251</td>\n",
       "      <td>51.417782</td>\n",
       "      <td>Streptopelia decaocto_Eurasian Collared-Dove</td>\n",
       "      <td>Bird</td>\n",
       "      <td>bird</td>\n",
       "      <td>1.0</td>\n",
       "    </tr>\n",
       "    <tr>\n",
       "      <th>4</th>\n",
       "      <td>4</td>\n",
       "      <td>test</td>\n",
       "      <td>_2024_03_03_8_34_59</td>\n",
       "      <td>garden_03032024/0/er_file_2024_03_03_8_34_59.wav</td>\n",
       "      <td>0.164429</td>\n",
       "      <td>0.25</td>\n",
       "      <td>0.871671</td>\n",
       "      <td>0.64</td>\n",
       "      <td>0.044865</td>\n",
       "      <td>0.24</td>\n",
       "      <td>...</td>\n",
       "      <td>88.0</td>\n",
       "      <td>286.0</td>\n",
       "      <td>0.0</td>\n",
       "      <td>36.0</td>\n",
       "      <td>5.462251</td>\n",
       "      <td>51.417782</td>\n",
       "      <td>NaN</td>\n",
       "      <td>Bird</td>\n",
       "      <td>bird</td>\n",
       "      <td>1.0</td>\n",
       "    </tr>\n",
       "  </tbody>\n",
       "</table>\n",
       "<p>5 rows × 28 columns</p>\n",
       "</div>"
      ],
      "text/plain": [
       "   Unnamed: 0 sessionId                 time  \\\n",
       "0           0      test  _2024_03_03_8_34_48   \n",
       "1           1      test  _2024_03_03_8_34_50   \n",
       "2           2      test  _2024_03_03_8_34_53   \n",
       "3           3      test  _2024_03_03_8_34_56   \n",
       "4           4      test  _2024_03_03_8_34_59   \n",
       "\n",
       "                                           filename       th1  th1_value  \\\n",
       "0  garden_03032024/0/er_file_2024_03_03_8_34_48.wav  0.382969       0.50   \n",
       "1  garden_03032024/0/er_file_2024_03_03_8_34_50.wav  0.176002       0.25   \n",
       "2  garden_03032024/0/er_file_2024_03_03_8_34_53.wav  0.278563       0.25   \n",
       "3  garden_03032024/0/er_file_2024_03_03_8_34_56.wav  0.263044       0.25   \n",
       "4  garden_03032024/0/er_file_2024_03_03_8_34_59.wav  0.164429       0.25   \n",
       "\n",
       "        th2  th2_value       th3  th3_value  ...  humidityAvg winddirAvg  \\\n",
       "0  0.790168       0.50  0.255452       0.50  ...         88.0      286.0   \n",
       "1  0.932867       0.50  0.271969       0.50  ...         88.0      286.0   \n",
       "2  0.474437       0.50  0.023406       0.24  ...         88.0      286.0   \n",
       "3  0.812372       0.64  0.172581       0.24  ...         88.0      286.0   \n",
       "4  0.871671       0.64  0.044865       0.24  ...         88.0      286.0   \n",
       "\n",
       "   uvHigh  solarRadiationHigh       lon        lat  \\\n",
       "0     0.0                36.0  5.462251  51.417782   \n",
       "1     0.0                36.0  5.462251  51.417782   \n",
       "2     0.0                36.0  5.462251  51.417782   \n",
       "3     0.0                36.0  5.462251  51.417782   \n",
       "4     0.0                36.0  5.462251  51.417782   \n",
       "\n",
       "                                        BirdNET  MIT_AST_label  \\\n",
       "0                                           NaN           Bird   \n",
       "1  Streptopelia decaocto_Eurasian Collared-Dove            Owl   \n",
       "2  Streptopelia decaocto_Eurasian Collared-Dove            Owl   \n",
       "3  Streptopelia decaocto_Eurasian Collared-Dove           Bird   \n",
       "4                                           NaN           Bird   \n",
       "\n",
       "   sound_class_label  Human_detected  \n",
       "0               bird             1.0  \n",
       "1               bird             1.0  \n",
       "2               bird             1.0  \n",
       "3               bird             1.0  \n",
       "4               bird             1.0  \n",
       "\n",
       "[5 rows x 28 columns]"
      ]
     },
     "execution_count": 72,
     "metadata": {},
     "output_type": "execute_result"
    }
   ],
   "source": [
    "# add Human_detected from metadata_human_det_df to  df_meta_2504 on the 'filename' column\n",
    "df_meta_2504['Human_detected'] = metadata_human_det_df['Human_detected']\n",
    "df_meta_2504.head()"
   ]
  },
  {
   "cell_type": "code",
   "execution_count": 74,
   "metadata": {},
   "outputs": [],
   "source": [
    "#drop Unnamed: 0 column\n",
    "df_meta_2504.drop('Unnamed: 0', axis=1, inplace=True)"
   ]
  },
  {
   "cell_type": "code",
   "execution_count": 73,
   "metadata": {},
   "outputs": [
    {
     "data": {
      "text/plain": [
       "Human_detected\n",
       "0.0    254568\n",
       "1.0    135549\n",
       "Name: count, dtype: int64"
      ]
     },
     "execution_count": 73,
     "metadata": {},
     "output_type": "execute_result"
    }
   ],
   "source": [
    "df_meta_2504['Human_detected'].value_counts()"
   ]
  },
  {
   "cell_type": "code",
   "execution_count": 75,
   "metadata": {},
   "outputs": [],
   "source": [
    "df_meta_2504.to_excel('metadata_birdnet_mit_ast_human_detected_columns_18062024.xlsx', index=False)"
   ]
  }
 ],
 "metadata": {
  "kernelspec": {
   "display_name": "ast",
   "language": "python",
   "name": "python3"
  },
  "language_info": {
   "codemirror_mode": {
    "name": "ipython",
    "version": 3
   },
   "file_extension": ".py",
   "mimetype": "text/x-python",
   "name": "python",
   "nbconvert_exporter": "python",
   "pygments_lexer": "ipython3",
   "version": "3.8.-1"
  }
 },
 "nbformat": 4,
 "nbformat_minor": 2
}
