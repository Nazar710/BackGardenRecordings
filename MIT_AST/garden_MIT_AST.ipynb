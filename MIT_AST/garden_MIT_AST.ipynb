{
 "cells": [
  {
   "cell_type": "markdown",
   "metadata": {},
   "source": [
    "MIT_AST processing steps, 1 \"garden_010120024\" folder ata time:\n",
    "\n",
    "1.define path to folder with .wav files\n",
    "TODO: \n",
    "2.get results from MIT_AST model, results are filename,label,prob_dict\n",
    "TODO: modify  analyze_files_ast(folder) so the results contain prob_dict\n",
    "3.speech_detected(), returns true/false, checks if prob_dict contains at least 1 out of 50 speech_related_labels\n",
    "TODO: \n",
    "4.add label, speeech_detected(0/1) columns to metadata file.\n",
    "\n"
   ]
  },
  {
   "cell_type": "code",
   "execution_count": 4,
   "metadata": {},
   "outputs": [],
   "source": [
    "import pandas as pd\n",
    "import os\n",
    "from tqdm import tqdm\n",
    "from test_mit_ast import MIT_AST_model\n",
    "from mit_ast_prob import MIT_AST_model_prob\n",
    "\n",
    "\n"
   ]
  },
  {
   "cell_type": "code",
   "execution_count": 27,
   "metadata": {},
   "outputs": [
    {
     "name": "stdout",
     "output_type": "stream",
     "text": [
      "PyTorch version: 2.2.1\n",
      "Is MPS (Metal Performance Shader) built? True\n",
      "Is MPS available? True\n",
      "Using device: mps\n"
     ]
    }
   ],
   "source": [
    "import torch\n",
    "import numpy as np\n",
    "import pandas as pd\n",
    "import sklearn\n",
    "import matplotlib.pyplot as plt\n",
    "\n",
    "print(f\"PyTorch version: {torch.__version__}\")\n",
    "\n",
    "# Check PyTorch has access to MPS (Metal Performance Shader, Apple's GPU architecture)\n",
    "print(f\"Is MPS (Metal Performance Shader) built? {torch.backends.mps.is_built()}\")\n",
    "print(f\"Is MPS available? {torch.backends.mps.is_available()}\")\n",
    "\n",
    "# Set the device      \n",
    "device = \"mps\" if torch.backends.mps.is_available() else \"cpu\"\n",
    "print(f\"Using device: {device}\")"
   ]
  },
  {
   "cell_type": "code",
   "execution_count": 5,
   "metadata": {},
   "outputs": [
    {
     "data": {
      "text/html": [
       "<div>\n",
       "<style scoped>\n",
       "    .dataframe tbody tr th:only-of-type {\n",
       "        vertical-align: middle;\n",
       "    }\n",
       "\n",
       "    .dataframe tbody tr th {\n",
       "        vertical-align: top;\n",
       "    }\n",
       "\n",
       "    .dataframe thead th {\n",
       "        text-align: right;\n",
       "    }\n",
       "</style>\n",
       "<table border=\"1\" class=\"dataframe\">\n",
       "  <thead>\n",
       "    <tr style=\"text-align: right;\">\n",
       "      <th></th>\n",
       "      <th>Unnamed: 0</th>\n",
       "      <th>label</th>\n",
       "      <th>source</th>\n",
       "    </tr>\n",
       "  </thead>\n",
       "  <tbody>\n",
       "    <tr>\n",
       "      <th>0</th>\n",
       "      <td>0</td>\n",
       "      <td>Speech</td>\n",
       "      <td>human</td>\n",
       "    </tr>\n",
       "    <tr>\n",
       "      <th>1</th>\n",
       "      <td>1</td>\n",
       "      <td>Male speech, man speaking</td>\n",
       "      <td>human</td>\n",
       "    </tr>\n",
       "    <tr>\n",
       "      <th>2</th>\n",
       "      <td>2</td>\n",
       "      <td>Female speech, woman speaking</td>\n",
       "      <td>human</td>\n",
       "    </tr>\n",
       "    <tr>\n",
       "      <th>3</th>\n",
       "      <td>3</td>\n",
       "      <td>Child speech, kid speaking</td>\n",
       "      <td>human</td>\n",
       "    </tr>\n",
       "    <tr>\n",
       "      <th>4</th>\n",
       "      <td>4</td>\n",
       "      <td>Conversation</td>\n",
       "      <td>human</td>\n",
       "    </tr>\n",
       "  </tbody>\n",
       "</table>\n",
       "</div>"
      ],
      "text/plain": [
       "   Unnamed: 0                          label source\n",
       "0           0                         Speech  human\n",
       "1           1      Male speech, man speaking  human\n",
       "2           2  Female speech, woman speaking  human\n",
       "3           3     Child speech, kid speaking  human\n",
       "4           4                   Conversation  human"
      ]
     },
     "execution_count": 5,
     "metadata": {},
     "output_type": "execute_result"
    }
   ],
   "source": [
    "labels_df = pd.read_excel('MIT_AST_label_map.xlsx')\n",
    "labels_df.head()"
   ]
  },
  {
   "cell_type": "code",
   "execution_count": 6,
   "metadata": {},
   "outputs": [
    {
     "data": {
      "text/plain": [
       "source\n",
       "music           146\n",
       "vehicle          51\n",
       "human            46\n",
       "animal           36\n",
       "alarm            31\n",
       "work             29\n",
       "material         25\n",
       "mechanical       22\n",
       "bird             21\n",
       "background       21\n",
       "explosion        19\n",
       "weather          18\n",
       "machine          17\n",
       "foley            16\n",
       "vocalization     12\n",
       "door             11\n",
       "insect            6\n",
       "Name: count, dtype: int64"
      ]
     },
     "execution_count": 6,
     "metadata": {},
     "output_type": "execute_result"
    }
   ],
   "source": [
    "labels_df['source'].value_counts()"
   ]
  },
  {
   "cell_type": "code",
   "execution_count": 7,
   "metadata": {},
   "outputs": [
    {
     "name": "stdout",
     "output_type": "stream",
     "text": [
      "    Unnamed: 0                                label source\n",
      "0            0                               Speech  human\n",
      "1            1            Male speech, man speaking  human\n",
      "2            2        Female speech, woman speaking  human\n",
      "3            3           Child speech, kid speaking  human\n",
      "4            4                         Conversation  human\n",
      "5            5                 Narration, monologue  human\n",
      "6            6                             Babbling  human\n",
      "7            7                   Speech synthesizer  human\n",
      "8            8                                Shout  human\n",
      "9            9                               Bellow  human\n",
      "10          10                                Whoop  human\n",
      "11          11                                 Yell  human\n",
      "12          12                           Battle cry  human\n",
      "13          13                    Children shouting  human\n",
      "14          14                            Screaming  human\n",
      "15          15                           Whispering  human\n",
      "16          16                             Laughter  human\n",
      "17          17                        Baby laughter  human\n",
      "18          18                               Giggle  human\n",
      "19          19                              Snicker  human\n",
      "20          20                          Belly laugh  human\n",
      "21          21                     Chuckle, chortle  human\n",
      "22          22                      Crying, sobbing  human\n",
      "23          23                 Baby cry, infant cry  human\n",
      "24          24                              Whimper  human\n",
      "25          25                           Wail, moan  human\n",
      "26          26                                 Sigh  human\n",
      "27          27                              Singing  human\n",
      "28          28                                Choir  human\n",
      "29          29                             Yodeling  human\n",
      "30          30                                Chant  human\n",
      "31          31                               Mantra  human\n",
      "32          32                         Male singing  human\n",
      "33          33                       Female singing  human\n",
      "34          34                        Child singing  human\n",
      "35          35                    Synthetic singing  human\n",
      "36          36                              Rapping  human\n",
      "37          37                              Humming  human\n",
      "38          38                                Groan  human\n",
      "39          39                                Grunt  human\n",
      "40          40                            Whistling  human\n",
      "66          66                             Cheering  human\n",
      "68          68                              Chatter  human\n",
      "69          69                                Crowd  human\n",
      "70          70  Hubbub, speech noise, speech babble  human\n",
      "71          71                     Children playing  human\n"
     ]
    }
   ],
   "source": [
    "# all labels where source human\n",
    "\n",
    "\n",
    "human = labels_df[labels_df['source']=='human']\n",
    "print(human)"
   ]
  },
  {
   "cell_type": "code",
   "execution_count": 11,
   "metadata": {},
   "outputs": [
    {
     "name": "stdout",
     "output_type": "stream",
     "text": [
      "     Unnamed: 0                                    label source\n",
      "98           98                                     Fowl   bird\n",
      "99           99                         Chicken, rooster   bird\n",
      "100         100                                    Cluck   bird\n",
      "101         101               Crowing, cock-a-doodle-doo   bird\n",
      "102         102                                   Turkey   bird\n",
      "103         103                                   Gobble   bird\n",
      "104         104                                     Duck   bird\n",
      "105         105                                    Quack   bird\n",
      "106         106                                    Goose   bird\n",
      "107         107                                     Honk   bird\n",
      "111         111                                     Bird   bird\n",
      "112         112  Bird vocalization, bird call, bird song   bird\n",
      "113         113                             Chirp, tweet   bird\n",
      "114         114                                   Squawk   bird\n",
      "115         115                             Pigeon, dove   bird\n",
      "116         116                                      Coo   bird\n",
      "117         117                                     Crow   bird\n",
      "118         118                                      Caw   bird\n",
      "119         119                                      Owl   bird\n",
      "120         120                                     Hoot   bird\n",
      "121         121              Bird flight, flapping wings   bird\n"
     ]
    }
   ],
   "source": [
    "# extract row with label 'Whistling'\n",
    "\n",
    "ss = labels_df[labels_df['source']=='bird']\n",
    "print(ss)"
   ]
  },
  {
   "cell_type": "code",
   "execution_count": 4,
   "metadata": {},
   "outputs": [
    {
     "name": "stdout",
     "output_type": "stream",
     "text": [
      "Top 5 class/prob: {'Heart murmur': 0.433290958404541, 'Heart sounds, heartbeat': 0.2911057770252228, 'Hum': 0.03401926904916763, 'Throbbing': 0.030839039012789726, 'Stomach rumble': 0.025580795481801033}\n",
      "{'Animal': 0.14979426562786102, 'Speech': 0.07444065809249878, 'Outside, rural or natural': 0.06758172810077667, 'Clip-clop': 0.06603291630744934, 'Horse': 0.058802176266908646}\n"
     ]
    }
   ],
   "source": [
    "\n",
    "\n",
    "\n",
    "#cfile = 'er_file_2023_09_04_7_13_08.wav'\n",
    "inhale_file = \"/Users/evgenynazarenko/DACS_3_year/Thesis/GardenFiles23/garden_01012024/0/er_file_2024_01_01_11_03_19.wav\"\n",
    "afile =\"/Users/evgenynazarenko/DACS_3_year/Thesis/GardenFiles23/garden_01012024/16/er_file_2024_01_01_14_18_13.wav\"\n",
    "model_prob = MIT_AST_model_prob()\n",
    "model = MIT_AST_model()\n",
    "res = model_prob.classify(inhale_file)\n",
    "print(res)"
   ]
  },
  {
   "cell_type": "code",
   "execution_count": 52,
   "metadata": {},
   "outputs": [],
   "source": [
    "import logging\n",
    "import os\n",
    "\n",
    "\n",
    "# Set up logging\n",
    "#log_file = 'corrupted_files.log'\n",
    "#logging.basicConfig(filename=log_file, level=logging.ERROR, format='%(message)s')\n",
    "\n",
    "def classify_files_ast_prob_old(filepaths_list):\n",
    "    \"\"\"\n",
    "    Classify a list of audio files using the MIT AST model\n",
    "    :param filepaths_list: list of file paths\n",
    "    :return: list of tuples with file path and classification results a list of tuples for each file\n",
    "            where each tuple contains the file path and a results tuple.\n",
    "            res tuple contains winning label + dictionary with top 5 labels and their probabilities\n",
    "            results = [(file_path, (label,{label:prob,...})), ...]\n",
    "    \"\"\"\n",
    "    results = []\n",
    "    corrupted_count = 0  # Counter for corrupted files\n",
    "    model_prob = MIT_AST_model_prob()\n",
    "    for file_path in tqdm(filepaths_list, desc=\"Classifying files\"):\n",
    "        try:\n",
    "            res = model_prob.classify(file_path)\n",
    "            if len(res) > 0:\n",
    "                results.append((file_path, res))\n",
    "        except Exception as e:\n",
    "            logging.error(os.path.basename(file_path))  # Log only the basename\n",
    "            corrupted_count += 1  # Increment the counter\n",
    "            continue\n",
    "    print(f\"Number of corrupted files: {corrupted_count}\")  # Print the count\n",
    "    return results\n",
    "        \n",
    "      \n",
    "    "
   ]
  },
  {
   "cell_type": "code",
   "execution_count": 53,
   "metadata": {},
   "outputs": [],
   "source": [
    "import logging\n",
    "from tqdm import tqdm\n",
    "import os\n",
    "\n",
    "def classify_files_ast_prob(filepaths_list, log_file):\n",
    "    \"\"\"\n",
    "    Classify a list of audio files using the MIT AST model\n",
    "    :param filepaths_list: list of file paths\n",
    "    :param log_file: path to the log file\n",
    "    :return: list of tuples with file path and classification results a list of tuples for each file\n",
    "            where each tuple contains the file path and a results tuple.\n",
    "            res tuple contains winning label + dictionary with top 5 labels and their probabilities\n",
    "            results = [(file_path, (label,{label:prob,...})), ...]\n",
    "    \"\"\"\n",
    "    # Set up logging to append to the log file\n",
    "    logging.basicConfig(filename=log_file, level=logging.ERROR, format='%(message)s', filemode='a')\n",
    "\n",
    "    results = []\n",
    "    corrupted_count = 0  # Counter for corrupted files\n",
    "    model_prob = MIT_AST_model_prob()  # Assuming this initializes your model\n",
    "\n",
    "    for file_path in tqdm(filepaths_list, desc=\"Classifying files\"):\n",
    "        try:\n",
    "            res = model_prob.classify(file_path)\n",
    "            if len(res) > 0:\n",
    "                results.append((file_path, res))\n",
    "        except Exception as e:\n",
    "            logging.error(os.path.basename(file_path))  # Log only the basename\n",
    "            corrupted_count += 1  # Increment the counter\n",
    "            continue\n",
    "\n",
    "    print(f\"Number of corrupted files: {corrupted_count}\")  # Print the count\n",
    "    return results\n",
    "\n"
   ]
  },
  {
   "cell_type": "code",
   "execution_count": 12,
   "metadata": {},
   "outputs": [],
   "source": [
    "def split_prob_results(prob_results):\n",
    "    \"\"\"\n",
    "    Split the results of the classification into a list of tuples with file path and label and a list of tuples with file path and dictionary\n",
    "    :param prob_results: list of tuples with file path and classification results dictionary with top labels and their probabilities\n",
    "                         results = [(file_path, {label: prob, ...}), ...]\n",
    "    :return: list of tuples with file path and label and a list of tuples with file path and dictionary\n",
    "    \"\"\"\n",
    "    labels = []\n",
    "    dictionaries = []\n",
    "    for file_path, label_prob_dict in prob_results:\n",
    "        # Get the top label\n",
    "        top_label = max(label_prob_dict, key=label_prob_dict.get)\n",
    "        labels.append((file_path, top_label))\n",
    "        dictionaries.append((file_path, label_prob_dict))\n",
    "    return labels, dictionaries\n",
    "\n",
    "\n"
   ]
  },
  {
   "cell_type": "code",
   "execution_count": 13,
   "metadata": {},
   "outputs": [],
   "source": [
    "# human_detected function. finds if human related albels are among the results\n",
    "def human_detected(prob_results, human_labels):\n",
    "    \"\"\"\n",
    "    Check if any of the labels in the results is a human label and return a list of tuples with file path and a flag\n",
    "    :param prob_results: list of tuples with file path and classification results dictionary with top 5 labels and their probabilities\n",
    "                         results = [(file_path, {label: prob, ...}), ...]\n",
    "    :param human_labels: list of human labels\n",
    "    :return: list of tuples with file path and 1 if a human label is detected, 0 otherwise\n",
    "    \"\"\"\n",
    "    detected_results = []\n",
    "    for file_path, label_prob_dict in prob_results:\n",
    "        # Check if any label is in human_labels\n",
    "        human_detected = any(label in human_labels for label in label_prob_dict)\n",
    "        detected_results.append((file_path, 1 if human_detected else 0))\n",
    "    return detected_results\n"
   ]
  },
  {
   "cell_type": "code",
   "execution_count": 14,
   "metadata": {},
   "outputs": [],
   "source": [
    "# add_labels function. Adds a label to the results if it is a human label\n",
    "def add_labels(metadata_file_path,results,column_name):\n",
    "    \"\"\"\n",
    "    Add MIT_AST labels to the metadata file\n",
    "    :param metadata_file_path: path to the metadata file\n",
    "    :param results: list of tuples with file path and top label \n",
    "    :param column_name: name of the column to add to the metadata file            \n",
    "    :return: path to the new metadata file\n",
    "    \"\"\"\n",
    "     # Create a DataFrame from results\n",
    "    labels_df = pd.DataFrame(results, columns=['filepath', column_name])\n",
    "    \n",
    "    # Extract basenames for comparison\n",
    "    labels_df['filename'] = labels_df['filepath'].apply(os.path.basename)\n",
    "    \n",
    "    # Load the existing metadata DataFrame\n",
    "    df = pd.read_excel(metadata_file_path)\n",
    "    \n",
    "    # Ensure filenames are basenames for comparison\n",
    "    df['filename'] = df['filename'].apply(os.path.basename)\n",
    "    \n",
    "    # Check if the 'column_name' column exists; if not, create it with NaN values\n",
    "    if column_name not in df.columns:\n",
    "        df[column_name] = pd.NA\n",
    "    \n",
    "    # Merge the existing df with the labels_df\n",
    "    df = df.merge(labels_df[['filename', column_name]], on='filename', how='left', suffixes=('', '_new'))\n",
    "    \n",
    "    # Update the 'column_name' column with new values where available\n",
    "    df[column_name] = df[column_name+'_new'].combine_first(df[column_name])\n",
    "    \n",
    "    # Drop the temporary 'column_name_new' column\n",
    "    df.drop(column_name+'_new', axis=1, inplace=True)\n",
    " \n",
    "    # Construct the new filename\n",
    "    original_filename = os.path.basename(metadata_file_path)\n",
    "    new_filename = original_filename.replace('metadata', column_name + '_metadata')\n",
    "    new_filepath = os.path.join(os.path.dirname(metadata_file_path), new_filename)\n",
    "    # Save the updated DataFrame to a new Excel file\n",
    "    df.to_excel(new_filepath, index=False)\n",
    "      # Remove the original file\n",
    "    os.remove(metadata_file_path)\n",
    "    return df\n"
   ]
  },
  {
   "cell_type": "code",
   "execution_count": 15,
   "metadata": {},
   "outputs": [],
   "source": [
    "\n",
    "\n",
    "def find_files(root_folder):\n",
    "    \"\"\"\n",
    "    Finds the metadata file and audio files in the specified root folder.\n",
    "    The root folder is assumed to contain subfolders with audio files and metadata file.\n",
    "    The metadata file is assumed to be named '...metadata.xlsx' and the audio files are assumed to have the extension '.wav'.\n",
    "    parameters:\n",
    "    - root_folder: The path to the root folder containing the audio files and metadata file.\n",
    "    returns:\n",
    "    - metadata_filepath: The path to the metadata file.\n",
    "    - audio_files: A list of relative paths to the audio files.\n",
    "\n",
    "    \"\"\"\n",
    "    audio_files = []\n",
    "    metadata_filepath = None\n",
    "    for dirpath, dirnames, filenames in os.walk(root_folder):\n",
    "        for filename in filenames:\n",
    "            if filename.endswith('metadata.xlsx'):\n",
    "                metadata_filepath = os.path.join(dirpath, filename)\n",
    "                print(f\"Found metadata file: {metadata_filepath}\")\n",
    "\n",
    "            elif filename.endswith('.wav'):\n",
    "                audio_files.append(os.path.join(dirpath, filename))\n",
    "            \n",
    "\n",
    "    return metadata_filepath, audio_files"
   ]
  },
  {
   "cell_type": "code",
   "execution_count": 50,
   "metadata": {},
   "outputs": [],
   "source": [
    "\n",
    "\n",
    "# mit_ast_pipeline\n",
    "def mit_ast_pipeline(folder_path,human_labels_list,log_file):\n",
    "    \"\"\"\n",
    "    Classify all audio files in the folder using the MIT AST model and add the human labels to the metadata file\n",
    "    :param folder_path: path to the folder with audio files\n",
    "    :param human_labels_list: list of human labels from MIT_AST_label_map.xlsx\n",
    "    :return: None\n",
    "    \"\"\"\n",
    "    # Get a list of all audio files in the folder\n",
    "    metadata_filepath, audio_files = find_files(folder_path)\n",
    "    \n",
    "    # Classify the audio files using the MIT AST model\n",
    "    results = classify_files_ast_prob(audio_files,log_file)\n",
    "\n",
    "    # Split the results into labels and dictionaries\n",
    "    labels, dictionaries = split_prob_results(results)\n",
    "    \n",
    "    # add labels to the metadata file\n",
    "    #new_metadata_filepath = add_labels(metadata_filepath,labels,'MIT_AST')\n",
    "    print(metadata_filepath)\n",
    "\n",
    "    # Check if any of the labels in the results is a human label\n",
    "    human_detected_results = human_detected(dictionaries, human_labels_list)\n",
    "\n",
    "    # add human detected labels to the metadata file\n",
    "    meta_df = add_labels(metadata_filepath,human_detected_results,'Human_detected')\n",
    "    # return df with \"Human_detected\" column\n",
    "    return meta_df\n",
    "\n",
    "\n",
    "   "
   ]
  },
  {
   "cell_type": "code",
   "execution_count": 22,
   "metadata": {},
   "outputs": [
    {
     "name": "stdout",
     "output_type": "stream",
     "text": [
      "Found metadata file: /Users/evgenynazarenko/DACS_3_year/Thesis/GardenFiles23/garden_01012024/garden_01012024_metadata.xlsx\n"
     ]
    },
    {
     "name": "stderr",
     "output_type": "stream",
     "text": [
      "Classifying files: 100%|██████████| 20222/20222 [49:24<00:00,  6.82it/s]   \n"
     ]
    },
    {
     "name": "stdout",
     "output_type": "stream",
     "text": [
      "/Users/evgenynazarenko/DACS_3_year/Thesis/GardenFiles23/garden_01012024/garden_01012024_metadata.xlsx\n"
     ]
    },
    {
     "name": "stderr",
     "output_type": "stream",
     "text": [
      "/var/folders/lh/0lt7mv811l56hczm0y7dwzym0000gn/T/ipykernel_81228/1414391559.py:30: FutureWarning: The behavior of array concatenation with empty entries is deprecated. In a future version, this will no longer exclude empty items when determining the result dtype. To retain the old behavior, exclude the empty entries before the concat operation.\n",
      "  df[column_name] = df[column_name+'_new'].combine_first(df[column_name])\n"
     ]
    }
   ],
   "source": [
    "# test pipeline\n",
    "garden_folder = \"/Users/evgenynazarenko/DACS_3_year/Thesis/GardenFiles23/garden_01012024\"\n",
    "human_labels = list(human['label'])\n",
    "mit_ast_pipeline(garden_folder,human_labels)\n"
   ]
  },
  {
   "cell_type": "code",
   "execution_count": 23,
   "metadata": {},
   "outputs": [
    {
     "name": "stdout",
     "output_type": "stream",
     "text": [
      "Found metadata file: /Users/evgenynazarenko/DACS_3_year/Thesis/GardenFiles23/garden_02092023/garden_02092023_metadata.xlsx\n"
     ]
    },
    {
     "name": "stderr",
     "output_type": "stream",
     "text": [
      "Classifying files: 100%|██████████| 20748/20748 [50:09<00:00,  6.89it/s]  \n"
     ]
    },
    {
     "name": "stdout",
     "output_type": "stream",
     "text": [
      "/Users/evgenynazarenko/DACS_3_year/Thesis/GardenFiles23/garden_02092023/garden_02092023_metadata.xlsx\n"
     ]
    },
    {
     "name": "stderr",
     "output_type": "stream",
     "text": [
      "/var/folders/lh/0lt7mv811l56hczm0y7dwzym0000gn/T/ipykernel_81228/1414391559.py:30: FutureWarning: The behavior of array concatenation with empty entries is deprecated. In a future version, this will no longer exclude empty items when determining the result dtype. To retain the old behavior, exclude the empty entries before the concat operation.\n",
      "  df[column_name] = df[column_name+'_new'].combine_first(df[column_name])\n"
     ]
    }
   ],
   "source": [
    "# test pipeline\n",
    "garden_folder = \"/Users/evgenynazarenko/DACS_3_year/Thesis/GardenFiles23/garden_02092023\"\n",
    "human_labels = list(human['label'])\n",
    "mit_ast_pipeline(garden_folder,human_labels)"
   ]
  },
  {
   "cell_type": "code",
   "execution_count": 27,
   "metadata": {},
   "outputs": [
    {
     "name": "stdout",
     "output_type": "stream",
     "text": [
      "Found metadata file: /Users/evgenynazarenko/DACS_3_year/Thesis/GardenFiles23/garden_02122023/garden_02122023_metadata.xlsx\n"
     ]
    },
    {
     "data": {
      "application/vnd.jupyter.widget-view+json": {
       "model_id": "797cbf1429fc4854a6d52911dfd7d50d",
       "version_major": 2,
       "version_minor": 0
      },
      "text/plain": [
       "Classifying files:   0%|          | 0/4866 [00:00<?, ?it/s]"
      ]
     },
     "metadata": {},
     "output_type": "display_data"
    },
    {
     "name": "stdout",
     "output_type": "stream",
     "text": [
      "/Users/evgenynazarenko/DACS_3_year/Thesis/GardenFiles23/garden_02122023/garden_02122023_metadata.xlsx\n"
     ]
    },
    {
     "name": "stderr",
     "output_type": "stream",
     "text": [
      "/var/folders/lh/0lt7mv811l56hczm0y7dwzym0000gn/T/ipykernel_81228/1414391559.py:30: FutureWarning: The behavior of array concatenation with empty entries is deprecated. In a future version, this will no longer exclude empty items when determining the result dtype. To retain the old behavior, exclude the empty entries before the concat operation.\n",
      "  df[column_name] = df[column_name+'_new'].combine_first(df[column_name])\n"
     ]
    }
   ],
   "source": [
    "# test pipeline\n",
    "garden_folder = \"/Users/evgenynazarenko/DACS_3_year/Thesis/GardenFiles23/garden_02122023\"\n",
    "human_labels = list(human['label'])\n",
    "mit_ast_pipeline(garden_folder,human_labels)"
   ]
  },
  {
   "cell_type": "code",
   "execution_count": 28,
   "metadata": {},
   "outputs": [
    {
     "name": "stdout",
     "output_type": "stream",
     "text": [
      "Found metadata file: /Users/evgenynazarenko/DACS_3_year/Thesis/GardenFiles23/garden_03022024/garden_03022024_metadata.xlsx\n"
     ]
    },
    {
     "data": {
      "application/vnd.jupyter.widget-view+json": {
       "model_id": "06bd6c824b3948048b9adfb789ff4b6d",
       "version_major": 2,
       "version_minor": 0
      },
      "text/plain": [
       "Classifying files:   0%|          | 0/24276 [00:00<?, ?it/s]"
      ]
     },
     "metadata": {},
     "output_type": "display_data"
    },
    {
     "name": "stdout",
     "output_type": "stream",
     "text": [
      "/Users/evgenynazarenko/DACS_3_year/Thesis/GardenFiles23/garden_03022024/garden_03022024_metadata.xlsx\n"
     ]
    },
    {
     "name": "stderr",
     "output_type": "stream",
     "text": [
      "/var/folders/lh/0lt7mv811l56hczm0y7dwzym0000gn/T/ipykernel_81228/1414391559.py:30: FutureWarning: The behavior of array concatenation with empty entries is deprecated. In a future version, this will no longer exclude empty items when determining the result dtype. To retain the old behavior, exclude the empty entries before the concat operation.\n",
      "  df[column_name] = df[column_name+'_new'].combine_first(df[column_name])\n"
     ]
    }
   ],
   "source": [
    "# test pipeline\n",
    "garden_folder = \"/Users/evgenynazarenko/DACS_3_year/Thesis/GardenFiles23/garden_03022024\"\n",
    "human_labels = list(human['label'])\n",
    "mit_ast_pipeline(garden_folder,human_labels)"
   ]
  },
  {
   "cell_type": "code",
   "execution_count": 29,
   "metadata": {},
   "outputs": [
    {
     "name": "stdout",
     "output_type": "stream",
     "text": [
      "Found metadata file: /Users/evgenynazarenko/DACS_3_year/Thesis/GardenFiles23/garden_03032024/garden_03032024_metadata.xlsx\n"
     ]
    },
    {
     "data": {
      "application/vnd.jupyter.widget-view+json": {
       "model_id": "2834ef06d09547fba8e09a9848fffc7a",
       "version_major": 2,
       "version_minor": 0
      },
      "text/plain": [
       "Classifying files:   0%|          | 0/8567 [00:00<?, ?it/s]"
      ]
     },
     "metadata": {},
     "output_type": "display_data"
    },
    {
     "name": "stdout",
     "output_type": "stream",
     "text": [
      "/Users/evgenynazarenko/DACS_3_year/Thesis/GardenFiles23/garden_03032024/garden_03032024_metadata.xlsx\n"
     ]
    },
    {
     "name": "stderr",
     "output_type": "stream",
     "text": [
      "/var/folders/lh/0lt7mv811l56hczm0y7dwzym0000gn/T/ipykernel_81228/1414391559.py:30: FutureWarning: The behavior of array concatenation with empty entries is deprecated. In a future version, this will no longer exclude empty items when determining the result dtype. To retain the old behavior, exclude the empty entries before the concat operation.\n",
      "  df[column_name] = df[column_name+'_new'].combine_first(df[column_name])\n"
     ]
    }
   ],
   "source": [
    "# test pipeline\n",
    "garden_folder = \"/Users/evgenynazarenko/DACS_3_year/Thesis/GardenFiles23/garden_03032024\"\n",
    "human_labels = list(human['label'])\n",
    "mit_ast_pipeline(garden_folder,human_labels)"
   ]
  },
  {
   "cell_type": "code",
   "execution_count": null,
   "metadata": {},
   "outputs": [],
   "source": [
    "# test pipeline\n",
    "garden_folder = \"/Users/evgenynazarenko/DACS_3_year/Thesis/GardenFiles23/garden_06012023\"\n",
    "human_labels = list(human['label'])\n",
    "mit_ast_pipeline(garden_folder,human_labels)"
   ]
  },
  {
   "cell_type": "code",
   "execution_count": 32,
   "metadata": {},
   "outputs": [
    {
     "name": "stdout",
     "output_type": "stream",
     "text": [
      "Found metadata file: /Users/evgenynazarenko/DACS_3_year/Thesis/GardenFiles23/garden_07122023/garden_07122023_metadata.xlsx\n"
     ]
    },
    {
     "data": {
      "application/vnd.jupyter.widget-view+json": {
       "model_id": "0bc703ba191e4c57a698abae1126a457",
       "version_major": 2,
       "version_minor": 0
      },
      "text/plain": [
       "Classifying files:   0%|          | 0/25617 [00:00<?, ?it/s]"
      ]
     },
     "metadata": {},
     "output_type": "display_data"
    },
    {
     "name": "stdout",
     "output_type": "stream",
     "text": [
      "/Users/evgenynazarenko/DACS_3_year/Thesis/GardenFiles23/garden_07122023/garden_07122023_metadata.xlsx\n"
     ]
    },
    {
     "name": "stderr",
     "output_type": "stream",
     "text": [
      "/var/folders/lh/0lt7mv811l56hczm0y7dwzym0000gn/T/ipykernel_81228/1414391559.py:30: FutureWarning: The behavior of array concatenation with empty entries is deprecated. In a future version, this will no longer exclude empty items when determining the result dtype. To retain the old behavior, exclude the empty entries before the concat operation.\n",
      "  df[column_name] = df[column_name+'_new'].combine_first(df[column_name])\n"
     ]
    }
   ],
   "source": [
    "# test pipeline\n",
    "garden_folder = \"/Users/evgenynazarenko/DACS_3_year/Thesis/GardenFiles23/garden_07122023\"\n",
    "human_labels = list(human['label'])\n",
    "mit_ast_pipeline(garden_folder,human_labels)"
   ]
  },
  {
   "cell_type": "code",
   "execution_count": 34,
   "metadata": {},
   "outputs": [
    {
     "name": "stdout",
     "output_type": "stream",
     "text": [
      "Found metadata file: /Users/evgenynazarenko/DACS_3_year/Thesis/GardenFiles23/garden_08032024/garden_08032024_metadata.xlsx\n"
     ]
    },
    {
     "data": {
      "application/vnd.jupyter.widget-view+json": {
       "model_id": "0b0e9384ab8549ff9a15957f2ac6ced1",
       "version_major": 2,
       "version_minor": 0
      },
      "text/plain": [
       "Classifying files:   0%|          | 0/25809 [00:00<?, ?it/s]"
      ]
     },
     "metadata": {},
     "output_type": "display_data"
    },
    {
     "name": "stdout",
     "output_type": "stream",
     "text": [
      "/Users/evgenynazarenko/DACS_3_year/Thesis/GardenFiles23/garden_08032024/garden_08032024_metadata.xlsx\n"
     ]
    },
    {
     "name": "stderr",
     "output_type": "stream",
     "text": [
      "/var/folders/lh/0lt7mv811l56hczm0y7dwzym0000gn/T/ipykernel_81228/1414391559.py:30: FutureWarning: The behavior of array concatenation with empty entries is deprecated. In a future version, this will no longer exclude empty items when determining the result dtype. To retain the old behavior, exclude the empty entries before the concat operation.\n",
      "  df[column_name] = df[column_name+'_new'].combine_first(df[column_name])\n"
     ]
    }
   ],
   "source": [
    "# test pipeline\n",
    "garden_folder = \"/Users/evgenynazarenko/DACS_3_year/Thesis/GardenFiles23/garden_08032024\"\n",
    "human_labels = list(human['label'])\n",
    "mit_ast_pipeline(garden_folder,human_labels)"
   ]
  },
  {
   "cell_type": "code",
   "execution_count": 35,
   "metadata": {},
   "outputs": [
    {
     "name": "stdout",
     "output_type": "stream",
     "text": [
      "Found metadata file: /Users/evgenynazarenko/DACS_3_year/Thesis/GardenFiles23/garden_10092023/garden_10092023_metadata.xlsx\n"
     ]
    },
    {
     "data": {
      "application/vnd.jupyter.widget-view+json": {
       "model_id": "ab2b2196a68043dbbadb56be6c079461",
       "version_major": 2,
       "version_minor": 0
      },
      "text/plain": [
       "Classifying files:   0%|          | 0/12696 [00:00<?, ?it/s]"
      ]
     },
     "metadata": {},
     "output_type": "display_data"
    },
    {
     "name": "stdout",
     "output_type": "stream",
     "text": [
      "/Users/evgenynazarenko/DACS_3_year/Thesis/GardenFiles23/garden_10092023/garden_10092023_metadata.xlsx\n"
     ]
    },
    {
     "name": "stderr",
     "output_type": "stream",
     "text": [
      "/var/folders/lh/0lt7mv811l56hczm0y7dwzym0000gn/T/ipykernel_81228/1414391559.py:30: FutureWarning: The behavior of array concatenation with empty entries is deprecated. In a future version, this will no longer exclude empty items when determining the result dtype. To retain the old behavior, exclude the empty entries before the concat operation.\n",
      "  df[column_name] = df[column_name+'_new'].combine_first(df[column_name])\n"
     ]
    }
   ],
   "source": [
    "# test pipeline\n",
    "garden_folder = \"/Users/evgenynazarenko/DACS_3_year/Thesis/GardenFiles23/garden_10092023\"\n",
    "human_labels = list(human['label'])\n",
    "mit_ast_pipeline(garden_folder,human_labels)"
   ]
  },
  {
   "cell_type": "code",
   "execution_count": 36,
   "metadata": {},
   "outputs": [
    {
     "name": "stdout",
     "output_type": "stream",
     "text": [
      "Found metadata file: /Users/evgenynazarenko/DACS_3_year/Thesis/GardenFiles23/garden_11082023/garden_11082023_metadata.xlsx\n"
     ]
    },
    {
     "data": {
      "application/vnd.jupyter.widget-view+json": {
       "model_id": "3d34bb770ad84fc980cd692393cc47d4",
       "version_major": 2,
       "version_minor": 0
      },
      "text/plain": [
       "Classifying files:   0%|          | 0/4823 [00:00<?, ?it/s]"
      ]
     },
     "metadata": {},
     "output_type": "display_data"
    },
    {
     "name": "stdout",
     "output_type": "stream",
     "text": [
      "/Users/evgenynazarenko/DACS_3_year/Thesis/GardenFiles23/garden_11082023/garden_11082023_metadata.xlsx\n"
     ]
    },
    {
     "name": "stderr",
     "output_type": "stream",
     "text": [
      "/var/folders/lh/0lt7mv811l56hczm0y7dwzym0000gn/T/ipykernel_81228/1414391559.py:30: FutureWarning: The behavior of array concatenation with empty entries is deprecated. In a future version, this will no longer exclude empty items when determining the result dtype. To retain the old behavior, exclude the empty entries before the concat operation.\n",
      "  df[column_name] = df[column_name+'_new'].combine_first(df[column_name])\n"
     ]
    }
   ],
   "source": [
    "# test pipeline\n",
    "garden_folder = \"/Users/evgenynazarenko/DACS_3_year/Thesis/GardenFiles23/garden_11082023\"\n",
    "human_labels = list(human['label'])\n",
    "mit_ast_pipeline(garden_folder,human_labels)"
   ]
  },
  {
   "cell_type": "code",
   "execution_count": 37,
   "metadata": {},
   "outputs": [
    {
     "name": "stdout",
     "output_type": "stream",
     "text": [
      "Found metadata file: /Users/evgenynazarenko/DACS_3_year/Thesis/GardenFiles23/garden_12112023/garden_12112023_metadata.xlsx\n"
     ]
    },
    {
     "data": {
      "application/vnd.jupyter.widget-view+json": {
       "model_id": "c10d0d768f354307870ea6da0bd9aedc",
       "version_major": 2,
       "version_minor": 0
      },
      "text/plain": [
       "Classifying files:   0%|          | 0/32772 [00:00<?, ?it/s]"
      ]
     },
     "metadata": {},
     "output_type": "display_data"
    },
    {
     "name": "stdout",
     "output_type": "stream",
     "text": [
      "/Users/evgenynazarenko/DACS_3_year/Thesis/GardenFiles23/garden_12112023/garden_12112023_metadata.xlsx\n"
     ]
    },
    {
     "name": "stderr",
     "output_type": "stream",
     "text": [
      "/var/folders/lh/0lt7mv811l56hczm0y7dwzym0000gn/T/ipykernel_81228/1414391559.py:30: FutureWarning: The behavior of array concatenation with empty entries is deprecated. In a future version, this will no longer exclude empty items when determining the result dtype. To retain the old behavior, exclude the empty entries before the concat operation.\n",
      "  df[column_name] = df[column_name+'_new'].combine_first(df[column_name])\n"
     ]
    }
   ],
   "source": [
    "# test pipeline\n",
    "garden_folder = \"/Users/evgenynazarenko/DACS_3_year/Thesis/GardenFiles23/garden_12112023\"\n",
    "human_labels = list(human['label'])\n",
    "mit_ast_pipeline(garden_folder,human_labels)"
   ]
  },
  {
   "cell_type": "code",
   "execution_count": 39,
   "metadata": {},
   "outputs": [
    {
     "name": "stdout",
     "output_type": "stream",
     "text": [
      "Found metadata file: /Users/evgenynazarenko/DACS_3_year/Thesis/GardenFiles23/garden_16032024/garden_16032024_metadata.xlsx\n"
     ]
    },
    {
     "data": {
      "application/vnd.jupyter.widget-view+json": {
       "model_id": "1f5bc7f80fa54ad68441941625c22ad9",
       "version_major": 2,
       "version_minor": 0
      },
      "text/plain": [
       "Classifying files:   0%|          | 0/24671 [00:00<?, ?it/s]"
      ]
     },
     "metadata": {},
     "output_type": "display_data"
    },
    {
     "name": "stdout",
     "output_type": "stream",
     "text": [
      "/Users/evgenynazarenko/DACS_3_year/Thesis/GardenFiles23/garden_16032024/garden_16032024_metadata.xlsx\n"
     ]
    },
    {
     "name": "stderr",
     "output_type": "stream",
     "text": [
      "/var/folders/lh/0lt7mv811l56hczm0y7dwzym0000gn/T/ipykernel_81228/1414391559.py:30: FutureWarning: The behavior of array concatenation with empty entries is deprecated. In a future version, this will no longer exclude empty items when determining the result dtype. To retain the old behavior, exclude the empty entries before the concat operation.\n",
      "  df[column_name] = df[column_name+'_new'].combine_first(df[column_name])\n"
     ]
    }
   ],
   "source": [
    "# test pipeline\n",
    "garden_folder = \"/Users/evgenynazarenko/DACS_3_year/Thesis/GardenFiles23/garden_16032024\"\n",
    "human_labels = list(human['label'])\n",
    "mit_ast_pipeline(garden_folder,human_labels)"
   ]
  },
  {
   "cell_type": "code",
   "execution_count": 50,
   "metadata": {},
   "outputs": [
    {
     "name": "stdout",
     "output_type": "stream",
     "text": [
      "Found metadata file: /Users/evgenynazarenko/DACS_3_year/Thesis/GardenFiles23/garden_16122023/garden_16122023_metadata.xlsx\n"
     ]
    },
    {
     "data": {
      "application/vnd.jupyter.widget-view+json": {
       "model_id": "48b835b9c3ce418da0eb118271bfb4f1",
       "version_major": 2,
       "version_minor": 0
      },
      "text/plain": [
       "Classifying files:   0%|          | 0/31574 [00:00<?, ?it/s]"
      ]
     },
     "metadata": {},
     "output_type": "display_data"
    },
    {
     "name": "stdout",
     "output_type": "stream",
     "text": [
      "/Users/evgenynazarenko/DACS_3_year/Thesis/GardenFiles23/garden_16122023/garden_16122023_metadata.xlsx\n"
     ]
    }
   ],
   "source": [
    "# test pipeline\n",
    "garden_folder = \"/Users/evgenynazarenko/DACS_3_year/Thesis/GardenFiles23/garden_16122023\"\n",
    "human_labels = list(human['label'])\n",
    "mit_ast_pipeline(garden_folder,human_labels)"
   ]
  },
  {
   "cell_type": "code",
   "execution_count": 42,
   "metadata": {},
   "outputs": [
    {
     "name": "stdout",
     "output_type": "stream",
     "text": [
      "Found metadata file: /Users/evgenynazarenko/DACS_3_year/Thesis/GardenFiles23/garden_19102023/garden_19102023_birdnet_metadata.xlsx\n"
     ]
    },
    {
     "data": {
      "application/vnd.jupyter.widget-view+json": {
       "model_id": "dbdbe327676b4d8a8f52681aaf006ee4",
       "version_major": 2,
       "version_minor": 0
      },
      "text/plain": [
       "Classifying files:   0%|          | 0/1619 [00:00<?, ?it/s]"
      ]
     },
     "metadata": {},
     "output_type": "display_data"
    },
    {
     "name": "stdout",
     "output_type": "stream",
     "text": [
      "/Users/evgenynazarenko/DACS_3_year/Thesis/GardenFiles23/garden_19102023/garden_19102023_birdnet_metadata.xlsx\n"
     ]
    },
    {
     "name": "stderr",
     "output_type": "stream",
     "text": [
      "/var/folders/lh/0lt7mv811l56hczm0y7dwzym0000gn/T/ipykernel_81228/1414391559.py:30: FutureWarning: The behavior of array concatenation with empty entries is deprecated. In a future version, this will no longer exclude empty items when determining the result dtype. To retain the old behavior, exclude the empty entries before the concat operation.\n",
      "  df[column_name] = df[column_name+'_new'].combine_first(df[column_name])\n"
     ]
    }
   ],
   "source": [
    "# test pipeline\n",
    "garden_folder = \"/Users/evgenynazarenko/DACS_3_year/Thesis/GardenFiles23/garden_19102023\"\n",
    "human_labels = list(human['label'])\n",
    "mit_ast_pipeline(garden_folder,human_labels)"
   ]
  },
  {
   "cell_type": "code",
   "execution_count": 51,
   "metadata": {},
   "outputs": [
    {
     "name": "stdout",
     "output_type": "stream",
     "text": [
      "Found metadata file: /Users/evgenynazarenko/DACS_3_year/Thesis/GardenFiles23/garden_20012024/garden_20012024_metadata.xlsx\n"
     ]
    },
    {
     "data": {
      "application/vnd.jupyter.widget-view+json": {
       "model_id": "63665d7824a94d46afdd58ad901e793d",
       "version_major": 2,
       "version_minor": 0
      },
      "text/plain": [
       "Classifying files:   0%|          | 0/45069 [00:00<?, ?it/s]"
      ]
     },
     "metadata": {},
     "output_type": "display_data"
    },
    {
     "name": "stdout",
     "output_type": "stream",
     "text": [
      "/Users/evgenynazarenko/DACS_3_year/Thesis/GardenFiles23/garden_20012024/garden_20012024_metadata.xlsx\n"
     ]
    },
    {
     "name": "stderr",
     "output_type": "stream",
     "text": [
      "/var/folders/lh/0lt7mv811l56hczm0y7dwzym0000gn/T/ipykernel_81228/1414391559.py:30: FutureWarning: The behavior of array concatenation with empty entries is deprecated. In a future version, this will no longer exclude empty items when determining the result dtype. To retain the old behavior, exclude the empty entries before the concat operation.\n",
      "  df[column_name] = df[column_name+'_new'].combine_first(df[column_name])\n"
     ]
    }
   ],
   "source": [
    "# test pipeline\n",
    "garden_folder = \"/Users/evgenynazarenko/DACS_3_year/Thesis/GardenFiles23/garden_20012024\"\n",
    "human_labels = list(human['label'])\n",
    "mit_ast_pipeline(garden_folder,human_labels)"
   ]
  },
  {
   "cell_type": "code",
   "execution_count": 44,
   "metadata": {},
   "outputs": [
    {
     "name": "stdout",
     "output_type": "stream",
     "text": [
      "Found metadata file: /Users/evgenynazarenko/DACS_3_year/Thesis/GardenFiles23/garden_21092023/garden_21092023_metadata.xlsx\n"
     ]
    },
    {
     "data": {
      "application/vnd.jupyter.widget-view+json": {
       "model_id": "f5d2e865d5744338bfc32464db7ce820",
       "version_major": 2,
       "version_minor": 0
      },
      "text/plain": [
       "Classifying files:   0%|          | 0/20886 [00:00<?, ?it/s]"
      ]
     },
     "metadata": {},
     "output_type": "display_data"
    },
    {
     "name": "stdout",
     "output_type": "stream",
     "text": [
      "/Users/evgenynazarenko/DACS_3_year/Thesis/GardenFiles23/garden_21092023/garden_21092023_metadata.xlsx\n"
     ]
    },
    {
     "name": "stderr",
     "output_type": "stream",
     "text": [
      "/var/folders/lh/0lt7mv811l56hczm0y7dwzym0000gn/T/ipykernel_81228/1414391559.py:30: FutureWarning: The behavior of array concatenation with empty entries is deprecated. In a future version, this will no longer exclude empty items when determining the result dtype. To retain the old behavior, exclude the empty entries before the concat operation.\n",
      "  df[column_name] = df[column_name+'_new'].combine_first(df[column_name])\n"
     ]
    }
   ],
   "source": [
    "# test pipeline\n",
    "garden_folder = \"/Users/evgenynazarenko/DACS_3_year/Thesis/GardenFiles23/garden_21092023\"\n",
    "human_labels = list(human['label'])\n",
    "mit_ast_pipeline(garden_folder,human_labels)"
   ]
  },
  {
   "cell_type": "code",
   "execution_count": 45,
   "metadata": {},
   "outputs": [
    {
     "name": "stdout",
     "output_type": "stream",
     "text": [
      "Found metadata file: /Users/evgenynazarenko/DACS_3_year/Thesis/GardenFiles23/garden_21102023/garden_21102023_metadata.xlsx\n"
     ]
    },
    {
     "data": {
      "application/vnd.jupyter.widget-view+json": {
       "model_id": "376643fbb5bc4906960ecfeda7bbcc35",
       "version_major": 2,
       "version_minor": 0
      },
      "text/plain": [
       "Classifying files:   0%|          | 0/17620 [00:00<?, ?it/s]"
      ]
     },
     "metadata": {},
     "output_type": "display_data"
    },
    {
     "name": "stdout",
     "output_type": "stream",
     "text": [
      "/Users/evgenynazarenko/DACS_3_year/Thesis/GardenFiles23/garden_21102023/garden_21102023_metadata.xlsx\n"
     ]
    },
    {
     "name": "stderr",
     "output_type": "stream",
     "text": [
      "/var/folders/lh/0lt7mv811l56hczm0y7dwzym0000gn/T/ipykernel_81228/1414391559.py:30: FutureWarning: The behavior of array concatenation with empty entries is deprecated. In a future version, this will no longer exclude empty items when determining the result dtype. To retain the old behavior, exclude the empty entries before the concat operation.\n",
      "  df[column_name] = df[column_name+'_new'].combine_first(df[column_name])\n"
     ]
    }
   ],
   "source": [
    "# test pipeline\n",
    "garden_folder = \"/Users/evgenynazarenko/DACS_3_year/Thesis/GardenFiles23/garden_21102023\"\n",
    "human_labels = list(human['label'])\n",
    "mit_ast_pipeline(garden_folder,human_labels)"
   ]
  },
  {
   "cell_type": "code",
   "execution_count": null,
   "metadata": {},
   "outputs": [],
   "source": [
    "# test pipeline\n",
    "garden_folder = \"/Users/evgenynazarenko/DACS_3_year/Thesis/GardenFiles23/garden_23122023\"\n",
    "human_labels = list(human['label'])\n",
    "mit_ast_pipeline(garden_folder,human_labels)"
   ]
  },
  {
   "cell_type": "code",
   "execution_count": 38,
   "metadata": {},
   "outputs": [
    {
     "name": "stdout",
     "output_type": "stream",
     "text": [
      "Found metadata file: /Users/evgenynazarenko/DACS_3_year/Thesis/GardenFiles23/garden_25112023/garden_25112023_metadata.xlsx\n"
     ]
    },
    {
     "data": {
      "application/vnd.jupyter.widget-view+json": {
       "model_id": "a064615e746d4ff7925782851b136314",
       "version_major": 2,
       "version_minor": 0
      },
      "text/plain": [
       "Classifying files:   0%|          | 0/5257 [00:00<?, ?it/s]"
      ]
     },
     "metadata": {},
     "output_type": "display_data"
    },
    {
     "name": "stdout",
     "output_type": "stream",
     "text": [
      "/Users/evgenynazarenko/DACS_3_year/Thesis/GardenFiles23/garden_25112023/garden_25112023_metadata.xlsx\n"
     ]
    },
    {
     "name": "stderr",
     "output_type": "stream",
     "text": [
      "/var/folders/lh/0lt7mv811l56hczm0y7dwzym0000gn/T/ipykernel_81228/1414391559.py:30: FutureWarning: The behavior of array concatenation with empty entries is deprecated. In a future version, this will no longer exclude empty items when determining the result dtype. To retain the old behavior, exclude the empty entries before the concat operation.\n",
      "  df[column_name] = df[column_name+'_new'].combine_first(df[column_name])\n"
     ]
    }
   ],
   "source": [
    "# test pipeline\n",
    "garden_folder = \"/Users/evgenynazarenko/DACS_3_year/Thesis/GardenFiles23/garden_25112023\"\n",
    "human_labels = list(human['label'])\n",
    "mit_ast_pipeline(garden_folder,human_labels)"
   ]
  },
  {
   "cell_type": "code",
   "execution_count": 52,
   "metadata": {},
   "outputs": [
    {
     "name": "stdout",
     "output_type": "stream",
     "text": [
      "Found metadata file: /Users/evgenynazarenko/DACS_3_year/Thesis/GardenFiles23/garden_26012024/garden_26012024_metadata.xlsx\n"
     ]
    },
    {
     "data": {
      "application/vnd.jupyter.widget-view+json": {
       "model_id": "fa70c1ccec6a4db2acf07c3de3fb2238",
       "version_major": 2,
       "version_minor": 0
      },
      "text/plain": [
       "Classifying files:   0%|          | 0/29225 [00:00<?, ?it/s]"
      ]
     },
     "metadata": {},
     "output_type": "display_data"
    },
    {
     "name": "stdout",
     "output_type": "stream",
     "text": [
      "/Users/evgenynazarenko/DACS_3_year/Thesis/GardenFiles23/garden_26012024/garden_26012024_metadata.xlsx\n"
     ]
    },
    {
     "name": "stderr",
     "output_type": "stream",
     "text": [
      "/var/folders/lh/0lt7mv811l56hczm0y7dwzym0000gn/T/ipykernel_81228/1414391559.py:30: FutureWarning: The behavior of array concatenation with empty entries is deprecated. In a future version, this will no longer exclude empty items when determining the result dtype. To retain the old behavior, exclude the empty entries before the concat operation.\n",
      "  df[column_name] = df[column_name+'_new'].combine_first(df[column_name])\n"
     ]
    }
   ],
   "source": [
    "# test pipeline\n",
    "garden_folder = \"/Users/evgenynazarenko/DACS_3_year/Thesis/GardenFiles23/garden_26012024\"\n",
    "human_labels = list(human['label'])\n",
    "mit_ast_pipeline(garden_folder,human_labels)"
   ]
  },
  {
   "cell_type": "code",
   "execution_count": 54,
   "metadata": {},
   "outputs": [
    {
     "name": "stdout",
     "output_type": "stream",
     "text": [
      "Found metadata file: /Users/evgenynazarenko/DACS_3_year/Thesis/GardenFiles23/garden_30102023/garden_30102023_metadata.xlsx\n"
     ]
    },
    {
     "data": {
      "application/vnd.jupyter.widget-view+json": {
       "model_id": "ec19c646787b41d99128fb9564083731",
       "version_major": 2,
       "version_minor": 0
      },
      "text/plain": [
       "Classifying files:   0%|          | 0/3361 [00:00<?, ?it/s]"
      ]
     },
     "metadata": {},
     "output_type": "display_data"
    },
    {
     "name": "stdout",
     "output_type": "stream",
     "text": [
      "/Users/evgenynazarenko/DACS_3_year/Thesis/GardenFiles23/garden_30102023/garden_30102023_metadata.xlsx\n"
     ]
    },
    {
     "name": "stderr",
     "output_type": "stream",
     "text": [
      "/var/folders/lh/0lt7mv811l56hczm0y7dwzym0000gn/T/ipykernel_81228/1414391559.py:30: FutureWarning: The behavior of array concatenation with empty entries is deprecated. In a future version, this will no longer exclude empty items when determining the result dtype. To retain the old behavior, exclude the empty entries before the concat operation.\n",
      "  df[column_name] = df[column_name+'_new'].combine_first(df[column_name])\n"
     ]
    }
   ],
   "source": [
    "# test pipeline\n",
    "garden_folder = \"/Users/evgenynazarenko/DACS_3_year/Thesis/GardenFiles23/garden_30102023\"\n",
    "human_labels = list(human['label'])\n",
    "mit_ast_pipeline(garden_folder,human_labels)"
   ]
  },
  {
   "cell_type": "code",
   "execution_count": 21,
   "metadata": {},
   "outputs": [
    {
     "name": "stdout",
     "output_type": "stream",
     "text": [
      "Found metadata file: /Users/evgenynazarenko/DACS_3_year/Thesis/GardenFiles24/garden_13052024/garden_13052024_MIT_AST_metadata.xlsx\n"
     ]
    },
    {
     "name": "stderr",
     "output_type": "stream",
     "text": [
      "Classifying files: 100%|██████████| 3987/3987 [09:19<00:00,  7.12it/s]\n"
     ]
    },
    {
     "name": "stdout",
     "output_type": "stream",
     "text": [
      "/Users/evgenynazarenko/DACS_3_year/Thesis/GardenFiles24/garden_13052024/garden_13052024_MIT_AST_metadata.xlsx\n"
     ]
    },
    {
     "name": "stderr",
     "output_type": "stream",
     "text": [
      "/var/folders/lh/0lt7mv811l56hczm0y7dwzym0000gn/T/ipykernel_30808/689925939.py:30: FutureWarning: The behavior of array concatenation with empty entries is deprecated. In a future version, this will no longer exclude empty items when determining the result dtype. To retain the old behavior, exclude the empty entries before the concat operation.\n",
      "  df[column_name] = df[column_name+'_new'].combine_first(df[column_name])\n"
     ]
    }
   ],
   "source": [
    "# test pipeline\n",
    "garden_folder = \"/Users/evgenynazarenko/DACS_3_year/Thesis/GardenFiles24/garden_13052024\"\n",
    "human_labels = list(human['label'])\n",
    "meta_df_may2 = mit_ast_pipeline(garden_folder,human_labels)\n"
   ]
  },
  {
   "cell_type": "code",
   "execution_count": 24,
   "metadata": {},
   "outputs": [
    {
     "name": "stdout",
     "output_type": "stream",
     "text": [
      "Found metadata file: /Users/evgenynazarenko/DACS_3_year/Thesis/GardenFiles24/garden_17052024/garden_17052024_metadata.xlsx\n"
     ]
    },
    {
     "name": "stderr",
     "output_type": "stream",
     "text": [
      "Classifying files: 100%|██████████| 40915/40915 [1:38:13<00:00,  6.94it/s]\n"
     ]
    },
    {
     "name": "stdout",
     "output_type": "stream",
     "text": [
      "/Users/evgenynazarenko/DACS_3_year/Thesis/GardenFiles24/garden_17052024/garden_17052024_metadata.xlsx\n"
     ]
    },
    {
     "name": "stderr",
     "output_type": "stream",
     "text": [
      "/var/folders/lh/0lt7mv811l56hczm0y7dwzym0000gn/T/ipykernel_30808/689925939.py:30: FutureWarning: The behavior of array concatenation with empty entries is deprecated. In a future version, this will no longer exclude empty items when determining the result dtype. To retain the old behavior, exclude the empty entries before the concat operation.\n",
      "  df[column_name] = df[column_name+'_new'].combine_first(df[column_name])\n"
     ]
    }
   ],
   "source": [
    "garden_folder = \"/Users/evgenynazarenko/DACS_3_year/Thesis/GardenFiles24/garden_17052024\"\n",
    "human_labels = list(human['label'])\n",
    "meta_df_may4 = mit_ast_pipeline(garden_folder,human_labels)"
   ]
  },
  {
   "cell_type": "code",
   "execution_count": 38,
   "metadata": {},
   "outputs": [
    {
     "data": {
      "text/html": [
       "<div>\n",
       "<style scoped>\n",
       "    .dataframe tbody tr th:only-of-type {\n",
       "        vertical-align: middle;\n",
       "    }\n",
       "\n",
       "    .dataframe tbody tr th {\n",
       "        vertical-align: top;\n",
       "    }\n",
       "\n",
       "    .dataframe thead th {\n",
       "        text-align: right;\n",
       "    }\n",
       "</style>\n",
       "<table border=\"1\" class=\"dataframe\">\n",
       "  <thead>\n",
       "    <tr style=\"text-align: right;\">\n",
       "      <th></th>\n",
       "      <th>Unnamed: 0</th>\n",
       "      <th>sessionId</th>\n",
       "      <th>time</th>\n",
       "      <th>filename</th>\n",
       "      <th>th1</th>\n",
       "      <th>th1_value</th>\n",
       "      <th>th2</th>\n",
       "      <th>th2_value</th>\n",
       "      <th>th3</th>\n",
       "      <th>th3_value</th>\n",
       "      <th>...</th>\n",
       "      <th>windgustHigh</th>\n",
       "      <th>windspeedAvg</th>\n",
       "      <th>tempAve</th>\n",
       "      <th>humidityAvg</th>\n",
       "      <th>winddirAvg</th>\n",
       "      <th>uvHigh</th>\n",
       "      <th>solarRadiationHigh</th>\n",
       "      <th>lon</th>\n",
       "      <th>lat</th>\n",
       "      <th>Human_detected</th>\n",
       "    </tr>\n",
       "  </thead>\n",
       "  <tbody>\n",
       "    <tr>\n",
       "      <th>0</th>\n",
       "      <td>0</td>\n",
       "      <td>test</td>\n",
       "      <td>_2024_05_17_17_57_04</td>\n",
       "      <td>er_file_2024_05_17_17_57_04.wav</td>\n",
       "      <td>0.227460</td>\n",
       "      <td>0.24</td>\n",
       "      <td>0.910577</td>\n",
       "      <td>0.5</td>\n",
       "      <td>0.205078</td>\n",
       "      <td>0.23</td>\n",
       "      <td>...</td>\n",
       "      <td>11.1</td>\n",
       "      <td>4.2</td>\n",
       "      <td>16.0</td>\n",
       "      <td>97.0</td>\n",
       "      <td>237</td>\n",
       "      <td>0</td>\n",
       "      <td>31.2</td>\n",
       "      <td>5.462251</td>\n",
       "      <td>51.417782</td>\n",
       "      <td>0</td>\n",
       "    </tr>\n",
       "    <tr>\n",
       "      <th>1</th>\n",
       "      <td>1</td>\n",
       "      <td>test</td>\n",
       "      <td>_2024_05_17_17_57_07</td>\n",
       "      <td>er_file_2024_05_17_17_57_07.wav</td>\n",
       "      <td>0.428865</td>\n",
       "      <td>0.24</td>\n",
       "      <td>0.898878</td>\n",
       "      <td>0.5</td>\n",
       "      <td>0.172327</td>\n",
       "      <td>0.23</td>\n",
       "      <td>...</td>\n",
       "      <td>11.1</td>\n",
       "      <td>4.2</td>\n",
       "      <td>16.0</td>\n",
       "      <td>97.0</td>\n",
       "      <td>237</td>\n",
       "      <td>0</td>\n",
       "      <td>31.2</td>\n",
       "      <td>5.462251</td>\n",
       "      <td>51.417782</td>\n",
       "      <td>0</td>\n",
       "    </tr>\n",
       "    <tr>\n",
       "      <th>2</th>\n",
       "      <td>2</td>\n",
       "      <td>test</td>\n",
       "      <td>_2024_05_17_17_57_09</td>\n",
       "      <td>er_file_2024_05_17_17_57_09.wav</td>\n",
       "      <td>0.491415</td>\n",
       "      <td>0.24</td>\n",
       "      <td>0.832066</td>\n",
       "      <td>0.5</td>\n",
       "      <td>0.175485</td>\n",
       "      <td>0.23</td>\n",
       "      <td>...</td>\n",
       "      <td>11.1</td>\n",
       "      <td>4.2</td>\n",
       "      <td>16.0</td>\n",
       "      <td>97.0</td>\n",
       "      <td>237</td>\n",
       "      <td>0</td>\n",
       "      <td>31.2</td>\n",
       "      <td>5.462251</td>\n",
       "      <td>51.417782</td>\n",
       "      <td>0</td>\n",
       "    </tr>\n",
       "    <tr>\n",
       "      <th>3</th>\n",
       "      <td>3</td>\n",
       "      <td>test</td>\n",
       "      <td>_2024_05_17_17_57_12</td>\n",
       "      <td>er_file_2024_05_17_17_57_12.wav</td>\n",
       "      <td>0.504175</td>\n",
       "      <td>0.24</td>\n",
       "      <td>0.867498</td>\n",
       "      <td>0.5</td>\n",
       "      <td>0.080615</td>\n",
       "      <td>0.23</td>\n",
       "      <td>...</td>\n",
       "      <td>11.1</td>\n",
       "      <td>4.2</td>\n",
       "      <td>16.0</td>\n",
       "      <td>97.0</td>\n",
       "      <td>237</td>\n",
       "      <td>0</td>\n",
       "      <td>31.2</td>\n",
       "      <td>5.462251</td>\n",
       "      <td>51.417782</td>\n",
       "      <td>0</td>\n",
       "    </tr>\n",
       "    <tr>\n",
       "      <th>4</th>\n",
       "      <td>4</td>\n",
       "      <td>test</td>\n",
       "      <td>_2024_05_17_17_57_15</td>\n",
       "      <td>er_file_2024_05_17_17_57_15.wav</td>\n",
       "      <td>0.171264</td>\n",
       "      <td>0.24</td>\n",
       "      <td>0.734509</td>\n",
       "      <td>0.5</td>\n",
       "      <td>0.013117</td>\n",
       "      <td>0.23</td>\n",
       "      <td>...</td>\n",
       "      <td>11.1</td>\n",
       "      <td>4.2</td>\n",
       "      <td>16.0</td>\n",
       "      <td>97.0</td>\n",
       "      <td>237</td>\n",
       "      <td>0</td>\n",
       "      <td>31.2</td>\n",
       "      <td>5.462251</td>\n",
       "      <td>51.417782</td>\n",
       "      <td>0</td>\n",
       "    </tr>\n",
       "  </tbody>\n",
       "</table>\n",
       "<p>5 rows × 25 columns</p>\n",
       "</div>"
      ],
      "text/plain": [
       "   Unnamed: 0 sessionId                  time  \\\n",
       "0           0      test  _2024_05_17_17_57_04   \n",
       "1           1      test  _2024_05_17_17_57_07   \n",
       "2           2      test  _2024_05_17_17_57_09   \n",
       "3           3      test  _2024_05_17_17_57_12   \n",
       "4           4      test  _2024_05_17_17_57_15   \n",
       "\n",
       "                          filename       th1  th1_value       th2  th2_value  \\\n",
       "0  er_file_2024_05_17_17_57_04.wav  0.227460       0.24  0.910577        0.5   \n",
       "1  er_file_2024_05_17_17_57_07.wav  0.428865       0.24  0.898878        0.5   \n",
       "2  er_file_2024_05_17_17_57_09.wav  0.491415       0.24  0.832066        0.5   \n",
       "3  er_file_2024_05_17_17_57_12.wav  0.504175       0.24  0.867498        0.5   \n",
       "4  er_file_2024_05_17_17_57_15.wav  0.171264       0.24  0.734509        0.5   \n",
       "\n",
       "        th3  th3_value  ...  windgustHigh windspeedAvg  tempAve  humidityAvg  \\\n",
       "0  0.205078       0.23  ...          11.1          4.2     16.0         97.0   \n",
       "1  0.172327       0.23  ...          11.1          4.2     16.0         97.0   \n",
       "2  0.175485       0.23  ...          11.1          4.2     16.0         97.0   \n",
       "3  0.080615       0.23  ...          11.1          4.2     16.0         97.0   \n",
       "4  0.013117       0.23  ...          11.1          4.2     16.0         97.0   \n",
       "\n",
       "   winddirAvg  uvHigh  solarRadiationHigh       lon        lat  Human_detected  \n",
       "0         237       0                31.2  5.462251  51.417782               0  \n",
       "1         237       0                31.2  5.462251  51.417782               0  \n",
       "2         237       0                31.2  5.462251  51.417782               0  \n",
       "3         237       0                31.2  5.462251  51.417782               0  \n",
       "4         237       0                31.2  5.462251  51.417782               0  \n",
       "\n",
       "[5 rows x 25 columns]"
      ]
     },
     "execution_count": 38,
     "metadata": {},
     "output_type": "execute_result"
    }
   ],
   "source": [
    "meta_df_may4= pd.read_excel('/Users/evgenynazarenko/DACS_3_year/Thesis/GardenFiles24/garden_17052024/garden_17052024_Human_detected_metadata.xlsx')\n",
    "meta_df_may4.head()"
   ]
  },
  {
   "cell_type": "code",
   "execution_count": 28,
   "metadata": {},
   "outputs": [
    {
     "name": "stdout",
     "output_type": "stream",
     "text": [
      "Found metadata file: /Users/evgenynazarenko/DACS_3_year/Thesis/GardenFiles24/garden_03052024/garden_03052024_metadata.xlsx\n"
     ]
    },
    {
     "name": "stderr",
     "output_type": "stream",
     "text": [
      "Classifying files: 100%|██████████| 13855/13855 [1:38:10<00:00,  2.35it/s]    \n"
     ]
    },
    {
     "name": "stdout",
     "output_type": "stream",
     "text": [
      "/Users/evgenynazarenko/DACS_3_year/Thesis/GardenFiles24/garden_03052024/garden_03052024_metadata.xlsx\n"
     ]
    },
    {
     "name": "stderr",
     "output_type": "stream",
     "text": [
      "/var/folders/lh/0lt7mv811l56hczm0y7dwzym0000gn/T/ipykernel_30808/689925939.py:30: FutureWarning: The behavior of array concatenation with empty entries is deprecated. In a future version, this will no longer exclude empty items when determining the result dtype. To retain the old behavior, exclude the empty entries before the concat operation.\n",
      "  df[column_name] = df[column_name+'_new'].combine_first(df[column_name])\n"
     ]
    }
   ],
   "source": [
    "garden_folder = \"/Users/evgenynazarenko/DACS_3_year/Thesis/GardenFiles24/garden_03052024\"\n",
    "human_labels = list(human['label'])\n",
    "meta_df_may1 = mit_ast_pipeline(garden_folder,human_labels)"
   ]
  },
  {
   "cell_type": "code",
   "execution_count": 30,
   "metadata": {},
   "outputs": [
    {
     "name": "stdout",
     "output_type": "stream",
     "text": [
      "Found metadata file: /Users/evgenynazarenko/DACS_3_year/Thesis/GardenFiles24/garden_15052024/garden_15052024_metadata.xlsx\n"
     ]
    },
    {
     "name": "stderr",
     "output_type": "stream",
     "text": [
      "Classifying files: 100%|██████████| 11023/11023 [28:56<00:00,  6.35it/s]  \n"
     ]
    },
    {
     "name": "stdout",
     "output_type": "stream",
     "text": [
      "/Users/evgenynazarenko/DACS_3_year/Thesis/GardenFiles24/garden_15052024/garden_15052024_metadata.xlsx\n"
     ]
    },
    {
     "name": "stderr",
     "output_type": "stream",
     "text": [
      "/var/folders/lh/0lt7mv811l56hczm0y7dwzym0000gn/T/ipykernel_30808/689925939.py:30: FutureWarning: The behavior of array concatenation with empty entries is deprecated. In a future version, this will no longer exclude empty items when determining the result dtype. To retain the old behavior, exclude the empty entries before the concat operation.\n",
      "  df[column_name] = df[column_name+'_new'].combine_first(df[column_name])\n"
     ]
    }
   ],
   "source": [
    "garden_folder = \"/Users/evgenynazarenko/DACS_3_year/Thesis/GardenFiles24/garden_15052024\"\n",
    "human_labels = list(human['label'])\n",
    "meta_df_may3 = mit_ast_pipeline(garden_folder,human_labels)"
   ]
  },
  {
   "cell_type": "code",
   "execution_count": 34,
   "metadata": {},
   "outputs": [
    {
     "data": {
      "text/html": [
       "<div>\n",
       "<style scoped>\n",
       "    .dataframe tbody tr th:only-of-type {\n",
       "        vertical-align: middle;\n",
       "    }\n",
       "\n",
       "    .dataframe tbody tr th {\n",
       "        vertical-align: top;\n",
       "    }\n",
       "\n",
       "    .dataframe thead th {\n",
       "        text-align: right;\n",
       "    }\n",
       "</style>\n",
       "<table border=\"1\" class=\"dataframe\">\n",
       "  <thead>\n",
       "    <tr style=\"text-align: right;\">\n",
       "      <th></th>\n",
       "      <th>sessionId</th>\n",
       "      <th>time</th>\n",
       "      <th>filename</th>\n",
       "      <th>th1</th>\n",
       "      <th>th1_value</th>\n",
       "      <th>th2</th>\n",
       "      <th>th2_value</th>\n",
       "      <th>th3</th>\n",
       "      <th>th3_value</th>\n",
       "      <th>wudate</th>\n",
       "      <th>...</th>\n",
       "      <th>pressureMax</th>\n",
       "      <th>dewptAvg</th>\n",
       "      <th>windgustHigh</th>\n",
       "      <th>windspeedAvg</th>\n",
       "      <th>tempAve</th>\n",
       "      <th>humidityAvg</th>\n",
       "      <th>winddirAvg</th>\n",
       "      <th>uvHigh</th>\n",
       "      <th>solarRadiationHigh</th>\n",
       "      <th>Human_detected</th>\n",
       "    </tr>\n",
       "  </thead>\n",
       "  <tbody>\n",
       "    <tr>\n",
       "      <th>0</th>\n",
       "      <td>test</td>\n",
       "      <td>_2024_05_15_14_25_15</td>\n",
       "      <td>er_file_2024_05_15_14_25_15.wav</td>\n",
       "      <td>0.163475</td>\n",
       "      <td>0.50</td>\n",
       "      <td>0.716443</td>\n",
       "      <td>0.5</td>\n",
       "      <td>0.099339</td>\n",
       "      <td>0.50</td>\n",
       "      <td>20240515</td>\n",
       "      <td>...</td>\n",
       "      <td>1001.12</td>\n",
       "      <td>15.3</td>\n",
       "      <td>5.5</td>\n",
       "      <td>1.5</td>\n",
       "      <td>18.0</td>\n",
       "      <td>84.0</td>\n",
       "      <td>190</td>\n",
       "      <td>1</td>\n",
       "      <td>175.7</td>\n",
       "      <td>1</td>\n",
       "    </tr>\n",
       "    <tr>\n",
       "      <th>1</th>\n",
       "      <td>test</td>\n",
       "      <td>_2024_05_15_14_25_24</td>\n",
       "      <td>er_file_2024_05_15_14_25_24.wav</td>\n",
       "      <td>0.155288</td>\n",
       "      <td>0.23</td>\n",
       "      <td>0.547823</td>\n",
       "      <td>0.5</td>\n",
       "      <td>0.009270</td>\n",
       "      <td>0.21</td>\n",
       "      <td>20240515</td>\n",
       "      <td>...</td>\n",
       "      <td>1001.12</td>\n",
       "      <td>15.3</td>\n",
       "      <td>5.5</td>\n",
       "      <td>1.5</td>\n",
       "      <td>18.0</td>\n",
       "      <td>84.0</td>\n",
       "      <td>190</td>\n",
       "      <td>1</td>\n",
       "      <td>175.7</td>\n",
       "      <td>0</td>\n",
       "    </tr>\n",
       "    <tr>\n",
       "      <th>2</th>\n",
       "      <td>test</td>\n",
       "      <td>_2024_05_15_14_25_28</td>\n",
       "      <td>er_file_2024_05_15_14_25_28.wav</td>\n",
       "      <td>0.267486</td>\n",
       "      <td>0.23</td>\n",
       "      <td>0.482163</td>\n",
       "      <td>0.5</td>\n",
       "      <td>0.014849</td>\n",
       "      <td>0.21</td>\n",
       "      <td>20240515</td>\n",
       "      <td>...</td>\n",
       "      <td>1001.12</td>\n",
       "      <td>15.3</td>\n",
       "      <td>5.5</td>\n",
       "      <td>1.5</td>\n",
       "      <td>18.0</td>\n",
       "      <td>84.0</td>\n",
       "      <td>190</td>\n",
       "      <td>1</td>\n",
       "      <td>175.7</td>\n",
       "      <td>1</td>\n",
       "    </tr>\n",
       "    <tr>\n",
       "      <th>3</th>\n",
       "      <td>test</td>\n",
       "      <td>_2024_05_15_14_25_31</td>\n",
       "      <td>er_file_2024_05_15_14_25_31.wav</td>\n",
       "      <td>0.314970</td>\n",
       "      <td>0.23</td>\n",
       "      <td>0.548880</td>\n",
       "      <td>0.5</td>\n",
       "      <td>0.057015</td>\n",
       "      <td>0.21</td>\n",
       "      <td>20240515</td>\n",
       "      <td>...</td>\n",
       "      <td>1001.12</td>\n",
       "      <td>15.3</td>\n",
       "      <td>5.5</td>\n",
       "      <td>1.5</td>\n",
       "      <td>18.0</td>\n",
       "      <td>84.0</td>\n",
       "      <td>190</td>\n",
       "      <td>1</td>\n",
       "      <td>175.7</td>\n",
       "      <td>1</td>\n",
       "    </tr>\n",
       "    <tr>\n",
       "      <th>4</th>\n",
       "      <td>test</td>\n",
       "      <td>_2024_05_15_14_25_34</td>\n",
       "      <td>er_file_2024_05_15_14_25_34.wav</td>\n",
       "      <td>0.340018</td>\n",
       "      <td>0.23</td>\n",
       "      <td>0.775894</td>\n",
       "      <td>0.5</td>\n",
       "      <td>0.030369</td>\n",
       "      <td>0.21</td>\n",
       "      <td>20240515</td>\n",
       "      <td>...</td>\n",
       "      <td>1001.12</td>\n",
       "      <td>15.3</td>\n",
       "      <td>5.5</td>\n",
       "      <td>1.5</td>\n",
       "      <td>18.0</td>\n",
       "      <td>84.0</td>\n",
       "      <td>190</td>\n",
       "      <td>1</td>\n",
       "      <td>175.7</td>\n",
       "      <td>1</td>\n",
       "    </tr>\n",
       "  </tbody>\n",
       "</table>\n",
       "<p>5 rows × 22 columns</p>\n",
       "</div>"
      ],
      "text/plain": [
       "  sessionId                  time                         filename       th1  \\\n",
       "0      test  _2024_05_15_14_25_15  er_file_2024_05_15_14_25_15.wav  0.163475   \n",
       "1      test  _2024_05_15_14_25_24  er_file_2024_05_15_14_25_24.wav  0.155288   \n",
       "2      test  _2024_05_15_14_25_28  er_file_2024_05_15_14_25_28.wav  0.267486   \n",
       "3      test  _2024_05_15_14_25_31  er_file_2024_05_15_14_25_31.wav  0.314970   \n",
       "4      test  _2024_05_15_14_25_34  er_file_2024_05_15_14_25_34.wav  0.340018   \n",
       "\n",
       "   th1_value       th2  th2_value       th3  th3_value    wudate  ...  \\\n",
       "0       0.50  0.716443        0.5  0.099339       0.50  20240515  ...   \n",
       "1       0.23  0.547823        0.5  0.009270       0.21  20240515  ...   \n",
       "2       0.23  0.482163        0.5  0.014849       0.21  20240515  ...   \n",
       "3       0.23  0.548880        0.5  0.057015       0.21  20240515  ...   \n",
       "4       0.23  0.775894        0.5  0.030369       0.21  20240515  ...   \n",
       "\n",
       "  pressureMax  dewptAvg  windgustHigh  windspeedAvg  tempAve  humidityAvg  \\\n",
       "0     1001.12      15.3           5.5           1.5     18.0         84.0   \n",
       "1     1001.12      15.3           5.5           1.5     18.0         84.0   \n",
       "2     1001.12      15.3           5.5           1.5     18.0         84.0   \n",
       "3     1001.12      15.3           5.5           1.5     18.0         84.0   \n",
       "4     1001.12      15.3           5.5           1.5     18.0         84.0   \n",
       "\n",
       "   winddirAvg  uvHigh  solarRadiationHigh  Human_detected  \n",
       "0         190       1               175.7               1  \n",
       "1         190       1               175.7               0  \n",
       "2         190       1               175.7               1  \n",
       "3         190       1               175.7               1  \n",
       "4         190       1               175.7               1  \n",
       "\n",
       "[5 rows x 22 columns]"
      ]
     },
     "execution_count": 34,
     "metadata": {},
     "output_type": "execute_result"
    }
   ],
   "source": [
    "meta_df_may3= meta_df_may3[['sessionId', 'time', 'filename', 'th1', 'th1_value',\n",
    "       'th2', 'th2_value', 'th3', 'th3_value', 'wudate', 'datetime',\n",
    "       'precipRate', 'pressureMax', 'dewptAvg', 'windgustHigh', 'windspeedAvg',\n",
    "       'tempAve', 'humidityAvg', 'winddirAvg', 'uvHigh', 'solarRadiationHigh',\n",
    "        'Human_detected']]\n",
    "meta_df_may3.head()\n"
   ]
  },
  {
   "cell_type": "code",
   "execution_count": 35,
   "metadata": {},
   "outputs": [
    {
     "data": {
      "text/html": [
       "<div>\n",
       "<style scoped>\n",
       "    .dataframe tbody tr th:only-of-type {\n",
       "        vertical-align: middle;\n",
       "    }\n",
       "\n",
       "    .dataframe tbody tr th {\n",
       "        vertical-align: top;\n",
       "    }\n",
       "\n",
       "    .dataframe thead th {\n",
       "        text-align: right;\n",
       "    }\n",
       "</style>\n",
       "<table border=\"1\" class=\"dataframe\">\n",
       "  <thead>\n",
       "    <tr style=\"text-align: right;\">\n",
       "      <th></th>\n",
       "      <th>sessionId</th>\n",
       "      <th>time</th>\n",
       "      <th>filename</th>\n",
       "      <th>th1</th>\n",
       "      <th>th1_value</th>\n",
       "      <th>th2</th>\n",
       "      <th>th2_value</th>\n",
       "      <th>th3</th>\n",
       "      <th>th3_value</th>\n",
       "      <th>wudate</th>\n",
       "      <th>...</th>\n",
       "      <th>pressureMax</th>\n",
       "      <th>dewptAvg</th>\n",
       "      <th>windgustHigh</th>\n",
       "      <th>windspeedAvg</th>\n",
       "      <th>tempAve</th>\n",
       "      <th>humidityAvg</th>\n",
       "      <th>winddirAvg</th>\n",
       "      <th>uvHigh</th>\n",
       "      <th>solarRadiationHigh</th>\n",
       "      <th>Human_detected</th>\n",
       "    </tr>\n",
       "  </thead>\n",
       "  <tbody>\n",
       "    <tr>\n",
       "      <th>0</th>\n",
       "      <td>test</td>\n",
       "      <td>_2024_05_03_18_03_09</td>\n",
       "      <td>er_file_2024_05_03_18_03_09.wav</td>\n",
       "      <td>0.345972</td>\n",
       "      <td>0.24</td>\n",
       "      <td>0.886481</td>\n",
       "      <td>0.5</td>\n",
       "      <td>0.137758</td>\n",
       "      <td>0.50</td>\n",
       "      <td>20240503</td>\n",
       "      <td>...</td>\n",
       "      <td>1007.82</td>\n",
       "      <td>11.4</td>\n",
       "      <td>0.0</td>\n",
       "      <td>0.0</td>\n",
       "      <td>13.2</td>\n",
       "      <td>88.9</td>\n",
       "      <td>166</td>\n",
       "      <td>1</td>\n",
       "      <td>108.4</td>\n",
       "      <td>0</td>\n",
       "    </tr>\n",
       "    <tr>\n",
       "      <th>1</th>\n",
       "      <td>test</td>\n",
       "      <td>_2024_05_03_18_03_11</td>\n",
       "      <td>er_file_2024_05_03_18_03_11.wav</td>\n",
       "      <td>0.334703</td>\n",
       "      <td>0.24</td>\n",
       "      <td>0.798789</td>\n",
       "      <td>0.5</td>\n",
       "      <td>0.051977</td>\n",
       "      <td>0.23</td>\n",
       "      <td>20240503</td>\n",
       "      <td>...</td>\n",
       "      <td>1007.82</td>\n",
       "      <td>11.4</td>\n",
       "      <td>0.0</td>\n",
       "      <td>0.0</td>\n",
       "      <td>13.2</td>\n",
       "      <td>88.9</td>\n",
       "      <td>166</td>\n",
       "      <td>1</td>\n",
       "      <td>108.4</td>\n",
       "      <td>0</td>\n",
       "    </tr>\n",
       "    <tr>\n",
       "      <th>2</th>\n",
       "      <td>test</td>\n",
       "      <td>_2024_05_03_18_03_14</td>\n",
       "      <td>er_file_2024_05_03_18_03_14.wav</td>\n",
       "      <td>0.155562</td>\n",
       "      <td>0.24</td>\n",
       "      <td>0.888707</td>\n",
       "      <td>0.5</td>\n",
       "      <td>0.146159</td>\n",
       "      <td>0.23</td>\n",
       "      <td>20240503</td>\n",
       "      <td>...</td>\n",
       "      <td>1007.82</td>\n",
       "      <td>11.4</td>\n",
       "      <td>0.0</td>\n",
       "      <td>0.0</td>\n",
       "      <td>13.2</td>\n",
       "      <td>88.9</td>\n",
       "      <td>166</td>\n",
       "      <td>1</td>\n",
       "      <td>108.4</td>\n",
       "      <td>0</td>\n",
       "    </tr>\n",
       "    <tr>\n",
       "      <th>3</th>\n",
       "      <td>test</td>\n",
       "      <td>_2024_05_03_18_03_17</td>\n",
       "      <td>er_file_2024_05_03_18_03_17.wav</td>\n",
       "      <td>0.148313</td>\n",
       "      <td>0.24</td>\n",
       "      <td>0.810611</td>\n",
       "      <td>0.5</td>\n",
       "      <td>0.046312</td>\n",
       "      <td>0.23</td>\n",
       "      <td>20240503</td>\n",
       "      <td>...</td>\n",
       "      <td>1007.82</td>\n",
       "      <td>11.4</td>\n",
       "      <td>0.0</td>\n",
       "      <td>0.0</td>\n",
       "      <td>13.2</td>\n",
       "      <td>88.9</td>\n",
       "      <td>166</td>\n",
       "      <td>1</td>\n",
       "      <td>108.4</td>\n",
       "      <td>0</td>\n",
       "    </tr>\n",
       "    <tr>\n",
       "      <th>4</th>\n",
       "      <td>test</td>\n",
       "      <td>_2024_05_03_18_03_21</td>\n",
       "      <td>er_file_2024_05_03_18_03_21.wav</td>\n",
       "      <td>0.283810</td>\n",
       "      <td>0.24</td>\n",
       "      <td>0.893212</td>\n",
       "      <td>0.5</td>\n",
       "      <td>0.093121</td>\n",
       "      <td>0.23</td>\n",
       "      <td>20240503</td>\n",
       "      <td>...</td>\n",
       "      <td>1007.82</td>\n",
       "      <td>11.4</td>\n",
       "      <td>0.0</td>\n",
       "      <td>0.0</td>\n",
       "      <td>13.2</td>\n",
       "      <td>88.9</td>\n",
       "      <td>166</td>\n",
       "      <td>1</td>\n",
       "      <td>108.4</td>\n",
       "      <td>0</td>\n",
       "    </tr>\n",
       "  </tbody>\n",
       "</table>\n",
       "<p>5 rows × 22 columns</p>\n",
       "</div>"
      ],
      "text/plain": [
       "  sessionId                  time                         filename       th1  \\\n",
       "0      test  _2024_05_03_18_03_09  er_file_2024_05_03_18_03_09.wav  0.345972   \n",
       "1      test  _2024_05_03_18_03_11  er_file_2024_05_03_18_03_11.wav  0.334703   \n",
       "2      test  _2024_05_03_18_03_14  er_file_2024_05_03_18_03_14.wav  0.155562   \n",
       "3      test  _2024_05_03_18_03_17  er_file_2024_05_03_18_03_17.wav  0.148313   \n",
       "4      test  _2024_05_03_18_03_21  er_file_2024_05_03_18_03_21.wav  0.283810   \n",
       "\n",
       "   th1_value       th2  th2_value       th3  th3_value    wudate  ...  \\\n",
       "0       0.24  0.886481        0.5  0.137758       0.50  20240503  ...   \n",
       "1       0.24  0.798789        0.5  0.051977       0.23  20240503  ...   \n",
       "2       0.24  0.888707        0.5  0.146159       0.23  20240503  ...   \n",
       "3       0.24  0.810611        0.5  0.046312       0.23  20240503  ...   \n",
       "4       0.24  0.893212        0.5  0.093121       0.23  20240503  ...   \n",
       "\n",
       "  pressureMax  dewptAvg  windgustHigh  windspeedAvg  tempAve  humidityAvg  \\\n",
       "0     1007.82      11.4           0.0           0.0     13.2         88.9   \n",
       "1     1007.82      11.4           0.0           0.0     13.2         88.9   \n",
       "2     1007.82      11.4           0.0           0.0     13.2         88.9   \n",
       "3     1007.82      11.4           0.0           0.0     13.2         88.9   \n",
       "4     1007.82      11.4           0.0           0.0     13.2         88.9   \n",
       "\n",
       "   winddirAvg  uvHigh  solarRadiationHigh  Human_detected  \n",
       "0         166       1               108.4               0  \n",
       "1         166       1               108.4               0  \n",
       "2         166       1               108.4               0  \n",
       "3         166       1               108.4               0  \n",
       "4         166       1               108.4               0  \n",
       "\n",
       "[5 rows x 22 columns]"
      ]
     },
     "execution_count": 35,
     "metadata": {},
     "output_type": "execute_result"
    }
   ],
   "source": [
    "meta_df_may1= meta_df_may1[['sessionId', 'time', 'filename', 'th1', 'th1_value',\n",
    "         'th2', 'th2_value', 'th3', 'th3_value', 'wudate', 'datetime',\n",
    "         'precipRate', 'pressureMax', 'dewptAvg', 'windgustHigh', 'windspeedAvg',\n",
    "         'tempAve', 'humidityAvg', 'winddirAvg', 'uvHigh', 'solarRadiationHigh',\n",
    "          'Human_detected']]\n",
    "meta_df_may1.head()"
   ]
  },
  {
   "cell_type": "code",
   "execution_count": 39,
   "metadata": {},
   "outputs": [
    {
     "data": {
      "text/html": [
       "<div>\n",
       "<style scoped>\n",
       "    .dataframe tbody tr th:only-of-type {\n",
       "        vertical-align: middle;\n",
       "    }\n",
       "\n",
       "    .dataframe tbody tr th {\n",
       "        vertical-align: top;\n",
       "    }\n",
       "\n",
       "    .dataframe thead th {\n",
       "        text-align: right;\n",
       "    }\n",
       "</style>\n",
       "<table border=\"1\" class=\"dataframe\">\n",
       "  <thead>\n",
       "    <tr style=\"text-align: right;\">\n",
       "      <th></th>\n",
       "      <th>sessionId</th>\n",
       "      <th>time</th>\n",
       "      <th>filename</th>\n",
       "      <th>th1</th>\n",
       "      <th>th1_value</th>\n",
       "      <th>th2</th>\n",
       "      <th>th2_value</th>\n",
       "      <th>th3</th>\n",
       "      <th>th3_value</th>\n",
       "      <th>wudate</th>\n",
       "      <th>...</th>\n",
       "      <th>pressureMax</th>\n",
       "      <th>dewptAvg</th>\n",
       "      <th>windgustHigh</th>\n",
       "      <th>windspeedAvg</th>\n",
       "      <th>tempAve</th>\n",
       "      <th>humidityAvg</th>\n",
       "      <th>winddirAvg</th>\n",
       "      <th>uvHigh</th>\n",
       "      <th>solarRadiationHigh</th>\n",
       "      <th>Human_detected</th>\n",
       "    </tr>\n",
       "  </thead>\n",
       "  <tbody>\n",
       "    <tr>\n",
       "      <th>0</th>\n",
       "      <td>test</td>\n",
       "      <td>_2024_05_17_17_57_04</td>\n",
       "      <td>er_file_2024_05_17_17_57_04.wav</td>\n",
       "      <td>0.227460</td>\n",
       "      <td>0.24</td>\n",
       "      <td>0.910577</td>\n",
       "      <td>0.5</td>\n",
       "      <td>0.205078</td>\n",
       "      <td>0.23</td>\n",
       "      <td>20240517</td>\n",
       "      <td>...</td>\n",
       "      <td>1002.64</td>\n",
       "      <td>15.6</td>\n",
       "      <td>11.1</td>\n",
       "      <td>4.2</td>\n",
       "      <td>16.0</td>\n",
       "      <td>97.0</td>\n",
       "      <td>237</td>\n",
       "      <td>0</td>\n",
       "      <td>31.2</td>\n",
       "      <td>0</td>\n",
       "    </tr>\n",
       "    <tr>\n",
       "      <th>1</th>\n",
       "      <td>test</td>\n",
       "      <td>_2024_05_17_17_57_07</td>\n",
       "      <td>er_file_2024_05_17_17_57_07.wav</td>\n",
       "      <td>0.428865</td>\n",
       "      <td>0.24</td>\n",
       "      <td>0.898878</td>\n",
       "      <td>0.5</td>\n",
       "      <td>0.172327</td>\n",
       "      <td>0.23</td>\n",
       "      <td>20240517</td>\n",
       "      <td>...</td>\n",
       "      <td>1002.64</td>\n",
       "      <td>15.6</td>\n",
       "      <td>11.1</td>\n",
       "      <td>4.2</td>\n",
       "      <td>16.0</td>\n",
       "      <td>97.0</td>\n",
       "      <td>237</td>\n",
       "      <td>0</td>\n",
       "      <td>31.2</td>\n",
       "      <td>0</td>\n",
       "    </tr>\n",
       "    <tr>\n",
       "      <th>2</th>\n",
       "      <td>test</td>\n",
       "      <td>_2024_05_17_17_57_09</td>\n",
       "      <td>er_file_2024_05_17_17_57_09.wav</td>\n",
       "      <td>0.491415</td>\n",
       "      <td>0.24</td>\n",
       "      <td>0.832066</td>\n",
       "      <td>0.5</td>\n",
       "      <td>0.175485</td>\n",
       "      <td>0.23</td>\n",
       "      <td>20240517</td>\n",
       "      <td>...</td>\n",
       "      <td>1002.64</td>\n",
       "      <td>15.6</td>\n",
       "      <td>11.1</td>\n",
       "      <td>4.2</td>\n",
       "      <td>16.0</td>\n",
       "      <td>97.0</td>\n",
       "      <td>237</td>\n",
       "      <td>0</td>\n",
       "      <td>31.2</td>\n",
       "      <td>0</td>\n",
       "    </tr>\n",
       "    <tr>\n",
       "      <th>3</th>\n",
       "      <td>test</td>\n",
       "      <td>_2024_05_17_17_57_12</td>\n",
       "      <td>er_file_2024_05_17_17_57_12.wav</td>\n",
       "      <td>0.504175</td>\n",
       "      <td>0.24</td>\n",
       "      <td>0.867498</td>\n",
       "      <td>0.5</td>\n",
       "      <td>0.080615</td>\n",
       "      <td>0.23</td>\n",
       "      <td>20240517</td>\n",
       "      <td>...</td>\n",
       "      <td>1002.64</td>\n",
       "      <td>15.6</td>\n",
       "      <td>11.1</td>\n",
       "      <td>4.2</td>\n",
       "      <td>16.0</td>\n",
       "      <td>97.0</td>\n",
       "      <td>237</td>\n",
       "      <td>0</td>\n",
       "      <td>31.2</td>\n",
       "      <td>0</td>\n",
       "    </tr>\n",
       "    <tr>\n",
       "      <th>4</th>\n",
       "      <td>test</td>\n",
       "      <td>_2024_05_17_17_57_15</td>\n",
       "      <td>er_file_2024_05_17_17_57_15.wav</td>\n",
       "      <td>0.171264</td>\n",
       "      <td>0.24</td>\n",
       "      <td>0.734509</td>\n",
       "      <td>0.5</td>\n",
       "      <td>0.013117</td>\n",
       "      <td>0.23</td>\n",
       "      <td>20240517</td>\n",
       "      <td>...</td>\n",
       "      <td>1002.64</td>\n",
       "      <td>15.6</td>\n",
       "      <td>11.1</td>\n",
       "      <td>4.2</td>\n",
       "      <td>16.0</td>\n",
       "      <td>97.0</td>\n",
       "      <td>237</td>\n",
       "      <td>0</td>\n",
       "      <td>31.2</td>\n",
       "      <td>0</td>\n",
       "    </tr>\n",
       "  </tbody>\n",
       "</table>\n",
       "<p>5 rows × 22 columns</p>\n",
       "</div>"
      ],
      "text/plain": [
       "  sessionId                  time                         filename       th1  \\\n",
       "0      test  _2024_05_17_17_57_04  er_file_2024_05_17_17_57_04.wav  0.227460   \n",
       "1      test  _2024_05_17_17_57_07  er_file_2024_05_17_17_57_07.wav  0.428865   \n",
       "2      test  _2024_05_17_17_57_09  er_file_2024_05_17_17_57_09.wav  0.491415   \n",
       "3      test  _2024_05_17_17_57_12  er_file_2024_05_17_17_57_12.wav  0.504175   \n",
       "4      test  _2024_05_17_17_57_15  er_file_2024_05_17_17_57_15.wav  0.171264   \n",
       "\n",
       "   th1_value       th2  th2_value       th3  th3_value    wudate  ...  \\\n",
       "0       0.24  0.910577        0.5  0.205078       0.23  20240517  ...   \n",
       "1       0.24  0.898878        0.5  0.172327       0.23  20240517  ...   \n",
       "2       0.24  0.832066        0.5  0.175485       0.23  20240517  ...   \n",
       "3       0.24  0.867498        0.5  0.080615       0.23  20240517  ...   \n",
       "4       0.24  0.734509        0.5  0.013117       0.23  20240517  ...   \n",
       "\n",
       "  pressureMax  dewptAvg  windgustHigh  windspeedAvg  tempAve  humidityAvg  \\\n",
       "0     1002.64      15.6          11.1           4.2     16.0         97.0   \n",
       "1     1002.64      15.6          11.1           4.2     16.0         97.0   \n",
       "2     1002.64      15.6          11.1           4.2     16.0         97.0   \n",
       "3     1002.64      15.6          11.1           4.2     16.0         97.0   \n",
       "4     1002.64      15.6          11.1           4.2     16.0         97.0   \n",
       "\n",
       "   winddirAvg  uvHigh  solarRadiationHigh  Human_detected  \n",
       "0         237       0                31.2               0  \n",
       "1         237       0                31.2               0  \n",
       "2         237       0                31.2               0  \n",
       "3         237       0                31.2               0  \n",
       "4         237       0                31.2               0  \n",
       "\n",
       "[5 rows x 22 columns]"
      ]
     },
     "execution_count": 39,
     "metadata": {},
     "output_type": "execute_result"
    }
   ],
   "source": [
    "meta_df_may4= meta_df_may4[['sessionId', 'time', 'filename', 'th1', 'th1_value',\n",
    "            'th2', 'th2_value', 'th3', 'th3_value', 'wudate', 'datetime',\n",
    "            'precipRate', 'pressureMax', 'dewptAvg', 'windgustHigh', 'windspeedAvg',\n",
    "            'tempAve', 'humidityAvg', 'winddirAvg', 'uvHigh', 'solarRadiationHigh',\n",
    "            'Human_detected']]\n",
    "meta_df_may4.head()"
   ]
  },
  {
   "cell_type": "code",
   "execution_count": 42,
   "metadata": {},
   "outputs": [
    {
     "data": {
      "text/html": [
       "<div>\n",
       "<style scoped>\n",
       "    .dataframe tbody tr th:only-of-type {\n",
       "        vertical-align: middle;\n",
       "    }\n",
       "\n",
       "    .dataframe tbody tr th {\n",
       "        vertical-align: top;\n",
       "    }\n",
       "\n",
       "    .dataframe thead th {\n",
       "        text-align: right;\n",
       "    }\n",
       "</style>\n",
       "<table border=\"1\" class=\"dataframe\">\n",
       "  <thead>\n",
       "    <tr style=\"text-align: right;\">\n",
       "      <th></th>\n",
       "      <th>sessionId</th>\n",
       "      <th>time</th>\n",
       "      <th>filename</th>\n",
       "      <th>th1</th>\n",
       "      <th>th1_value</th>\n",
       "      <th>th2</th>\n",
       "      <th>th2_value</th>\n",
       "      <th>th3</th>\n",
       "      <th>th3_value</th>\n",
       "      <th>wudate</th>\n",
       "      <th>...</th>\n",
       "      <th>pressureMax</th>\n",
       "      <th>dewptAvg</th>\n",
       "      <th>windgustHigh</th>\n",
       "      <th>windspeedAvg</th>\n",
       "      <th>tempAve</th>\n",
       "      <th>humidityAvg</th>\n",
       "      <th>winddirAvg</th>\n",
       "      <th>uvHigh</th>\n",
       "      <th>solarRadiationHigh</th>\n",
       "      <th>Human_detected</th>\n",
       "    </tr>\n",
       "  </thead>\n",
       "  <tbody>\n",
       "    <tr>\n",
       "      <th>0</th>\n",
       "      <td>test</td>\n",
       "      <td>_2024_05_13_20_50_01</td>\n",
       "      <td>er_file_2024_05_13_20_50_01.wav</td>\n",
       "      <td>0.233209</td>\n",
       "      <td>0.5</td>\n",
       "      <td>0.623212</td>\n",
       "      <td>0.5</td>\n",
       "      <td>0.139973</td>\n",
       "      <td>0.5</td>\n",
       "      <td>20240513</td>\n",
       "      <td>...</td>\n",
       "      <td>1003.01</td>\n",
       "      <td>18.1</td>\n",
       "      <td>0.0</td>\n",
       "      <td>0.0</td>\n",
       "      <td>20.7</td>\n",
       "      <td>84.6</td>\n",
       "      <td>156</td>\n",
       "      <td>0</td>\n",
       "      <td>18.1</td>\n",
       "      <td>1</td>\n",
       "    </tr>\n",
       "    <tr>\n",
       "      <th>1</th>\n",
       "      <td>test</td>\n",
       "      <td>_2024_05_13_20_50_04</td>\n",
       "      <td>er_file_2024_05_13_20_50_04.wav</td>\n",
       "      <td>0.152970</td>\n",
       "      <td>0.5</td>\n",
       "      <td>0.636439</td>\n",
       "      <td>0.5</td>\n",
       "      <td>0.049009</td>\n",
       "      <td>0.5</td>\n",
       "      <td>20240513</td>\n",
       "      <td>...</td>\n",
       "      <td>1003.01</td>\n",
       "      <td>18.1</td>\n",
       "      <td>0.0</td>\n",
       "      <td>0.0</td>\n",
       "      <td>20.7</td>\n",
       "      <td>84.6</td>\n",
       "      <td>156</td>\n",
       "      <td>0</td>\n",
       "      <td>18.1</td>\n",
       "      <td>0</td>\n",
       "    </tr>\n",
       "    <tr>\n",
       "      <th>2</th>\n",
       "      <td>test</td>\n",
       "      <td>_2024_05_13_20_50_06</td>\n",
       "      <td>er_file_2024_05_13_20_50_06.wav</td>\n",
       "      <td>0.145604</td>\n",
       "      <td>0.5</td>\n",
       "      <td>0.624720</td>\n",
       "      <td>0.5</td>\n",
       "      <td>0.046492</td>\n",
       "      <td>0.5</td>\n",
       "      <td>20240513</td>\n",
       "      <td>...</td>\n",
       "      <td>1003.01</td>\n",
       "      <td>18.1</td>\n",
       "      <td>0.0</td>\n",
       "      <td>0.0</td>\n",
       "      <td>20.7</td>\n",
       "      <td>84.6</td>\n",
       "      <td>156</td>\n",
       "      <td>0</td>\n",
       "      <td>18.1</td>\n",
       "      <td>0</td>\n",
       "    </tr>\n",
       "    <tr>\n",
       "      <th>3</th>\n",
       "      <td>test</td>\n",
       "      <td>_2024_05_13_20_50_09</td>\n",
       "      <td>er_file_2024_05_13_20_50_09.wav</td>\n",
       "      <td>0.158969</td>\n",
       "      <td>0.5</td>\n",
       "      <td>0.664619</td>\n",
       "      <td>0.5</td>\n",
       "      <td>0.106135</td>\n",
       "      <td>0.5</td>\n",
       "      <td>20240513</td>\n",
       "      <td>...</td>\n",
       "      <td>1003.01</td>\n",
       "      <td>18.1</td>\n",
       "      <td>0.0</td>\n",
       "      <td>0.0</td>\n",
       "      <td>20.7</td>\n",
       "      <td>84.6</td>\n",
       "      <td>156</td>\n",
       "      <td>0</td>\n",
       "      <td>18.1</td>\n",
       "      <td>1</td>\n",
       "    </tr>\n",
       "    <tr>\n",
       "      <th>4</th>\n",
       "      <td>test</td>\n",
       "      <td>_2024_05_13_20_50_14</td>\n",
       "      <td>er_file_2024_05_13_20_50_14.wav</td>\n",
       "      <td>0.170926</td>\n",
       "      <td>0.5</td>\n",
       "      <td>0.510222</td>\n",
       "      <td>0.5</td>\n",
       "      <td>0.040845</td>\n",
       "      <td>0.5</td>\n",
       "      <td>20240513</td>\n",
       "      <td>...</td>\n",
       "      <td>1003.01</td>\n",
       "      <td>18.1</td>\n",
       "      <td>0.0</td>\n",
       "      <td>0.0</td>\n",
       "      <td>20.7</td>\n",
       "      <td>84.6</td>\n",
       "      <td>156</td>\n",
       "      <td>0</td>\n",
       "      <td>18.1</td>\n",
       "      <td>1</td>\n",
       "    </tr>\n",
       "  </tbody>\n",
       "</table>\n",
       "<p>5 rows × 22 columns</p>\n",
       "</div>"
      ],
      "text/plain": [
       "  sessionId                  time                         filename       th1  \\\n",
       "0      test  _2024_05_13_20_50_01  er_file_2024_05_13_20_50_01.wav  0.233209   \n",
       "1      test  _2024_05_13_20_50_04  er_file_2024_05_13_20_50_04.wav  0.152970   \n",
       "2      test  _2024_05_13_20_50_06  er_file_2024_05_13_20_50_06.wav  0.145604   \n",
       "3      test  _2024_05_13_20_50_09  er_file_2024_05_13_20_50_09.wav  0.158969   \n",
       "4      test  _2024_05_13_20_50_14  er_file_2024_05_13_20_50_14.wav  0.170926   \n",
       "\n",
       "   th1_value       th2  th2_value       th3  th3_value    wudate  ...  \\\n",
       "0        0.5  0.623212        0.5  0.139973        0.5  20240513  ...   \n",
       "1        0.5  0.636439        0.5  0.049009        0.5  20240513  ...   \n",
       "2        0.5  0.624720        0.5  0.046492        0.5  20240513  ...   \n",
       "3        0.5  0.664619        0.5  0.106135        0.5  20240513  ...   \n",
       "4        0.5  0.510222        0.5  0.040845        0.5  20240513  ...   \n",
       "\n",
       "  pressureMax  dewptAvg  windgustHigh  windspeedAvg  tempAve  humidityAvg  \\\n",
       "0     1003.01      18.1           0.0           0.0     20.7         84.6   \n",
       "1     1003.01      18.1           0.0           0.0     20.7         84.6   \n",
       "2     1003.01      18.1           0.0           0.0     20.7         84.6   \n",
       "3     1003.01      18.1           0.0           0.0     20.7         84.6   \n",
       "4     1003.01      18.1           0.0           0.0     20.7         84.6   \n",
       "\n",
       "   winddirAvg  uvHigh  solarRadiationHigh  Human_detected  \n",
       "0         156       0                18.1               1  \n",
       "1         156       0                18.1               0  \n",
       "2         156       0                18.1               0  \n",
       "3         156       0                18.1               1  \n",
       "4         156       0                18.1               1  \n",
       "\n",
       "[5 rows x 22 columns]"
      ]
     },
     "execution_count": 42,
     "metadata": {},
     "output_type": "execute_result"
    }
   ],
   "source": [
    "meta_df_may2= pd.read_excel('/Users/evgenynazarenko/DACS_3_year/Thesis/GardenFiles24/garden_13052024/garden_13052024_MIT_AST_Human_detected_metadata.xlsx')\n",
    "meta_df_may2= meta_df_may2[['sessionId', 'time', 'filename', 'th1', 'th1_value',\n",
    "                'th2', 'th2_value', 'th3', 'th3_value', 'wudate', 'datetime',\n",
    "                'precipRate', 'pressureMax', 'dewptAvg', 'windgustHigh', 'windspeedAvg',\n",
    "                'tempAve', 'humidityAvg', 'winddirAvg', 'uvHigh', 'solarRadiationHigh',\n",
    "                'Human_detected']]\n",
    "meta_df_may2.head()"
   ]
  },
  {
   "cell_type": "code",
   "execution_count": 43,
   "metadata": {},
   "outputs": [
    {
     "name": "stdout",
     "output_type": "stream",
     "text": [
      "(69774, 22)\n"
     ]
    },
    {
     "data": {
      "text/html": [
       "<div>\n",
       "<style scoped>\n",
       "    .dataframe tbody tr th:only-of-type {\n",
       "        vertical-align: middle;\n",
       "    }\n",
       "\n",
       "    .dataframe tbody tr th {\n",
       "        vertical-align: top;\n",
       "    }\n",
       "\n",
       "    .dataframe thead th {\n",
       "        text-align: right;\n",
       "    }\n",
       "</style>\n",
       "<table border=\"1\" class=\"dataframe\">\n",
       "  <thead>\n",
       "    <tr style=\"text-align: right;\">\n",
       "      <th></th>\n",
       "      <th>sessionId</th>\n",
       "      <th>time</th>\n",
       "      <th>filename</th>\n",
       "      <th>th1</th>\n",
       "      <th>th1_value</th>\n",
       "      <th>th2</th>\n",
       "      <th>th2_value</th>\n",
       "      <th>th3</th>\n",
       "      <th>th3_value</th>\n",
       "      <th>wudate</th>\n",
       "      <th>...</th>\n",
       "      <th>pressureMax</th>\n",
       "      <th>dewptAvg</th>\n",
       "      <th>windgustHigh</th>\n",
       "      <th>windspeedAvg</th>\n",
       "      <th>tempAve</th>\n",
       "      <th>humidityAvg</th>\n",
       "      <th>winddirAvg</th>\n",
       "      <th>uvHigh</th>\n",
       "      <th>solarRadiationHigh</th>\n",
       "      <th>Human_detected</th>\n",
       "    </tr>\n",
       "  </thead>\n",
       "  <tbody>\n",
       "    <tr>\n",
       "      <th>0</th>\n",
       "      <td>test</td>\n",
       "      <td>_2024_05_03_18_03_09</td>\n",
       "      <td>er_file_2024_05_03_18_03_09.wav</td>\n",
       "      <td>0.345972</td>\n",
       "      <td>0.24</td>\n",
       "      <td>0.886481</td>\n",
       "      <td>0.5</td>\n",
       "      <td>0.137758</td>\n",
       "      <td>0.50</td>\n",
       "      <td>20240503</td>\n",
       "      <td>...</td>\n",
       "      <td>1007.82</td>\n",
       "      <td>11.4</td>\n",
       "      <td>0.0</td>\n",
       "      <td>0.0</td>\n",
       "      <td>13.2</td>\n",
       "      <td>88.9</td>\n",
       "      <td>166</td>\n",
       "      <td>1</td>\n",
       "      <td>108.4</td>\n",
       "      <td>0</td>\n",
       "    </tr>\n",
       "    <tr>\n",
       "      <th>1</th>\n",
       "      <td>test</td>\n",
       "      <td>_2024_05_03_18_03_11</td>\n",
       "      <td>er_file_2024_05_03_18_03_11.wav</td>\n",
       "      <td>0.334703</td>\n",
       "      <td>0.24</td>\n",
       "      <td>0.798789</td>\n",
       "      <td>0.5</td>\n",
       "      <td>0.051977</td>\n",
       "      <td>0.23</td>\n",
       "      <td>20240503</td>\n",
       "      <td>...</td>\n",
       "      <td>1007.82</td>\n",
       "      <td>11.4</td>\n",
       "      <td>0.0</td>\n",
       "      <td>0.0</td>\n",
       "      <td>13.2</td>\n",
       "      <td>88.9</td>\n",
       "      <td>166</td>\n",
       "      <td>1</td>\n",
       "      <td>108.4</td>\n",
       "      <td>0</td>\n",
       "    </tr>\n",
       "    <tr>\n",
       "      <th>2</th>\n",
       "      <td>test</td>\n",
       "      <td>_2024_05_03_18_03_14</td>\n",
       "      <td>er_file_2024_05_03_18_03_14.wav</td>\n",
       "      <td>0.155562</td>\n",
       "      <td>0.24</td>\n",
       "      <td>0.888707</td>\n",
       "      <td>0.5</td>\n",
       "      <td>0.146159</td>\n",
       "      <td>0.23</td>\n",
       "      <td>20240503</td>\n",
       "      <td>...</td>\n",
       "      <td>1007.82</td>\n",
       "      <td>11.4</td>\n",
       "      <td>0.0</td>\n",
       "      <td>0.0</td>\n",
       "      <td>13.2</td>\n",
       "      <td>88.9</td>\n",
       "      <td>166</td>\n",
       "      <td>1</td>\n",
       "      <td>108.4</td>\n",
       "      <td>0</td>\n",
       "    </tr>\n",
       "    <tr>\n",
       "      <th>3</th>\n",
       "      <td>test</td>\n",
       "      <td>_2024_05_03_18_03_17</td>\n",
       "      <td>er_file_2024_05_03_18_03_17.wav</td>\n",
       "      <td>0.148313</td>\n",
       "      <td>0.24</td>\n",
       "      <td>0.810611</td>\n",
       "      <td>0.5</td>\n",
       "      <td>0.046312</td>\n",
       "      <td>0.23</td>\n",
       "      <td>20240503</td>\n",
       "      <td>...</td>\n",
       "      <td>1007.82</td>\n",
       "      <td>11.4</td>\n",
       "      <td>0.0</td>\n",
       "      <td>0.0</td>\n",
       "      <td>13.2</td>\n",
       "      <td>88.9</td>\n",
       "      <td>166</td>\n",
       "      <td>1</td>\n",
       "      <td>108.4</td>\n",
       "      <td>0</td>\n",
       "    </tr>\n",
       "    <tr>\n",
       "      <th>4</th>\n",
       "      <td>test</td>\n",
       "      <td>_2024_05_03_18_03_21</td>\n",
       "      <td>er_file_2024_05_03_18_03_21.wav</td>\n",
       "      <td>0.283810</td>\n",
       "      <td>0.24</td>\n",
       "      <td>0.893212</td>\n",
       "      <td>0.5</td>\n",
       "      <td>0.093121</td>\n",
       "      <td>0.23</td>\n",
       "      <td>20240503</td>\n",
       "      <td>...</td>\n",
       "      <td>1007.82</td>\n",
       "      <td>11.4</td>\n",
       "      <td>0.0</td>\n",
       "      <td>0.0</td>\n",
       "      <td>13.2</td>\n",
       "      <td>88.9</td>\n",
       "      <td>166</td>\n",
       "      <td>1</td>\n",
       "      <td>108.4</td>\n",
       "      <td>0</td>\n",
       "    </tr>\n",
       "  </tbody>\n",
       "</table>\n",
       "<p>5 rows × 22 columns</p>\n",
       "</div>"
      ],
      "text/plain": [
       "  sessionId                  time                         filename       th1  \\\n",
       "0      test  _2024_05_03_18_03_09  er_file_2024_05_03_18_03_09.wav  0.345972   \n",
       "1      test  _2024_05_03_18_03_11  er_file_2024_05_03_18_03_11.wav  0.334703   \n",
       "2      test  _2024_05_03_18_03_14  er_file_2024_05_03_18_03_14.wav  0.155562   \n",
       "3      test  _2024_05_03_18_03_17  er_file_2024_05_03_18_03_17.wav  0.148313   \n",
       "4      test  _2024_05_03_18_03_21  er_file_2024_05_03_18_03_21.wav  0.283810   \n",
       "\n",
       "   th1_value       th2  th2_value       th3  th3_value    wudate  ...  \\\n",
       "0       0.24  0.886481        0.5  0.137758       0.50  20240503  ...   \n",
       "1       0.24  0.798789        0.5  0.051977       0.23  20240503  ...   \n",
       "2       0.24  0.888707        0.5  0.146159       0.23  20240503  ...   \n",
       "3       0.24  0.810611        0.5  0.046312       0.23  20240503  ...   \n",
       "4       0.24  0.893212        0.5  0.093121       0.23  20240503  ...   \n",
       "\n",
       "  pressureMax  dewptAvg  windgustHigh  windspeedAvg  tempAve  humidityAvg  \\\n",
       "0     1007.82      11.4           0.0           0.0     13.2         88.9   \n",
       "1     1007.82      11.4           0.0           0.0     13.2         88.9   \n",
       "2     1007.82      11.4           0.0           0.0     13.2         88.9   \n",
       "3     1007.82      11.4           0.0           0.0     13.2         88.9   \n",
       "4     1007.82      11.4           0.0           0.0     13.2         88.9   \n",
       "\n",
       "   winddirAvg  uvHigh  solarRadiationHigh  Human_detected  \n",
       "0         166       1               108.4               0  \n",
       "1         166       1               108.4               0  \n",
       "2         166       1               108.4               0  \n",
       "3         166       1               108.4               0  \n",
       "4         166       1               108.4               0  \n",
       "\n",
       "[5 rows x 22 columns]"
      ]
     },
     "execution_count": 43,
     "metadata": {},
     "output_type": "execute_result"
    }
   ],
   "source": [
    "# concatenate all dataframes and save to excel\n",
    "meta_df = pd.concat([meta_df_may1,meta_df_may2,meta_df_may3,meta_df_may4])\n",
    "print(meta_df.shape)\n",
    "meta_df.head()\n"
   ]
  },
  {
   "cell_type": "code",
   "execution_count": 44,
   "metadata": {},
   "outputs": [],
   "source": [
    "meta_df.to_excel('may_2024_metadata.xlsx',index=True)"
   ]
  },
  {
   "cell_type": "code",
   "execution_count": null,
   "metadata": {},
   "outputs": [],
   "source": [
    "garden_folder = \"/Users/evgenynazarenko/DACS_3_year/Thesis/GardenFiles24/garden_01062024\"\n",
    "human_labels = list(human['label'])\n",
    "mit_ast_pipeline(garden_folder,human_labels)"
   ]
  },
  {
   "cell_type": "code",
   "execution_count": 51,
   "metadata": {},
   "outputs": [
    {
     "name": "stdout",
     "output_type": "stream",
     "text": [
      "Found metadata file: /Users/evgenynazarenko/DACS_3_year/Thesis/GardenFiles24/garden_02072024/garden_02072024_metadata.xlsx\n"
     ]
    },
    {
     "name": "stderr",
     "output_type": "stream",
     "text": [
      "Classifying files: 100%|██████████| 29922/29922 [1:10:43<00:00,  7.05it/s]\n"
     ]
    },
    {
     "name": "stdout",
     "output_type": "stream",
     "text": [
      "Number of corrupted files: 0\n",
      "/Users/evgenynazarenko/DACS_3_year/Thesis/GardenFiles24/garden_02072024/garden_02072024_metadata.xlsx\n"
     ]
    },
    {
     "name": "stderr",
     "output_type": "stream",
     "text": [
      "/var/folders/lh/0lt7mv811l56hczm0y7dwzym0000gn/T/ipykernel_30808/689925939.py:30: FutureWarning: The behavior of array concatenation with empty entries is deprecated. In a future version, this will no longer exclude empty items when determining the result dtype. To retain the old behavior, exclude the empty entries before the concat operation.\n",
      "  df[column_name] = df[column_name+'_new'].combine_first(df[column_name])\n"
     ]
    },
    {
     "data": {
      "text/html": [
       "<div>\n",
       "<style scoped>\n",
       "    .dataframe tbody tr th:only-of-type {\n",
       "        vertical-align: middle;\n",
       "    }\n",
       "\n",
       "    .dataframe tbody tr th {\n",
       "        vertical-align: top;\n",
       "    }\n",
       "\n",
       "    .dataframe thead th {\n",
       "        text-align: right;\n",
       "    }\n",
       "</style>\n",
       "<table border=\"1\" class=\"dataframe\">\n",
       "  <thead>\n",
       "    <tr style=\"text-align: right;\">\n",
       "      <th></th>\n",
       "      <th>Unnamed: 0</th>\n",
       "      <th>sessionId</th>\n",
       "      <th>time</th>\n",
       "      <th>filename</th>\n",
       "      <th>th1</th>\n",
       "      <th>th1_value</th>\n",
       "      <th>th2</th>\n",
       "      <th>th2_value</th>\n",
       "      <th>th3</th>\n",
       "      <th>th3_value</th>\n",
       "      <th>...</th>\n",
       "      <th>windgustHigh</th>\n",
       "      <th>windspeedAvg</th>\n",
       "      <th>tempAve</th>\n",
       "      <th>humidityAvg</th>\n",
       "      <th>winddirAvg</th>\n",
       "      <th>uvHigh</th>\n",
       "      <th>solarRadiationHigh</th>\n",
       "      <th>lon</th>\n",
       "      <th>lat</th>\n",
       "      <th>Human_detected</th>\n",
       "    </tr>\n",
       "  </thead>\n",
       "  <tbody>\n",
       "    <tr>\n",
       "      <th>0</th>\n",
       "      <td>0</td>\n",
       "      <td>test</td>\n",
       "      <td>_2024_07_02_21_39_43</td>\n",
       "      <td>er_file_2024_07_02_21_39_43.wav</td>\n",
       "      <td>0.440825</td>\n",
       "      <td>0.2</td>\n",
       "      <td>0.658617</td>\n",
       "      <td>0.5</td>\n",
       "      <td>0.161717</td>\n",
       "      <td>0.22</td>\n",
       "      <td>...</td>\n",
       "      <td>13.0</td>\n",
       "      <td>6.2</td>\n",
       "      <td>16.0</td>\n",
       "      <td>68.3</td>\n",
       "      <td>288</td>\n",
       "      <td>0</td>\n",
       "      <td>9.1</td>\n",
       "      <td>5.462251</td>\n",
       "      <td>51.417782</td>\n",
       "      <td>1</td>\n",
       "    </tr>\n",
       "    <tr>\n",
       "      <th>1</th>\n",
       "      <td>1</td>\n",
       "      <td>test</td>\n",
       "      <td>_2024_07_02_21_39_45</td>\n",
       "      <td>er_file_2024_07_02_21_39_45.wav</td>\n",
       "      <td>0.328972</td>\n",
       "      <td>0.2</td>\n",
       "      <td>0.737728</td>\n",
       "      <td>0.5</td>\n",
       "      <td>0.119258</td>\n",
       "      <td>0.22</td>\n",
       "      <td>...</td>\n",
       "      <td>13.0</td>\n",
       "      <td>6.2</td>\n",
       "      <td>16.0</td>\n",
       "      <td>68.3</td>\n",
       "      <td>288</td>\n",
       "      <td>0</td>\n",
       "      <td>9.1</td>\n",
       "      <td>5.462251</td>\n",
       "      <td>51.417782</td>\n",
       "      <td>1</td>\n",
       "    </tr>\n",
       "    <tr>\n",
       "      <th>2</th>\n",
       "      <td>2</td>\n",
       "      <td>test</td>\n",
       "      <td>_2024_07_02_21_39_51</td>\n",
       "      <td>er_file_2024_07_02_21_39_51.wav</td>\n",
       "      <td>0.335507</td>\n",
       "      <td>0.2</td>\n",
       "      <td>0.895973</td>\n",
       "      <td>0.5</td>\n",
       "      <td>0.025542</td>\n",
       "      <td>0.22</td>\n",
       "      <td>...</td>\n",
       "      <td>13.0</td>\n",
       "      <td>6.2</td>\n",
       "      <td>16.0</td>\n",
       "      <td>68.3</td>\n",
       "      <td>288</td>\n",
       "      <td>0</td>\n",
       "      <td>9.1</td>\n",
       "      <td>5.462251</td>\n",
       "      <td>51.417782</td>\n",
       "      <td>1</td>\n",
       "    </tr>\n",
       "    <tr>\n",
       "      <th>3</th>\n",
       "      <td>3</td>\n",
       "      <td>test</td>\n",
       "      <td>_2024_07_02_21_39_57</td>\n",
       "      <td>er_file_2024_07_02_21_39_57.wav</td>\n",
       "      <td>0.588007</td>\n",
       "      <td>0.2</td>\n",
       "      <td>0.782013</td>\n",
       "      <td>0.5</td>\n",
       "      <td>0.151612</td>\n",
       "      <td>0.22</td>\n",
       "      <td>...</td>\n",
       "      <td>13.0</td>\n",
       "      <td>6.2</td>\n",
       "      <td>16.0</td>\n",
       "      <td>68.3</td>\n",
       "      <td>288</td>\n",
       "      <td>0</td>\n",
       "      <td>9.1</td>\n",
       "      <td>5.462251</td>\n",
       "      <td>51.417782</td>\n",
       "      <td>0</td>\n",
       "    </tr>\n",
       "    <tr>\n",
       "      <th>4</th>\n",
       "      <td>4</td>\n",
       "      <td>test</td>\n",
       "      <td>_2024_07_02_21_40_00</td>\n",
       "      <td>er_file_2024_07_02_21_40_00.wav</td>\n",
       "      <td>0.297391</td>\n",
       "      <td>0.2</td>\n",
       "      <td>0.884991</td>\n",
       "      <td>0.5</td>\n",
       "      <td>0.290724</td>\n",
       "      <td>0.22</td>\n",
       "      <td>...</td>\n",
       "      <td>13.0</td>\n",
       "      <td>6.2</td>\n",
       "      <td>16.0</td>\n",
       "      <td>68.3</td>\n",
       "      <td>288</td>\n",
       "      <td>0</td>\n",
       "      <td>9.1</td>\n",
       "      <td>5.462251</td>\n",
       "      <td>51.417782</td>\n",
       "      <td>1</td>\n",
       "    </tr>\n",
       "    <tr>\n",
       "      <th>...</th>\n",
       "      <td>...</td>\n",
       "      <td>...</td>\n",
       "      <td>...</td>\n",
       "      <td>...</td>\n",
       "      <td>...</td>\n",
       "      <td>...</td>\n",
       "      <td>...</td>\n",
       "      <td>...</td>\n",
       "      <td>...</td>\n",
       "      <td>...</td>\n",
       "      <td>...</td>\n",
       "      <td>...</td>\n",
       "      <td>...</td>\n",
       "      <td>...</td>\n",
       "      <td>...</td>\n",
       "      <td>...</td>\n",
       "      <td>...</td>\n",
       "      <td>...</td>\n",
       "      <td>...</td>\n",
       "      <td>...</td>\n",
       "      <td>...</td>\n",
       "    </tr>\n",
       "    <tr>\n",
       "      <th>29914</th>\n",
       "      <td>29914</td>\n",
       "      <td>test</td>\n",
       "      <td>_2024_07_09_3_31_39</td>\n",
       "      <td>er_file_2024_07_09_3_31_39.wav</td>\n",
       "      <td>0.142994</td>\n",
       "      <td>0.2</td>\n",
       "      <td>0.934829</td>\n",
       "      <td>0.5</td>\n",
       "      <td>0.617726</td>\n",
       "      <td>0.22</td>\n",
       "      <td>...</td>\n",
       "      <td>5.5</td>\n",
       "      <td>0.8</td>\n",
       "      <td>17.4</td>\n",
       "      <td>79.1</td>\n",
       "      <td>138</td>\n",
       "      <td>0</td>\n",
       "      <td>0.0</td>\n",
       "      <td>5.462251</td>\n",
       "      <td>51.417782</td>\n",
       "      <td>0</td>\n",
       "    </tr>\n",
       "    <tr>\n",
       "      <th>29915</th>\n",
       "      <td>29915</td>\n",
       "      <td>test</td>\n",
       "      <td>_2024_07_09_3_37_04</td>\n",
       "      <td>er_file_2024_07_09_3_37_04.wav</td>\n",
       "      <td>0.136168</td>\n",
       "      <td>0.2</td>\n",
       "      <td>0.719655</td>\n",
       "      <td>0.5</td>\n",
       "      <td>0.141545</td>\n",
       "      <td>0.22</td>\n",
       "      <td>...</td>\n",
       "      <td>5.5</td>\n",
       "      <td>1.3</td>\n",
       "      <td>17.4</td>\n",
       "      <td>79.4</td>\n",
       "      <td>145</td>\n",
       "      <td>0</td>\n",
       "      <td>0.0</td>\n",
       "      <td>5.462251</td>\n",
       "      <td>51.417782</td>\n",
       "      <td>1</td>\n",
       "    </tr>\n",
       "    <tr>\n",
       "      <th>29916</th>\n",
       "      <td>29916</td>\n",
       "      <td>test</td>\n",
       "      <td>_2024_07_09_3_38_43</td>\n",
       "      <td>er_file_2024_07_09_3_38_43.wav</td>\n",
       "      <td>0.238074</td>\n",
       "      <td>0.2</td>\n",
       "      <td>0.529341</td>\n",
       "      <td>0.5</td>\n",
       "      <td>0.096178</td>\n",
       "      <td>0.22</td>\n",
       "      <td>...</td>\n",
       "      <td>3.5</td>\n",
       "      <td>0.6</td>\n",
       "      <td>17.3</td>\n",
       "      <td>80.0</td>\n",
       "      <td>148</td>\n",
       "      <td>0</td>\n",
       "      <td>0.0</td>\n",
       "      <td>5.462251</td>\n",
       "      <td>51.417782</td>\n",
       "      <td>0</td>\n",
       "    </tr>\n",
       "    <tr>\n",
       "      <th>29917</th>\n",
       "      <td>29917</td>\n",
       "      <td>test</td>\n",
       "      <td>_2024_07_09_3_40_41</td>\n",
       "      <td>er_file_2024_07_09_3_40_41.wav</td>\n",
       "      <td>0.138406</td>\n",
       "      <td>0.2</td>\n",
       "      <td>0.843807</td>\n",
       "      <td>0.5</td>\n",
       "      <td>0.386585</td>\n",
       "      <td>0.22</td>\n",
       "      <td>...</td>\n",
       "      <td>3.5</td>\n",
       "      <td>0.6</td>\n",
       "      <td>17.3</td>\n",
       "      <td>80.0</td>\n",
       "      <td>148</td>\n",
       "      <td>0</td>\n",
       "      <td>0.0</td>\n",
       "      <td>5.462251</td>\n",
       "      <td>51.417782</td>\n",
       "      <td>0</td>\n",
       "    </tr>\n",
       "    <tr>\n",
       "      <th>29918</th>\n",
       "      <td>29918</td>\n",
       "      <td>test</td>\n",
       "      <td>_2024_07_09_3_40_47</td>\n",
       "      <td>er_file_2024_07_09_3_40_47.wav</td>\n",
       "      <td>0.135591</td>\n",
       "      <td>0.2</td>\n",
       "      <td>0.836749</td>\n",
       "      <td>0.5</td>\n",
       "      <td>0.560429</td>\n",
       "      <td>0.22</td>\n",
       "      <td>...</td>\n",
       "      <td>3.5</td>\n",
       "      <td>0.6</td>\n",
       "      <td>17.3</td>\n",
       "      <td>80.0</td>\n",
       "      <td>148</td>\n",
       "      <td>0</td>\n",
       "      <td>0.0</td>\n",
       "      <td>5.462251</td>\n",
       "      <td>51.417782</td>\n",
       "      <td>1</td>\n",
       "    </tr>\n",
       "  </tbody>\n",
       "</table>\n",
       "<p>29919 rows × 25 columns</p>\n",
       "</div>"
      ],
      "text/plain": [
       "       Unnamed: 0 sessionId                  time  \\\n",
       "0               0      test  _2024_07_02_21_39_43   \n",
       "1               1      test  _2024_07_02_21_39_45   \n",
       "2               2      test  _2024_07_02_21_39_51   \n",
       "3               3      test  _2024_07_02_21_39_57   \n",
       "4               4      test  _2024_07_02_21_40_00   \n",
       "...           ...       ...                   ...   \n",
       "29914       29914      test   _2024_07_09_3_31_39   \n",
       "29915       29915      test   _2024_07_09_3_37_04   \n",
       "29916       29916      test   _2024_07_09_3_38_43   \n",
       "29917       29917      test   _2024_07_09_3_40_41   \n",
       "29918       29918      test   _2024_07_09_3_40_47   \n",
       "\n",
       "                              filename       th1  th1_value       th2  \\\n",
       "0      er_file_2024_07_02_21_39_43.wav  0.440825        0.2  0.658617   \n",
       "1      er_file_2024_07_02_21_39_45.wav  0.328972        0.2  0.737728   \n",
       "2      er_file_2024_07_02_21_39_51.wav  0.335507        0.2  0.895973   \n",
       "3      er_file_2024_07_02_21_39_57.wav  0.588007        0.2  0.782013   \n",
       "4      er_file_2024_07_02_21_40_00.wav  0.297391        0.2  0.884991   \n",
       "...                                ...       ...        ...       ...   \n",
       "29914   er_file_2024_07_09_3_31_39.wav  0.142994        0.2  0.934829   \n",
       "29915   er_file_2024_07_09_3_37_04.wav  0.136168        0.2  0.719655   \n",
       "29916   er_file_2024_07_09_3_38_43.wav  0.238074        0.2  0.529341   \n",
       "29917   er_file_2024_07_09_3_40_41.wav  0.138406        0.2  0.843807   \n",
       "29918   er_file_2024_07_09_3_40_47.wav  0.135591        0.2  0.836749   \n",
       "\n",
       "       th2_value       th3  th3_value  ...  windgustHigh windspeedAvg  \\\n",
       "0            0.5  0.161717       0.22  ...          13.0          6.2   \n",
       "1            0.5  0.119258       0.22  ...          13.0          6.2   \n",
       "2            0.5  0.025542       0.22  ...          13.0          6.2   \n",
       "3            0.5  0.151612       0.22  ...          13.0          6.2   \n",
       "4            0.5  0.290724       0.22  ...          13.0          6.2   \n",
       "...          ...       ...        ...  ...           ...          ...   \n",
       "29914        0.5  0.617726       0.22  ...           5.5          0.8   \n",
       "29915        0.5  0.141545       0.22  ...           5.5          1.3   \n",
       "29916        0.5  0.096178       0.22  ...           3.5          0.6   \n",
       "29917        0.5  0.386585       0.22  ...           3.5          0.6   \n",
       "29918        0.5  0.560429       0.22  ...           3.5          0.6   \n",
       "\n",
       "       tempAve  humidityAvg  winddirAvg  uvHigh  solarRadiationHigh       lon  \\\n",
       "0         16.0         68.3         288       0                 9.1  5.462251   \n",
       "1         16.0         68.3         288       0                 9.1  5.462251   \n",
       "2         16.0         68.3         288       0                 9.1  5.462251   \n",
       "3         16.0         68.3         288       0                 9.1  5.462251   \n",
       "4         16.0         68.3         288       0                 9.1  5.462251   \n",
       "...        ...          ...         ...     ...                 ...       ...   \n",
       "29914     17.4         79.1         138       0                 0.0  5.462251   \n",
       "29915     17.4         79.4         145       0                 0.0  5.462251   \n",
       "29916     17.3         80.0         148       0                 0.0  5.462251   \n",
       "29917     17.3         80.0         148       0                 0.0  5.462251   \n",
       "29918     17.3         80.0         148       0                 0.0  5.462251   \n",
       "\n",
       "             lat  Human_detected  \n",
       "0      51.417782               1  \n",
       "1      51.417782               1  \n",
       "2      51.417782               1  \n",
       "3      51.417782               0  \n",
       "4      51.417782               1  \n",
       "...          ...             ...  \n",
       "29914  51.417782               0  \n",
       "29915  51.417782               1  \n",
       "29916  51.417782               0  \n",
       "29917  51.417782               0  \n",
       "29918  51.417782               1  \n",
       "\n",
       "[29919 rows x 25 columns]"
      ]
     },
     "execution_count": 51,
     "metadata": {},
     "output_type": "execute_result"
    }
   ],
   "source": [
    "garden_folder = \"/Users/evgenynazarenko/DACS_3_year/Thesis/GardenFiles24/garden_02072024\"\n",
    "human_labels = list(human['label'])\n",
    "mit_ast_pipeline(garden_folder,human_labels,'corrupted_files_garden_2024.log')"
   ]
  },
  {
   "cell_type": "code",
   "execution_count": 54,
   "metadata": {},
   "outputs": [
    {
     "name": "stdout",
     "output_type": "stream",
     "text": [
      "Found metadata file: /Users/evgenynazarenko/DACS_3_year/Thesis/GardenFiles24/garden_05062024/garden_05062024_metadata.xlsx\n"
     ]
    },
    {
     "name": "stderr",
     "output_type": "stream",
     "text": [
      "Classifying files: 100%|██████████| 3591/3591 [08:32<00:00,  7.00it/s]\n"
     ]
    },
    {
     "name": "stdout",
     "output_type": "stream",
     "text": [
      "Number of corrupted files: 0\n",
      "/Users/evgenynazarenko/DACS_3_year/Thesis/GardenFiles24/garden_05062024/garden_05062024_metadata.xlsx\n"
     ]
    },
    {
     "name": "stderr",
     "output_type": "stream",
     "text": [
      "/var/folders/lh/0lt7mv811l56hczm0y7dwzym0000gn/T/ipykernel_30808/689925939.py:30: FutureWarning: The behavior of array concatenation with empty entries is deprecated. In a future version, this will no longer exclude empty items when determining the result dtype. To retain the old behavior, exclude the empty entries before the concat operation.\n",
      "  df[column_name] = df[column_name+'_new'].combine_first(df[column_name])\n"
     ]
    }
   ],
   "source": [
    "garden_folder = \"/Users/evgenynazarenko/DACS_3_year/Thesis/GardenFiles24/garden_05062024\"\n",
    "human_labels = list(human['label'])\n",
    "meta_df_june_2 =mit_ast_pipeline(garden_folder,human_labels,'corrupted_files_garden_2024.log')"
   ]
  },
  {
   "cell_type": "code",
   "execution_count": 55,
   "metadata": {},
   "outputs": [
    {
     "name": "stdout",
     "output_type": "stream",
     "text": [
      "Found metadata file: /Users/evgenynazarenko/DACS_3_year/Thesis/GardenFiles24/garden_07062024/garden_07062024_metadata.xlsx\n"
     ]
    },
    {
     "name": "stderr",
     "output_type": "stream",
     "text": [
      "Classifying files: 100%|██████████| 75050/75050 [2:57:44<00:00,  7.04it/s]  \n"
     ]
    },
    {
     "name": "stdout",
     "output_type": "stream",
     "text": [
      "Number of corrupted files: 0\n",
      "/Users/evgenynazarenko/DACS_3_year/Thesis/GardenFiles24/garden_07062024/garden_07062024_metadata.xlsx\n"
     ]
    },
    {
     "name": "stderr",
     "output_type": "stream",
     "text": [
      "/var/folders/lh/0lt7mv811l56hczm0y7dwzym0000gn/T/ipykernel_30808/689925939.py:30: FutureWarning: The behavior of array concatenation with empty entries is deprecated. In a future version, this will no longer exclude empty items when determining the result dtype. To retain the old behavior, exclude the empty entries before the concat operation.\n",
      "  df[column_name] = df[column_name+'_new'].combine_first(df[column_name])\n"
     ]
    }
   ],
   "source": [
    "garden_folder = \"/Users/evgenynazarenko/DACS_3_year/Thesis/GardenFiles24/garden_07062024\"\n",
    "human_labels = list(human['label'])\n",
    "meta_df_june_3 = mit_ast_pipeline(garden_folder,human_labels,'corrupted_files_garden_2024.log')"
   ]
  },
  {
   "cell_type": "code",
   "execution_count": 59,
   "metadata": {},
   "outputs": [
    {
     "name": "stdout",
     "output_type": "stream",
     "text": [
      "Found metadata file: /Users/evgenynazarenko/DACS_3_year/Thesis/GardenFiles24/garden_20072024/garden_20072024_metadata.xlsx\n"
     ]
    },
    {
     "name": "stderr",
     "output_type": "stream",
     "text": [
      "Classifying files: 100%|██████████| 20888/20888 [48:13<00:00,  7.22it/s] \n"
     ]
    },
    {
     "name": "stdout",
     "output_type": "stream",
     "text": [
      "Number of corrupted files: 0\n",
      "/Users/evgenynazarenko/DACS_3_year/Thesis/GardenFiles24/garden_20072024/garden_20072024_metadata.xlsx\n"
     ]
    },
    {
     "name": "stderr",
     "output_type": "stream",
     "text": [
      "/var/folders/lh/0lt7mv811l56hczm0y7dwzym0000gn/T/ipykernel_30808/689925939.py:30: FutureWarning: The behavior of array concatenation with empty entries is deprecated. In a future version, this will no longer exclude empty items when determining the result dtype. To retain the old behavior, exclude the empty entries before the concat operation.\n",
      "  df[column_name] = df[column_name+'_new'].combine_first(df[column_name])\n"
     ]
    }
   ],
   "source": [
    "garden_folder = \"/Users/evgenynazarenko/DACS_3_year/Thesis/GardenFiles24/garden_20072024\"\n",
    "human_labels = list(human['label'])\n",
    "meta_df_july_3 = mit_ast_pipeline(garden_folder,human_labels,'corrupted_files_garden_2024.log')"
   ]
  },
  {
   "cell_type": "code",
   "execution_count": 62,
   "metadata": {},
   "outputs": [
    {
     "name": "stdout",
     "output_type": "stream",
     "text": [
      "Found metadata file: /Users/evgenynazarenko/DACS_3_year/Thesis/GardenFiles24/garden_10072024/garden_10072024_metadata.xlsx\n"
     ]
    },
    {
     "name": "stderr",
     "output_type": "stream",
     "text": [
      "Classifying files: 100%|██████████| 38247/38247 [1:29:33<00:00,  7.12it/s]\n"
     ]
    },
    {
     "name": "stdout",
     "output_type": "stream",
     "text": [
      "Number of corrupted files: 0\n",
      "/Users/evgenynazarenko/DACS_3_year/Thesis/GardenFiles24/garden_10072024/garden_10072024_metadata.xlsx\n"
     ]
    },
    {
     "name": "stderr",
     "output_type": "stream",
     "text": [
      "/var/folders/lh/0lt7mv811l56hczm0y7dwzym0000gn/T/ipykernel_30808/689925939.py:30: FutureWarning: The behavior of array concatenation with empty entries is deprecated. In a future version, this will no longer exclude empty items when determining the result dtype. To retain the old behavior, exclude the empty entries before the concat operation.\n",
      "  df[column_name] = df[column_name+'_new'].combine_first(df[column_name])\n"
     ]
    }
   ],
   "source": [
    "garden_folder = \"/Users/evgenynazarenko/DACS_3_year/Thesis/GardenFiles24/garden_10072024\"\n",
    "human_labels = list(human['label'])\n",
    "meta_df_july_2 = mit_ast_pipeline(garden_folder,human_labels,'corrupted_files_garden_2024.log')"
   ]
  },
  {
   "cell_type": "markdown",
   "metadata": {},
   "source": [
    "create dull meatdata file "
   ]
  },
  {
   "cell_type": "code",
   "execution_count": 70,
   "metadata": {},
   "outputs": [
    {
     "data": {
      "text/plain": [
       "(406689, 27)"
      ]
     },
     "execution_count": 70,
     "metadata": {},
     "output_type": "execute_result"
    }
   ],
   "source": [
    "# read the metadata file\n",
    "df_meta_2504 = pd.read_excel('metadata/garden_concat_metadata_birdnet_labeled_mit_ast_2404.xlsx')\n",
    "df_meta_2504.shape"
   ]
  },
  {
   "cell_type": "code",
   "execution_count": 71,
   "metadata": {},
   "outputs": [
    {
     "data": {
      "text/html": [
       "<div>\n",
       "<style scoped>\n",
       "    .dataframe tbody tr th:only-of-type {\n",
       "        vertical-align: middle;\n",
       "    }\n",
       "\n",
       "    .dataframe tbody tr th {\n",
       "        vertical-align: top;\n",
       "    }\n",
       "\n",
       "    .dataframe thead th {\n",
       "        text-align: right;\n",
       "    }\n",
       "</style>\n",
       "<table border=\"1\" class=\"dataframe\">\n",
       "  <thead>\n",
       "    <tr style=\"text-align: right;\">\n",
       "      <th></th>\n",
       "      <th>Unnamed: 0</th>\n",
       "      <th>sessionId</th>\n",
       "      <th>time</th>\n",
       "      <th>filename</th>\n",
       "      <th>th1</th>\n",
       "      <th>th1_value</th>\n",
       "      <th>th2</th>\n",
       "      <th>th2_value</th>\n",
       "      <th>th3</th>\n",
       "      <th>th3_value</th>\n",
       "      <th>...</th>\n",
       "      <th>tempAve</th>\n",
       "      <th>humidityAvg</th>\n",
       "      <th>winddirAvg</th>\n",
       "      <th>uvHigh</th>\n",
       "      <th>solarRadiationHigh</th>\n",
       "      <th>lon</th>\n",
       "      <th>lat</th>\n",
       "      <th>BirdNET</th>\n",
       "      <th>MIT_AST_label</th>\n",
       "      <th>sound_class_label</th>\n",
       "    </tr>\n",
       "  </thead>\n",
       "  <tbody>\n",
       "    <tr>\n",
       "      <th>0</th>\n",
       "      <td>0</td>\n",
       "      <td>test</td>\n",
       "      <td>_2024_03_03_8_34_48</td>\n",
       "      <td>garden_03032024/0/er_file_2024_03_03_8_34_48.wav</td>\n",
       "      <td>0.382969</td>\n",
       "      <td>0.50</td>\n",
       "      <td>0.790168</td>\n",
       "      <td>0.50</td>\n",
       "      <td>0.255452</td>\n",
       "      <td>0.50</td>\n",
       "      <td>...</td>\n",
       "      <td>9.6</td>\n",
       "      <td>88.0</td>\n",
       "      <td>286.0</td>\n",
       "      <td>0.0</td>\n",
       "      <td>36.0</td>\n",
       "      <td>5.462251</td>\n",
       "      <td>51.417782</td>\n",
       "      <td>NaN</td>\n",
       "      <td>Bird</td>\n",
       "      <td>bird</td>\n",
       "    </tr>\n",
       "    <tr>\n",
       "      <th>1</th>\n",
       "      <td>1</td>\n",
       "      <td>test</td>\n",
       "      <td>_2024_03_03_8_34_50</td>\n",
       "      <td>garden_03032024/0/er_file_2024_03_03_8_34_50.wav</td>\n",
       "      <td>0.176002</td>\n",
       "      <td>0.25</td>\n",
       "      <td>0.932867</td>\n",
       "      <td>0.50</td>\n",
       "      <td>0.271969</td>\n",
       "      <td>0.50</td>\n",
       "      <td>...</td>\n",
       "      <td>9.6</td>\n",
       "      <td>88.0</td>\n",
       "      <td>286.0</td>\n",
       "      <td>0.0</td>\n",
       "      <td>36.0</td>\n",
       "      <td>5.462251</td>\n",
       "      <td>51.417782</td>\n",
       "      <td>Streptopelia decaocto_Eurasian Collared-Dove</td>\n",
       "      <td>Owl</td>\n",
       "      <td>bird</td>\n",
       "    </tr>\n",
       "    <tr>\n",
       "      <th>2</th>\n",
       "      <td>2</td>\n",
       "      <td>test</td>\n",
       "      <td>_2024_03_03_8_34_53</td>\n",
       "      <td>garden_03032024/0/er_file_2024_03_03_8_34_53.wav</td>\n",
       "      <td>0.278563</td>\n",
       "      <td>0.25</td>\n",
       "      <td>0.474437</td>\n",
       "      <td>0.50</td>\n",
       "      <td>0.023406</td>\n",
       "      <td>0.24</td>\n",
       "      <td>...</td>\n",
       "      <td>9.6</td>\n",
       "      <td>88.0</td>\n",
       "      <td>286.0</td>\n",
       "      <td>0.0</td>\n",
       "      <td>36.0</td>\n",
       "      <td>5.462251</td>\n",
       "      <td>51.417782</td>\n",
       "      <td>Streptopelia decaocto_Eurasian Collared-Dove</td>\n",
       "      <td>Owl</td>\n",
       "      <td>bird</td>\n",
       "    </tr>\n",
       "    <tr>\n",
       "      <th>3</th>\n",
       "      <td>3</td>\n",
       "      <td>test</td>\n",
       "      <td>_2024_03_03_8_34_56</td>\n",
       "      <td>garden_03032024/0/er_file_2024_03_03_8_34_56.wav</td>\n",
       "      <td>0.263044</td>\n",
       "      <td>0.25</td>\n",
       "      <td>0.812372</td>\n",
       "      <td>0.64</td>\n",
       "      <td>0.172581</td>\n",
       "      <td>0.24</td>\n",
       "      <td>...</td>\n",
       "      <td>9.6</td>\n",
       "      <td>88.0</td>\n",
       "      <td>286.0</td>\n",
       "      <td>0.0</td>\n",
       "      <td>36.0</td>\n",
       "      <td>5.462251</td>\n",
       "      <td>51.417782</td>\n",
       "      <td>Streptopelia decaocto_Eurasian Collared-Dove</td>\n",
       "      <td>Bird</td>\n",
       "      <td>bird</td>\n",
       "    </tr>\n",
       "    <tr>\n",
       "      <th>4</th>\n",
       "      <td>4</td>\n",
       "      <td>test</td>\n",
       "      <td>_2024_03_03_8_34_59</td>\n",
       "      <td>garden_03032024/0/er_file_2024_03_03_8_34_59.wav</td>\n",
       "      <td>0.164429</td>\n",
       "      <td>0.25</td>\n",
       "      <td>0.871671</td>\n",
       "      <td>0.64</td>\n",
       "      <td>0.044865</td>\n",
       "      <td>0.24</td>\n",
       "      <td>...</td>\n",
       "      <td>9.6</td>\n",
       "      <td>88.0</td>\n",
       "      <td>286.0</td>\n",
       "      <td>0.0</td>\n",
       "      <td>36.0</td>\n",
       "      <td>5.462251</td>\n",
       "      <td>51.417782</td>\n",
       "      <td>NaN</td>\n",
       "      <td>Bird</td>\n",
       "      <td>bird</td>\n",
       "    </tr>\n",
       "  </tbody>\n",
       "</table>\n",
       "<p>5 rows × 27 columns</p>\n",
       "</div>"
      ],
      "text/plain": [
       "   Unnamed: 0 sessionId                 time  \\\n",
       "0           0      test  _2024_03_03_8_34_48   \n",
       "1           1      test  _2024_03_03_8_34_50   \n",
       "2           2      test  _2024_03_03_8_34_53   \n",
       "3           3      test  _2024_03_03_8_34_56   \n",
       "4           4      test  _2024_03_03_8_34_59   \n",
       "\n",
       "                                           filename       th1  th1_value  \\\n",
       "0  garden_03032024/0/er_file_2024_03_03_8_34_48.wav  0.382969       0.50   \n",
       "1  garden_03032024/0/er_file_2024_03_03_8_34_50.wav  0.176002       0.25   \n",
       "2  garden_03032024/0/er_file_2024_03_03_8_34_53.wav  0.278563       0.25   \n",
       "3  garden_03032024/0/er_file_2024_03_03_8_34_56.wav  0.263044       0.25   \n",
       "4  garden_03032024/0/er_file_2024_03_03_8_34_59.wav  0.164429       0.25   \n",
       "\n",
       "        th2  th2_value       th3  th3_value  ...  tempAve humidityAvg  \\\n",
       "0  0.790168       0.50  0.255452       0.50  ...      9.6        88.0   \n",
       "1  0.932867       0.50  0.271969       0.50  ...      9.6        88.0   \n",
       "2  0.474437       0.50  0.023406       0.24  ...      9.6        88.0   \n",
       "3  0.812372       0.64  0.172581       0.24  ...      9.6        88.0   \n",
       "4  0.871671       0.64  0.044865       0.24  ...      9.6        88.0   \n",
       "\n",
       "   winddirAvg  uvHigh  solarRadiationHigh       lon        lat  \\\n",
       "0       286.0     0.0                36.0  5.462251  51.417782   \n",
       "1       286.0     0.0                36.0  5.462251  51.417782   \n",
       "2       286.0     0.0                36.0  5.462251  51.417782   \n",
       "3       286.0     0.0                36.0  5.462251  51.417782   \n",
       "4       286.0     0.0                36.0  5.462251  51.417782   \n",
       "\n",
       "                                        BirdNET  MIT_AST_label  \\\n",
       "0                                           NaN           Bird   \n",
       "1  Streptopelia decaocto_Eurasian Collared-Dove            Owl   \n",
       "2  Streptopelia decaocto_Eurasian Collared-Dove            Owl   \n",
       "3  Streptopelia decaocto_Eurasian Collared-Dove           Bird   \n",
       "4                                           NaN           Bird   \n",
       "\n",
       "   sound_class_label  \n",
       "0               bird  \n",
       "1               bird  \n",
       "2               bird  \n",
       "3               bird  \n",
       "4               bird  \n",
       "\n",
       "[5 rows x 27 columns]"
      ]
     },
     "execution_count": 71,
     "metadata": {},
     "output_type": "execute_result"
    }
   ],
   "source": [
    "df_meta_2504.head()"
   ]
  },
  {
   "cell_type": "code",
   "execution_count": 67,
   "metadata": {},
   "outputs": [],
   "source": [
    "# get metadata df from files that ends with 'metadata.xlsx'  from all subfolders of the GardenFiles23 folder\n",
    "def get_metadata_files(folder_path):\n",
    "    \"\"\"\n",
    "    Get metadata  from all subfolders of the specified folder\n",
    "    :param folder_path: path to the folder\n",
    "    :return: metadata_df: DataFrame with metadata\n",
    "\n",
    "    \"\"\"\n",
    "    metadata_df = pd.DataFrame()\n",
    "    for dirpath, dirnames, filenames in os.walk(folder_path):\n",
    "        for filename in filenames:\n",
    "            if filename.endswith('metadata.xlsx'):\n",
    "                # read the metadata file\n",
    "                meta_df = pd.read_excel(os.path.join(dirpath, filename))\n",
    "                metadata_df = pd.concat([metadata_df, meta_df], ignore_index=True)\n",
    "    return metadata_df\n",
    "\n",
    "\n",
    "\n",
    "\n"
   ]
  },
  {
   "cell_type": "code",
   "execution_count": 66,
   "metadata": {},
   "outputs": [
    {
     "data": {
      "text/plain": [
       "(406869, 27)"
      ]
     },
     "execution_count": 66,
     "metadata": {},
     "output_type": "execute_result"
    }
   ],
   "source": [
    "# get metadata from all subfolders of the GardenFiles23 folder\n",
    "metadata_human_det_df = get_metadata_files('/Users/evgenynazarenko/DACS_3_year/Thesis/GardenFiles23')\n",
    "metadata_human_det_df.shape"
   ]
  },
  {
   "cell_type": "code",
   "execution_count": 67,
   "metadata": {},
   "outputs": [
    {
     "data": {
      "text/html": [
       "<div>\n",
       "<style scoped>\n",
       "    .dataframe tbody tr th:only-of-type {\n",
       "        vertical-align: middle;\n",
       "    }\n",
       "\n",
       "    .dataframe tbody tr th {\n",
       "        vertical-align: top;\n",
       "    }\n",
       "\n",
       "    .dataframe thead th {\n",
       "        text-align: right;\n",
       "    }\n",
       "</style>\n",
       "<table border=\"1\" class=\"dataframe\">\n",
       "  <thead>\n",
       "    <tr style=\"text-align: right;\">\n",
       "      <th></th>\n",
       "      <th>Unnamed: 0</th>\n",
       "      <th>sessionId</th>\n",
       "      <th>time</th>\n",
       "      <th>filename</th>\n",
       "      <th>th1</th>\n",
       "      <th>th1_value</th>\n",
       "      <th>th2</th>\n",
       "      <th>th2_value</th>\n",
       "      <th>th3</th>\n",
       "      <th>th3_value</th>\n",
       "      <th>...</th>\n",
       "      <th>tempAve</th>\n",
       "      <th>humidityAvg</th>\n",
       "      <th>winddirAvg</th>\n",
       "      <th>uvHigh</th>\n",
       "      <th>solarRadiationHigh</th>\n",
       "      <th>lon</th>\n",
       "      <th>lat</th>\n",
       "      <th>MIT_AST</th>\n",
       "      <th>Human_detected</th>\n",
       "      <th>BirdNET_label</th>\n",
       "    </tr>\n",
       "  </thead>\n",
       "  <tbody>\n",
       "    <tr>\n",
       "      <th>0</th>\n",
       "      <td>0.0</td>\n",
       "      <td>test</td>\n",
       "      <td>_2024_01_06_11_20_56</td>\n",
       "      <td>er_file_2024_01_06_11_20_56.wav</td>\n",
       "      <td>0.164558</td>\n",
       "      <td>0.32</td>\n",
       "      <td>0.673863</td>\n",
       "      <td>0.5</td>\n",
       "      <td>0.215897</td>\n",
       "      <td>0.50</td>\n",
       "      <td>...</td>\n",
       "      <td>3.9</td>\n",
       "      <td>94.0</td>\n",
       "      <td>170.0</td>\n",
       "      <td>0.0</td>\n",
       "      <td>35.1</td>\n",
       "      <td>5.462251</td>\n",
       "      <td>51.417782</td>\n",
       "      <td>Caw</td>\n",
       "      <td>1.0</td>\n",
       "      <td>NaN</td>\n",
       "    </tr>\n",
       "    <tr>\n",
       "      <th>1</th>\n",
       "      <td>1.0</td>\n",
       "      <td>test</td>\n",
       "      <td>_2024_01_06_11_21_01</td>\n",
       "      <td>er_file_2024_01_06_11_21_01.wav</td>\n",
       "      <td>0.225941</td>\n",
       "      <td>0.20</td>\n",
       "      <td>0.496771</td>\n",
       "      <td>0.5</td>\n",
       "      <td>0.023409</td>\n",
       "      <td>0.21</td>\n",
       "      <td>...</td>\n",
       "      <td>3.9</td>\n",
       "      <td>94.0</td>\n",
       "      <td>170.0</td>\n",
       "      <td>0.0</td>\n",
       "      <td>35.1</td>\n",
       "      <td>5.462251</td>\n",
       "      <td>51.417782</td>\n",
       "      <td>Speech</td>\n",
       "      <td>1.0</td>\n",
       "      <td>NaN</td>\n",
       "    </tr>\n",
       "    <tr>\n",
       "      <th>2</th>\n",
       "      <td>2.0</td>\n",
       "      <td>test</td>\n",
       "      <td>_2024_01_06_11_21_04</td>\n",
       "      <td>er_file_2024_01_06_11_21_04.wav</td>\n",
       "      <td>0.145084</td>\n",
       "      <td>0.20</td>\n",
       "      <td>0.672597</td>\n",
       "      <td>0.5</td>\n",
       "      <td>0.039366</td>\n",
       "      <td>0.21</td>\n",
       "      <td>...</td>\n",
       "      <td>3.9</td>\n",
       "      <td>94.0</td>\n",
       "      <td>170.0</td>\n",
       "      <td>0.0</td>\n",
       "      <td>35.1</td>\n",
       "      <td>5.462251</td>\n",
       "      <td>51.417782</td>\n",
       "      <td>Caw</td>\n",
       "      <td>1.0</td>\n",
       "      <td>NaN</td>\n",
       "    </tr>\n",
       "    <tr>\n",
       "      <th>3</th>\n",
       "      <td>3.0</td>\n",
       "      <td>test</td>\n",
       "      <td>_2024_01_06_11_21_07</td>\n",
       "      <td>er_file_2024_01_06_11_21_07.wav</td>\n",
       "      <td>0.150078</td>\n",
       "      <td>0.20</td>\n",
       "      <td>0.778181</td>\n",
       "      <td>0.5</td>\n",
       "      <td>0.079053</td>\n",
       "      <td>0.21</td>\n",
       "      <td>...</td>\n",
       "      <td>3.9</td>\n",
       "      <td>94.0</td>\n",
       "      <td>170.0</td>\n",
       "      <td>0.0</td>\n",
       "      <td>35.1</td>\n",
       "      <td>5.462251</td>\n",
       "      <td>51.417782</td>\n",
       "      <td>Mouse</td>\n",
       "      <td>1.0</td>\n",
       "      <td>NaN</td>\n",
       "    </tr>\n",
       "    <tr>\n",
       "      <th>4</th>\n",
       "      <td>4.0</td>\n",
       "      <td>test</td>\n",
       "      <td>_2024_01_06_11_21_10</td>\n",
       "      <td>er_file_2024_01_06_11_21_10.wav</td>\n",
       "      <td>0.142194</td>\n",
       "      <td>0.20</td>\n",
       "      <td>0.792797</td>\n",
       "      <td>0.5</td>\n",
       "      <td>0.024214</td>\n",
       "      <td>0.21</td>\n",
       "      <td>...</td>\n",
       "      <td>3.9</td>\n",
       "      <td>94.0</td>\n",
       "      <td>170.0</td>\n",
       "      <td>0.0</td>\n",
       "      <td>35.1</td>\n",
       "      <td>5.462251</td>\n",
       "      <td>51.417782</td>\n",
       "      <td>Bird</td>\n",
       "      <td>1.0</td>\n",
       "      <td>NaN</td>\n",
       "    </tr>\n",
       "  </tbody>\n",
       "</table>\n",
       "<p>5 rows × 27 columns</p>\n",
       "</div>"
      ],
      "text/plain": [
       "   Unnamed: 0 sessionId                  time  \\\n",
       "0         0.0      test  _2024_01_06_11_20_56   \n",
       "1         1.0      test  _2024_01_06_11_21_01   \n",
       "2         2.0      test  _2024_01_06_11_21_04   \n",
       "3         3.0      test  _2024_01_06_11_21_07   \n",
       "4         4.0      test  _2024_01_06_11_21_10   \n",
       "\n",
       "                          filename       th1  th1_value       th2  th2_value  \\\n",
       "0  er_file_2024_01_06_11_20_56.wav  0.164558       0.32  0.673863        0.5   \n",
       "1  er_file_2024_01_06_11_21_01.wav  0.225941       0.20  0.496771        0.5   \n",
       "2  er_file_2024_01_06_11_21_04.wav  0.145084       0.20  0.672597        0.5   \n",
       "3  er_file_2024_01_06_11_21_07.wav  0.150078       0.20  0.778181        0.5   \n",
       "4  er_file_2024_01_06_11_21_10.wav  0.142194       0.20  0.792797        0.5   \n",
       "\n",
       "        th3  th3_value  ...  tempAve humidityAvg  winddirAvg  uvHigh  \\\n",
       "0  0.215897       0.50  ...      3.9        94.0       170.0     0.0   \n",
       "1  0.023409       0.21  ...      3.9        94.0       170.0     0.0   \n",
       "2  0.039366       0.21  ...      3.9        94.0       170.0     0.0   \n",
       "3  0.079053       0.21  ...      3.9        94.0       170.0     0.0   \n",
       "4  0.024214       0.21  ...      3.9        94.0       170.0     0.0   \n",
       "\n",
       "   solarRadiationHigh       lon        lat  MIT_AST  Human_detected  \\\n",
       "0                35.1  5.462251  51.417782      Caw             1.0   \n",
       "1                35.1  5.462251  51.417782   Speech             1.0   \n",
       "2                35.1  5.462251  51.417782      Caw             1.0   \n",
       "3                35.1  5.462251  51.417782    Mouse             1.0   \n",
       "4                35.1  5.462251  51.417782     Bird             1.0   \n",
       "\n",
       "   BirdNET_label  \n",
       "0            NaN  \n",
       "1            NaN  \n",
       "2            NaN  \n",
       "3            NaN  \n",
       "4            NaN  \n",
       "\n",
       "[5 rows x 27 columns]"
      ]
     },
     "execution_count": 67,
     "metadata": {},
     "output_type": "execute_result"
    }
   ],
   "source": [
    "metadata_human_det_df.head()"
   ]
  },
  {
   "cell_type": "code",
   "execution_count": 72,
   "metadata": {},
   "outputs": [
    {
     "data": {
      "text/html": [
       "<div>\n",
       "<style scoped>\n",
       "    .dataframe tbody tr th:only-of-type {\n",
       "        vertical-align: middle;\n",
       "    }\n",
       "\n",
       "    .dataframe tbody tr th {\n",
       "        vertical-align: top;\n",
       "    }\n",
       "\n",
       "    .dataframe thead th {\n",
       "        text-align: right;\n",
       "    }\n",
       "</style>\n",
       "<table border=\"1\" class=\"dataframe\">\n",
       "  <thead>\n",
       "    <tr style=\"text-align: right;\">\n",
       "      <th></th>\n",
       "      <th>Unnamed: 0</th>\n",
       "      <th>sessionId</th>\n",
       "      <th>time</th>\n",
       "      <th>filename</th>\n",
       "      <th>th1</th>\n",
       "      <th>th1_value</th>\n",
       "      <th>th2</th>\n",
       "      <th>th2_value</th>\n",
       "      <th>th3</th>\n",
       "      <th>th3_value</th>\n",
       "      <th>...</th>\n",
       "      <th>humidityAvg</th>\n",
       "      <th>winddirAvg</th>\n",
       "      <th>uvHigh</th>\n",
       "      <th>solarRadiationHigh</th>\n",
       "      <th>lon</th>\n",
       "      <th>lat</th>\n",
       "      <th>BirdNET</th>\n",
       "      <th>MIT_AST_label</th>\n",
       "      <th>sound_class_label</th>\n",
       "      <th>Human_detected</th>\n",
       "    </tr>\n",
       "  </thead>\n",
       "  <tbody>\n",
       "    <tr>\n",
       "      <th>0</th>\n",
       "      <td>0</td>\n",
       "      <td>test</td>\n",
       "      <td>_2024_03_03_8_34_48</td>\n",
       "      <td>garden_03032024/0/er_file_2024_03_03_8_34_48.wav</td>\n",
       "      <td>0.382969</td>\n",
       "      <td>0.50</td>\n",
       "      <td>0.790168</td>\n",
       "      <td>0.50</td>\n",
       "      <td>0.255452</td>\n",
       "      <td>0.50</td>\n",
       "      <td>...</td>\n",
       "      <td>88.0</td>\n",
       "      <td>286.0</td>\n",
       "      <td>0.0</td>\n",
       "      <td>36.0</td>\n",
       "      <td>5.462251</td>\n",
       "      <td>51.417782</td>\n",
       "      <td>NaN</td>\n",
       "      <td>Bird</td>\n",
       "      <td>bird</td>\n",
       "      <td>1.0</td>\n",
       "    </tr>\n",
       "    <tr>\n",
       "      <th>1</th>\n",
       "      <td>1</td>\n",
       "      <td>test</td>\n",
       "      <td>_2024_03_03_8_34_50</td>\n",
       "      <td>garden_03032024/0/er_file_2024_03_03_8_34_50.wav</td>\n",
       "      <td>0.176002</td>\n",
       "      <td>0.25</td>\n",
       "      <td>0.932867</td>\n",
       "      <td>0.50</td>\n",
       "      <td>0.271969</td>\n",
       "      <td>0.50</td>\n",
       "      <td>...</td>\n",
       "      <td>88.0</td>\n",
       "      <td>286.0</td>\n",
       "      <td>0.0</td>\n",
       "      <td>36.0</td>\n",
       "      <td>5.462251</td>\n",
       "      <td>51.417782</td>\n",
       "      <td>Streptopelia decaocto_Eurasian Collared-Dove</td>\n",
       "      <td>Owl</td>\n",
       "      <td>bird</td>\n",
       "      <td>1.0</td>\n",
       "    </tr>\n",
       "    <tr>\n",
       "      <th>2</th>\n",
       "      <td>2</td>\n",
       "      <td>test</td>\n",
       "      <td>_2024_03_03_8_34_53</td>\n",
       "      <td>garden_03032024/0/er_file_2024_03_03_8_34_53.wav</td>\n",
       "      <td>0.278563</td>\n",
       "      <td>0.25</td>\n",
       "      <td>0.474437</td>\n",
       "      <td>0.50</td>\n",
       "      <td>0.023406</td>\n",
       "      <td>0.24</td>\n",
       "      <td>...</td>\n",
       "      <td>88.0</td>\n",
       "      <td>286.0</td>\n",
       "      <td>0.0</td>\n",
       "      <td>36.0</td>\n",
       "      <td>5.462251</td>\n",
       "      <td>51.417782</td>\n",
       "      <td>Streptopelia decaocto_Eurasian Collared-Dove</td>\n",
       "      <td>Owl</td>\n",
       "      <td>bird</td>\n",
       "      <td>1.0</td>\n",
       "    </tr>\n",
       "    <tr>\n",
       "      <th>3</th>\n",
       "      <td>3</td>\n",
       "      <td>test</td>\n",
       "      <td>_2024_03_03_8_34_56</td>\n",
       "      <td>garden_03032024/0/er_file_2024_03_03_8_34_56.wav</td>\n",
       "      <td>0.263044</td>\n",
       "      <td>0.25</td>\n",
       "      <td>0.812372</td>\n",
       "      <td>0.64</td>\n",
       "      <td>0.172581</td>\n",
       "      <td>0.24</td>\n",
       "      <td>...</td>\n",
       "      <td>88.0</td>\n",
       "      <td>286.0</td>\n",
       "      <td>0.0</td>\n",
       "      <td>36.0</td>\n",
       "      <td>5.462251</td>\n",
       "      <td>51.417782</td>\n",
       "      <td>Streptopelia decaocto_Eurasian Collared-Dove</td>\n",
       "      <td>Bird</td>\n",
       "      <td>bird</td>\n",
       "      <td>1.0</td>\n",
       "    </tr>\n",
       "    <tr>\n",
       "      <th>4</th>\n",
       "      <td>4</td>\n",
       "      <td>test</td>\n",
       "      <td>_2024_03_03_8_34_59</td>\n",
       "      <td>garden_03032024/0/er_file_2024_03_03_8_34_59.wav</td>\n",
       "      <td>0.164429</td>\n",
       "      <td>0.25</td>\n",
       "      <td>0.871671</td>\n",
       "      <td>0.64</td>\n",
       "      <td>0.044865</td>\n",
       "      <td>0.24</td>\n",
       "      <td>...</td>\n",
       "      <td>88.0</td>\n",
       "      <td>286.0</td>\n",
       "      <td>0.0</td>\n",
       "      <td>36.0</td>\n",
       "      <td>5.462251</td>\n",
       "      <td>51.417782</td>\n",
       "      <td>NaN</td>\n",
       "      <td>Bird</td>\n",
       "      <td>bird</td>\n",
       "      <td>1.0</td>\n",
       "    </tr>\n",
       "  </tbody>\n",
       "</table>\n",
       "<p>5 rows × 28 columns</p>\n",
       "</div>"
      ],
      "text/plain": [
       "   Unnamed: 0 sessionId                 time  \\\n",
       "0           0      test  _2024_03_03_8_34_48   \n",
       "1           1      test  _2024_03_03_8_34_50   \n",
       "2           2      test  _2024_03_03_8_34_53   \n",
       "3           3      test  _2024_03_03_8_34_56   \n",
       "4           4      test  _2024_03_03_8_34_59   \n",
       "\n",
       "                                           filename       th1  th1_value  \\\n",
       "0  garden_03032024/0/er_file_2024_03_03_8_34_48.wav  0.382969       0.50   \n",
       "1  garden_03032024/0/er_file_2024_03_03_8_34_50.wav  0.176002       0.25   \n",
       "2  garden_03032024/0/er_file_2024_03_03_8_34_53.wav  0.278563       0.25   \n",
       "3  garden_03032024/0/er_file_2024_03_03_8_34_56.wav  0.263044       0.25   \n",
       "4  garden_03032024/0/er_file_2024_03_03_8_34_59.wav  0.164429       0.25   \n",
       "\n",
       "        th2  th2_value       th3  th3_value  ...  humidityAvg winddirAvg  \\\n",
       "0  0.790168       0.50  0.255452       0.50  ...         88.0      286.0   \n",
       "1  0.932867       0.50  0.271969       0.50  ...         88.0      286.0   \n",
       "2  0.474437       0.50  0.023406       0.24  ...         88.0      286.0   \n",
       "3  0.812372       0.64  0.172581       0.24  ...         88.0      286.0   \n",
       "4  0.871671       0.64  0.044865       0.24  ...         88.0      286.0   \n",
       "\n",
       "   uvHigh  solarRadiationHigh       lon        lat  \\\n",
       "0     0.0                36.0  5.462251  51.417782   \n",
       "1     0.0                36.0  5.462251  51.417782   \n",
       "2     0.0                36.0  5.462251  51.417782   \n",
       "3     0.0                36.0  5.462251  51.417782   \n",
       "4     0.0                36.0  5.462251  51.417782   \n",
       "\n",
       "                                        BirdNET  MIT_AST_label  \\\n",
       "0                                           NaN           Bird   \n",
       "1  Streptopelia decaocto_Eurasian Collared-Dove            Owl   \n",
       "2  Streptopelia decaocto_Eurasian Collared-Dove            Owl   \n",
       "3  Streptopelia decaocto_Eurasian Collared-Dove           Bird   \n",
       "4                                           NaN           Bird   \n",
       "\n",
       "   sound_class_label  Human_detected  \n",
       "0               bird             1.0  \n",
       "1               bird             1.0  \n",
       "2               bird             1.0  \n",
       "3               bird             1.0  \n",
       "4               bird             1.0  \n",
       "\n",
       "[5 rows x 28 columns]"
      ]
     },
     "execution_count": 72,
     "metadata": {},
     "output_type": "execute_result"
    }
   ],
   "source": [
    "# add Human_detected from metadata_human_det_df to  df_meta_2504 on the 'filename' column\n",
    "df_meta_2504['Human_detected'] = metadata_human_det_df['Human_detected']\n",
    "df_meta_2504.head()"
   ]
  },
  {
   "cell_type": "code",
   "execution_count": 74,
   "metadata": {},
   "outputs": [],
   "source": [
    "#drop Unnamed: 0 column\n",
    "df_meta_2504.drop('Unnamed: 0', axis=1, inplace=True)"
   ]
  },
  {
   "cell_type": "code",
   "execution_count": 73,
   "metadata": {},
   "outputs": [
    {
     "data": {
      "text/plain": [
       "Human_detected\n",
       "0.0    254568\n",
       "1.0    135549\n",
       "Name: count, dtype: int64"
      ]
     },
     "execution_count": 73,
     "metadata": {},
     "output_type": "execute_result"
    }
   ],
   "source": [
    "df_meta_2504['Human_detected'].value_counts()"
   ]
  },
  {
   "cell_type": "code",
   "execution_count": 75,
   "metadata": {},
   "outputs": [],
   "source": [
    "df_meta_2504.to_excel('metadata_birdnet_mit_ast_human_detected_columns_18062024.xlsx', index=False)"
   ]
  },
  {
   "cell_type": "code",
   "execution_count": 68,
   "metadata": {},
   "outputs": [
    {
     "data": {
      "text/plain": [
       "(245769, 26)"
      ]
     },
     "execution_count": 68,
     "metadata": {},
     "output_type": "execute_result"
    }
   ],
   "source": [
    "# get metadata from all subfolders of the GardenFiles23 folder\n",
    "metadata_human_det_df = get_metadata_files('/Users/evgenynazarenko/DACS_3_year/Thesis/GardenFiles24')\n",
    "metadata_human_det_df.shape"
   ]
  },
  {
   "cell_type": "code",
   "execution_count": 69,
   "metadata": {},
   "outputs": [
    {
     "data": {
      "text/html": [
       "<div>\n",
       "<style scoped>\n",
       "    .dataframe tbody tr th:only-of-type {\n",
       "        vertical-align: middle;\n",
       "    }\n",
       "\n",
       "    .dataframe tbody tr th {\n",
       "        vertical-align: top;\n",
       "    }\n",
       "\n",
       "    .dataframe thead th {\n",
       "        text-align: right;\n",
       "    }\n",
       "</style>\n",
       "<table border=\"1\" class=\"dataframe\">\n",
       "  <thead>\n",
       "    <tr style=\"text-align: right;\">\n",
       "      <th></th>\n",
       "      <th>Unnamed: 0</th>\n",
       "      <th>sessionId</th>\n",
       "      <th>time</th>\n",
       "      <th>filename</th>\n",
       "      <th>th1</th>\n",
       "      <th>th1_value</th>\n",
       "      <th>th2</th>\n",
       "      <th>th2_value</th>\n",
       "      <th>th3</th>\n",
       "      <th>th3_value</th>\n",
       "      <th>...</th>\n",
       "      <th>windspeedAvg</th>\n",
       "      <th>tempAve</th>\n",
       "      <th>humidityAvg</th>\n",
       "      <th>winddirAvg</th>\n",
       "      <th>uvHigh</th>\n",
       "      <th>solarRadiationHigh</th>\n",
       "      <th>lon</th>\n",
       "      <th>lat</th>\n",
       "      <th>Human_detected</th>\n",
       "      <th>MIT_AST</th>\n",
       "    </tr>\n",
       "  </thead>\n",
       "  <tbody>\n",
       "    <tr>\n",
       "      <th>0</th>\n",
       "      <td>0</td>\n",
       "      <td>test</td>\n",
       "      <td>_2024_07_02_21_39_43</td>\n",
       "      <td>er_file_2024_07_02_21_39_43.wav</td>\n",
       "      <td>0.440825</td>\n",
       "      <td>0.2</td>\n",
       "      <td>0.658617</td>\n",
       "      <td>0.5</td>\n",
       "      <td>0.161717</td>\n",
       "      <td>0.22</td>\n",
       "      <td>...</td>\n",
       "      <td>6.2</td>\n",
       "      <td>16.0</td>\n",
       "      <td>68.3</td>\n",
       "      <td>288</td>\n",
       "      <td>0</td>\n",
       "      <td>9.1</td>\n",
       "      <td>5.462251</td>\n",
       "      <td>51.417782</td>\n",
       "      <td>1</td>\n",
       "      <td>NaN</td>\n",
       "    </tr>\n",
       "    <tr>\n",
       "      <th>1</th>\n",
       "      <td>1</td>\n",
       "      <td>test</td>\n",
       "      <td>_2024_07_02_21_39_45</td>\n",
       "      <td>er_file_2024_07_02_21_39_45.wav</td>\n",
       "      <td>0.328972</td>\n",
       "      <td>0.2</td>\n",
       "      <td>0.737728</td>\n",
       "      <td>0.5</td>\n",
       "      <td>0.119258</td>\n",
       "      <td>0.22</td>\n",
       "      <td>...</td>\n",
       "      <td>6.2</td>\n",
       "      <td>16.0</td>\n",
       "      <td>68.3</td>\n",
       "      <td>288</td>\n",
       "      <td>0</td>\n",
       "      <td>9.1</td>\n",
       "      <td>5.462251</td>\n",
       "      <td>51.417782</td>\n",
       "      <td>1</td>\n",
       "      <td>NaN</td>\n",
       "    </tr>\n",
       "    <tr>\n",
       "      <th>2</th>\n",
       "      <td>2</td>\n",
       "      <td>test</td>\n",
       "      <td>_2024_07_02_21_39_51</td>\n",
       "      <td>er_file_2024_07_02_21_39_51.wav</td>\n",
       "      <td>0.335507</td>\n",
       "      <td>0.2</td>\n",
       "      <td>0.895973</td>\n",
       "      <td>0.5</td>\n",
       "      <td>0.025542</td>\n",
       "      <td>0.22</td>\n",
       "      <td>...</td>\n",
       "      <td>6.2</td>\n",
       "      <td>16.0</td>\n",
       "      <td>68.3</td>\n",
       "      <td>288</td>\n",
       "      <td>0</td>\n",
       "      <td>9.1</td>\n",
       "      <td>5.462251</td>\n",
       "      <td>51.417782</td>\n",
       "      <td>1</td>\n",
       "      <td>NaN</td>\n",
       "    </tr>\n",
       "    <tr>\n",
       "      <th>3</th>\n",
       "      <td>3</td>\n",
       "      <td>test</td>\n",
       "      <td>_2024_07_02_21_39_57</td>\n",
       "      <td>er_file_2024_07_02_21_39_57.wav</td>\n",
       "      <td>0.588007</td>\n",
       "      <td>0.2</td>\n",
       "      <td>0.782013</td>\n",
       "      <td>0.5</td>\n",
       "      <td>0.151612</td>\n",
       "      <td>0.22</td>\n",
       "      <td>...</td>\n",
       "      <td>6.2</td>\n",
       "      <td>16.0</td>\n",
       "      <td>68.3</td>\n",
       "      <td>288</td>\n",
       "      <td>0</td>\n",
       "      <td>9.1</td>\n",
       "      <td>5.462251</td>\n",
       "      <td>51.417782</td>\n",
       "      <td>0</td>\n",
       "      <td>NaN</td>\n",
       "    </tr>\n",
       "    <tr>\n",
       "      <th>4</th>\n",
       "      <td>4</td>\n",
       "      <td>test</td>\n",
       "      <td>_2024_07_02_21_40_00</td>\n",
       "      <td>er_file_2024_07_02_21_40_00.wav</td>\n",
       "      <td>0.297391</td>\n",
       "      <td>0.2</td>\n",
       "      <td>0.884991</td>\n",
       "      <td>0.5</td>\n",
       "      <td>0.290724</td>\n",
       "      <td>0.22</td>\n",
       "      <td>...</td>\n",
       "      <td>6.2</td>\n",
       "      <td>16.0</td>\n",
       "      <td>68.3</td>\n",
       "      <td>288</td>\n",
       "      <td>0</td>\n",
       "      <td>9.1</td>\n",
       "      <td>5.462251</td>\n",
       "      <td>51.417782</td>\n",
       "      <td>1</td>\n",
       "      <td>NaN</td>\n",
       "    </tr>\n",
       "  </tbody>\n",
       "</table>\n",
       "<p>5 rows × 26 columns</p>\n",
       "</div>"
      ],
      "text/plain": [
       "   Unnamed: 0 sessionId                  time  \\\n",
       "0           0      test  _2024_07_02_21_39_43   \n",
       "1           1      test  _2024_07_02_21_39_45   \n",
       "2           2      test  _2024_07_02_21_39_51   \n",
       "3           3      test  _2024_07_02_21_39_57   \n",
       "4           4      test  _2024_07_02_21_40_00   \n",
       "\n",
       "                          filename       th1  th1_value       th2  th2_value  \\\n",
       "0  er_file_2024_07_02_21_39_43.wav  0.440825        0.2  0.658617        0.5   \n",
       "1  er_file_2024_07_02_21_39_45.wav  0.328972        0.2  0.737728        0.5   \n",
       "2  er_file_2024_07_02_21_39_51.wav  0.335507        0.2  0.895973        0.5   \n",
       "3  er_file_2024_07_02_21_39_57.wav  0.588007        0.2  0.782013        0.5   \n",
       "4  er_file_2024_07_02_21_40_00.wav  0.297391        0.2  0.884991        0.5   \n",
       "\n",
       "        th3  th3_value  ...  windspeedAvg tempAve  humidityAvg  winddirAvg  \\\n",
       "0  0.161717       0.22  ...           6.2    16.0         68.3         288   \n",
       "1  0.119258       0.22  ...           6.2    16.0         68.3         288   \n",
       "2  0.025542       0.22  ...           6.2    16.0         68.3         288   \n",
       "3  0.151612       0.22  ...           6.2    16.0         68.3         288   \n",
       "4  0.290724       0.22  ...           6.2    16.0         68.3         288   \n",
       "\n",
       "   uvHigh  solarRadiationHigh       lon        lat  Human_detected  MIT_AST  \n",
       "0       0                 9.1  5.462251  51.417782               1      NaN  \n",
       "1       0                 9.1  5.462251  51.417782               1      NaN  \n",
       "2       0                 9.1  5.462251  51.417782               1      NaN  \n",
       "3       0                 9.1  5.462251  51.417782               0      NaN  \n",
       "4       0                 9.1  5.462251  51.417782               1      NaN  \n",
       "\n",
       "[5 rows x 26 columns]"
      ]
     },
     "execution_count": 69,
     "metadata": {},
     "output_type": "execute_result"
    }
   ],
   "source": [
    "metadata_human_det_df.head()"
   ]
  },
  {
   "cell_type": "code",
   "execution_count": 70,
   "metadata": {},
   "outputs": [
    {
     "data": {
      "text/plain": [
       "Index(['Unnamed: 0', 'sessionId', 'time', 'filename', 'th1', 'th1_value',\n",
       "       'th2', 'th2_value', 'th3', 'th3_value', 'wudate', 'datetime',\n",
       "       'precipRate', 'pressureMax', 'dewptAvg', 'windgustHigh', 'windspeedAvg',\n",
       "       'tempAve', 'humidityAvg', 'winddirAvg', 'uvHigh', 'solarRadiationHigh',\n",
       "       'lon', 'lat', 'Human_detected', 'MIT_AST'],\n",
       "      dtype='object')"
      ]
     },
     "execution_count": 70,
     "metadata": {},
     "output_type": "execute_result"
    }
   ],
   "source": [
    "metadata_human_det_df.columns"
   ]
  },
  {
   "cell_type": "code",
   "execution_count": 72,
   "metadata": {},
   "outputs": [
    {
     "data": {
      "text/plain": [
       "Index(['sessionId', 'time', 'filename', 'th1', 'th1_value', 'th2', 'th2_value',\n",
       "       'th3', 'th3_value', 'wudate', 'datetime', 'precipRate', 'pressureMax',\n",
       "       'dewptAvg', 'windgustHigh', 'windspeedAvg', 'tempAve', 'humidityAvg',\n",
       "       'winddirAvg', 'uvHigh', 'solarRadiationHigh', 'Human_detected',\n",
       "       'MIT_AST'],\n",
       "      dtype='object')"
      ]
     },
     "execution_count": 72,
     "metadata": {},
     "output_type": "execute_result"
    }
   ],
   "source": [
    "metadata_human_det_df.drop(['Unnamed: 0','lon','lat'], axis=1, inplace=True)\n",
    "metadata_human_det_df.columns"
   ]
  },
  {
   "cell_type": "code",
   "execution_count": 73,
   "metadata": {},
   "outputs": [],
   "source": [
    "# drop \"Mit_ast\" if exists\n",
    "metadata_human_det_df.drop('MIT_AST', axis=1, inplace=True)\n"
   ]
  },
  {
   "cell_type": "code",
   "execution_count": 74,
   "metadata": {},
   "outputs": [
    {
     "data": {
      "text/plain": [
       "Index(['sessionId', 'time', 'filename', 'th1', 'th1_value', 'th2', 'th2_value',\n",
       "       'th3', 'th3_value', 'wudate', 'datetime', 'precipRate', 'pressureMax',\n",
       "       'dewptAvg', 'windgustHigh', 'windspeedAvg', 'tempAve', 'humidityAvg',\n",
       "       'winddirAvg', 'uvHigh', 'solarRadiationHigh', 'Human_detected'],\n",
       "      dtype='object')"
      ]
     },
     "execution_count": 74,
     "metadata": {},
     "output_type": "execute_result"
    }
   ],
   "source": [
    "metadata_human_det_df.columns"
   ]
  },
  {
   "cell_type": "code",
   "execution_count": 75,
   "metadata": {},
   "outputs": [],
   "source": [
    "# to exccel\n",
    "metadata_human_det_df.to_excel('metadata_12082024_2nd_part.xlsx', index=False)"
   ]
  }
 ],
 "metadata": {
  "kernelspec": {
   "display_name": "ast",
   "language": "python",
   "name": "python3"
  },
  "language_info": {
   "codemirror_mode": {
    "name": "ipython",
    "version": 3
   },
   "file_extension": ".py",
   "mimetype": "text/x-python",
   "name": "python",
   "nbconvert_exporter": "python",
   "pygments_lexer": "ipython3",
   "version": "3.12.1"
  }
 },
 "nbformat": 4,
 "nbformat_minor": 2
}
