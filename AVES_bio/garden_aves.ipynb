{
 "cells": [
  {
   "cell_type": "code",
   "execution_count": 3,
   "metadata": {},
   "outputs": [
    {
     "name": "stdout",
     "output_type": "stream",
     "text": [
      "PyTorch version: 2.3.0\n",
      "Is MPS (Metal Performance Shader) built? True\n",
      "Is MPS available? True\n",
      "Using device: mps\n"
     ]
    }
   ],
   "source": [
    "import torch\n",
    "import numpy as np\n",
    "import pandas as pd\n",
    "import sklearn\n",
    "import matplotlib.pyplot as plt\n",
    "\n",
    "print(f\"PyTorch version: {torch.__version__}\")\n",
    "\n",
    "# Check PyTorch has access to MPS (Metal Performance Shader, Apple's GPU architecture)\n",
    "print(f\"Is MPS (Metal Performance Shader) built? {torch.backends.mps.is_built()}\")\n",
    "print(f\"Is MPS available? {torch.backends.mps.is_available()}\")\n",
    "\n",
    "# Set the device      \n",
    "device = \"mps\" if torch.backends.mps.is_available() else \"cpu\"\n",
    "print(f\"Using device: {device}\")"
   ]
  },
  {
   "cell_type": "code",
   "execution_count": null,
   "metadata": {},
   "outputs": [],
   "source": [
    "# Set the device\n",
    "#device = \"mps\" if torch.backends.mps.is_available() else \"cpu\"\n"
   ]
  },
  {
   "cell_type": "code",
   "execution_count": 4,
   "metadata": {},
   "outputs": [],
   "source": [
    "import pandas as pd\n",
    "import os\n",
    "from glob import glob\n",
    "import numpy as np\n"
   ]
  },
  {
   "cell_type": "code",
   "execution_count": 5,
   "metadata": {},
   "outputs": [],
   "source": [
    "def get_audio_files(data_dir):\n",
    "    file_names = []\n",
    "    file_paths = []\n",
    "    \n",
    "\n",
    "    # Walk through all directories and subdirectories\n",
    "    for root, dirs, files in os.walk(data_dir):\n",
    "        # Use glob to find all .wav files in the current directory\n",
    "        for fp in sorted(glob(os.path.join(root, '*.wav'))):\n",
    "            bn = os.path.basename(fp)\n",
    "            file_names.append(bn)\n",
    "            file_paths.append(fp)\n",
    "            \n",
    "\n",
    "    # Create a DataFrame from the collected file names and paths\n",
    "    df = pd.DataFrame({\n",
    "        \"filename\": file_names,\n",
    "        \"filepath\": file_paths,\n",
    "    })\n",
    "    return df\n"
   ]
  },
  {
   "cell_type": "code",
   "execution_count": 6,
   "metadata": {},
   "outputs": [
    {
     "name": "stdout",
     "output_type": "stream",
     "text": [
      "(390738, 2)\n"
     ]
    }
   ],
   "source": [
    "# Define the root directory containing all subfolders of interest\n",
    "folder_path = '/Users/evgenynazarenko/DACS_3_year/Thesis/GardenFiles23'\n",
    "temp_df = get_audio_files(folder_path)\n",
    "print(temp_df.shape)\n"
   ]
  },
  {
   "cell_type": "code",
   "execution_count": 7,
   "metadata": {},
   "outputs": [
    {
     "data": {
      "text/html": [
       "<div>\n",
       "<style scoped>\n",
       "    .dataframe tbody tr th:only-of-type {\n",
       "        vertical-align: middle;\n",
       "    }\n",
       "\n",
       "    .dataframe tbody tr th {\n",
       "        vertical-align: top;\n",
       "    }\n",
       "\n",
       "    .dataframe thead th {\n",
       "        text-align: right;\n",
       "    }\n",
       "</style>\n",
       "<table border=\"1\" class=\"dataframe\">\n",
       "  <thead>\n",
       "    <tr style=\"text-align: right;\">\n",
       "      <th></th>\n",
       "      <th>filename</th>\n",
       "      <th>filepath</th>\n",
       "    </tr>\n",
       "  </thead>\n",
       "  <tbody>\n",
       "    <tr>\n",
       "      <th>0</th>\n",
       "      <td>er_file_2024_01_10_10_00_00.wav</td>\n",
       "      <td>/Users/evgenynazarenko/DACS_3_year/Thesis/Gard...</td>\n",
       "    </tr>\n",
       "    <tr>\n",
       "      <th>1</th>\n",
       "      <td>er_file_2024_01_10_10_00_44.wav</td>\n",
       "      <td>/Users/evgenynazarenko/DACS_3_year/Thesis/Gard...</td>\n",
       "    </tr>\n",
       "    <tr>\n",
       "      <th>2</th>\n",
       "      <td>er_file_2024_01_10_10_00_51.wav</td>\n",
       "      <td>/Users/evgenynazarenko/DACS_3_year/Thesis/Gard...</td>\n",
       "    </tr>\n",
       "    <tr>\n",
       "      <th>3</th>\n",
       "      <td>er_file_2024_01_10_10_01_11.wav</td>\n",
       "      <td>/Users/evgenynazarenko/DACS_3_year/Thesis/Gard...</td>\n",
       "    </tr>\n",
       "    <tr>\n",
       "      <th>4</th>\n",
       "      <td>er_file_2024_01_10_10_01_58.wav</td>\n",
       "      <td>/Users/evgenynazarenko/DACS_3_year/Thesis/Gard...</td>\n",
       "    </tr>\n",
       "  </tbody>\n",
       "</table>\n",
       "</div>"
      ],
      "text/plain": [
       "                          filename  \\\n",
       "0  er_file_2024_01_10_10_00_00.wav   \n",
       "1  er_file_2024_01_10_10_00_44.wav   \n",
       "2  er_file_2024_01_10_10_00_51.wav   \n",
       "3  er_file_2024_01_10_10_01_11.wav   \n",
       "4  er_file_2024_01_10_10_01_58.wav   \n",
       "\n",
       "                                            filepath  \n",
       "0  /Users/evgenynazarenko/DACS_3_year/Thesis/Gard...  \n",
       "1  /Users/evgenynazarenko/DACS_3_year/Thesis/Gard...  \n",
       "2  /Users/evgenynazarenko/DACS_3_year/Thesis/Gard...  \n",
       "3  /Users/evgenynazarenko/DACS_3_year/Thesis/Gard...  \n",
       "4  /Users/evgenynazarenko/DACS_3_year/Thesis/Gard...  "
      ]
     },
     "execution_count": 7,
     "metadata": {},
     "output_type": "execute_result"
    }
   ],
   "source": [
    "temp_df.head()"
   ]
  },
  {
   "cell_type": "markdown",
   "metadata": {},
   "source": [
    "Ok, now let's get the labeld data with BirdNET and filter (Streptopelia decaocto_Eurasian Collared-Dove 3819) and\n",
    "(Columba palumbus_Common Wood-Pigeon 3182) detections\n",
    " "
   ]
  },
  {
   "cell_type": "code",
   "execution_count": 10,
   "metadata": {},
   "outputs": [
    {
     "data": {
      "text/plain": [
       "(404553, 14)"
      ]
     },
     "execution_count": 10,
     "metadata": {},
     "output_type": "execute_result"
    }
   ],
   "source": [
    "# read the file from metadata folder\n",
    "metedata = pd.read_csv('../MIT_AST/metadata/stats_full_25.04_full.csv')\n",
    "metedata.shape"
   ]
  },
  {
   "cell_type": "code",
   "execution_count": 16,
   "metadata": {},
   "outputs": [
    {
     "name": "stdout",
     "output_type": "stream",
     "text": [
      "(3819, 14)\n"
     ]
    }
   ],
   "source": [
    "# filter dove detections\n",
    "dove_df = metedata[metedata['BirdNET'] == 'Streptopelia decaocto_Eurasian Collared-Dove']\n",
    "print(dove_df.shape)\n",
    "\n"
   ]
  },
  {
   "cell_type": "code",
   "execution_count": 18,
   "metadata": {},
   "outputs": [],
   "source": [
    "from datetime import datetime\n",
    "\n",
    "def generate_file_name(date_time_str, file_prefix='er_file_'):\n",
    "    \"\"\"\n",
    "    Generate a file path for an audio file based on the date and time.\n",
    "\n",
    "    Parameters:\n",
    "    - date_time_str (str): The date and time string in the format 'YYYY-MM-DD HH:MM:SS'.\n",
    "    \n",
    "    - file_prefix (str): Prefix for the filename.\n",
    "\n",
    "    Returns:\n",
    "    - str: The full path to the file.\n",
    "    \"\"\"\n",
    "    # Convert the date_time_str to a datetime object\n",
    "    date_time_obj = datetime.strptime(date_time_str, '%Y-%m-%d %H:%M:%S')\n",
    "    \n",
    "    # Format the datetime object into the filename format 'YYYY_MM_DD_H_MM_SS'\n",
    "    file_name = date_time_obj.strftime('%Y_%m_%d_%-H_%M_%S')\n",
    "    \n",
    "    # Append file extension\n",
    "    file_extension = '.wav'\n",
    "    \n",
    "    # Construct the full file path\n",
    "    full_file_name = f\"{file_prefix}{file_name}{file_extension}\"\n",
    "    \n",
    "    return full_file_name\n",
    "\n",
    "# Example usage\n",
    "\n",
    "\n"
   ]
  },
  {
   "cell_type": "code",
   "execution_count": 19,
   "metadata": {},
   "outputs": [
    {
     "name": "stderr",
     "output_type": "stream",
     "text": [
      "/var/folders/lh/0lt7mv811l56hczm0y7dwzym0000gn/T/ipykernel_2821/2334565232.py:3: SettingWithCopyWarning: \n",
      "A value is trying to be set on a copy of a slice from a DataFrame.\n",
      "Try using .loc[row_indexer,col_indexer] = value instead\n",
      "\n",
      "See the caveats in the documentation: https://pandas.pydata.org/pandas-docs/stable/user_guide/indexing.html#returning-a-view-versus-a-copy\n",
      "  dove_df.loc[:, 'file_name'] = dove_df['datetime'].apply(generate_file_name)\n"
     ]
    },
    {
     "data": {
      "text/html": [
       "<div>\n",
       "<style scoped>\n",
       "    .dataframe tbody tr th:only-of-type {\n",
       "        vertical-align: middle;\n",
       "    }\n",
       "\n",
       "    .dataframe tbody tr th {\n",
       "        vertical-align: top;\n",
       "    }\n",
       "\n",
       "    .dataframe thead th {\n",
       "        text-align: right;\n",
       "    }\n",
       "</style>\n",
       "<table border=\"1\" class=\"dataframe\">\n",
       "  <thead>\n",
       "    <tr style=\"text-align: right;\">\n",
       "      <th></th>\n",
       "      <th>datetime</th>\n",
       "      <th>precipRate</th>\n",
       "      <th>pressureMax</th>\n",
       "      <th>dewptAvg</th>\n",
       "      <th>windgustHigh</th>\n",
       "      <th>windspeedAvg</th>\n",
       "      <th>tempAve</th>\n",
       "      <th>humidityAvg</th>\n",
       "      <th>winddirAvg</th>\n",
       "      <th>uvHigh</th>\n",
       "      <th>solarRadiationHigh</th>\n",
       "      <th>BirdNET</th>\n",
       "      <th>MIT_AST_label</th>\n",
       "      <th>sound_class_label</th>\n",
       "      <th>file_name</th>\n",
       "    </tr>\n",
       "  </thead>\n",
       "  <tbody>\n",
       "    <tr>\n",
       "      <th>1</th>\n",
       "      <td>2024-03-03 08:34:50</td>\n",
       "      <td>0.0</td>\n",
       "      <td>995.33</td>\n",
       "      <td>7.6</td>\n",
       "      <td>3.5</td>\n",
       "      <td>1.4</td>\n",
       "      <td>9.6</td>\n",
       "      <td>88.0</td>\n",
       "      <td>286.0</td>\n",
       "      <td>0.0</td>\n",
       "      <td>36.0</td>\n",
       "      <td>Streptopelia decaocto_Eurasian Collared-Dove</td>\n",
       "      <td>Owl</td>\n",
       "      <td>bird</td>\n",
       "      <td>er_file_2024_03_03_8_34_50.wav</td>\n",
       "    </tr>\n",
       "    <tr>\n",
       "      <th>2</th>\n",
       "      <td>2024-03-03 08:34:53</td>\n",
       "      <td>0.0</td>\n",
       "      <td>995.33</td>\n",
       "      <td>7.6</td>\n",
       "      <td>3.5</td>\n",
       "      <td>1.4</td>\n",
       "      <td>9.6</td>\n",
       "      <td>88.0</td>\n",
       "      <td>286.0</td>\n",
       "      <td>0.0</td>\n",
       "      <td>36.0</td>\n",
       "      <td>Streptopelia decaocto_Eurasian Collared-Dove</td>\n",
       "      <td>Owl</td>\n",
       "      <td>bird</td>\n",
       "      <td>er_file_2024_03_03_8_34_53.wav</td>\n",
       "    </tr>\n",
       "    <tr>\n",
       "      <th>3</th>\n",
       "      <td>2024-03-03 08:34:56</td>\n",
       "      <td>0.0</td>\n",
       "      <td>995.33</td>\n",
       "      <td>7.6</td>\n",
       "      <td>3.5</td>\n",
       "      <td>1.4</td>\n",
       "      <td>9.6</td>\n",
       "      <td>88.0</td>\n",
       "      <td>286.0</td>\n",
       "      <td>0.0</td>\n",
       "      <td>36.0</td>\n",
       "      <td>Streptopelia decaocto_Eurasian Collared-Dove</td>\n",
       "      <td>Bird</td>\n",
       "      <td>bird</td>\n",
       "      <td>er_file_2024_03_03_8_34_56.wav</td>\n",
       "    </tr>\n",
       "    <tr>\n",
       "      <th>5</th>\n",
       "      <td>2024-03-03 08:35:02</td>\n",
       "      <td>0.0</td>\n",
       "      <td>995.33</td>\n",
       "      <td>7.6</td>\n",
       "      <td>3.5</td>\n",
       "      <td>1.4</td>\n",
       "      <td>9.6</td>\n",
       "      <td>88.0</td>\n",
       "      <td>286.0</td>\n",
       "      <td>0.0</td>\n",
       "      <td>36.0</td>\n",
       "      <td>Streptopelia decaocto_Eurasian Collared-Dove</td>\n",
       "      <td>Hoot</td>\n",
       "      <td>bird</td>\n",
       "      <td>er_file_2024_03_03_8_35_02.wav</td>\n",
       "    </tr>\n",
       "    <tr>\n",
       "      <th>7</th>\n",
       "      <td>2024-03-03 08:35:08</td>\n",
       "      <td>0.0</td>\n",
       "      <td>995.33</td>\n",
       "      <td>7.6</td>\n",
       "      <td>3.5</td>\n",
       "      <td>1.4</td>\n",
       "      <td>9.6</td>\n",
       "      <td>88.0</td>\n",
       "      <td>286.0</td>\n",
       "      <td>0.0</td>\n",
       "      <td>36.0</td>\n",
       "      <td>Streptopelia decaocto_Eurasian Collared-Dove</td>\n",
       "      <td>Hoot</td>\n",
       "      <td>bird</td>\n",
       "      <td>er_file_2024_03_03_8_35_08.wav</td>\n",
       "    </tr>\n",
       "  </tbody>\n",
       "</table>\n",
       "</div>"
      ],
      "text/plain": [
       "              datetime  precipRate  pressureMax  dewptAvg  windgustHigh  \\\n",
       "1  2024-03-03 08:34:50         0.0       995.33       7.6           3.5   \n",
       "2  2024-03-03 08:34:53         0.0       995.33       7.6           3.5   \n",
       "3  2024-03-03 08:34:56         0.0       995.33       7.6           3.5   \n",
       "5  2024-03-03 08:35:02         0.0       995.33       7.6           3.5   \n",
       "7  2024-03-03 08:35:08         0.0       995.33       7.6           3.5   \n",
       "\n",
       "   windspeedAvg  tempAve  humidityAvg  winddirAvg  uvHigh  solarRadiationHigh  \\\n",
       "1           1.4      9.6         88.0       286.0     0.0                36.0   \n",
       "2           1.4      9.6         88.0       286.0     0.0                36.0   \n",
       "3           1.4      9.6         88.0       286.0     0.0                36.0   \n",
       "5           1.4      9.6         88.0       286.0     0.0                36.0   \n",
       "7           1.4      9.6         88.0       286.0     0.0                36.0   \n",
       "\n",
       "                                        BirdNET MIT_AST_label  \\\n",
       "1  Streptopelia decaocto_Eurasian Collared-Dove           Owl   \n",
       "2  Streptopelia decaocto_Eurasian Collared-Dove           Owl   \n",
       "3  Streptopelia decaocto_Eurasian Collared-Dove          Bird   \n",
       "5  Streptopelia decaocto_Eurasian Collared-Dove          Hoot   \n",
       "7  Streptopelia decaocto_Eurasian Collared-Dove          Hoot   \n",
       "\n",
       "  sound_class_label                       file_name  \n",
       "1              bird  er_file_2024_03_03_8_34_50.wav  \n",
       "2              bird  er_file_2024_03_03_8_34_53.wav  \n",
       "3              bird  er_file_2024_03_03_8_34_56.wav  \n",
       "5              bird  er_file_2024_03_03_8_35_02.wav  \n",
       "7              bird  er_file_2024_03_03_8_35_08.wav  "
      ]
     },
     "execution_count": 19,
     "metadata": {},
     "output_type": "execute_result"
    }
   ],
   "source": [
    "# reconstruct the file path from datetime column and add it to the dataframe\n",
    "# Applying the function to create file paths using .loc and column names directly\n",
    "dove_df.loc[:, 'file_name'] = dove_df['datetime'].apply(generate_file_name)\n",
    "dove_df.head()"
   ]
  },
  {
   "cell_type": "code",
   "execution_count": 20,
   "metadata": {},
   "outputs": [
    {
     "data": {
      "text/plain": [
       "count                               3819\n",
       "unique                              3819\n",
       "top       er_file_2024_03_03_8_34_50.wav\n",
       "freq                                   1\n",
       "Name: file_name, dtype: object"
      ]
     },
     "execution_count": 20,
     "metadata": {},
     "output_type": "execute_result"
    }
   ],
   "source": [
    "dove_df['file_name'].describe()"
   ]
  },
  {
   "cell_type": "code",
   "execution_count": 21,
   "metadata": {},
   "outputs": [
    {
     "data": {
      "text/plain": [
       "(3819, 15)"
      ]
     },
     "execution_count": 21,
     "metadata": {},
     "output_type": "execute_result"
    }
   ],
   "source": [
    "# check the matches between dove_df and temp_df\n",
    "found_df = dove_df[dove_df['file_name'].isin(temp_df['filename'])]\n",
    "found_df.shape\n"
   ]
  },
  {
   "cell_type": "markdown",
   "metadata": {},
   "source": [
    "We have filtered out Dove subset from GardenFiles23. Now we make machinery to cluster and hopefully build a classifier to accurately split Dove dataset into \"kwah\" and \"koo-Kook\" classes for futher analysis."
   ]
  },
  {
   "cell_type": "markdown",
   "metadata": {},
   "source": [
    "Now let's process 1 big Folder and check the classes if they confirm with the ornitology knowledge:\n",
    "\n",
    "Songs\n",
    "\n",
    "Males give the distinctive koo-KOO-kook song to defend territories and attract mates. The song may be repeated 3–12 times with the middle syllable much longer than the first and last. Females advertise with a softer version of the song. Both sexes give a lower-pitched, slower version when searching for nest sites and building the nest.\n",
    "\n",
    "Calls\n",
    "\n",
    "When excited or alarmed, they react with a loud hwaah, a call they also give just before alighting.  "
   ]
  },
  {
   "cell_type": "code",
   "execution_count": 22,
   "metadata": {},
   "outputs": [],
   "source": [
    "import torch\n",
    "import torchaudio\n",
    "from torch.utils.data import Dataset, DataLoader\n",
    "import torch.nn.functional as F"
   ]
  },
  {
   "cell_type": "code",
   "execution_count": 23,
   "metadata": {},
   "outputs": [],
   "source": [
    "class Vox(Dataset):\n",
    "    def __init__(self, dataset_dataframe, audio_sr):\n",
    "        \"\"\" Dataset for vocalization classification with AVES\n",
    "\n",
    "        Input\n",
    "        -----\n",
    "        dataset_dataframe (pandas dataframe): indicating the filepath, annotations and partition of a signal\n",
    "        audio_sr (int): sampling rate expected by network\n",
    "        annotation_name (list[str]): string corresponding to the annotation columns in the dataframe, e.g. [\"call_type\",\"recording_date\"]\n",
    "        \"\"\"\n",
    "        super().__init__()\n",
    "        self.audio_sr = audio_sr\n",
    "        #self.annotation_names = annotation_names\n",
    "        self.dataset_info = dataset_dataframe\n",
    "\n",
    "    def __len__(self):\n",
    "        return len(self.dataset_info)\n",
    "\n",
    "    def get_one_item(self, idx):\n",
    "      \"\"\" Load base audio \"\"\"\n",
    "      row = self.dataset_info.iloc[idx]\n",
    "      x, sr = torchaudio.load(row[\"filepath\"])\n",
    "      if len(x.size()) == 2:\n",
    "          x = x[0, :]\n",
    "      if sr != self.audio_sr:\n",
    "          x = torchaudio.functional.resample(x, sr, self.audio_sr)\n",
    "      return x, row\n",
    "\n",
    "    def __getitem__(self, idx):\n",
    "        x, row = self.get_one_item(idx)\n",
    "        out = {\"x\" : x, \"filepath\" : row['filepath'], \"filename\" : row['filename']}\n",
    "        # no annotations for now\n",
    "        #for k in self.annotation_names:\n",
    "        #  out[k] = row[k]\n",
    "        return out\n",
    "\n",
    "def get_dataloader(dataset_dataframe, audio_sr):\n",
    "    return DataLoader(\n",
    "            Vox(dataset_dataframe, audio_sr),\n",
    "            batch_size=1,\n",
    "            shuffle=False,\n",
    "            drop_last=False\n",
    "        )"
   ]
  },
  {
   "cell_type": "code",
   "execution_count": 24,
   "metadata": {},
   "outputs": [],
   "source": [
    "from torchaudio.models import wav2vec2_model\n",
    "import json\n",
    "import torch.nn as nn"
   ]
  },
  {
   "cell_type": "code",
   "execution_count": 25,
   "metadata": {},
   "outputs": [],
   "source": [
    "class AvesMeanEmbedding(nn.Module):\n",
    "    \"\"\" Uses AVES Hubert to embed sounds and classify \"\"\"\n",
    "    def __init__(self, config_path, model_path, embedding_dim=768):\n",
    "        super().__init__()\n",
    "        # reference: https://pytorch.org/audio/stable/_modules/torchaudio/models/wav2vec2/utils/import_fairseq.html\n",
    "        self.config = self.load_config(config_path)\n",
    "        self.model = wav2vec2_model(**self.config, aux_num_out=None)\n",
    "        self.model.load_state_dict(torch.load(model_path))\n",
    "        self.audio_sr = 16000\n",
    "\n",
    "    def load_config(self, config_path):\n",
    "        with open(config_path, 'r') as ff:\n",
    "            obj = json.load(ff)\n",
    "        return obj\n",
    "\n",
    "    def forward(self, sig):\n",
    "        \"\"\"\n",
    "        Input\n",
    "          sig (Tensor): (batch, time)\n",
    "        Returns\n",
    "          mean_embedding (Tensor): (batch, output_dim)\n",
    "          logits (Tensor): (batch, n_classes)\n",
    "        \"\"\"\n",
    "        # extract_feature in the sorchaudio version will output all 12 layers' output, -1 to select the final one\n",
    "        out = self.model.extract_features(sig)[0][-1]\n",
    "        mean_embedding = out.mean(dim=1) #over time\n",
    "        return mean_embedding"
   ]
  },
  {
   "cell_type": "code",
   "execution_count": 26,
   "metadata": {},
   "outputs": [],
   "source": [
    "import sklearn.cluster\n",
    "from tqdm import tqdm\n",
    "import matplotlib.pyplot as plt"
   ]
  },
  {
   "cell_type": "code",
   "execution_count": 27,
   "metadata": {},
   "outputs": [],
   "source": [
    "def run(dataset_dataframe,n_clusters, aves_sr=16000):\n",
    "\n",
    "  print(\"~~ Setting up model\")\n",
    "  embedding_model = AvesMeanEmbedding(\n",
    "      config_path=\"/Users/evgenynazarenko/DACS_3_year/Thesis/AVES_bio/config.json\",\n",
    "      model_path=\"/Users/evgenynazarenko/DACS_3_year/Thesis/AVES_bio/aves-base-bio.torchaudio.pt\"\n",
    "  );\n",
    "  embedding_model.eval()\n",
    "# Determine the device to use: MPS if available, otherwise CPU\n",
    "  device = \"mps\" if torch.backends.mps.is_available() else \"cpu\"\n",
    "  embedding_model.to(device)\n",
    "\n",
    "  print(\"~~ Setting up dataloader\")\n",
    "  dataloader = get_dataloader(dataset_dataframe, embedding_model.audio_sr)\n",
    "\n",
    "  print(f\"~~ Compute AVES embeddings\")\n",
    "  with torch.no_grad():\n",
    "    features = []; filepaths = []; filenames = []# ; known_classes = {k:[] for k in annotation_names} no annotations for now\n",
    "    for data_idx, data_dict in enumerate(tqdm(dataloader)):\n",
    "        x = data_dict[\"x\"].to(device)# move data to device\n",
    "        features.append(embedding_model(x).cpu().numpy())\n",
    "        filepaths.append(data_dict[\"filepath\"])\n",
    "        filenames.append(data_dict[\"filename\"])\n",
    "        #no annotations for now\n",
    "        #for k in annotation_names:\n",
    "        #  known_classes[k].append(data_dict[k])\n",
    "\n",
    "  print(f\"~~ Begin clustering \")\n",
    "  X = np.concatenate(features, axis=0) #(n_samples, n_features)\n",
    "  cluster_method = sklearn.cluster.KMeans(\n",
    "    n_clusters=n_clusters,\n",
    "    init='k-means++',\n",
    "    n_init='auto',\n",
    "    random_state=0\n",
    "    )\n",
    "  predictions = cluster_method.fit_predict(X)\n",
    "\n",
    "  return {\n",
    "        \"filepaths\": filepaths,\n",
    "        \"filenames\": filenames,\n",
    "        \"predictions\": predictions\n",
    "    }\n"
   ]
  },
  {
   "cell_type": "code",
   "execution_count": 28,
   "metadata": {},
   "outputs": [],
   "source": [
    "from sklearn.cluster import DBSCAN\n",
    "from sklearn.preprocessing import StandardScaler\n",
    "\n",
    "\n",
    "def run_aves(dataset_dataframe):\n",
    "    \"\"\"\n",
    "    Run AVES on a dataframe of audio files\n",
    "\n",
    "    Input\n",
    "    -----\n",
    "    dataframe (pandas dataframe): containing columns \"filename\" and \"filepath\"\n",
    "\n",
    "    Returns\n",
    "    -------\n",
    "    dictionary with keys \"filepaths\", \"filenames\", \"features\", where \"features\" is a list of numpy arrays\n",
    "    \"\"\"\n",
    "    print(\"~~ Setting up model\")\n",
    "    embedding_model = AvesMeanEmbedding(\n",
    "        config_path=\"/Users/evgenynazarenko/DACS_3_year/Thesis/AVES_bio/config.json\",\n",
    "        model_path=\"/Users/evgenynazarenko/DACS_3_year/Thesis/AVES_bio/aves-base-bio.torchaudio.pt\"\n",
    "    );\n",
    "    embedding_model.eval()\n",
    "    # Determine the device to use: MPS if available, otherwise CPU\n",
    "    device = \"mps\" if torch.backends.mps.is_available() else \"cpu\"\n",
    "    embedding_model.to(device)\n",
    "\n",
    "    print(\"~~ Setting up dataloader\")\n",
    "    dataloader = get_dataloader(dataset_dataframe, embedding_model.audio_sr)\n",
    "\n",
    "    print(f\"~~ Compute AVES embeddings\")\n",
    "    with torch.no_grad():\n",
    "        features = []; filepaths = []; filenames = []# ; known_classes = {k:[] for k in annotation_names} no annotations for now\n",
    "        for data_idx, data_dict in enumerate(tqdm(dataloader)):\n",
    "            x = data_dict[\"x\"].to(device)# move data to device\n",
    "            features.append(embedding_model(x).cpu().numpy())\n",
    "            filepaths.append(data_dict[\"filepath\"])\n",
    "            filenames.append(data_dict[\"filename\"])\n",
    "\n",
    "    return {\n",
    "        \"filepaths\": filepaths,\n",
    "        \"filenames\": filenames,\n",
    "        \"features\": features\n",
    "    }\n",
    "\n",
    "\n",
    "def dbscan_clustering(aves_results_dict):\n",
    "    \"\"\"\n",
    "    Perform DBSCAN clustering on AVES embeddings\n",
    "\n",
    "    Input\n",
    "\n",
    "    aves_results_dict (dict): output of run_aves\n",
    "\n",
    "    Returns\n",
    "\n",
    "    aves_results_dict (dict): updated with key \"predictions\"\n",
    "    \"\"\"\n",
    "    print(f\"~~ Begin clustering \")\n",
    "\n",
    "\n",
    "    X = np.concatenate(aves_results_dict[\"features\"], axis=0) #(n_samples, n_features)\n",
    "\n",
    "    # Standardize the features before clustering\n",
    "    scaler = StandardScaler()\n",
    "    X_scaled = scaler.fit_transform(X)\n",
    "\n",
    "    cluster_method = sklearn.cluster.DBSCAN(\n",
    "        eps=20,\n",
    "        min_samples=5,\n",
    "        metric='euclidean',\n",
    "        n_jobs=-1\n",
    "    )\n",
    "    predictions = cluster_method.fit_predict(X_scaled)\n",
    "\n",
    "    aves_results_dict[\"predictions\"] = predictions\n",
    "\n",
    "    return aves_results_dict\n",
    "\n",
    "def knn_clustering(aves_results_dict, n_clusters):\n",
    "    \"\"\"\n",
    "    Perform KMeans clustering on AVES embeddings\n",
    "\n",
    "    Input\n",
    "\n",
    "    aves_results_dict (dict): output of run_aves\n",
    "\n",
    "    Returns\n",
    "\n",
    "    aves_results_dict (dict): updated with key \"predictions\"\n",
    "    \"\"\"\n",
    "    print(f\"~~ Begin clustering \")\n",
    "\n",
    "    X = np.concatenate(aves_results_dict[\"features\"], axis=0) #(n_samples, n_features)\n",
    "\n",
    "    cluster_method = sklearn.cluster.KMeans(\n",
    "        n_clusters=n_clusters,\n",
    "        init='k-means++',\n",
    "        n_init='auto',\n",
    "        random_state=0\n",
    "    )\n",
    "    predictions = cluster_method.fit_predict(X)\n",
    "\n",
    "    aves_results_dict[\"predictions\"] = predictions\n",
    "\n",
    "    return aves_results_dict\n"
   ]
  },
  {
   "cell_type": "code",
   "execution_count": 29,
   "metadata": {},
   "outputs": [],
   "source": [
    "# process the .wav file if the filename is in the list of the dove_df\n",
    "\n",
    "def run_cluster_aves(folder_path, bird_df,n_clusters):\n",
    "    # Get the list of files in the folder\n",
    "    df = get_audio_files(folder_path)# file names and paths\n",
    "    print(f'Shape from get_audio_files {df.shape}')\n",
    "    # check if the file name is in the dove_df\n",
    "    df['is_dove'] = df['filename'].apply(lambda x: x in bird_df['file_name'].values)\n",
    "    print(f'shape from is_dove check{df.shape}')\n",
    "    # filter only dove files\n",
    "    df = df[df['is_dove']]\n",
    "    print(f'shape df before run{df.shape}')\n",
    "    # Run the clustering\n",
    "    results = run(df, n_clusters)\n",
    "    #print(f\"Clustering results: {results}\")\n",
    "    results_df = pd.DataFrame(results)\n",
    "    print(f' results shape{results_df.shape}')\n",
    "     # Flatten the lists in results['filenames'] and results['filepaths']\n",
    "    flattened_filenames = [item for sublist in results['filenames'] for item in sublist]\n",
    "    flattened_filepaths = [item for sublist in results['filepaths'] for item in sublist]\n",
    "    results_df = pd.DataFrame({\n",
    "        'filenames': flattened_filenames,\n",
    "        'filepaths': flattened_filepaths,\n",
    "        'predictions': results['predictions']\n",
    "    })\n",
    "   # Add filepaths and clusters to bird_df using .loc to avoid SettingWithCopyWarning\n",
    "    bird_df.loc[:, 'filepaths'] = bird_df['file_name'].map(dict(zip(results_df['filenames'], results_df['filepaths'])))\n",
    "    bird_df.loc[:, 'clusters'] = bird_df['file_name'].map(dict(zip(results_df['filenames'], results_df['predictions'])))\n",
    "\n",
    "\n",
    "    return bird_df\n",
    "   "
   ]
  },
  {
   "cell_type": "code",
   "execution_count": 223,
   "metadata": {},
   "outputs": [
    {
     "name": "stdout",
     "output_type": "stream",
     "text": [
      "Shape from get_audio_files (390738, 2)\n",
      "shape from is_dove check(390738, 3)\n",
      "shape df before run(3820, 3)\n",
      "~~ Setting up model\n",
      "~~ Setting up dataloader\n",
      "~~ Compute AVES embeddings\n"
     ]
    },
    {
     "name": "stderr",
     "output_type": "stream",
     "text": [
      "100%|██████████| 3820/3820 [02:15<00:00, 28.10it/s]\n"
     ]
    },
    {
     "name": "stdout",
     "output_type": "stream",
     "text": [
      "~~ Begin clustering \n",
      " results shape(3820, 3)\n"
     ]
    }
   ],
   "source": [
    "# test the function k-means clustering\n",
    "folder_path = '/Users/evgenynazarenko/DACS_3_year/Thesis/GardenFiles23'\n",
    "n_clusters = 4\n",
    "clustered_dove_df = run_cluster_aves(folder_path, dove_df, n_clusters)\n"
   ]
  },
  {
   "cell_type": "code",
   "execution_count": 224,
   "metadata": {},
   "outputs": [
    {
     "data": {
      "text/plain": [
       "clusters\n",
       "1.0    1493\n",
       "2.0     931\n",
       "0.0     869\n",
       "3.0     526\n",
       "Name: count, dtype: int64"
      ]
     },
     "execution_count": 224,
     "metadata": {},
     "output_type": "execute_result"
    }
   ],
   "source": [
    "# check for nan values\n",
    "clustered_dove_df['clusters'].value_counts()\n"
   ]
  },
  {
   "cell_type": "code",
   "execution_count": null,
   "metadata": {},
   "outputs": [],
   "source": [
    "import IPython.display as ipd\n",
    "\n",
    "def sample_and_listen(df, n_samples=10):\n",
    "    clusters = df['clusters'].unique()\n",
    "    for cluster in clusters:\n",
    "        cluster_files = df[df['clusters'] == cluster]\n",
    "        \n",
    "        # Ensure you don't sample more than available files\n",
    "        if len(cluster_files) < n_samples:\n",
    "            sampled_files = cluster_files\n",
    "        else:\n",
    "            sampled_files = cluster_files.sample(n_samples)\n",
    "        \n",
    "        print(f\"Cluster {cluster} ({len(sampled_files)} files)\")\n",
    "        for file_path in sampled_files['filepaths']:\n",
    "            print(file_path)\n",
    "            ipd.display(ipd.Audio(file_path))\n",
    "            print(\"\\n\")\n",
    "\n",
    "# Run the function with your clustered DataFrame\n",
    "sample_and_listen(clustered_dove_df, n_samples=10)\n"
   ]
  },
  {
   "cell_type": "markdown",
   "metadata": {},
   "source": [
    "cluster 1:exclusively  'koo-KOO-kook song', clear and mainly unaccompanied by other sounds.\n",
    "\n",
    "cluster 0: 'hwaah' type appeared 3/10 times 'song' type sounds are acoompanied by other bird's sounds, speech or weather noise, wind or rain."
   ]
  },
  {
   "cell_type": "markdown",
   "metadata": {},
   "source": [
    "Now let's try DBSCAn as a clustering algorithm "
   ]
  },
  {
   "cell_type": "code",
   "execution_count": 31,
   "metadata": {},
   "outputs": [],
   "source": [
    "def run_cluster_aves_2(folder_path, bird_df):\n",
    "    # Get the list of files in the folder\n",
    "    df = get_audio_files(folder_path)# file names and paths\n",
    "    print(f'Shape from get_audio_files {df.shape}')\n",
    "    # check if the file name is in the dove_df\n",
    "    df['is_dove'] = df['filename'].apply(lambda x: x in bird_df['file_name'].values)\n",
    "    print(f'shape from is_dove check{df.shape}')\n",
    "    # filter only dove files\n",
    "    df = df[df['is_dove']]\n",
    "    print(f'shape df before run_aves{df.shape}')\n",
    "    # Run the feature extraction with AVES\n",
    "    results_dic = run_aves(df)\n",
    "\n",
    "    # Perform DBSCAN clustering on AVES embeddings\n",
    "    results = dbscan_clustering(results_dic)\n",
    "\n",
    "    #print(f\"Clustering results: {results}\")\n",
    "    results_df = pd.DataFrame(results)\n",
    "    print(f' results shape{results_df.shape}')\n",
    "     # Flatten the lists in results['filenames'] and results['filepaths']\n",
    "    flattened_filenames = [item for sublist in results['filenames'] for item in sublist]\n",
    "    flattened_filepaths = [item for sublist in results['filepaths'] for item in sublist]\n",
    "    results_df = pd.DataFrame({\n",
    "        'filenames': flattened_filenames,\n",
    "        'filepaths': flattened_filepaths,\n",
    "        'predictions': results['predictions']\n",
    "    })\n",
    "   # Add filepaths and clusters to bird_df using .loc to avoid SettingWithCopyWarning\n",
    "    bird_df.loc[:, 'filepaths'] = bird_df['file_name'].map(dict(zip(results_df['filenames'], results_df['filepaths'])))\n",
    "    bird_df.loc[:, 'clusters'] = bird_df['file_name'].map(dict(zip(results_df['filenames'], results_df['predictions'])))\n",
    "\n",
    "    return bird_df\n"
   ]
  },
  {
   "cell_type": "code",
   "execution_count": 195,
   "metadata": {},
   "outputs": [
    {
     "name": "stdout",
     "output_type": "stream",
     "text": [
      "Shape from get_audio_files (390738, 2)\n",
      "shape from is_dove check(390738, 3)\n",
      "shape df before run_aves(3820, 3)\n",
      "~~ Setting up model\n",
      "~~ Setting up dataloader\n",
      "~~ Compute AVES embeddings\n"
     ]
    },
    {
     "name": "stderr",
     "output_type": "stream",
     "text": [
      "100%|██████████| 3820/3820 [02:31<00:00, 25.27it/s]\n"
     ]
    },
    {
     "name": "stdout",
     "output_type": "stream",
     "text": [
      "~~ Begin clustering \n",
      " results shape(3820, 4)\n"
     ]
    }
   ],
   "source": [
    "# let's test the function\n",
    "folder_path = '/Users/evgenynazarenko/DACS_3_year/Thesis/GardenFiles23'\n",
    "clustered = run_cluster_aves_2(folder_path, dove_df)\n",
    "\n"
   ]
  },
  {
   "cell_type": "code",
   "execution_count": 196,
   "metadata": {},
   "outputs": [
    {
     "data": {
      "text/plain": [
       "clusters\n",
       "-1.0    2131\n",
       " 1.0    1506\n",
       " 0.0      94\n",
       " 6.0      31\n",
       " 4.0      26\n",
       " 3.0       9\n",
       " 7.0       7\n",
       " 8.0       5\n",
       " 2.0       5\n",
       " 5.0       5\n",
       "Name: count, dtype: int64"
      ]
     },
     "execution_count": 196,
     "metadata": {},
     "output_type": "execute_result"
    }
   ],
   "source": [
    "#check # of clusters\n",
    "clustered['clusters'].value_counts()"
   ]
  },
  {
   "cell_type": "code",
   "execution_count": null,
   "metadata": {},
   "outputs": [],
   "source": [
    "sample_and_listen(clustered, n_samples=5)\n"
   ]
  },
  {
   "cell_type": "markdown",
   "metadata": {},
   "source": [
    "DBSCAN\n",
    "\n",
    "experiment 1:eps=20, min_samples=5,\n",
    "\n",
    "clusters\n",
    "-1.0    2131\n",
    " 1.0    1506\n",
    " 0.0      94\n",
    " 6.0      31\n",
    " 4.0      26\n",
    " 3.0       9\n",
    " 7.0       7\n",
    " 8.0       5\n",
    " 2.0       5\n",
    " 5.0       5\n",
    "\n",
    "\n",
    "Some results:\n",
    "cluster 8: rain + koo-koo\n",
    "cluster 0: kwah( all 94 files checked by human)\n",
    "cluster 4: koo-koo+ steady wind\n",
    "cluster 5: koo-koo + wind gust\n",
    "\n",
    "experiment 2:eps=18, min_samples=10\n",
    "clusters\n",
    "-1.0    3055\n",
    " 0.0     678\n",
    " 1.0      69\n",
    " 2.0      17\n",
    "Name: count, dtype: int64\n",
    "\n",
    "cluster 2 : rain + koo-koo\n",
    "\n",
    "experiment 3:eps=22, min_samples=5\n",
    "\n",
    "clusters\n",
    " 0.0    2496\n",
    "-1.0    1289\n",
    " 5.0       8\n",
    " 1.0       7\n",
    " 2.0       5\n",
    " 6.0       5\n",
    " 4.0       5\n",
    " 3.0       4\n",
    "Name: count, dtype: int64\n"
   ]
  },
  {
   "cell_type": "code",
   "execution_count": 35,
   "metadata": {},
   "outputs": [],
   "source": [
    "import numpy as np\n",
    "import matplotlib.pyplot as plt\n",
    "from sklearn.neighbors import NearestNeighbors\n",
    "\n",
    "def plot_k_distance(features, min_samples=5):\n",
    "    # Flatten the list of numpy arrays into a single array\n",
    "    X = np.concatenate(features, axis=0)\n",
    "    \n",
    "    # Standardize the features\n",
    "    scaler = StandardScaler()\n",
    "    X_scaled = scaler.fit_transform(X)\n",
    "    \n",
    "    # Compute the k-distance graph\n",
    "    neigh = NearestNeighbors(n_neighbors=min_samples)\n",
    "    nbrs = neigh.fit(X_scaled)\n",
    "    distances, indices = nbrs.kneighbors(X_scaled)\n",
    "    \n",
    "    # Sort the distances\n",
    "    distances = np.sort(distances, axis=0)\n",
    "    distances = distances[:, 1]\n",
    "    \n",
    "    # Plot the distances\n",
    "    plt.figure(figsize=(10, 6))\n",
    "    plt.plot(distances)\n",
    "    plt.title('k-distance Graph')\n",
    "    plt.xlabel('Data Points sorted by distance')\n",
    "    plt.ylabel('Epsilon')\n",
    "    plt.show()\n",
    "\n",
    "\n"
   ]
  },
  {
   "cell_type": "code",
   "execution_count": null,
   "metadata": {},
   "outputs": [],
   "source": [
    "# Example usage\n",
    "#folder_path = '/Users/evgenynazarenko/DACS_3_year/Thesis/GardenFiles23'\n",
    "df=temp_df\n",
    "df['is_dove'] = df['filename'].apply(lambda x: x in dove_df['file_name'].values)\n",
    "print(f'shape from is_dove check{df.shape}')\n",
    "# filter only dove files\n",
    "df = df[df['is_dove']]\n",
    "results_dic = run_aves(df)\n"
   ]
  },
  {
   "cell_type": "code",
   "execution_count": 36,
   "metadata": {},
   "outputs": [
    {
     "data": {
      "image/png": "[encoded data removed]",
      "text/plain": [
       "<Figure size 1000x600 with 1 Axes>"
      ]
     },
     "metadata": {},
     "output_type": "display_data"
    }
   ],
   "source": [
    "plot_k_distance(results_dic['features'], min_samples=5)"
   ]
  },
  {
   "cell_type": "code",
   "execution_count": 296,
   "metadata": {},
   "outputs": [
    {
     "name": "stdout",
     "output_type": "stream",
     "text": [
      "~~ Begin clustering \n",
      " results shape(3820, 4)\n"
     ]
    }
   ],
   "source": [
    "knn_res = knn_clustering(results_dic, n_clusters=20)\n",
    "knn_res_df = pd.DataFrame(knn_res)\n",
    "print(f' results shape{knn_res_df.shape}')\n",
    "     # Flatten the lists in results['filenames'] and results['filepaths']\n",
    "flattened_filenames = [item for sublist in knn_res['filenames'] for item in sublist]\n",
    "flattened_filepaths = [item for sublist in knn_res['filepaths'] for item in sublist]\n",
    "knn_res_df = pd.DataFrame({\n",
    "        'filenames': flattened_filenames,\n",
    "        'filepaths': flattened_filepaths,\n",
    "        'clusters': knn_res['predictions']\n",
    "    })\n"
   ]
  },
  {
   "cell_type": "code",
   "execution_count": 297,
   "metadata": {},
   "outputs": [
    {
     "data": {
      "text/plain": [
       "clusters\n",
       "3     353\n",
       "8     303\n",
       "5     287\n",
       "15    284\n",
       "2     247\n",
       "9     242\n",
       "13    203\n",
       "12    198\n",
       "11    183\n",
       "14    182\n",
       "7     176\n",
       "10    174\n",
       "16    167\n",
       "17    166\n",
       "1     166\n",
       "18    152\n",
       "6     115\n",
       "19     83\n",
       "0      78\n",
       "4      61\n",
       "Name: count, dtype: int64"
      ]
     },
     "execution_count": 297,
     "metadata": {},
     "output_type": "execute_result"
    }
   ],
   "source": [
    "knn_res_df['clusters'].value_counts()"
   ]
  },
  {
   "cell_type": "code",
   "execution_count": null,
   "metadata": {},
   "outputs": [],
   "source": [
    "sample_and_listen(knn_res_df, n_samples=5)"
   ]
  },
  {
   "cell_type": "code",
   "execution_count": null,
   "metadata": {},
   "outputs": [],
   "source": [
    "knn20_0 = knn_res_df[knn_res_df['clusters'].isin([0])]\n",
    "sample_and_listen(knn20_0, n_samples=78)"
   ]
  },
  {
   "cell_type": "markdown",
   "metadata": {},
   "source": [
    "so, experimenting with different clustering algorithm and listening to the files i identified 2 distinct clusters with clear and loud calls.\n",
    "\n",
    "i created 2 labeled datasets: kwah_94 and koo_78, call and # of annotated files respectively. "
   ]
  },
  {
   "cell_type": "code",
   "execution_count": 304,
   "metadata": {},
   "outputs": [
    {
     "data": {
      "text/plain": [
       "(77, 3)"
      ]
     },
     "execution_count": 304,
     "metadata": {},
     "output_type": "execute_result"
    }
   ],
   "source": [
    "# get rid of kwah outlier er_file_2024_03_17_14_08_14.wav\n",
    "koo_77 = knn20_0[knn20_0['filenames'] != 'er_file_2024_03_17_14_08_14.wav']\n",
    "koo_77.shape"
   ]
  },
  {
   "cell_type": "code",
   "execution_count": null,
   "metadata": {},
   "outputs": [],
   "source": [
    "# filter clusters 1 and 5\n",
    "knn_clusters_1_5 = knn_res_df[knn_res_df['clusters'].isin([1, 5])]\n",
    "print(knn_clusters_1_5.shape)\n",
    "sample_and_listen(knn_clusters_1_5, n_samples=20)\n",
    "\n"
   ]
  },
  {
   "cell_type": "markdown",
   "metadata": {},
   "source": [
    "cluster 4 from knn_clustering(5) looks like good candidate for koo-kook class labels, clear and loud sonds with little noise."
   ]
  },
  {
   "cell_type": "code",
   "execution_count": null,
   "metadata": {},
   "outputs": [],
   "source": [
    "koo_df =knn_res_df[knn_res_df['clusters'] == 4]\n",
    "sample_and_listen(koo_df, n_samples=30)"
   ]
  },
  {
   "cell_type": "code",
   "execution_count": 264,
   "metadata": {},
   "outputs": [
    {
     "name": "stdout",
     "output_type": "stream",
     "text": [
      "~~ Begin clustering \n",
      " results shape(3820, 3)\n"
     ]
    }
   ],
   "source": [
    "res = dbscan_clustering(results_dic)\n",
    "flattened_filenames = [item for sublist in res['filenames'] for item in sublist]\n",
    "flattened_filepaths = [item for sublist in res['filepaths'] for item in sublist]\n",
    "res_df = pd.DataFrame({\n",
    "        'filenames': flattened_filenames,\n",
    "        'filepaths': flattened_filepaths,\n",
    "        'clusters': knn_res['predictions']\n",
    "    })\n",
    "print(f' results shape{res_df.shape}')\n"
   ]
  },
  {
   "cell_type": "code",
   "execution_count": 265,
   "metadata": {},
   "outputs": [
    {
     "data": {
      "text/plain": [
       "clusters\n",
       "-1    2131\n",
       " 1    1507\n",
       " 0      94\n",
       " 6      31\n",
       " 4      26\n",
       " 3       9\n",
       " 7       7\n",
       " 2       5\n",
       " 5       5\n",
       " 8       5\n",
       "Name: count, dtype: int64"
      ]
     },
     "execution_count": 265,
     "metadata": {},
     "output_type": "execute_result"
    }
   ],
   "source": [
    "res_df['clusters'].value_counts()"
   ]
  },
  {
   "cell_type": "code",
   "execution_count": null,
   "metadata": {},
   "outputs": [],
   "source": [
    "kwah_df = res_df[res_df['clusters'] == 0]\n",
    "print(kwah_df.shape)\n",
    "sample_and_listen(kwah_df, n_samples=94)"
   ]
  },
  {
   "cell_type": "markdown",
   "metadata": {},
   "source": [
    "dbscan { eps=20,\n",
    "        min_samples=5,\n",
    "        metric='euclidean',\n",
    "        n_jobs=-1}\n",
    "        \n",
    "cluster 0 are kwah call(All 94 files chacked by human ear)\n",
    "\n",
    "cluster 8 - ko-kook + rain\n",
    "\n",
    "cluster 5 - koo-kook + wind gusts"
   ]
  },
  {
   "cell_type": "markdown",
   "metadata": {},
   "source": [
    "repeated clustering of -1 cluster, \"noise\" gave no great result. only small part of noise cluster was clustered out from original noise cluster. \n",
    "No point with proceeding with this mrthod of sequential clustering of noise."
   ]
  },
  {
   "cell_type": "code",
   "execution_count": 308,
   "metadata": {},
   "outputs": [],
   "source": [
    "# save the results\n",
    "kwah_94 = kwah_df\n",
    "kwah_94.head()\n",
    "# save the results\n",
    "kwah_94.to_csv('kwah_94.csv', index=False)\n",
    "koo_77.to_csv('koo_77.csv', index=False)"
   ]
  },
  {
   "cell_type": "markdown",
   "metadata": {},
   "source": [
    "let's prepare dtatset to train classifier. Lbeled data are scarce , so we will try simple models , SVm and logistic Regression."
   ]
  },
  {
   "cell_type": "code",
   "execution_count": 41,
   "metadata": {},
   "outputs": [
    {
     "data": {
      "text/html": [
       "<div>\n",
       "<style scoped>\n",
       "    .dataframe tbody tr th:only-of-type {\n",
       "        vertical-align: middle;\n",
       "    }\n",
       "\n",
       "    .dataframe tbody tr th {\n",
       "        vertical-align: top;\n",
       "    }\n",
       "\n",
       "    .dataframe thead th {\n",
       "        text-align: right;\n",
       "    }\n",
       "</style>\n",
       "<table border=\"1\" class=\"dataframe\">\n",
       "  <thead>\n",
       "    <tr style=\"text-align: right;\">\n",
       "      <th></th>\n",
       "      <th>filenames</th>\n",
       "      <th>filepaths</th>\n",
       "      <th>call</th>\n",
       "    </tr>\n",
       "  </thead>\n",
       "  <tbody>\n",
       "    <tr>\n",
       "      <th>0</th>\n",
       "      <td>er_file_2024_01_10_9_31_45.wav</td>\n",
       "      <td>/Users/evgenynazarenko/DACS_3_year/Thesis/Gard...</td>\n",
       "      <td>kwah</td>\n",
       "    </tr>\n",
       "    <tr>\n",
       "      <th>1</th>\n",
       "      <td>er_file_2024_01_11_11_54_01.wav</td>\n",
       "      <td>/Users/evgenynazarenko/DACS_3_year/Thesis/Gard...</td>\n",
       "      <td>kwah</td>\n",
       "    </tr>\n",
       "    <tr>\n",
       "      <th>2</th>\n",
       "      <td>er_file_2024_01_11_12_04_38.wav</td>\n",
       "      <td>/Users/evgenynazarenko/DACS_3_year/Thesis/Gard...</td>\n",
       "      <td>kwah</td>\n",
       "    </tr>\n",
       "    <tr>\n",
       "      <th>3</th>\n",
       "      <td>er_file_2024_01_09_13_26_14.wav</td>\n",
       "      <td>/Users/evgenynazarenko/DACS_3_year/Thesis/Gard...</td>\n",
       "      <td>kwah</td>\n",
       "    </tr>\n",
       "    <tr>\n",
       "      <th>4</th>\n",
       "      <td>er_file_2024_01_09_13_26_59.wav</td>\n",
       "      <td>/Users/evgenynazarenko/DACS_3_year/Thesis/Gard...</td>\n",
       "      <td>kwah</td>\n",
       "    </tr>\n",
       "  </tbody>\n",
       "</table>\n",
       "</div>"
      ],
      "text/plain": [
       "                         filenames  \\\n",
       "0   er_file_2024_01_10_9_31_45.wav   \n",
       "1  er_file_2024_01_11_11_54_01.wav   \n",
       "2  er_file_2024_01_11_12_04_38.wav   \n",
       "3  er_file_2024_01_09_13_26_14.wav   \n",
       "4  er_file_2024_01_09_13_26_59.wav   \n",
       "\n",
       "                                           filepaths  call  \n",
       "0  /Users/evgenynazarenko/DACS_3_year/Thesis/Gard...  kwah  \n",
       "1  /Users/evgenynazarenko/DACS_3_year/Thesis/Gard...  kwah  \n",
       "2  /Users/evgenynazarenko/DACS_3_year/Thesis/Gard...  kwah  \n",
       "3  /Users/evgenynazarenko/DACS_3_year/Thesis/Gard...  kwah  \n",
       "4  /Users/evgenynazarenko/DACS_3_year/Thesis/Gard...  kwah  "
      ]
     },
     "execution_count": 41,
     "metadata": {},
     "output_type": "execute_result"
    }
   ],
   "source": [
    "# create dataset with koo and kwah files\n",
    "koo_df = pd.read_csv('koo_77.csv')\n",
    "kwah_df = pd.read_csv('kwah_94.csv')\n",
    "kwah_df['call'] = 'kwah'\n",
    "koo_df['call'] = 'koo'\n",
    "\n",
    "# concatenate the dataframes\n",
    "kwah_koo = pd.concat([kwah_df, koo_df])\n",
    "kwah_koo.drop(columns=['clusters'], inplace=True)\n",
    "kwah_koo.head() # labeled dataset"
   ]
  },
  {
   "cell_type": "code",
   "execution_count": 43,
   "metadata": {},
   "outputs": [
    {
     "data": {
      "text/plain": [
       "(171, 3)"
      ]
     },
     "execution_count": 43,
     "metadata": {},
     "output_type": "execute_result"
    }
   ],
   "source": [
    "kwah_koo.shape"
   ]
  },
  {
   "cell_type": "code",
   "execution_count": 47,
   "metadata": {},
   "outputs": [
    {
     "data": {
      "text/plain": [
       "(1, 768)"
      ]
     },
     "execution_count": 47,
     "metadata": {},
     "output_type": "execute_result"
    }
   ],
   "source": [
    "results_dic['features'][0].shape"
   ]
  },
  {
   "cell_type": "code",
   "execution_count": 49,
   "metadata": {},
   "outputs": [
    {
     "data": {
      "text/html": [
       "<div>\n",
       "<style scoped>\n",
       "    .dataframe tbody tr th:only-of-type {\n",
       "        vertical-align: middle;\n",
       "    }\n",
       "\n",
       "    .dataframe tbody tr th {\n",
       "        vertical-align: top;\n",
       "    }\n",
       "\n",
       "    .dataframe thead th {\n",
       "        text-align: right;\n",
       "    }\n",
       "</style>\n",
       "<table border=\"1\" class=\"dataframe\">\n",
       "  <thead>\n",
       "    <tr style=\"text-align: right;\">\n",
       "      <th></th>\n",
       "      <th>filepaths</th>\n",
       "      <th>filenames</th>\n",
       "      <th>features</th>\n",
       "      <th>predictions</th>\n",
       "    </tr>\n",
       "  </thead>\n",
       "  <tbody>\n",
       "    <tr>\n",
       "      <th>0</th>\n",
       "      <td>[/Users/evgenynazarenko/DACS_3_year/Thesis/Gar...</td>\n",
       "      <td>[er_file_2024_01_10_9_31_22.wav]</td>\n",
       "      <td>[[0.22784886, 0.27459875, 0.09032677, -0.01894...</td>\n",
       "      <td>-1</td>\n",
       "    </tr>\n",
       "    <tr>\n",
       "      <th>1</th>\n",
       "      <td>[/Users/evgenynazarenko/DACS_3_year/Thesis/Gar...</td>\n",
       "      <td>[er_file_2024_01_10_9_31_45.wav]</td>\n",
       "      <td>[[0.059986934, 0.5494582, -0.055350088, -0.163...</td>\n",
       "      <td>-1</td>\n",
       "    </tr>\n",
       "    <tr>\n",
       "      <th>2</th>\n",
       "      <td>[/Users/evgenynazarenko/DACS_3_year/Thesis/Gar...</td>\n",
       "      <td>[er_file_2024_01_11_11_54_01.wav]</td>\n",
       "      <td>[[0.15569976, 0.15348442, 0.06914517, 0.078704...</td>\n",
       "      <td>-1</td>\n",
       "    </tr>\n",
       "    <tr>\n",
       "      <th>3</th>\n",
       "      <td>[/Users/evgenynazarenko/DACS_3_year/Thesis/Gar...</td>\n",
       "      <td>[er_file_2024_01_11_11_54_32.wav]</td>\n",
       "      <td>[[0.31468418, 0.37589628, 0.22994348, 0.102868...</td>\n",
       "      <td>-1</td>\n",
       "    </tr>\n",
       "    <tr>\n",
       "      <th>4</th>\n",
       "      <td>[/Users/evgenynazarenko/DACS_3_year/Thesis/Gar...</td>\n",
       "      <td>[er_file_2024_01_11_12_04_38.wav]</td>\n",
       "      <td>[[0.1333776, 0.3330072, 0.04702927, -0.0806516...</td>\n",
       "      <td>-1</td>\n",
       "    </tr>\n",
       "  </tbody>\n",
       "</table>\n",
       "</div>"
      ],
      "text/plain": [
       "                                           filepaths  \\\n",
       "0  [/Users/evgenynazarenko/DACS_3_year/Thesis/Gar...   \n",
       "1  [/Users/evgenynazarenko/DACS_3_year/Thesis/Gar...   \n",
       "2  [/Users/evgenynazarenko/DACS_3_year/Thesis/Gar...   \n",
       "3  [/Users/evgenynazarenko/DACS_3_year/Thesis/Gar...   \n",
       "4  [/Users/evgenynazarenko/DACS_3_year/Thesis/Gar...   \n",
       "\n",
       "                           filenames  \\\n",
       "0   [er_file_2024_01_10_9_31_22.wav]   \n",
       "1   [er_file_2024_01_10_9_31_45.wav]   \n",
       "2  [er_file_2024_01_11_11_54_01.wav]   \n",
       "3  [er_file_2024_01_11_11_54_32.wav]   \n",
       "4  [er_file_2024_01_11_12_04_38.wav]   \n",
       "\n",
       "                                            features  predictions  \n",
       "0  [[0.22784886, 0.27459875, 0.09032677, -0.01894...           -1  \n",
       "1  [[0.059986934, 0.5494582, -0.055350088, -0.163...           -1  \n",
       "2  [[0.15569976, 0.15348442, 0.06914517, 0.078704...           -1  \n",
       "3  [[0.31468418, 0.37589628, 0.22994348, 0.102868...           -1  \n",
       "4  [[0.1333776, 0.3330072, 0.04702927, -0.0806516...           -1  "
      ]
     },
     "execution_count": 49,
     "metadata": {},
     "output_type": "execute_result"
    }
   ],
   "source": [
    "aves_features_df = pd.DataFrame(results_dic)\n",
    "aves_features_df.head()"
   ]
  },
  {
   "cell_type": "code",
   "execution_count": 50,
   "metadata": {},
   "outputs": [
    {
     "data": {
      "text/html": [
       "<div>\n",
       "<style scoped>\n",
       "    .dataframe tbody tr th:only-of-type {\n",
       "        vertical-align: middle;\n",
       "    }\n",
       "\n",
       "    .dataframe tbody tr th {\n",
       "        vertical-align: top;\n",
       "    }\n",
       "\n",
       "    .dataframe thead th {\n",
       "        text-align: right;\n",
       "    }\n",
       "</style>\n",
       "<table border=\"1\" class=\"dataframe\">\n",
       "  <thead>\n",
       "    <tr style=\"text-align: right;\">\n",
       "      <th></th>\n",
       "      <th>filenames</th>\n",
       "      <th>filepaths</th>\n",
       "      <th>features</th>\n",
       "    </tr>\n",
       "  </thead>\n",
       "  <tbody>\n",
       "    <tr>\n",
       "      <th>0</th>\n",
       "      <td>er_file_2024_01_10_9_31_22.wav</td>\n",
       "      <td>/Users/evgenynazarenko/DACS_3_year/Thesis/Gard...</td>\n",
       "      <td>[0.22784886, 0.27459875, 0.09032677, -0.018945...</td>\n",
       "    </tr>\n",
       "    <tr>\n",
       "      <th>1</th>\n",
       "      <td>er_file_2024_01_10_9_31_45.wav</td>\n",
       "      <td>/Users/evgenynazarenko/DACS_3_year/Thesis/Gard...</td>\n",
       "      <td>[0.059986934, 0.5494582, -0.055350088, -0.1638...</td>\n",
       "    </tr>\n",
       "    <tr>\n",
       "      <th>2</th>\n",
       "      <td>er_file_2024_01_11_11_54_01.wav</td>\n",
       "      <td>/Users/evgenynazarenko/DACS_3_year/Thesis/Gard...</td>\n",
       "      <td>[0.15569976, 0.15348442, 0.06914517, 0.0787045...</td>\n",
       "    </tr>\n",
       "    <tr>\n",
       "      <th>3</th>\n",
       "      <td>er_file_2024_01_11_11_54_32.wav</td>\n",
       "      <td>/Users/evgenynazarenko/DACS_3_year/Thesis/Gard...</td>\n",
       "      <td>[0.31468418, 0.37589628, 0.22994348, 0.1028684...</td>\n",
       "    </tr>\n",
       "    <tr>\n",
       "      <th>4</th>\n",
       "      <td>er_file_2024_01_11_12_04_38.wav</td>\n",
       "      <td>/Users/evgenynazarenko/DACS_3_year/Thesis/Gard...</td>\n",
       "      <td>[0.1333776, 0.3330072, 0.04702927, -0.08065165...</td>\n",
       "    </tr>\n",
       "  </tbody>\n",
       "</table>\n",
       "</div>"
      ],
      "text/plain": [
       "                         filenames  \\\n",
       "0   er_file_2024_01_10_9_31_22.wav   \n",
       "1   er_file_2024_01_10_9_31_45.wav   \n",
       "2  er_file_2024_01_11_11_54_01.wav   \n",
       "3  er_file_2024_01_11_11_54_32.wav   \n",
       "4  er_file_2024_01_11_12_04_38.wav   \n",
       "\n",
       "                                           filepaths  \\\n",
       "0  /Users/evgenynazarenko/DACS_3_year/Thesis/Gard...   \n",
       "1  /Users/evgenynazarenko/DACS_3_year/Thesis/Gard...   \n",
       "2  /Users/evgenynazarenko/DACS_3_year/Thesis/Gard...   \n",
       "3  /Users/evgenynazarenko/DACS_3_year/Thesis/Gard...   \n",
       "4  /Users/evgenynazarenko/DACS_3_year/Thesis/Gard...   \n",
       "\n",
       "                                            features  \n",
       "0  [0.22784886, 0.27459875, 0.09032677, -0.018945...  \n",
       "1  [0.059986934, 0.5494582, -0.055350088, -0.1638...  \n",
       "2  [0.15569976, 0.15348442, 0.06914517, 0.0787045...  \n",
       "3  [0.31468418, 0.37589628, 0.22994348, 0.1028684...  \n",
       "4  [0.1333776, 0.3330072, 0.04702927, -0.08065165...  "
      ]
     },
     "execution_count": 50,
     "metadata": {},
     "output_type": "execute_result"
    }
   ],
   "source": [
    "# flatten the lists\n",
    "flattened_filenames = [item for sublist in results_dic['filenames'] for item in sublist]\n",
    "flattened_filepaths = [item for sublist in results_dic['filepaths'] for item in sublist]\n",
    "flattened_features = [item for sublist in results_dic['features'] for item in sublist]\n",
    "\n",
    "aves_features_df = pd.DataFrame({\n",
    "    'filenames': flattened_filenames,\n",
    "    'filepaths': flattened_filepaths,\n",
    "    'features': flattened_features\n",
    "})\n",
    "aves_features_df.head()\n"
   ]
  },
  {
   "cell_type": "code",
   "execution_count": 51,
   "metadata": {},
   "outputs": [
    {
     "data": {
      "text/html": [
       "<div>\n",
       "<style scoped>\n",
       "    .dataframe tbody tr th:only-of-type {\n",
       "        vertical-align: middle;\n",
       "    }\n",
       "\n",
       "    .dataframe tbody tr th {\n",
       "        vertical-align: top;\n",
       "    }\n",
       "\n",
       "    .dataframe thead th {\n",
       "        text-align: right;\n",
       "    }\n",
       "</style>\n",
       "<table border=\"1\" class=\"dataframe\">\n",
       "  <thead>\n",
       "    <tr style=\"text-align: right;\">\n",
       "      <th></th>\n",
       "      <th>filenames</th>\n",
       "      <th>filepaths</th>\n",
       "      <th>call</th>\n",
       "      <th>features</th>\n",
       "    </tr>\n",
       "  </thead>\n",
       "  <tbody>\n",
       "    <tr>\n",
       "      <th>0</th>\n",
       "      <td>er_file_2024_01_10_9_31_45.wav</td>\n",
       "      <td>/Users/evgenynazarenko/DACS_3_year/Thesis/Gard...</td>\n",
       "      <td>kwah</td>\n",
       "      <td>[0.059986934, 0.5494582, -0.055350088, -0.1638...</td>\n",
       "    </tr>\n",
       "    <tr>\n",
       "      <th>1</th>\n",
       "      <td>er_file_2024_01_11_11_54_01.wav</td>\n",
       "      <td>/Users/evgenynazarenko/DACS_3_year/Thesis/Gard...</td>\n",
       "      <td>kwah</td>\n",
       "      <td>[0.15569976, 0.15348442, 0.06914517, 0.0787045...</td>\n",
       "    </tr>\n",
       "    <tr>\n",
       "      <th>2</th>\n",
       "      <td>er_file_2024_01_11_12_04_38.wav</td>\n",
       "      <td>/Users/evgenynazarenko/DACS_3_year/Thesis/Gard...</td>\n",
       "      <td>kwah</td>\n",
       "      <td>[0.1333776, 0.3330072, 0.04702927, -0.08065165...</td>\n",
       "    </tr>\n",
       "    <tr>\n",
       "      <th>3</th>\n",
       "      <td>er_file_2024_01_09_13_26_14.wav</td>\n",
       "      <td>/Users/evgenynazarenko/DACS_3_year/Thesis/Gard...</td>\n",
       "      <td>kwah</td>\n",
       "      <td>[0.39120728, 0.3783249, -0.009254205, -0.16405...</td>\n",
       "    </tr>\n",
       "    <tr>\n",
       "      <th>4</th>\n",
       "      <td>er_file_2024_01_09_13_26_59.wav</td>\n",
       "      <td>/Users/evgenynazarenko/DACS_3_year/Thesis/Gard...</td>\n",
       "      <td>kwah</td>\n",
       "      <td>[0.08638751, 0.18240921, -0.002687087, 0.06530...</td>\n",
       "    </tr>\n",
       "  </tbody>\n",
       "</table>\n",
       "</div>"
      ],
      "text/plain": [
       "                         filenames  \\\n",
       "0   er_file_2024_01_10_9_31_45.wav   \n",
       "1  er_file_2024_01_11_11_54_01.wav   \n",
       "2  er_file_2024_01_11_12_04_38.wav   \n",
       "3  er_file_2024_01_09_13_26_14.wav   \n",
       "4  er_file_2024_01_09_13_26_59.wav   \n",
       "\n",
       "                                           filepaths  call  \\\n",
       "0  /Users/evgenynazarenko/DACS_3_year/Thesis/Gard...  kwah   \n",
       "1  /Users/evgenynazarenko/DACS_3_year/Thesis/Gard...  kwah   \n",
       "2  /Users/evgenynazarenko/DACS_3_year/Thesis/Gard...  kwah   \n",
       "3  /Users/evgenynazarenko/DACS_3_year/Thesis/Gard...  kwah   \n",
       "4  /Users/evgenynazarenko/DACS_3_year/Thesis/Gard...  kwah   \n",
       "\n",
       "                                            features  \n",
       "0  [0.059986934, 0.5494582, -0.055350088, -0.1638...  \n",
       "1  [0.15569976, 0.15348442, 0.06914517, 0.0787045...  \n",
       "2  [0.1333776, 0.3330072, 0.04702927, -0.08065165...  \n",
       "3  [0.39120728, 0.3783249, -0.009254205, -0.16405...  \n",
       "4  [0.08638751, 0.18240921, -0.002687087, 0.06530...  "
      ]
     },
     "execution_count": 51,
     "metadata": {},
     "output_type": "execute_result"
    }
   ],
   "source": [
    "# add features to the labeled dataset\n",
    "kwah_koo['features'] = kwah_koo['filenames'].map(dict(zip(aves_features_df['filenames'], aves_features_df['features'])))\n",
    "kwah_koo.head()"
   ]
  },
  {
   "cell_type": "code",
   "execution_count": 52,
   "metadata": {},
   "outputs": [
    {
     "data": {
      "text/html": [
       "<div>\n",
       "<style scoped>\n",
       "    .dataframe tbody tr th:only-of-type {\n",
       "        vertical-align: middle;\n",
       "    }\n",
       "\n",
       "    .dataframe tbody tr th {\n",
       "        vertical-align: top;\n",
       "    }\n",
       "\n",
       "    .dataframe thead th {\n",
       "        text-align: right;\n",
       "    }\n",
       "</style>\n",
       "<table border=\"1\" class=\"dataframe\">\n",
       "  <thead>\n",
       "    <tr style=\"text-align: right;\">\n",
       "      <th></th>\n",
       "      <th>features</th>\n",
       "      <th>call</th>\n",
       "    </tr>\n",
       "  </thead>\n",
       "  <tbody>\n",
       "    <tr>\n",
       "      <th>0</th>\n",
       "      <td>[0.059986934, 0.5494582, -0.055350088, -0.1638...</td>\n",
       "      <td>1</td>\n",
       "    </tr>\n",
       "    <tr>\n",
       "      <th>1</th>\n",
       "      <td>[0.15569976, 0.15348442, 0.06914517, 0.0787045...</td>\n",
       "      <td>1</td>\n",
       "    </tr>\n",
       "    <tr>\n",
       "      <th>2</th>\n",
       "      <td>[0.1333776, 0.3330072, 0.04702927, -0.08065165...</td>\n",
       "      <td>1</td>\n",
       "    </tr>\n",
       "    <tr>\n",
       "      <th>3</th>\n",
       "      <td>[0.39120728, 0.3783249, -0.009254205, -0.16405...</td>\n",
       "      <td>1</td>\n",
       "    </tr>\n",
       "    <tr>\n",
       "      <th>4</th>\n",
       "      <td>[0.08638751, 0.18240921, -0.002687087, 0.06530...</td>\n",
       "      <td>1</td>\n",
       "    </tr>\n",
       "  </tbody>\n",
       "</table>\n",
       "</div>"
      ],
      "text/plain": [
       "                                            features  call\n",
       "0  [0.059986934, 0.5494582, -0.055350088, -0.1638...     1\n",
       "1  [0.15569976, 0.15348442, 0.06914517, 0.0787045...     1\n",
       "2  [0.1333776, 0.3330072, 0.04702927, -0.08065165...     1\n",
       "3  [0.39120728, 0.3783249, -0.009254205, -0.16405...     1\n",
       "4  [0.08638751, 0.18240921, -0.002687087, 0.06530...     1"
      ]
     },
     "execution_count": 52,
     "metadata": {},
     "output_type": "execute_result"
    }
   ],
   "source": [
    "# prepare for training, sub calls for 1 and 0 and make just features datset\n",
    "kwah_koo['call'] = kwah_koo['call'].map({'kwah': 1, 'koo': 0})\n",
    "features_df = kwah_koo[['features', 'call']]\n",
    "features_df.head()"
   ]
  },
  {
   "cell_type": "code",
   "execution_count": 53,
   "metadata": {},
   "outputs": [
    {
     "name": "stdout",
     "output_type": "stream",
     "text": [
      "Best SVM Parameters: {'svc__C': 0.1, 'svc__gamma': 'scale', 'svc__kernel': 'rbf'}\n",
      "Best SVM Cross-Validation Score: 0.9941176470588236\n",
      "Best Logistic Regression Parameters: {'log_reg__C': 0.1, 'log_reg__solver': 'lbfgs'}\n",
      "Best Logistic Regression Cross-Validation Score: 0.9941176470588236\n",
      "SVM Classification Report:\n",
      "              precision    recall  f1-score   support\n",
      "\n",
      "           0       1.00      1.00      1.00        16\n",
      "           1       1.00      1.00      1.00        19\n",
      "\n",
      "    accuracy                           1.00        35\n",
      "   macro avg       1.00      1.00      1.00        35\n",
      "weighted avg       1.00      1.00      1.00        35\n",
      "\n",
      "Logistic Regression Classification Report:\n",
      "              precision    recall  f1-score   support\n",
      "\n",
      "           0       1.00      1.00      1.00        16\n",
      "           1       1.00      1.00      1.00        19\n",
      "\n",
      "    accuracy                           1.00        35\n",
      "   macro avg       1.00      1.00      1.00        35\n",
      "weighted avg       1.00      1.00      1.00        35\n",
      "\n"
     ]
    }
   ],
   "source": [
    "import pandas as pd\n",
    "import numpy as np\n",
    "from sklearn.model_selection import train_test_split, GridSearchCV, StratifiedKFold\n",
    "from sklearn.svm import SVC\n",
    "from sklearn.linear_model import LogisticRegression\n",
    "from sklearn.metrics import classification_report\n",
    "from sklearn.preprocessing import StandardScaler\n",
    "from sklearn.pipeline import Pipeline\n",
    "\n",
    "\n",
    "\n",
    "# Prepare the data\n",
    "X = np.vstack(features_df['features'].values)\n",
    "y = features_df['call'].values\n",
    "\n",
    "# Define Stratified K-Fold cross-validation\n",
    "cv = StratifiedKFold(n_splits=5, shuffle=True, random_state=42)\n",
    "\n",
    "# Define the pipeline and parameter grids\n",
    "svm_pipeline = Pipeline([\n",
    "    ('scaler', StandardScaler()),\n",
    "    ('svc', SVC())\n",
    "])\n",
    "\n",
    "svm_param_grid = {\n",
    "    'svc__kernel': ['rbf', 'linear'],\n",
    "    'svc__C': [0.1, 1, 10],\n",
    "    'svc__gamma': ['scale', 'auto']\n",
    "}\n",
    "\n",
    "log_reg_pipeline = Pipeline([\n",
    "    ('scaler', StandardScaler()),\n",
    "    ('log_reg', LogisticRegression())\n",
    "])\n",
    "\n",
    "log_reg_param_grid = {\n",
    "    'log_reg__C': [0.1, 1, 10, 100],\n",
    "    'log_reg__solver': ['lbfgs', 'liblinear']\n",
    "}\n",
    "\n",
    "# Perform GridSearchCV for SVM\n",
    "svm_grid_search = GridSearchCV(svm_pipeline, svm_param_grid, cv=cv, scoring='accuracy')\n",
    "svm_grid_search.fit(X, y)\n",
    "\n",
    "# Perform GridSearchCV for Logistic Regression\n",
    "log_reg_grid_search = GridSearchCV(log_reg_pipeline, log_reg_param_grid, cv=cv, scoring='accuracy')\n",
    "log_reg_grid_search.fit(X, y)\n",
    "\n",
    "# Print the best parameters and scores for both models\n",
    "print(\"Best SVM Parameters:\", svm_grid_search.best_params_)\n",
    "print(\"Best SVM Cross-Validation Score:\", svm_grid_search.best_score_)\n",
    "\n",
    "print(\"Best Logistic Regression Parameters:\", log_reg_grid_search.best_params_)\n",
    "print(\"Best Logistic Regression Cross-Validation Score:\", log_reg_grid_search.best_score_)\n",
    "\n",
    "# Evaluate the best models on a held-out test set (if available)\n",
    "X_train, X_test, y_train, y_test = train_test_split(X, y, test_size=0.2, random_state=42)\n",
    "\n",
    "# SVM Evaluation\n",
    "best_svm_model = svm_grid_search.best_estimator_\n",
    "best_svm_model.fit(X_train, y_train)\n",
    "y_pred_svm = best_svm_model.predict(X_test)\n",
    "print(\"SVM Classification Report:\")\n",
    "print(classification_report(y_test, y_pred_svm))\n",
    "\n",
    "# Logistic Regression Evaluation\n",
    "best_log_reg_model = log_reg_grid_search.best_estimator_\n",
    "best_log_reg_model.fit(X_train, y_train)\n",
    "y_pred_log_reg = best_log_reg_model.predict(X_test)\n",
    "print(\"Logistic Regression Classification Report:\")\n",
    "print(classification_report(y_test, y_pred_log_reg))\n"
   ]
  },
  {
   "cell_type": "code",
   "execution_count": 54,
   "metadata": {},
   "outputs": [
    {
     "name": "stdout",
     "output_type": "stream",
     "text": [
      "                         filenames  svm_predictions  log_reg_predictions\n",
      "0   er_file_2024_01_10_9_31_22.wav                1                    1\n",
      "1   er_file_2024_01_10_9_31_45.wav                1                    1\n",
      "2  er_file_2024_01_11_11_54_01.wav                1                    1\n",
      "3  er_file_2024_01_11_11_54_32.wav                1                    1\n",
      "4  er_file_2024_01_11_12_04_38.wav                1                    1\n"
     ]
    }
   ],
   "source": [
    "# Extract features from the unseen data\n",
    "X_unseen = np.vstack(aves_features_df['features'].values)\n",
    "\n",
    "# Use the best SVM model to predict the labels for the unseen data\n",
    "svm_predictions = best_svm_model.predict(X_unseen)\n",
    "\n",
    "# Use the best Logistic Regression model to predict the labels for the unseen data\n",
    "log_reg_predictions = best_log_reg_model.predict(X_unseen)\n",
    "\n",
    "# Add predictions to the DataFrame\n",
    "aves_features_df['svm_predictions'] = svm_predictions\n",
    "aves_features_df['log_reg_predictions'] = log_reg_predictions\n",
    "\n",
    "# Print the first few predictions for verification\n",
    "print(aves_features_df[['filenames', 'svm_predictions', 'log_reg_predictions']].head())\n"
   ]
  },
  {
   "cell_type": "code",
   "execution_count": 55,
   "metadata": {},
   "outputs": [
    {
     "data": {
      "text/plain": [
       "svm_predictions\n",
       "0    2268\n",
       "1    1552\n",
       "Name: count, dtype: int64"
      ]
     },
     "execution_count": 55,
     "metadata": {},
     "output_type": "execute_result"
    }
   ],
   "source": [
    "aves_features_df['svm_predictions'].value_counts()\n"
   ]
  },
  {
   "cell_type": "code",
   "execution_count": 56,
   "metadata": {},
   "outputs": [
    {
     "data": {
      "text/plain": [
       "log_reg_predictions\n",
       "0    2564\n",
       "1    1256\n",
       "Name: count, dtype: int64"
      ]
     },
     "execution_count": 56,
     "metadata": {},
     "output_type": "execute_result"
    }
   ],
   "source": [
    "aves_features_df['log_reg_predictions'].value_counts()"
   ]
  },
  {
   "cell_type": "code",
   "execution_count": null,
   "metadata": {},
   "outputs": [],
   "source": [
    "# srename \"lofg_reg_preddictions\" fo clusters\n",
    "aves_features_df.rename(columns={'log_reg_predictions': 'clusters'}, inplace=True)\n",
    "\n",
    "# sample and listen to the files\n",
    "sample_and_listen(aves_features_df[aves_features_df['svm_predictions'] == 1], n_samples=5)\n"
   ]
  },
  {
   "cell_type": "code",
   "execution_count": 1,
   "metadata": {},
   "outputs": [
    {
     "data": {
      "image/png": "[encoded data removed]",
      "text/plain": [
       "<Figure size 1000x600 with 1 Axes>"
      ]
     },
     "metadata": {},
     "output_type": "display_data"
    }
   ],
   "source": [
    "import matplotlib.pyplot as plt\n",
    "import numpy as np\n",
    "\n",
    "# Data\n",
    "experiments = ['1', '2', '3']\n",
    "cluster_data = {\n",
    "    '-1': [2131, 3055, 1289],\n",
    "    '0': [94, 678, 2496],\n",
    "    '1': [1506, 69, 7],\n",
    "    '2': [5, 17, 5],\n",
    "    '3': [9, 0, 4],\n",
    "    '4': [26, 0, 5],\n",
    "    '5': [5, 0, 8],\n",
    "    '6': [31, 0, 5],\n",
    "    '7': [7, 0, 0],\n",
    "    '8': [5, 0, 0]\n",
    "}\n",
    "\n",
    "# Bar width\n",
    "bar_width = 0.5\n",
    "\n",
    "# Position of bars on the x-axis\n",
    "r = np.arange(len(experiments))\n",
    "\n",
    "# Create the bar chart\n",
    "fig, ax = plt.subplots(figsize=(10, 6))\n",
    "\n",
    "bottom = np.zeros(len(experiments))\n",
    "for cluster, counts in cluster_data.items():\n",
    "    ax.bar(r, counts, bottom=bottom, edgecolor='white', width=bar_width, label=f'Cluster {cluster}')\n",
    "    bottom += np.array(counts)\n",
    "\n",
    "# Add labels\n",
    "ax.set_xlabel('Experiment', fontweight='bold')\n",
    "ax.set_ylabel('Count', fontweight='bold')\n",
    "ax.set_title('DBSCAN Clustering Results', fontweight='bold')\n",
    "ax.set_xticks(r)\n",
    "ax.set_xticklabels(experiments)\n",
    "ax.legend(loc='upper right', bbox_to_anchor=(1.15, 1))\n",
    "\n",
    "# Save and show the plot\n",
    "plt.tight_layout()\n",
    "plt.savefig('dbscan_clustering_results.png')\n",
    "plt.show()\n"
   ]
  }
 ],
 "metadata": {
  "kernelspec": {
   "display_name": "thesis",
   "language": "python",
   "name": "python3"
  },
  "language_info": {
   "codemirror_mode": {
    "name": "ipython",
    "version": 3
   },
   "file_extension": ".py",
   "mimetype": "text/x-python",
   "name": "python",
   "nbconvert_exporter": "python",
   "pygments_lexer": "ipython3",
   "version": "3.1.-1"
  }
 },
 "nbformat": 4,
 "nbformat_minor": 2
}
