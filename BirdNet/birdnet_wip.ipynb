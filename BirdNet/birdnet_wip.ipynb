{
 "cells": [
  {
   "cell_type": "code",
   "execution_count": 2,
   "metadata": {},
   "outputs": [],
   "source": [
    "import os\n",
    "import shutil\n",
    "\n",
    "def move_xls_files(big_folder, metadata_folder):\n",
    "    \"\"\"\n",
    "    Moves .xls files from a specified 'big_folder' to a 'metadata_folder'.\n",
    "    Both folders are assumed to be relative to the current working directory.\n",
    "\n",
    "    Parameters:\n",
    "    - big_folder: The relative path to the folder containing .xlsx files.\n",
    "    - metadata_folder: The relative path to the folder where .xlsx files should be moved.\n",
    "    \"\"\"\n",
    "\n",
    "    # Ensure the metadata folder exists, if not, create it\n",
    "    if not os.path.exists(metadata_folder):\n",
    "        os.makedirs(metadata_folder)\n",
    "\n",
    "    # List all files in the big folder\n",
    "    for file in os.listdir(big_folder):\n",
    "        # Check if the file ends with .xls\n",
    "        if file.endswith('.xlsx'):\n",
    "            # Construct the full path to the file using the relative path\n",
    "            file_path = os.path.join(big_folder, file)\n",
    "            \n",
    "            # Construct the destination path in the metadata folder using the relative path\n",
    "            dest_path = os.path.join(metadata_folder, file)\n",
    "            \n",
    "            # Move the .xls file to the metadata folder\n",
    "            shutil.move(file_path, dest_path)\n",
    "            print(f\"Moved: {file_path} to {dest_path}\")\n",
    "\n",
    "# Example usage\n",
    "\n",
    "#big_folder_path = 'garden_01012024/'  # Adjust if your folder has a different name\n",
    "#metadata_folder_path = 'metadata'\n",
    "#move_xls_files(big_folder_path, metadata_folder_path)\n"
   ]
  },
  {
   "cell_type": "code",
   "execution_count": 3,
   "metadata": {},
   "outputs": [
    {
     "name": "stdout",
     "output_type": "stream",
     "text": [
      "Labels loaded.\n",
      "load model True\n",
      "Model loaded.\n",
      "Labels loaded.\n",
      "load_species_list_model\n",
      "Meta model loaded.\n"
     ]
    },
    {
     "name": "stderr",
     "output_type": "stream",
     "text": [
      "INFO: Created TensorFlow Lite XNNPACK delegate for CPU.\n",
      "WARNING: Attempting to use a delegate that only supports static-sized tensors with a graph that has dynamic-sized tensors (tensor#187 is a dynamic-sized tensor).\n"
     ]
    }
   ],
   "source": [
    "from birdnetlib import Recording\n",
    "from birdnetlib.analyzer import Analyzer\n",
    "from datetime import datetime\n",
    "\n",
    "# Load and initialize the BirdNET-Analyzer models.\n",
    "analyzer = Analyzer()\n",
    "afile = \"cardinal.mp3\"\n",
    "bfile = \"er_file_2023_09_04_7_13_11.wav\"\n",
    "cfile = \"er_file_2023_09_04_7_13_08.wav\"\n",
    "dfile = \"er_file_2023_09_04_7_39_44.wav\"\n",
    "efile = \"er_file_2023_09_04_7_49_38.wav\"\n",
    "ffile = \"er_file_2023_09_04_8_24_14.wav\"\n",
    "recording = Recording(\n",
    "    analyzer,\n",
    "    bfile,\n",
    "    lat=51.41778,\n",
    "    lon=5.462251,\n",
    "    date=datetime(year=2022, month=5, day=10), # use date or week_48\n",
    "    min_conf=0.25,\n",
    ")\n",
    "#recording.analyze()\n",
    "#print(recording.detections)"
   ]
  },
  {
   "cell_type": "code",
   "execution_count": null,
   "metadata": {},
   "outputs": [],
   "source": [
    "recording.detections[0]['label']"
   ]
  },
  {
   "cell_type": "code",
   "execution_count": 5,
   "metadata": {},
   "outputs": [],
   "source": [
    "#analyze files form folder and save results in a tuple: file name, label\n",
    "import os\n",
    "def analyze_files_birdnet(folder):    \n",
    "    files = os.listdir(folder)\n",
    "    results = []\n",
    "    for file in files:\n",
    "        try:\n",
    "            recording = Recording(\n",
    "                analyzer,\n",
    "                folder + file,\n",
    "                lat=51.41778,\n",
    "                lon=5.462251,\n",
    "                date=datetime(year=2022, month=5, day=10), # use date or week_48\n",
    "                min_conf=0.25,\n",
    "            )\n",
    "            recording.analyze()\n",
    "            if len(recording.detections) > 0:\n",
    "                results.append((folder + file, recording.detections[0]['label']))\n",
    "        except Exception as e:\n",
    "            print(f\"Error processing file {file}: {e}\")\n",
    "    return results"
   ]
  },
  {
   "cell_type": "code",
   "execution_count": 6,
   "metadata": {},
   "outputs": [],
   "source": [
    "from tqdm import tqdm\n",
    "# analyze files in the folder of folders, wrap in tqdm to show progress bar\n",
    "\n",
    "def analyze_folders(folder):\n",
    "    folders = [f for f in os.listdir(folder) if not f.startswith('.') and not f.endswith('.json')]\n",
    "    results = []\n",
    "    for f in tqdm(folders):\n",
    "        results += analyze_files_birdnet(folder + f + \"/\")\n",
    "       \n",
    "    return results"
   ]
  },
  {
   "cell_type": "code",
   "execution_count": 40,
   "metadata": {},
   "outputs": [],
   "source": [
    "import pandas as pd\n",
    "\n",
    "# method to add a column with 'label' to the dataframe, allign by file name\n",
    "def add_label_column(df, results):\n",
    "    df['label'] = None\n",
    "    for file, label in results:\n",
    "        df.loc[df['filename'] == file, 'label'] = label\n",
    "    return df\n"
   ]
  },
  {
   "cell_type": "code",
   "execution_count": 53,
   "metadata": {},
   "outputs": [],
   "source": [
    "# method to add labels to the partially processed dataframe\n",
    "def add_labels(df, results):\n",
    "    # Create a DataFrame from results\n",
    "    labels_df = pd.DataFrame(results, columns=['filename', 'new_label'])\n",
    "    \n",
    "    # Merge the existing df with the labels_df\n",
    "    df = df.merge(labels_df, on='filename', how='left')\n",
    "    \n",
    "    # Update the 'label' column, where we fill it with new_label values where available\n",
    "    df['label'] = df['label'].fillna(df['new_label'])    \n",
    "    # Drop the temporary new_label column\n",
    "    df.drop('new_label', axis=1, inplace=True)\n",
    "    \n",
    "    return df\n",
    "\n"
   ]
  },
  {
   "cell_type": "code",
   "execution_count": 14,
   "metadata": {},
   "outputs": [
    {
     "data": {
      "text/plain": [
       "('metadata/garden_08032024_metadata.xlsx',\n",
       " 'metadata/garden_08032024_metadata_birdnet_labeled.xlsx')"
      ]
     },
     "execution_count": 14,
     "metadata": {},
     "output_type": "execute_result"
    }
   ],
   "source": [
    "# get metadata_file and output_file from folder name\n",
    "def get_metadata_output_files(folder):\n",
    "    metadata_file = \"metadata/\" +folder[:-1] + \"_metadata.xlsx\"\n",
    "    output_file = metadata_file.split(\".\")[0] + \"_birdnet_labeled.xlsx\"\n",
    "    return metadata_file, output_file\n",
    "\n",
    "folder = \"garden_08032024/\"\n",
    "metadata_file, output_file = get_metadata_output_files(folder)\n",
    "metadata_file, output_file"
   ]
  },
  {
   "cell_type": "code",
   "execution_count": null,
   "metadata": {},
   "outputs": [],
   "source": [
    "# save the dataframe to a new xlsx file\n",
    "df.to_excel(\"garden_02092023_metadata_with_labels.xlsx\")\n"
   ]
  },
  {
   "cell_type": "code",
   "execution_count": 41,
   "metadata": {},
   "outputs": [],
   "source": [
    "def pipeline_birdnet(folder, metadata_folder_path):\n",
    "    move_xls_files(folder, metadata_folder_path)\n",
    "    metadata_file, output_file = get_metadata_output_files(folder)\n",
    "    results = analyze_folders(folder)\n",
    "    df = pd.read_excel(metadata_file)\n",
    "    df = add_label_column(df, results)\n",
    "    df.to_excel(output_file)"
   ]
  },
  {
   "cell_type": "code",
   "execution_count": 57,
   "metadata": {},
   "outputs": [],
   "source": [
    "# pipeline to add birdnet labels to existing output_file\n",
    "def add_on_pipeline_birdnet(folder, output_file):\n",
    "    results = analyze_folders(folder)\n",
    "    print(len(results))\n",
    "    df = pd.read_excel(output_file)\n",
    "    df = add_labels(df, results)\n",
    "    df.to_excel(output_file)"
   ]
  },
  {
   "cell_type": "code",
   "execution_count": null,
   "metadata": {},
   "outputs": [],
   "source": [
    "folder = \"garden_08032024/\"\n",
    "metadata_folder_path = 'metadata'\n",
    "\n",
    "pipeline_birdnet(folder, metadata_folder_path)"
   ]
  },
  {
   "cell_type": "code",
   "execution_count": 58,
   "metadata": {},
   "outputs": [
    {
     "name": "stderr",
     "output_type": "stream",
     "text": [
      "0it [00:00, ?it/s]\n"
     ]
    },
    {
     "name": "stdout",
     "output_type": "stream",
     "text": [
      "0\n"
     ]
    }
   ],
   "source": [
    "folder = \"garden_080320241/\"\n",
    "\n",
    "output_file = \"metadata/garden_08032024_metadata_birdnet_labeled.xlsx\"\n",
    "\n",
    "add_on_pipeline_birdnet(folder,output_file)"
   ]
  },
  {
   "cell_type": "code",
   "execution_count": 55,
   "metadata": {},
   "outputs": [
    {
     "data": {
      "text/plain": [
       "(9517, 27)"
      ]
     },
     "execution_count": 55,
     "metadata": {},
     "output_type": "execute_result"
    }
   ],
   "source": [
    "mf = pd.read_excel(\"metadata/garden_08032024_metadata_birdnet_labeled.xlsx\")\n",
    "mf[mf['label'].notnull()].shape"
   ]
  },
  {
   "cell_type": "code",
   "execution_count": null,
   "metadata": {},
   "outputs": [],
   "source": []
  }
 ],
 "metadata": {
  "kernelspec": {
   "display_name": "birdnet-analyzer",
   "language": "python",
   "name": "python3"
  },
  "language_info": {
   "codemirror_mode": {
    "name": "ipython",
    "version": 3
   },
   "file_extension": ".py",
   "mimetype": "text/x-python",
   "name": "python",
   "nbconvert_exporter": "python",
   "pygments_lexer": "ipython3",
   "version": "3.10.13"
  }
 },
 "nbformat": 4,
 "nbformat_minor": 2
}
